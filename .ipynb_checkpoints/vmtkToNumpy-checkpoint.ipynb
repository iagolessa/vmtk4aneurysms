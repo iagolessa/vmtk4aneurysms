{
 "cells": [
  {
   "cell_type": "markdown",
   "metadata": {},
   "source": [
    "\n",
    "<hr/>\n",
    "<h2 id=\"title:-Working-With-Numpy-Arrays\">Working With Numpy Arrays<a class=\"anchor-link\" href=\"http://www.vmtk.org/tutorials/WorkingWithNumpyArraysIPYNB.html#title:-Working-With-Numpy-Arrays\">¶</a></h2>\n"
   ]
  },
  {
   "cell_type": "markdown",
   "metadata": {},
   "source": [
    "\n",
    "<h4 id=\"Applicable-version(s):\">Applicable version(s):<a class=\"anchor-link\" href=\"http://www.vmtk.org/tutorials/WorkingWithNumpyArraysIPYNB.html#Applicable-version(s):\">¶</a></h4>\n"
   ]
  },
  {
   "cell_type": "markdown",
   "metadata": {},
   "source": [
    "\n",
    "<p><a href=\"http://www.vmtk.org/tutorials/%7B%7B%20site.baseurl%20%7D%7D/download/#development_version\">Development version</a></p>\n",
    "<p><sub>by Richard Izzo (Github @rlizzo), State University of New York at Buffalo, USA</sub></p>\n",
    "<p>This tutorial demonstrates how to convert VMTK Image, Surface, and Centerline object data to and from a structured dictionary of Numpy arrays. This tutorial can be viewed as a Jupyter Notebook at <a href=\"http://www.vmtk.org/tutorials/%7B%7B%20site.baseurl%20%7D%7D/tutorials/WorkingWithNumpyArraysIPYNB.html\">this link</a></p>\n",
    "<p><b>Note:</b> <i> This is an advanced function </i> meant only for users who wish to access &amp; programmatically modify the underlying Visualization Toolkit (VTK) object data which defines Images, Surfaces, and Centerlines in VMTK. While the described vmtkscripts are valid PypeScript members, the API is designed to be called from a typical python script or from within a <a href=\"http://jupyter.org/\">Jupyter Notebook</a>. Also please note that as of VMTK version 1.3, <i> the vmtkscripts described below are not included in the pre-built binary installer </i>. In order to take advantage of these functions, please build VMTK from source by following this instructions <a href=\"http://www.vmtk.org/tutorials/%7B%7B%20site.baseurl%20%7D%7D/download/#development_version\">here</a> <br/></p>\n",
    "<p>Though deep expertise is not necessary, we recommend that users are familiar with the VTK <a href=\"http://www.vtk.org/data-model/\">data model</a> and typical class structures for <a href=\"http://www.vtk.org/doc/nightly/html/classvtkImageData.html\">vtkImageData</a> and <a href=\"http://www.vtk.org/doc/nightly/html/classvtkPolyData.html\">vtkPolyData</a></p>\n",
    "<hr/>\n"
   ]
  },
  {
   "cell_type": "markdown",
   "metadata": {},
   "source": [
    "\n",
    "<h2 id=\"Relevant-VMTK-scripts\">Relevant VMTK scripts<a class=\"anchor-link\" href=\"http://www.vmtk.org/tutorials/WorkingWithNumpyArraysIPYNB.html#Relevant-VMTK-scripts\">¶</a></h2>\n"
   ]
  },
  {
   "cell_type": "markdown",
   "metadata": {},
   "source": [
    "\n",
    "<p>Scripts that convert VMTK objects to numpy arrays:</p>\n",
    "<ol>\n",
    "<li>vmtkcenterlinestonumpy </li>\n",
    "<li>vmtkimagetonumpy</li>\n",
    "<li>vmtksurfacetonumpy</li>\n",
    "</ol>\n",
    "<p>Scripts that convert a nested dictionary of numpy arrays to VMTK objects:</p>\n",
    "<ol>\n",
    "<li>vmtknumpytocenterlines</li>\n",
    "<li>vmtknumpytoimage</li>\n",
    "<li>vmtknumpytosurface</li>\n",
    "</ol>\n",
    "<p>Convenience scripts to write and read a nested dictionary of numpy arrays to disk:</p>\n",
    "<ol>\n",
    "<li>vmtknumpyreader </li>\n",
    "<li>vmtknumpywriter </li>\n",
    "</ol>\n",
    "<hr/>\n"
   ]
  },
  {
   "cell_type": "markdown",
   "metadata": {},
   "source": [
    "\n",
    "<h2 id=\"Requirements\">Requirements<a class=\"anchor-link\" href=\"http://www.vmtk.org/tutorials/WorkingWithNumpyArraysIPYNB.html#Requirements\">¶</a></h2>\n"
   ]
  },
  {
   "cell_type": "markdown",
   "metadata": {},
   "source": [
    "\n",
    "<p>In addition to the standard VMTK package, the following packages must be installed and available on the users PATH:</p>\n",
    "<ol>\n",
    "<li><a href=\"http://www.numpy.org/\">numpy</a></li>\n",
    "<li><a href=\"http://www.h5py.org/\">h5py</a></li>\n",
    "</ol>\n",
    "<p>We recommend using the <a href=\"https://anaconda.org/\">Python Anaconda</a> package manager to create a virtual environment and install the packages. Installation and quickstart instructions are available <a href=\"https://docs.continuum.io/docs_oss/conda/get-started\">here</a>.</p>\n",
    "<hr/>\n"
   ]
  },
  {
   "cell_type": "markdown",
   "metadata": {},
   "source": [
    "\n",
    "<h2 id=\"A-Primer-on-VTK-Data\">A Primer on VTK Data<a class=\"anchor-link\" href=\"http://www.vmtk.org/tutorials/WorkingWithNumpyArraysIPYNB.html#A-Primer-on-VTK-Data\">¶</a></h2>\n"
   ]
  },
  {
   "cell_type": "markdown",
   "metadata": {},
   "source": [
    "\n",
    "<p>VMTK is built on top of Kitware's <a href=\"http://www.vtk.org/\">Visualization Toolkit</a> data model &amp; processing pipeline. A full description of the VTK data model format and pipeline is well beyond the scope of this tutorial. For those interested users, please refer to the following two resources:</p>\n",
    "<ol>\n",
    "<li><a href=\"https://www.researchgate.net/profile/Stefan_Bruckner/publication/228936817_Data_Structures_in_the_Visualization_Toolkit/links/0912f50ebdc4027636000000.pdf\">Data Structures in the Visualization Toolkit</a>, Stefan Bruckner, Seminar Paper, The Institute of Computer Graphics and Algorithms, Vienna University of Technology, Austria </li>\n",
    "<li><a href=\"https://www.kitware.com/products/books/VTKUsersGuide.pdf\">The VTK Users Guide</a></li>\n",
    "</ol>\n",
    "<p>For our purposes, we can think of any VTK data object as being composed of an organizing structure (ie. Points &amp; Cells) and associated data attributes (Point Data &amp; Cell Data).</p>\n"
   ]
  },
  {
   "cell_type": "markdown",
   "metadata": {},
   "source": [
    "\n",
    "<h4 id=\"Points-&amp;-Cells\">Points &amp; Cells<a class=\"anchor-link\" href=\"http://www.vmtk.org/tutorials/WorkingWithNumpyArraysIPYNB.html#Points-&amp;-Cells\">¶</a></h4>\n"
   ]
  },
  {
   "cell_type": "markdown",
   "metadata": {},
   "source": [
    "\n",
    "<p>In this interpretation, we can think of <i> Points </i> as a vertices which define the geometry of the data object. For surfaces &amp; centerlines, this interpretation is immediately intuitive; the geometry of these structures is composed of a discrete set of vertices (aka. Points) in 3D space (see Figure 1). To understand Points in the context of an image, we can think of any image as being composed of a structured grid of points in space with an intensity value at each point (see Figure 2)</p>\n",
    "<table>\n",
    "<thead><tr>\n",
    "<th style=\"text-align:center\"></th>\n",
    "<th style=\"text-align:center\"></th>\n",
    "</tr>\n",
    "</thead>\n",
    "<tbody>\n",
    "<tr>\n",
    "<td style=\"text-align:center\"><img alt=\"Figure1\" src=\"./WorkingWithNumpyArrays_files/izzo-numpy-1-1.png\"/></td>\n",
    "<td style=\"text-align:center\"><img alt=\"Figure2\" src=\"./WorkingWithNumpyArrays_files/izzo-numpy-1-2.png\"/></td>\n",
    "</tr>\n",
    "<tr>\n",
    "<td style=\"text-align:center\"><em>Figure 1: Illustration of vertices as Points</em></td>\n",
    "<td style=\"text-align:center\"><em>Figure 2: Illustration of image as points</em></td>\n",
    "</tr>\n",
    "</tbody>\n",
    "</table>\n",
    "<p>On the other hand, <i> Cells </i> define the topology of the data object. In the context of surfaces, this is a  describes the connectivity of the vertices which form each triangle in the surface (see Figure 3). For centerlines, Cells describe the connectivity and grouping of points which make up the centerline data object (see Figure 4). Though in theory, cells can be used to group certain regions in vtkImageData, we do not define the concept of cells as it relates to a VMTK image.</p>\n",
    "<table>\n",
    "<thead><tr>\n",
    "<th style=\"text-align:center\"></th>\n",
    "<th style=\"text-align:center\"></th>\n",
    "</tr>\n",
    "</thead>\n",
    "<tbody>\n",
    "<tr>\n",
    "<td style=\"text-align:center\"><img alt=\"Figure3\" src=\"./WorkingWithNumpyArrays_files/izzo-numpy-2-1.png\"/></td>\n",
    "<td style=\"text-align:center\"><img alt=\"Figure4\" src=\"./WorkingWithNumpyArrays_files/izzo-numpy-2-2.png\"/></td>\n",
    "</tr>\n",
    "<tr>\n",
    "<td style=\"text-align:center\"><em>Figure 1: Illustration of cells creating a triangulated surface</em></td>\n",
    "<td style=\"text-align:center\"><em>Figure 2: Illustration cells defining a line</em></td>\n",
    "</tr>\n",
    "</tbody>\n",
    "</table>\n",
    "<p>When working with Points &amp; Cells, just remember that: <i> Points define geometry, Cells define topology </i>.</p>\n"
   ]
  },
  {
   "cell_type": "markdown",
   "metadata": {},
   "source": [
    "\n",
    "<h4 id=\"Point-Data-&amp;-Cell-Data\">Point Data &amp; Cell Data<a class=\"anchor-link\" href=\"http://www.vmtk.org/tutorials/WorkingWithNumpyArraysIPYNB.html#Point-Data-&amp;-Cell-Data\">¶</a></h4>\n"
   ]
  },
  {
   "cell_type": "markdown",
   "metadata": {},
   "source": [
    "\n",
    "<p>At this point, it should be noted that a complete description of surface or centerline geometry &amp; topology is given by the Point &amp; Cell descriptors; this is similar to the information which might be encoded in a common STL or PLY file. Though undoubtedly useful, the VTK data model allows far more flexibility and customization than these simple descriptors. This flexibility is employed through the use of <i> dataset attributes </i> (ie. Point Data &amp; Cell Data).</p>\n",
    "<p>Throughout the previous tutorials, we have generated scalar and vector field maps which have been applied to both centerlines and surfaces. These may have come in the form of measuring the surface distance to centerlines in the <a href=\"http://www.vmtk.org/tutorials/MeshGeneration.html\">Mesh Generation</a> tutorial, or generating centerline Group or Tract Ids in the <a href=\"http://www.vmtk.org/tutorials/BranchSplitting.html\">Branch Splitting</a> tutorial. The algorithms that VMTK employs to do these operations stores the resulting attribute data in Point Data / Cell Data arrays associated with the underlying VTK object which is being processed. It is important to note that though both Point Data &amp; Cell Data both act to describe some data attribute of the underlying VTK object, they are not necessarily interchangeable. In general, cell data can be easily converted to point data, but point data <i> may not </i> necessarily be easily converted to cell data - the reason for this (along with the methods to convert cell data to point data) will be illustrated later on in this tutorial.</p>\n",
    "<p>Point Data refers to a dataset attribute which is specified <i> for every Point </i> in the VTK object. Cell Data refers to a dataset attribute which is specified <i> at every cell </i> in the VTK object. The following example is provided to attempt to make this distinction clear:</p>\n",
    "<blockquote><p>If we are given a centerline which has been split into branches (refer to the <a href=\"http://www.vmtk.org/tutorials/BranchSplitting.html\">Branch Splitting</a> tutorial), the Centerline Id, Tract Id, &amp; Group Id of each centerline segment is stored as Cell Data key/value pairs. If we then go on to calculate the centerline geometry (refer to the <a href=\"http://www.vmtk.org/tutorials/GeometricAnalysis.html\">Geometric Analysis</a> tutorial), the tortuosity values will be stored as Point Data.</p>\n",
    "<p>In this example the cell data (Centerline Id, Tract Id, etc.) applies the same value - an integer indicating some attribute in this case - to a large number of points which are specified by a single cell. Conversely, a value such a tortuosity inherently varies for every point making up the centerline, and therefore needs to be specified individually for every point.</p>\n",
    "</blockquote>\n",
    "<p>This explanation all acts to say the following: if a dataset attribute varies <i> for every vertex </i>  defining geometry, it is Point Data. If the dataset attribute <i> varies according to the object's topology </i>, it is Cell Data.</p>\n",
    "<hr/>\n"
   ]
  },
  {
   "cell_type": "markdown",
   "metadata": {},
   "source": [
    "\n",
    "<h2 id=\"Structured-Conversion-Between-VTK-Data-and-Numpy-Arrays\">Structured Conversion Between VTK Data and Numpy Arrays<a class=\"anchor-link\" href=\"http://www.vmtk.org/tutorials/WorkingWithNumpyArraysIPYNB.html#Structured-Conversion-Between-VTK-Data-and-Numpy-Arrays\">¶</a></h2>\n"
   ]
  },
  {
   "cell_type": "markdown",
   "metadata": {},
   "source": [
    "\n",
    "<p>When we want to access VTK data in numpy, we actually need to access the four principle component of a VTK object as described above:</p>\n",
    "<ol>\n",
    "<li>Points</li>\n",
    "<li>Cells</li>\n",
    "<li>Point Data</li>\n",
    "<li>Cell Data</li>\n",
    "</ol>\n",
    "<p>In order to make use of the data in numpy/python, we create a unique numpy array for every VTK array defining these components. In order to handle these arrays in a manageable fashion (accessible through one python object), we assign each data array to a key/value pair in a (nested) python dictionary of pre-defined structure. The following subsections defines the dictionary structure required for centerlines, images, and surfaces.</p>\n",
    "<p>Note: The following structure must be reproduced <i> exactly </i> in order to successfully convert a numpy dataset back into VMTK. Be sure to include all dictionary components (even if they are empty) and ensure that all keys exactly match the description below / the output from converting VMTK objects to numpy.</p>\n"
   ]
  },
  {
   "cell_type": "markdown",
   "metadata": {},
   "source": [
    "\n",
    "<h3 id=\"Converting-VMTK-Surface-Objects\">Converting VMTK Surface Objects<a class=\"anchor-link\" href=\"http://www.vmtk.org/tutorials/WorkingWithNumpyArraysIPYNB.html#Converting-VMTK-Surface-Objects\">¶</a></h3>\n"
   ]
  },
  {
   "cell_type": "markdown",
   "metadata": {},
   "source": [
    "\n",
    "<p>The following example demonstrates how to convert a VMTK surface to a numpy array. This is handled by the <code>vmtkscripts.vmtkSurfaceToNumpy()</code> script which accepts a <code>Surface</code> as a input and outputs the nested dictionary of arrays through the <code>ArrayDict</code> class attribute.</p>\n"
   ]
  },
  {
   "cell_type": "markdown",
   "metadata": {},
   "source": [
    "\n",
    "<p>The structure of the <code>ArrayDict</code> nested dictionary is as follows:</p>\n",
    "<pre><code>ArrayDict\n",
    "    ['Points']                   &lt;-- required, is Nx3 array of N vertexes and x, y, z locations\n",
    "    ['PointData']                &lt;-- required, even if subarrays are empty\n",
    "        ['PointDataArray1']      &lt;-- optional, (ex. MaximumInscribedSphereRadius)\n",
    "        ['PointDataArray2']      &lt;-- optional\n",
    "        ...\n",
    "    ['CellData']                 &lt;-- required\n",
    "        ['CellPointIds']         &lt;-- required, is Mx3 array defines cell conectivity to ['Points] Indices\n",
    "        ['CellDataArray1']       &lt;-- optional, (ex. CenterlineTractId)\n",
    "        ['CellDataArray2']       &lt;-- optional\n",
    "        ...</code></pre>\n"
   ]
  },
  {
   "cell_type": "markdown",
   "metadata": {},
   "source": [
    "\n",
    "<p>An example showing the dictionary structure is below:</p>\n"
   ]
  },
  {
   "cell_type": "code",
   "execution_count": null,
   "metadata": {},
   "outputs": [],
   "source": [
    "from vmtk import vmtkscripts\n",
    "import numpy as np\n",
    "\n",
    "surfaceReader = vmtkscripts.vmtkSurfaceReader()\n",
    "surfaceReader.InputFileName = 'foo/neuro-test-surface-distance.vtp'\n",
    "surfaceReader.Execute()\n",
    "\n",
    "surfaceNumpyAdaptor = vmtkscripts.vmtkSurfaceToNumpy()\n",
    "surfaceNumpyAdaptor.Surface = surfaceReader.Surface\n",
    "surfaceNumpyAdaptor.Execute()\n",
    "\n",
    "numpySurface = surfaceNumpyAdaptor.ArrayDict"
   ]
  },
  {
   "cell_type": "markdown",
   "metadata": {},
   "source": [
    "\n",
    "<p>The python object <code>numpySurface</code> is now a nested dictionary of numpy arrays. The top level key/value pairs are:</p>\n"
   ]
  },
  {
   "cell_type": "code",
   "execution_count": null,
   "metadata": {},
   "outputs": [],
   "source": [
    "numpySurface"
   ]
  },
  {
   "cell_type": "markdown",
   "metadata": {},
   "source": [
    "\n",
    "<p>For <code>numpySurface</code>, we can see that the numpy of surface points (stored in <code>numpySurface['Points']</code>) and the number of triangles (stored in <code>numpySurface['CellData']['CellPointIds']</code>) is:</p>\n"
   ]
  },
  {
   "cell_type": "code",
   "execution_count": null,
   "metadata": {},
   "outputs": [],
   "source": [
    "print('Number of Points = ', numpySurface['Points'].shape[0], ' Number of Dimensions = ', numpySurface['Points'].shape[1])\n",
    "print('Number of Faces = ', numpySurface['CellData']['CellPointIds'].shape[0], ' Number of Vertices Per Face = ', numpySurface['CellData']['CellPointIds'].shape[1])"
   ]
  },
  {
   "cell_type": "markdown",
   "metadata": {},
   "source": [
    "\n",
    "<p>We can also see that the data stored in <code>PointData</code> has the shape:</p>\n"
   ]
  },
  {
   "cell_type": "code",
   "execution_count": null,
   "metadata": {},
   "outputs": [],
   "source": [
    "print('numpySurface[\"PointData\"][\"DistanceToCenterlines\"] shape = ', numpySurface[\"PointData\"][\"DistanceToCenterlines\"].shape)"
   ]
  },
  {
   "cell_type": "markdown",
   "metadata": {},
   "source": [
    "\n",
    "<p>which exactly matches the number of vertices in the <code>Points</code> array. In this case, each index in <code>numpySurface['PointData']['DistanceToCenterlines']</code> corresponds to a row in <code>numpySurface['Points']</code>. ie. <code>numpySurface['PointData']['DistanceToCenterlines'][100]</code> corresponds to the vertex defined by coordinates at <code>numpySurface['Points'][100, :]</code></p>\n",
    "<p>From here, we can modify the location of the points, define a new cell connectivity list, or add a new Point Data or Cell Data array. If we decide we want to modify the <code>DistanceToCenterlines</code> array values by a constant scale factor, we can perform the operation and convert back to a VMTK surface Object by:</p>\n"
   ]
  },
  {
   "cell_type": "code",
   "execution_count": null,
   "metadata": {},
   "outputs": [],
   "source": [
    "print('Before Modification: ', numpySurface['PointData']['DistanceToCenterlines'])\n",
    "numpySurface['PointData']['DistanceToCenterlines'] = numpySurface['PointData']['DistanceToCenterlines'] * 2\n",
    "print('After Modification: ', numpySurface['PointData']['DistanceToCenterlines'])\n",
    "\n",
    "surfaceVmtkAdaptor = vmtkscripts.vmtkNumpyToSurface()\n",
    "surfaceVmtkAdaptor.ArrayDict = numpySurface\n",
    "surfaceVmtkAdaptor.Execute()"
   ]
  },
  {
   "cell_type": "markdown",
   "metadata": {},
   "source": [
    "\n",
    "<p>We can then use the VMTK object as normal or save it to a file.</p>\n"
   ]
  },
  {
   "cell_type": "markdown",
   "metadata": {},
   "source": [
    "\n",
    "<h3 id=\"Converting-VMTK-Centerline-Objects\">Converting VMTK Centerline Objects<a class=\"anchor-link\" href=\"http://www.vmtk.org/tutorials/WorkingWithNumpyArraysIPYNB.html#Converting-VMTK-Centerline-Objects\">¶</a></h3>\n"
   ]
  },
  {
   "cell_type": "markdown",
   "metadata": {},
   "source": [
    "\n",
    "<p>The following example demonstrates how to convert a VMTK centerline to a numpy array. This is handled by the <code>vmtkscripts.vmtkCenterlinesToNumpy()</code> script which accepts a <code>Surface / Centerline</code> as a input and outputs the nested dictionary of arrays through the <code>ArrayDict</code> class attribute.</p>\n"
   ]
  },
  {
   "cell_type": "markdown",
   "metadata": {},
   "source": [
    "\n",
    "<p>The structure of the <code>ArrayDict</code> nested dictionary is as follows:</p>\n",
    "<pre><code>ArrayDict\n",
    "    ['Points']                   &lt;-- required, is Nx3 array of N vertexes and x, y, z locations\n",
    "    ['PointData']                &lt;-- required, even if subarrays are empty\n",
    "        ['PointDataArray1']      &lt;-- optional, (ex. MaximumInscribedSphereRadius)\n",
    "        ['PointDataArray2']      &lt;-- optional\n",
    "        ...\n",
    "    ['CellData']                 &lt;-- required\n",
    "        ['CellPointIds']         &lt;-- required, list of Mx1 arrays defining cell connectivity to ['Points']\n",
    "        ['CellDataArray1']       &lt;-- optional, (ex: CenterlineTractId)\n",
    "        ['CellDataArray2']       &lt;-- optional\n",
    "        ...</code></pre>\n"
   ]
  },
  {
   "cell_type": "markdown",
   "metadata": {},
   "source": [
    "\n",
    "<p>Note: The format for <code>['CellData']['CellPointIds']</code> is slightly different for centerlines than it is for the surface example above. Unlike a surface (which defined each triangle face as a row in <code>['CellData']['CellPointIds']</code> with fixed dimensions Mx3), the number of Points making up each cell in a centerline are completely arbitrary. Instead of a <code>Mx3</code> size array, the centerline version of <code>['CellData']['CellPointIds']</code> contains a list of numpy arrays with (potentially) non-equal sizes. Aside from this semantic difference, the meaning of each index in <code>['CellData']['CellPointIds']</code> is the same for centerlines and surfaces; that is, each value in <code>['CellData']['CellPointIds']</code> refers to a row index in <code>['Points']</code> which contains the coordinates of the associated points.</p>\n"
   ]
  },
  {
   "cell_type": "code",
   "execution_count": null,
   "metadata": {},
   "outputs": [],
   "source": [
    "centerlineReader = vmtkscripts.vmtkSurfaceReader()\n",
    "centerlineReader.InputFileName = 'foo/coronary-test-centerline-branches.vtp'\n",
    "centerlineReader.Execute()\n",
    "\n",
    "clNumpyAdaptor = vmtkscripts.vmtkCenterlinesToNumpy()\n",
    "clNumpyAdaptor.Centerlines = centerlineReader.Surface\n",
    "clNumpyAdaptor.Execute()\n",
    "\n",
    "numpyCenterlines = clNumpyAdaptor.ArrayDict"
   ]
  },
  {
   "cell_type": "markdown",
   "metadata": {},
   "source": [
    "\n",
    "<p>Like the surface example above, we can see that the data accessed through <code>numpyCenterlines['Points']</code> is a numpy array of shape Nx3:</p>\n"
   ]
  },
  {
   "cell_type": "code",
   "execution_count": null,
   "metadata": {},
   "outputs": [],
   "source": [
    "print('numpyCenterlines[\"Points\"] shape = ', numpyCenterlines['Points'].shape)"
   ]
  },
  {
   "cell_type": "markdown",
   "metadata": {},
   "source": [
    "\n",
    "<p>In addition, we see that the keys for Point Data and Cell Data are:</p>\n"
   ]
  },
  {
   "cell_type": "code",
   "execution_count": null,
   "metadata": {},
   "outputs": [],
   "source": [
    "print('Point Data Keys: ', numpyCenterlines['PointData'].keys())\n",
    "print('Cell Data Keys: ', numpyCenterlines['CellData'].keys())"
   ]
  },
  {
   "cell_type": "markdown",
   "metadata": {},
   "source": [
    "\n",
    "<p>We see that the number of components in <code>['PointData']['MaximumInscribedSphereRadius']</code> is equal to the number of rows in <code>['Points']</code></p>\n"
   ]
  },
  {
   "cell_type": "code",
   "execution_count": null,
   "metadata": {},
   "outputs": [],
   "source": [
    "print('Point Data Shape: ', numpyCenterlines['PointData']['MaximumInscribedSphereRadius'].shape, ' = Number of Points: ', numpyCenterlines['Points'].shape[0])"
   ]
  },
  {
   "cell_type": "markdown",
   "metadata": {},
   "source": [
    "\n",
    "<p>We can also see that <code>['CellData']['CellPointIds']</code> is a list of a certain length which contains a series of numpy arrays, and that the sizes of the arrays are not necesarily the same:</p>\n"
   ]
  },
  {
   "cell_type": "code",
   "execution_count": null,
   "metadata": {},
   "outputs": [],
   "source": [
    "print(\"['CellData']['CellPointIds] is a python list: \", isinstance(numpyCenterlines['CellData']['CellPointIds'], list))\n",
    "print(\"length of ['CellData']['CellPointIds'] list = \", len(numpyCenterlines['CellData']['CellPointIds']), '\\n')\n",
    "\n",
    "minSize = np.inf\n",
    "maxSize = 0\n",
    "for index, cellId in enumerate(numpyCenterlines['CellData']['CellPointIds']):\n",
    "    if cellId.shape[0] > maxSize:\n",
    "        maxSize = cellId.shape[0]\n",
    "        maxSizeCellIndex = index\n",
    "    if cellId.shape[0] < minSize:\n",
    "        minSize = cellId.shape[0]\n",
    "        minSizeCellIndex = index\n",
    "        \n",
    "print(\"Minimum size of array in ['CellData']['CellPointIds'] = \", minSize, ' Which occured at index ', minSizeCellIndex)\n",
    "print(\"Maximum size of array in ['CellData']['CellPointIds'] = \", maxSize, ' Which occured at index ', maxSizeCellIndex)"
   ]
  },
  {
   "cell_type": "markdown",
   "metadata": {},
   "source": [
    "\n",
    "<p>We can the see that the data inside of <code>['CellData']</code> (not at <code>['CellPointIds']</code>) has a shape equal to the length of the <code>['CellData']['CellPointIds']</code>  list</p>\n"
   ]
  },
  {
   "cell_type": "code",
   "execution_count": null,
   "metadata": {},
   "outputs": [],
   "source": [
    "for cellDataKey in numpyCenterlines['CellData']:\n",
    "    if cellDataKey == 'CellPointIds':\n",
    "        pass\n",
    "    else:\n",
    "        print('Shape of ', cellDataKey, ' = ', numpyCenterlines['CellData'][cellDataKey].shape)"
   ]
  },
  {
   "cell_type": "markdown",
   "metadata": {},
   "source": [
    "\n",
    "<p>This is important, as the data stored in the <code>['CellData']</code> arrays are indexed so that the value at <code>['CellData']['foo'][index]</code> refers to the list element at the corresponding list index in <code>['CellData']['CellPointIds']</code>. For example: the data sorted at <code>['CellData']['TractIds'][5]</code> refers to the cell point id list accessible at <code>['CellData']['CellPointIds'][5]</code>. Recall that this array's values indicate the row indices of the vertices in <code>['Points']</code> which make up the cell. In this way it is possible to map a Cell Data value to a particular Point coordinate.</p>\n",
    "<p>However, it is not always convenient to have to map each <code>['CellData']['foo']</code> index to the <code>['CellData']['CellPointIds']</code> list to the corresponding coordinate in <code>['Points']</code>. A conceptually simpler (though more resource intensive) method to perform the mapping is to take each dataset attribute in <code>['CellData']</code> (with the exception of <code>CellPointIDs</code>), and map it to a dense array in <code>['PointData']</code>. This can be performed automatically by specifying <code>foo.ConvertCellToPoint = 1</code> when calling <code>vmtkscripts.vmtkCenterlinesToNumpy()</code></p>\n",
    "<p>Like the surface example above, it is possible to convert from the nested python dictionary of arrays to a VMTK centerlines object via the <code>vmtkscripts.vmtkNumpyToCenterlines()</code> module:</p>\n"
   ]
  },
  {
   "cell_type": "code",
   "execution_count": null,
   "metadata": {},
   "outputs": [],
   "source": [
    "clVmtkAdaptor = vmtkscripts.vmtkNumpyToCenterlines()\n",
    "clVmtkAdaptor.ArrayDict = numpyCenterlines\n",
    "clVmtkAdaptor.Execute()"
   ]
  },
  {
   "cell_type": "markdown",
   "metadata": {},
   "source": [
    "\n",
    "<h3 id=\"Converting-VMTK-Image-Objects\">Converting VMTK Image Objects<a class=\"anchor-link\" href=\"http://www.vmtk.org/tutorials/WorkingWithNumpyArraysIPYNB.html#Converting-VMTK-Image-Objects\">¶</a></h3>\n"
   ]
  },
  {
   "cell_type": "markdown",
   "metadata": {},
   "source": [
    "\n",
    "<p>The conversion of VMTK Image Objects requires a much simpler ArrayDict structure than for a surface or centerline. The structure of the <code>ArrayDict</code> is as follows:</p>\n",
    "<pre><code>ArrayDict\n",
    "    ['Origin']                 &lt;-- required, is 3x1 array of (float) x,y,z vertex locations at index (0,0,0)\n",
    "    ['Dimensions']             &lt;-- required, is 3x1 array of (int) number of voxels in the x,y,z direction.\n",
    "    ['Spacing']                &lt;-- required, is 3x1 array of (float) voxel spacing in the x,y,z directions\n",
    "    ['PointData']              &lt;-- required\n",
    "        ['PointDataArray1']    &lt;-- required, is np.ndarray of shape = dimensions containing image data. \n",
    "        ['PointDataArray2']    &lt;-- optional, is np.ndarray of shape = dimensions containing image data. \n",
    "        ...</code></pre>\n"
   ]
  },
  {
   "cell_type": "markdown",
   "metadata": {},
   "source": [
    "\n",
    "<p>Recall that for this module, image data does not have a concept of cell data. As a result the entire VTK object can be specified with 3 attributes (Origin, Dimensions, &amp; Spacing) and a dense array representing the image intensity scalars at each voxel index. An example of this is shown below:</p>\n"
   ]
  },
  {
   "cell_type": "code",
   "execution_count": null,
   "metadata": {},
   "outputs": [],
   "source": [
    "imageReader = vmtkscripts.vmtkImageReader()\n",
    "imageReader.InputFileName = 'foo/aorta-voi.mha'\n",
    "imageReader.Execute()\n",
    "\n",
    "imageNumpyAdaptor = vmtkscripts.vmtkImageToNumpy()\n",
    "imageNumpyAdaptor.Image = imageReader.Image\n",
    "imageNumpyAdaptor.Execute()\n",
    "\n",
    "numpyImage = imageNumpyAdaptor.ArrayDict"
   ]
  },
  {
   "cell_type": "code",
   "execution_count": null,
   "metadata": {},
   "outputs": [],
   "source": [
    "print(\"['Spacing'] = \", numpyImage['Spacing'])\n",
    "print(\"['Origin'] = \", numpyImage['Origin'])\n",
    "print(\"['Dimensions'] = \", numpyImage['Dimensions'])\n",
    "print(\"['PointData']['ImageScalars'] shape = \", numpyImage['PointData']['ImageScalars'].shape)"
   ]
  },
  {
   "cell_type": "markdown",
   "metadata": {},
   "source": [
    "\n",
    "<p>We can modify the data stored in <code>['PointData']['ImageScalars']</code> and return it to a VMTK image object as demonstrated below:</p>\n"
   ]
  },
  {
   "cell_type": "code",
   "execution_count": null,
   "metadata": {},
   "outputs": [],
   "source": [
    "print('Intensity Maximum Before Modification = ', np.amax(numpyImage['PointData']['ImageScalars']))\n",
    "print('Intensity Minimum Before Modification = ', np.amin(numpyImage['PointData']['ImageScalars']))\n",
    "\n",
    "numpyImage['PointData']['ImageScalars'][np.where(numpyImage['PointData']['ImageScalars'] > 500)] = 500\n",
    "\n",
    "print('Intensity Maximum After Modification = ', np.amax(numpyImage['PointData']['ImageScalars']))\n",
    "print('Intensity Minimum After Modification = ', np.amin(numpyImage['PointData']['ImageScalars']))"
   ]
  },
  {
   "cell_type": "code",
   "execution_count": null,
   "metadata": {},
   "outputs": [],
   "source": [
    "imageVmtkAdaptor = vmtkscripts.vmtkNumpyToImage()\n",
    "imageVmtkAdaptor.ArrayDict = numpyImage\n",
    "imageVmtkAdaptor.Execute()"
   ]
  },
  {
   "cell_type": "markdown",
   "metadata": {},
   "source": [
    "\n",
    "<h2 id=\"Saving-VMTK-Numpy-Objects\">Saving VMTK Numpy Objects<a class=\"anchor-link\" href=\"http://www.vmtk.org/tutorials/WorkingWithNumpyArraysIPYNB.html#Saving-VMTK-Numpy-Objects\">¶</a></h2>\n"
   ]
  },
  {
   "cell_type": "markdown",
   "metadata": {},
   "source": [
    "\n",
    "<p>Two convenience scripts have been provided to save and read VMTK numpy objects (surfaces, centerlines, or images) to disk. The files can be written in either HDF5 format (provided the h5py module is installed) or via a standard python pickle object. The procedure is identical for every object type.</p>\n",
    "<p>Simply use vmtkscripts.vmtkNumpyWriter() and vmtkscripts.vmtkNumpyReader() in the fashion standard through vmtk. The scripts take an <code>ArrayDict</code> as an input member along with a <code>Format</code> identification (default = pickle) and a output/input file name, and read/write the array to/from disk.</p>\n"
   ]
  }
 ],
 "metadata": {
  "kernelspec": {
   "display_name": "Python 3",
   "language": "python",
   "name": "python3"
  },
  "language_info": {
   "codemirror_mode": {
    "name": "ipython",
    "version": 3
   },
   "file_extension": ".py",
   "mimetype": "text/x-python",
   "name": "python",
   "nbconvert_exporter": "python",
   "pygments_lexer": "ipython3",
   "version": "3.6.1"
  }
 },
 "nbformat": 4,
 "nbformat_minor": 2
}
