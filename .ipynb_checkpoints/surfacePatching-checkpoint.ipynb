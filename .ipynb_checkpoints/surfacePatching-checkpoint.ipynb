{
 "cells": [
  {
   "cell_type": "markdown",
   "metadata": {},
   "source": [
    "# **Patching Surface for *snappyHexMesh* Generation**\n",
    "<hr>"
   ]
  },
  {
   "cell_type": "code",
   "execution_count": 1,
   "metadata": {
    "slideshow": {
     "slide_type": "slide"
    }
   },
   "outputs": [],
   "source": [
    "from vmtk import pypes\n",
    "from vmtk import vmtkscripts\n",
    "import numpy as np\n",
    "import os"
   ]
  },
  {
   "cell_type": "code",
   "execution_count": 2,
   "metadata": {},
   "outputs": [],
   "source": [
    "import vmtk_functions\n",
    "from vmtk_filenames import *"
   ]
  },
  {
   "cell_type": "markdown",
   "metadata": {},
   "source": [
    "<hr>\n",
    "# **Surface Orientation and Patching**\n",
    "\n",
    "The cells below takes care of orienting the surface by translate and rotate transformations, to conform the inlet patch surface normal to the opposite z direction (this orientation was chosen to facilitate the introduction of boundary conditions at simulation time). \n",
    "\n",
    "The oriented surface is then 'exploded' to its constituent patches using the 'vmtkthreshold' script. First, the boundary is inspected generating a reference system file -- 'referenceSystem.dat' with the normal and center information of each cap patch (the wall has id 1 by default, and we prefer to keep it that way). The capped surface is, then, transformed and saved to disk -- 'surfaceOriented.stl' -- and finally is decomposed into its patches.\n",
    "\n",
    "One of the cells below try to identify the inlet patch index by the patch area, because, usually, the inlet has larger area than the outlets (but is always important to be sure of the inlet id)."
   ]
  },
  {
   "cell_type": "code",
   "execution_count": 6,
   "metadata": {
    "collapsed": true
   },
   "outputs": [
    {
     "name": "stdout",
     "output_type": "stream",
     "text": [
      "Files saved to: /home/iagolessa/Documents/aneurysms/geometries/einsteinCases/unrupturedCases/vmtkReconstruction/case17/\n",
      "DICOM source directory:  /home/iagolessa/Documents/unesp/master/aneurysms/geometries/einsteinCases/unrupturedCases/vmtkReconstruction/case17/\n"
     ]
    }
   ],
   "source": [
    "# Path to save the generated files when extracting the surface\n",
    "# We reccomend to separate it from the DICOM original dir. \n",
    "# Note that inside casePath, this code will create different sub-directories to store different data types\n",
    "casePath       = '/home/iagolessa/Documents/aneurysms/geometries/einsteinCases/unrupturedCases/vmtkReconstruction/case17/'\n",
    "\n",
    "# Define subdirs\n",
    "imagesDir       = casePath+'images/'\n",
    "surfacesDir     = casePath+'surfaces/'\n",
    "centerlinesDir  = casePath+'centerlines/'\n",
    "meshesDir       = casePath+'meshes/'\n",
    "parentVesselDir = casePath+\"parentVessel/\"\n",
    "\n",
    "directories = [imagesDir,surfacesDir,centerlinesDir,meshesDir,parentVesselDir]\n",
    "\n",
    "# Create the above directories if they do not exist\n",
    "for directory in directories:\n",
    "    if not os.path.isdir(directory):\n",
    "        os.makedirs(directory)\n",
    "        print(directory+' created.\\n')\n",
    "\n",
    "print('Files saved to:', casePath)\n",
    "print('DICOM source directory: ',dicomDirectory)\n",
    "# The store magic command, to access a variable across notebooks\n",
    "# %store casePath\n",
    "\n",
    "# This has deleted the variable\n",
    "# del casePath"
   ]
  },
  {
   "cell_type": "code",
   "execution_count": 10,
   "metadata": {},
   "outputs": [
    {
     "name": "stdout",
     "output_type": "stream",
     "text": [
      "Reading STL surface file.\n"
     ]
    },
    {
     "ename": "AttributeError",
     "evalue": "'NoneType' object has no attribute 'GetRange'",
     "output_type": "error",
     "traceback": [
      "\u001b[0;31m---------------------------------------------------------------------------\u001b[0m",
      "\u001b[0;31mAttributeError\u001b[0m                            Traceback (most recent call last)",
      "\u001b[0;32m<ipython-input-10-687766c5106e>\u001b[0m in \u001b[0;36m<module>\u001b[0;34m()\u001b[0m\n\u001b[1;32m     15\u001b[0m \u001b[0msurfaceBoundaryInspector\u001b[0m\u001b[0;34m.\u001b[0m\u001b[0mCellEntityIdsArrayName\u001b[0m \u001b[0;34m=\u001b[0m \u001b[0;34m\"CellEntityIds\"\u001b[0m\u001b[0;34m\u001b[0m\u001b[0m\n\u001b[1;32m     16\u001b[0m \u001b[0msurfaceBoundaryInspector\u001b[0m\u001b[0;34m.\u001b[0m\u001b[0mReferenceSystemsOutputFileName\u001b[0m \u001b[0;34m=\u001b[0m \u001b[0msurfacesDir\u001b[0m\u001b[0;34m+\u001b[0m\u001b[0mreferenceSystemsInitialOrientationFile\u001b[0m\u001b[0;34m\u001b[0m\u001b[0m\n\u001b[0;32m---> 17\u001b[0;31m \u001b[0msurfaceBoundaryInspector\u001b[0m\u001b[0;34m.\u001b[0m\u001b[0mExecute\u001b[0m\u001b[0;34m(\u001b[0m\u001b[0;34m)\u001b[0m\u001b[0;34m\u001b[0m\u001b[0m\n\u001b[0m\u001b[1;32m     18\u001b[0m \u001b[0msurfaceBoundaryInspector\u001b[0m\u001b[0;34m.\u001b[0m\u001b[0mIOWrite\u001b[0m\u001b[0;34m(\u001b[0m\u001b[0;34m)\u001b[0m\u001b[0;34m\u001b[0m\u001b[0m\n\u001b[1;32m     19\u001b[0m \u001b[0msurfaceBoundaryInspector\u001b[0m\u001b[0;34m.\u001b[0m\u001b[0mOutputText\u001b[0m\u001b[0;34m(\u001b[0m\u001b[0;34m'File saved: '\u001b[0m\u001b[0;34m+\u001b[0m\u001b[0msurfaceBoundaryInspector\u001b[0m\u001b[0;34m.\u001b[0m\u001b[0mReferenceSystemsOutputFileName\u001b[0m\u001b[0;34m)\u001b[0m\u001b[0;34m\u001b[0m\u001b[0m\n",
      "\u001b[0;32m~/anaconda3/envs/vmtk3/lib/python3.5/site-packages/vmtk/vmtkmeshboundaryinspector.py\u001b[0m in \u001b[0;36mExecute\u001b[0;34m(self)\u001b[0m\n\u001b[1;32m     83\u001b[0m         \u001b[0mboundaryMapper\u001b[0m\u001b[0;34m.\u001b[0m\u001b[0mScalarVisibilityOn\u001b[0m\u001b[0;34m(\u001b[0m\u001b[0;34m)\u001b[0m\u001b[0;34m\u001b[0m\u001b[0m\n\u001b[1;32m     84\u001b[0m         \u001b[0mboundaryMapper\u001b[0m\u001b[0;34m.\u001b[0m\u001b[0mSetScalarModeToUseCellData\u001b[0m\u001b[0;34m(\u001b[0m\u001b[0;34m)\u001b[0m\u001b[0;34m\u001b[0m\u001b[0m\n\u001b[0;32m---> 85\u001b[0;31m         \u001b[0mboundaryMapper\u001b[0m\u001b[0;34m.\u001b[0m\u001b[0mSetScalarRange\u001b[0m\u001b[0;34m(\u001b[0m\u001b[0mboundaryMesh\u001b[0m\u001b[0;34m.\u001b[0m\u001b[0mGetCellData\u001b[0m\u001b[0;34m(\u001b[0m\u001b[0;34m)\u001b[0m\u001b[0;34m.\u001b[0m\u001b[0mGetScalars\u001b[0m\u001b[0;34m(\u001b[0m\u001b[0;34m)\u001b[0m\u001b[0;34m.\u001b[0m\u001b[0mGetRange\u001b[0m\u001b[0;34m(\u001b[0m\u001b[0;34m)\u001b[0m\u001b[0;34m)\u001b[0m\u001b[0;34m\u001b[0m\u001b[0m\n\u001b[0m\u001b[1;32m     86\u001b[0m \u001b[0;34m\u001b[0m\u001b[0m\n\u001b[1;32m     87\u001b[0m         \u001b[0mboundaryActor\u001b[0m \u001b[0;34m=\u001b[0m \u001b[0mvtk\u001b[0m\u001b[0;34m.\u001b[0m\u001b[0mvtkActor\u001b[0m\u001b[0;34m(\u001b[0m\u001b[0;34m)\u001b[0m\u001b[0;34m\u001b[0m\u001b[0m\n",
      "\u001b[0;31mAttributeError\u001b[0m: 'NoneType' object has no attribute 'GetRange'"
     ]
    }
   ],
   "source": [
    "# Surface boundary inspector\n",
    "# Conveting surface to mesh to get cell entity ids\n",
    "surfaceToMesh = vmtkscripts.vmtkSurfaceToMesh()\n",
    "\n",
    "# Needs to be a .vtp surface file!! not stl\n",
    "# .stl does not store arrays on the surface\n",
    "# surfaceToMesh.Surface = surfaceCapper.Surface\n",
    "surfaceToMesh.SurfaceInputFileName = '/home/iagolessa/OpenFOAM/iagolessa-5.0/run/aneurysms/unruptured/snappyMeshes/case17/intakePatched.stl' #surfacesDir+surfaceCappedFile\n",
    "surfaceToMesh.IORead()\n",
    "surfaceToMesh.Execute()\n",
    "\n",
    "# Inspecting\n",
    "surfaceBoundaryInspector = vmtkscripts.vmtkMeshBoundaryInspector()\n",
    "surfaceBoundaryInspector.Mesh = surfaceToMesh.Mesh\n",
    "surfaceBoundaryInspector.CellEntityIdsArrayName = \"CellEntityIds\"\n",
    "surfaceBoundaryInspector.ReferenceSystemsOutputFileName = surfacesDir+referenceSystemsInitialOrientationFile\n",
    "surfaceBoundaryInspector.Execute()\n",
    "surfaceBoundaryInspector.IOWrite()\n",
    "surfaceBoundaryInspector.OutputText('File saved: '+surfaceBoundaryInspector.ReferenceSystemsOutputFileName)"
   ]
  },
  {
   "cell_type": "code",
   "execution_count": 6,
   "metadata": {},
   "outputs": [
    {
     "name": "stdout",
     "output_type": "stream",
     "text": [
      "[((57.50908660888672, 57.48377227783203, 64.0798568725586), (-0.1872321530804438, -0.9773988958351371, 0.09816068089166913), 1.00813588, 2, 'patch')\n",
      " ((57.035072326660156, 64.71451568603516, 76.075927734375), (0.024199006853586898, 0.25918277045691185, 0.9655250900756437), 2.28566981, 3, 'patch')\n",
      " ((44.98832702636719, 69.49200439453125, 52.8089599609375), (-0.8603422397613243, 0.39235567021939094, 0.32537402866418286), 1.09567861, 4, 'patch')\n",
      " ((55.71451187133789, 66.64419555664062, 50.608882904052734), (0.9625874243687, 0.18403828086567717, 0.1988852976547997), 0.99924147, 5, 'patch')]\n"
     ]
    }
   ],
   "source": [
    "# Manipulation of the reference system array \n",
    "# The code below transforms the referenceSystem.dat info\n",
    "# to a numpy structured array called 'capsGeometryArray'\n",
    "# which contains Center, Normals, Radius, Ids and patch type\n",
    "# of the surface caps\n",
    "\n",
    "capsGeometryList = []\n",
    "# Columns to extract\n",
    "# Center position, normals, radius and ids of caps\n",
    "cols = (0, 1, 2, 3, 4, 5, 6, 13)\n",
    "colsType = [('Center', tuple),\n",
    "            ('Normal', tuple),\n",
    "            ('Radius',float),\n",
    "            ('Id',int),\n",
    "            ('PatchType','U10')]\n",
    "\n",
    "# Get array from referenceSystem.dat file\n",
    "arrayDatFile = np.genfromtxt(surfacesDir+referenceSystemsInitialOrientationFile,skip_header=1,usecols=cols)\n",
    "for row in arrayDatFile:\n",
    "    # Copy formatted to list\n",
    "    Center = tuple(row[0:3])\n",
    "    Normal = tuple(row[3:6])\n",
    "    Radius = row[6]\n",
    "    Id = row[7]\n",
    "    capsGeometryList.append((Center, Normal, Radius, Id,'patch'))\n",
    "\n",
    "# Convert to array\n",
    "capsGeometryArray = np.array(capsGeometryList, dtype=colsType)\n",
    "print(capsGeometryArray)"
   ]
  },
  {
   "cell_type": "code",
   "execution_count": 7,
   "metadata": {},
   "outputs": [
    {
     "name": "stdout",
     "output_type": "stream",
     "text": [
      "Last numbered patch index:  5\n"
     ]
    }
   ],
   "source": [
    "# Last index of patches: to be used below when iterating over patches\n",
    "\n",
    "# --> Volume is always 0\n",
    "# --> Wall is always 1\n",
    "wallIndex = surfaceBoundaryInspector.WallCellEntityId # = 1\n",
    "\n",
    "# --> Inlet index is searched below\n",
    "# Number of patches (nIds) if length of 'capsGeometryArray' + 2 (volume and wall)\n",
    "# Therefore, the last id is 'nIds - 1'\n",
    "nIds = len(capsGeometryArray) + 2\n",
    "lastIndex = nIds - 1\n",
    "\n",
    "print('Last numbered patch index: ', lastIndex)"
   ]
  },
  {
   "cell_type": "markdown",
   "metadata": {},
   "source": [
    "If ROI has only one inlet, then use the cell below, which identifies the inlet as the artery with largest diameter.\n",
    "If your domain has more than one inlet, than skip the next cell and run the cell below, identifying in the list the id of the inlet of your domain."
   ]
  },
  {
   "cell_type": "code",
   "execution_count": 8,
   "metadata": {},
   "outputs": [
    {
     "name": "stdout",
     "output_type": "stream",
     "text": [
      "Inlet index (supposing that is the cap with the largest section area) is:  3\n"
     ]
    }
   ],
   "source": [
    "# Getting the inlet index by searching the patch with largest area\n",
    "# also identifies the patch type (inlet or outlet) on the field PatchType\n",
    "# This works only for geometries with only one inlet. \n",
    "# If there is more than one, than change the keyword 'PatchType' in the 'capsGeometryArray'\n",
    "\n",
    "capsArea = np.zeros(len(capsGeometryArray), \n",
    "                    dtype=[('Area',float),\n",
    "                           ('Id',int)] )\n",
    "\n",
    "capsArea['Area'] = (np.pi/4)*capsGeometryArray['Radius']**2\n",
    "capsArea['Id']   = capsGeometryArray['Id']\n",
    "\n",
    "for i in range(0, len(capsArea)):\n",
    "    if capsArea['Area'][i] == np.max(capsArea['Area']):\n",
    "        inletIndex = capsArea['Id'][i]\n",
    "        capsGeometryArray['PatchType'][i] = 'inlet'\n",
    "    else:\n",
    "        capsGeometryArray['PatchType'][i] = 'outlet'\n",
    "\n",
    "print('Inlet index (supposing that is the cap with the largest section area) is: ',inletIndex)"
   ]
  },
  {
   "cell_type": "code",
   "execution_count": 9,
   "metadata": {},
   "outputs": [
    {
     "name": "stdout",
     "output_type": "stream",
     "text": [
      "No extra inlets!\n",
      "No extra inlets!\n",
      "No extra inlets!\n",
      "No extra inlets!\n"
     ]
    },
    {
     "data": {
      "text/plain": [
       "array(['outlet', 'inlet', 'outlet', 'outlet'], dtype='<U10')"
      ]
     },
     "execution_count": 9,
     "metadata": {},
     "output_type": "execute_result"
    }
   ],
   "source": [
    "# Specify the other inlets here\n",
    "extraInletIds = []\n",
    "\n",
    "# For all the patches ids\n",
    "for patchId in capsGeometryArray['Id']:\n",
    "    # If the id is an extraInlet id\n",
    "    # Check if extraInletIds is not empty\n",
    "    if extraInletIds:\n",
    "        # If the patch id is on specified inlet list\n",
    "        if patchId in extraInletIds:\n",
    "            # find its index in capsGeometryArray\n",
    "            index = np.where(capsGeometryArray['Id'] == patchId)\n",
    "            capsGeometryArray['PatchType'][index[0]] = 'inlet'\n",
    "        # If not, then name it 'outlet'\n",
    "        else:\n",
    "            index = np.where(capsGeometryArray['Id'] == patchId)\n",
    "            capsGeometryArray['PatchType'][index[0]] = 'outlet'\n",
    "    else:\n",
    "        print('No extra inlets!')\n",
    "        \n",
    "capsGeometryArray['PatchType']"
   ]
  },
  {
   "cell_type": "code",
   "execution_count": 10,
   "metadata": {},
   "outputs": [
    {
     "data": {
      "text/plain": [
       "{'inlet': 1, 'outlet': 3}"
      ]
     },
     "execution_count": 10,
     "metadata": {},
     "output_type": "execute_result"
    }
   ],
   "source": [
    "# Counting the number of inlets and outlets\n",
    "# using the numpy.unique function: it returns an ndarray with the unique itens of the input array\n",
    "# with the return_counts=True also returns the number of appearance of each item\n",
    "patchTypes, numberOfPatches = np.unique(capsGeometryArray['PatchType'], return_counts=True)\n",
    "\n",
    "# Zip both patchTypes and numberOfPatches and convert to dictionary\n",
    "# with number of inlets and outlets\n",
    "nPatches = dict(zip(patchTypes, numberOfPatches))\n",
    "nPatches"
   ]
  },
  {
   "cell_type": "code",
   "execution_count": 11,
   "metadata": {},
   "outputs": [
    {
     "name": "stdout",
     "output_type": "stream",
     "text": [
      "Transforming capped surface. \n",
      "Writing VTK XML surface file.\n",
      "File saved: /home/iagolessa/documents/unesp/master/aneurysms/geometries/einsteinCases/rupturedCases/vmtkReconstruction/case2/surfaces/surfaceOriented.vtp"
     ]
    }
   ],
   "source": [
    "# Surface reorientation\n",
    "# It is better to reorient the final capped surface before sending to mesh in SnappyHexMesh\n",
    "# The vmtksurfacereferencesystemtransform script takes a surface (the surfaceCapped above) \n",
    "# and rotates and translates it conforming one of its patches (in our case the inlet patch) to a target reference system\n",
    "# for that, it uses the output of the vtmkboundaryinspector\n",
    "\n",
    "surfaceTransform = vmtkscripts.vmtkSurfaceReferenceSystemTransform()\n",
    "\n",
    "# Load from file\n",
    "# surfaceTransform.SurfaceInputFileName = surfacesDir+'surfaceCapped.vtp'\n",
    "# surfaceTransform.IORead()\n",
    "\n",
    "# or use the just created surfaceCapped\n",
    "surfaceTransform.Surface = surfaceToMesh.Surface\n",
    "\n",
    "# Target reference system parameters\n",
    "surfaceTransform.ReferenceOrigin  = [0, 0, 0]  # translate to origin of system\n",
    "surfaceTransform.ReferenceNormal1 = [0, 0, -1] # inlet normal will coincide with -z axis orientation\n",
    "surfaceTransform.ReferenceNormal2 = [0, 0, -1]\n",
    "\n",
    "# Surface reference system\n",
    "surfaceTransform.ReferenceSystems = surfaceBoundaryInspector.ReferenceSystems\n",
    "# surfaceTransform.ReferenceSystemsInputFileName = surfacesDir+'referenceSystemsInitialOrientation.dat'\n",
    "# surfaceTransform.IORead()\n",
    "\n",
    "# to get the reference systems of inlet patch\n",
    "# Note that, if there is more than one inlet, the inlet chose is the one with largest area\n",
    "surfaceTransform.ReferenceSystemId = inletIndex\n",
    "\n",
    "surfaceTransform.ReferenceSystemsIdArrayName = 'CellEntityIds'\n",
    "surfaceTransform.ReferenceSystemsNormal1ArrayName = 'BoundaryNormals'\n",
    "surfaceTransform.ReferenceSystemsNormal2ArrayName = 'BoundaryNormals'\n",
    "\n",
    "# NEEDS TO BE A VTP FILE TO SAVE ARRAY DATA!\n",
    "surfaceTransform.SurfaceOutputFileName = surfacesDir+surfaceOrientedFile\n",
    "\n",
    "# surfaceTransform.PrintInputMembers()\n",
    "# surfaceTransform.PrintOutputMembers()\n",
    "\n",
    "surfaceTransform.OutputText('Transforming capped surface. \\n')\n",
    "surfaceTransform.Execute()\n",
    "surfaceTransform.IOWrite()\n",
    "surfaceTransform.OutputText('File saved: '+surfaceTransform.SurfaceOutputFileName)"
   ]
  },
  {
   "cell_type": "code",
   "execution_count": 12,
   "metadata": {},
   "outputs": [
    {
     "name": "stdout",
     "output_type": "stream",
     "text": [
      "/home/iagolessa/documents/unesp/master/aneurysms/geometries/einsteinCases/rupturedCases/vmtkReconstruction/case2/surfaces/patches/ created.\n"
     ]
    }
   ],
   "source": [
    "# Check if patch dir exists\n",
    "# If it not exists, create it\n",
    "# the patch dir will contains the surface patch files for meshing (wall, inlet and outlet(s)) \n",
    "\n",
    "patchDir = surfacesDir+'patches/'\n",
    "\n",
    "if not os.path.isdir(patchDir):\n",
    "    os.makedirs(patchDir)\n",
    "    print(patchDir+' created.')"
   ]
  },
  {
   "cell_type": "code",
   "execution_count": 13,
   "metadata": {},
   "outputs": [
    {
     "name": "stdout",
     "output_type": "stream",
     "text": [
      "Extracting surface with id  1\n",
      "Writing STL surface file.\n",
      "Patch saved in /home/iagolessa/documents/unesp/master/aneurysms/geometries/einsteinCases/rupturedCases/vmtkReconstruction/case2/surfaces/patches/wall.stl\n",
      "Extracting surface with id  2\n",
      "Patch with id 2 is an outlet. Defining file name: /home/iagolessa/documents/unesp/master/aneurysms/geometries/einsteinCases/rupturedCases/vmtkReconstruction/case2/surfaces/patches/outlet1.stl\n",
      "Patch saved in /home/iagolessa/documents/unesp/master/aneurysms/geometries/einsteinCases/rupturedCases/vmtkReconstruction/case2/surfaces/patches/outlet1.stl\n",
      "Writing STL surface file.\n",
      "\n",
      "\n",
      "Extracting surface with id  3\n",
      "Patch with id 3 is an inlet. Defining file name: /home/iagolessa/documents/unesp/master/aneurysms/geometries/einsteinCases/rupturedCases/vmtkReconstruction/case2/surfaces/patches/inlet.stl\n",
      "Patch saved in /home/iagolessa/documents/unesp/master/aneurysms/geometries/einsteinCases/rupturedCases/vmtkReconstruction/case2/surfaces/patches/inlet.stl\n",
      "Writing STL surface file.\n",
      "\n",
      "\n",
      "Extracting surface with id  4\n",
      "Patch with id 4 is an outlet. Defining file name: /home/iagolessa/documents/unesp/master/aneurysms/geometries/einsteinCases/rupturedCases/vmtkReconstruction/case2/surfaces/patches/outlet2.stl\n",
      "Patch saved in /home/iagolessa/documents/unesp/master/aneurysms/geometries/einsteinCases/rupturedCases/vmtkReconstruction/case2/surfaces/patches/outlet2.stl\n",
      "Writing STL surface file.\n",
      "\n",
      "\n",
      "Extracting surface with id  5\n",
      "Patch with id 5 is an outlet. Defining file name: /home/iagolessa/documents/unesp/master/aneurysms/geometries/einsteinCases/rupturedCases/vmtkReconstruction/case2/surfaces/patches/outlet3.stl\n",
      "Patch saved in /home/iagolessa/documents/unesp/master/aneurysms/geometries/einsteinCases/rupturedCases/vmtkReconstruction/case2/surfaces/patches/outlet3.stl\n",
      "Writing STL surface file.\n",
      "\n",
      "\n"
     ]
    }
   ],
   "source": [
    "# Using vmtkThreshold script to extract patches for mesh generations in snappy\n",
    "\n",
    "# Surface name to decompose if needs to be read before\n",
    "# if you uncomment these next two lines, dont forget to change line 22 below\n",
    "# surfaceOriented = readSurface(surfacesDir+surfaceCappedFile)\n",
    "# print('\\n')\n",
    "\n",
    "# File names for patches\n",
    "wallFileName = patchDir+'wall.stl'\n",
    "\n",
    "# Extracting first the wall\n",
    "extractThreshold = vmtkscripts.vmtkThreshold()\n",
    "\n",
    "extractThreshold.Surface = surfaceTransform.Surface\n",
    "extractThreshold.LowThreshold = wallIndex\n",
    "extractThreshold.HighThreshold = wallIndex\n",
    "extractThreshold.SurfaceOutputFileName = wallFileName\n",
    "print('Extracting surface with id ', wallIndex)\n",
    "extractThreshold.Execute()\n",
    "extractThreshold.IOWrite()\n",
    "extractThreshold.OutputText('Patch saved in '+extractThreshold.SurfaceOutputFileName+'\\n')\n",
    "\n",
    "# Outlet initial index (to increment)\n",
    "outletIndex = 1\n",
    "inletIndex = 1\n",
    "\n",
    "# Loop to extract inlet and outlet patches\n",
    "for i in np.arange( len(capsGeometryArray) ):\n",
    "    print('Extracting surface with id ', capsGeometryArray['Id'][i])\n",
    "    # Instantiate vmtkthreshold\n",
    "    extractThreshold = vmtkscripts.vmtkThreshold()\n",
    "    extractThreshold.Surface = surfaceTransform.Surface\n",
    "    extractThreshold.LowThreshold = capsGeometryArray['Id'][i]\n",
    "    extractThreshold.HighThreshold = capsGeometryArray['Id'][i]\n",
    "    \n",
    "    # Defining output file names\n",
    "    if capsGeometryArray['PatchType'][i] == 'inlet':\n",
    "        #\n",
    "        if nPatches['inlet'] == 1:\n",
    "            inletFileName = patchDir+'inlet.stl'\n",
    "        else:\n",
    "            inletFileName = patchDir+'inlet'+str(inletIndex)+'.stl'\n",
    "            inletIndex += 1\n",
    "        #\n",
    "        # Attribute surface output file name\n",
    "        print('Patch with id '+str(capsGeometryArray['Id'][i])+' is an inlet. Defining file name: '+inletFileName) # debugging\n",
    "        extractThreshold.SurfaceOutputFileName = inletFileName\n",
    "        \n",
    "    elif capsGeometryArray['PatchType'][i] == 'outlet':\n",
    "        if nPatches['outlet'] == 1:\n",
    "            outletFileName = patchDir+'outlet.stl'\n",
    "        else:\n",
    "            outletFileName = patchDir+'outlet'+str(outletIndex)+'.stl'\n",
    "            outletIndex += 1\n",
    "        print('Patch with id '+str(capsGeometryArray['Id'][i])+' is an outlet. Defining file name: '+outletFileName) # debugging\n",
    "        extractThreshold.SurfaceOutputFileName = outletFileName\n",
    "    \n",
    "    extractThreshold.Execute()\n",
    "    # Writing surface\n",
    "    extractThreshold.OutputText('Patch saved in '+extractThreshold.SurfaceOutputFileName+'\\n')\n",
    "    extractThreshold.IOWrite()\n",
    "    print('\\n')"
   ]
  },
  {
   "cell_type": "markdown",
   "metadata": {},
   "source": [
    "<hr>\n",
    "The two cells below save the oriented surface and its Voronoi diagram to the parent vessel reconstruction procedure "
   ]
  },
  {
   "cell_type": "code",
   "execution_count": 14,
   "metadata": {},
   "outputs": [
    {
     "name": "stdout",
     "output_type": "stream",
     "text": [
      "/home/iagolessa/documents/unesp/master/aneurysms/geometries/einsteinCases/rupturedCases/vmtkReconstruction/case2/parentVessel/case2/case2_model.vtp\n",
      "Writing VTK XML surface file.\n"
     ]
    }
   ],
   "source": [
    "# Final surface for parent vessel reconstruction\n",
    "caseId = 'case2'\n",
    "\n",
    "if not os.path.isdir(parentVesselDir+caseId):\n",
    "    os.makedirs(parentVesselDir+caseId)\n",
    "    \n",
    "surfaceForParentVessel = parentVesselDir+caseId+\"/\"+caseId+\"_model.vtp\"\n",
    "print(surfaceForParentVessel)\n",
    "writeSurface(surfaceTransform.Surface, surfaceForParentVessel, \"binary\")"
   ]
  },
  {
   "cell_type": "code",
   "execution_count": 16,
   "metadata": {},
   "outputs": [
    {
     "name": "stdout",
     "output_type": "stream",
     "text": [
      "NonManifold check.\n",
      "Cleaning surface.\n",
      "Triangulating surface.\n",
      "Writing VTK XML surface file.\n"
     ]
    }
   ],
   "source": [
    "# Compute Voronoi Diagram Separately for parent vessel reconstruction\n",
    "voronoiDiagram = vmtkscripts.vmtkDelaunayVoronoi()\n",
    "\n",
    "voronoiDiagram.Surface = surfaceTransform.Surface\n",
    "# voronoiDiagram.SurfaceInputFileName = surfaceInputFile #casePath+\"surfaces/surfaceRemeshed.vtp\" \n",
    "# voronoiDiagram.IORead()\n",
    "voronoiDiagram.CheckNonManifold = 1\n",
    "voronoiDiagram.RemoveSubresolutionTetrahedra = 1\n",
    "# voronoiDiagram.DelaunayTessellationOutputFileName = casePath+\"surfaces/delaunayTesselation.vtp\"\n",
    "voronoiDiagram.VoronoiDiagramOutputFileName = parentVesselDir+caseId+\"/\"+caseId+\"_voronoi.vtp\"\n",
    "voronoiDiagram.Execute()\n",
    "voronoiDiagram.IOWrite()"
   ]
  },
  {
   "cell_type": "code",
   "execution_count": 17,
   "metadata": {},
   "outputs": [
    {
     "name": "stdout",
     "output_type": "stream",
     "text": [
      "Quit renderer\n"
     ]
    }
   ],
   "source": [
    "viewSurface(voronoiDiagram.Surface)"
   ]
  }
 ],
 "metadata": {
  "kernelspec": {
   "display_name": "Python 3",
   "language": "python",
   "name": "python3"
  },
  "language_info": {
   "codemirror_mode": {
    "name": "ipython",
    "version": 3
   },
   "file_extension": ".py",
   "mimetype": "text/x-python",
   "name": "python",
   "nbconvert_exporter": "python",
   "pygments_lexer": "ipython3",
   "version": "3.5.1"
  }
 },
 "nbformat": 4,
 "nbformat_minor": 2
}
