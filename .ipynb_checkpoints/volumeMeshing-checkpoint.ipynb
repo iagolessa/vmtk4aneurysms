{
 "cells": [
  {
   "cell_type": "code",
   "execution_count": 2,
   "metadata": {},
   "outputs": [],
   "source": [
    "from vmtk import vmtkscripts\n",
    "import os\n",
    "import vmtk_functions \n",
    "from vmtk_filenames import *"
   ]
  },
  {
   "cell_type": "code",
   "execution_count": 97,
   "metadata": {
    "collapsed": true
   },
   "outputs": [
    {
     "name": "stdout",
     "output_type": "stream",
     "text": [
      "Files saved to: /home/iagolessa/Documents/aneurysms/geometries/einsteinCases/unrupturedCases/vmtkReconstruction/case18/\n"
     ]
    }
   ],
   "source": [
    "# Path to save the generated files when extracting the surface\n",
    "# We reccomend to separate it from the DICOM original dir. \n",
    "# Note that inside casePath, this code will create different sub-directories to store different data types\n",
    "casePath       = '/home/iagolessa/Documents/aneurysms/geometries/einsteinCases/unrupturedCases/vmtkReconstruction/case18/'\n",
    "\n",
    "# Define subdirs\n",
    "imagesDir       = casePath+'images/'\n",
    "surfacesDir     = casePath+'surfaces/'\n",
    "centerlinesDir  = casePath+'centerlines/'\n",
    "meshesDir       = casePath+'meshes/'\n",
    "parentVesselDir = casePath+\"parentVessel/\"\n",
    "\n",
    "directories = [imagesDir,surfacesDir,centerlinesDir,meshesDir,parentVesselDir]\n",
    "\n",
    "# Create the above directories if they do not exist\n",
    "for directory in directories:\n",
    "    if not os.path.isdir(directory):\n",
    "        os.makedirs(directory)\n",
    "        print(directory+' created.\\n')\n",
    "\n",
    "print('Files saved to:', casePath)"
   ]
  },
  {
   "cell_type": "markdown",
   "metadata": {},
   "source": [
    "<hr/>\n",
    "# **Meshing the Aneurysm Surface with VMTK**\n",
    "\n",
    "Finally, we use the final generated surface obtained in the previous section to generate a CFD tetrahedral mesh. It is possible in VMTK to generate a boudary layer mesh with radius adaptative cell refinement.\n",
    "\n",
    "For the radius adaptative procedure, we need to first calculate the centerlines, and then to generate a DistanceToCenterlines fields defined on the surface. It is importante to note that the radius adaptative mesh, in my opinion, is not quite good when meshing aneurysm geometries, due to poor quality elements inside the aneurysm volume (you will need to generate a centerline inside the aneurysm dome, however, depending on the aneurysm size, this won't be very helpful)."
   ]
  },
  {
   "cell_type": "code",
   "execution_count": null,
   "metadata": {},
   "outputs": [],
   "source": [
    "# Computing the centerlines of the surface\n",
    "# for generating a radius adaptative mesh\n",
    "centerlines = vmtkscripts.vmtkCenterlines()\n",
    "centerlines.Surface = surfaceForMeshing\n",
    "# centerlines.SeedSelectorName = 'openprofiles'\n",
    "centerlines.AppendEndPoints = 1\n",
    "centerlines.Execute()\n",
    "\n",
    "# ~~~~~~~~~~~~~~~~~~~~~~~~~~~~~~~~~~~ #\n",
    "# Calculating distance to centerlines\n",
    "distanceToCenterlines = vmtkscripts.vmtkDistanceToCenterlines()\n",
    "\n",
    "distanceToCenterlines.Surface = surfaceForMeshing\n",
    "distanceToCenterlines.Centerlines = centerlines.Centerlines\n",
    "distanceToCenterlines.UseRadiusInformation = 1\n",
    "distanceToCenterlines.RadiusArrayName = centerlines.RadiusArrayName\n",
    "# distanceToCenterlines.PrintInputMembers()\n",
    "# distanceToCenterlines.PrintOutputMembers()\n",
    "distanceToCenterlines.Execute()\n",
    "\n",
    "# viewSurface(distanceToCenterlines.Surface)"
   ]
  },
  {
   "cell_type": "code",
   "execution_count": null,
   "metadata": {},
   "outputs": [],
   "source": [
    "# Generating a radius adaptative mesh\n",
    "mesh = vmtkscripts.vmtkMeshGenerator()\n",
    "\n",
    "# Needed parameters for uniform mesh\n",
    "mesh.Surface = distanceToCenterlines.Surface\n",
    "mesh.ElementSizeMode = 'edgelength' # or \"edgelenght\"\n",
    "mesh.TargetEdgeLength = 0.15\n",
    "mesh.MeshOutputFileName = casePath+'meshes/meshWithBL.vtu'\n",
    "\n",
    "# To create boundary layer refinement\n",
    "mesh.BoundaryLayer = 1\n",
    "mesh.NumberOfSubLayers = 3\n",
    "mesh.SubLayerRatio = 0.5\n",
    "mesh.BoundaryLayerThicknessFactor = 0.25 \n",
    "mesh.BoundaryLayerOnCaps = 0\n",
    "\n",
    "# Parameters for radius adaptative mesh\n",
    "# mesh.TargetEdgeLengthArrayName = distanceToCenterlines.DistanceToCenterlinesArrayName\n",
    "# mesh.TargetEdgeLengthFactor = 0.3\n",
    "    \n",
    "mesh.PrintOutputMembers()\n",
    "\n",
    "mesh.Execute()\n",
    "mesh.IOWrite()\n",
    "\n",
    "viewMesh(mesh.Mesh)"
   ]
  },
  {
   "cell_type": "markdown",
   "metadata": {},
   "source": [
    "<hr> \n",
    "# **Generating a Mesh for the Aneurysm and Tissue Wall**\n",
    "\n",
    "For fluid-solid interaction simulations, a mesh for the solid wall -- artery and aneurysm wall -- must be created in the context of partitioned FSI methods. While the operations above handle the creation of the fluid domain mesh -- or it can be created in an external mesh generator, such as *snappyHexMesh*--, the operations below use vmtk scripts to generate a prismatic layer mesh for the solid mesh. Investigation of a variable wall thickness are performed here, also using the aforementioned vmtk script.\n",
    "\n",
    "The literature reports that the aneurysm and its surrounding arteries have different thickness: studies performed by Costalat et al. (2011), Robertson et al. (2015) and Cebral et al. (2015) show that the aneurysm thickness ranges from 0.1 to 0.6 mm, with mean thickness around 0.3 mm, whereas the intracranial arteries have mean thickness with 0.6 ± 0.12 mm and 0.51 ± 0.08 mm in the basilar and middle cerebral arteries, respectively, for example. \n",
    "\n",
    "In the code below, I attempt to create a *thickness array* defined on a surface: the thickness should be smaller on the aneurysm region than on the arteries region, according to the results show above. I will create the thickness array with different techiniques, for example: using the *vmtkdistancetocenterlines* script to create an array that have increasing values along the aneurysm mean line from the artery centerline. In this case, we don't have too much control on the values of the array. The other technique involves the *vmtkssurfaceresolution*, *vmtkgeodesicsurfaceresolution* or *vmtkdistancetospheres* to create an array based on the Eulerian or geodesic distance to seeds positioned on the surface. In this case, we have more control on the array bounding values. \n",
    "\n",
    "Together with the *ThicknessArray*, we need to create a *SurfaceRefinementArray*, which will be used with the *vmtksurfaceremeshing* script to generate a surface with different refinement levels on the surface triangles. This procedure is needed to refine close to high curvature areas of the arteries and aneurysm surface, usually close to the aneurysm neck and on arteries curves. "
   ]
  },
  {
   "cell_type": "markdown",
   "metadata": {},
   "source": [
    "<hr>\n",
    "The distance to spheres script in the next cell will be used to create the *SurfaceRefinementArray*, by positioning spheres close to the aneurysm neck.\n",
    "\n",
    "The input surface here is the remeshed surface when it was initially extracted, because is a high quality surface. \n",
    "The output surface will be named as 'surfaceToWallMesh.vtp' which will be used when the external layer will be created."
   ]
  },
  {
   "cell_type": "markdown",
   "metadata": {},
   "source": [
    "In the next cell, we define two variables holding the aneurysm and arteries mean thickness that will be used below, in millimeters. "
   ]
  },
  {
   "cell_type": "code",
   "execution_count": 1,
   "metadata": {},
   "outputs": [],
   "source": [
    "aneurysmThickness = 0.3 # mm\n",
    "arteryThickness = 0.6   # mm"
   ]
  },
  {
   "cell_type": "markdown",
   "metadata": {},
   "source": [
    "## Computing surface outwards normals\n",
    "\n",
    "The surface normals will be used at the final process of creating the wall mesh."
   ]
  },
  {
   "cell_type": "code",
   "execution_count": 99,
   "metadata": {},
   "outputs": [
    {
     "name": "stdout",
     "output_type": "stream",
     "text": [
      "Reading STL surface file.\n",
      "Input vmtksurfacenormals members:\n",
      "    Id = 0\n",
      "    Disabled = 0\n",
      "    Surface = vtkPolyData\n",
      "    SurfaceInputFileName = /home/iagolessa/Documents/aneurysms/geometries/einsteinCases/unrupturedCases/vmtkReconstruction/case18/surfaces/patches/wall.stl\n",
      "    NormalsArrayName = Normals\n",
      "    AutoOrientNormals = 1\n",
      "    Consistency = 1\n",
      "    ComputeCellNormals = 0\n",
      "    FlipNormals = 0\n",
      "    SurfaceOutputFileName = \n",
      "Output vmtksurfacenormals members:\n",
      "    Id = 0\n",
      "    Surface = vtkPolyData\n"
     ]
    }
   ],
   "source": [
    "# Building normals to surface array on remeshed surface for thicknesse creation\n",
    "surfaceNormals = vmtkscripts.vmtkSurfaceNormals()\n",
    "\n",
    "# Loading surface\n",
    "surfaceNormals.Surface = resolutionArraySmoothing.Surface\n",
    "surfaceNormals.SurfaceInputFileName = surfacesDir+'patches/wall.stl'\n",
    "surfaceNormals.IORead()\n",
    "\n",
    "# General options\n",
    "# surfaceNormals.ComputeCellNormals = 1\n",
    "# surfaceNormals.FlipNormals = 1\n",
    "\n",
    "surfaceNormals.Execute()\n",
    "\n",
    "# Debug\n",
    "# surfaceNormals.PrintInputMembers()\n",
    "# surfaceNormals.PrintOutputMembers()"
   ]
  },
  {
   "cell_type": "markdown",
   "metadata": {},
   "source": [
    "# **Generating the Thickness array**\n",
    "\n",
    "The overall procedure of creating the thickness array is decomposed in two steps: first a *base array* must be created and then an *auxiliar array*. Operations with these two are then carried out to generate the final thickness array.\n",
    "\n",
    "## Generating base array\n",
    "\n",
    "Using *vmtkdistancetospheres*, by placing spheres on the aneurysm and delimiting the aneurysm neck with the sphere surface by increasing its diameter.\n",
    "Setup:\n",
    "\n",
    "    minDistance = minimum thickness (aneurysm)\n",
    "    maxDistance = maximum thickness (surrounding arteries)\n",
    "    \n",
    "The *minDistance* will correspond to the aneurysm thickness for that case whereas the *maxDistance* to the arteries thickness. The neck, therefore, will have a spatial gradient of values ranging from *minDistance* to *maxDistance* along the neck lenght."
   ]
  },
  {
   "cell_type": "code",
   "execution_count": 100,
   "metadata": {},
   "outputs": [
    {
     "name": "stdout",
     "output_type": "stream",
     "text": [
      "Please position the mouse and press space to add spheres, 'u' to undo\n",
      "Please input new parameters :\n",
      "DistanceOffset(0.0) [DistanceScale(1.0) MinDistance(0.3) MaxDistance(0.6): Quit renderer\n",
      "Input vmtkdistancetospheres members:\n",
      "    Id = 0\n",
      "    Disabled = 0\n",
      "    Surface = vtkPolyData\n",
      "    SurfaceInputFileName = \n",
      "    DistanceToSpheresArrayName = BaseArray\n",
      "    DistanceOffset = 0.1\n",
      "    DistanceScale = 0.15\n",
      "    MinDistance = 0.3\n",
      "    MaxDistance = 0.6\n",
      "    Opacity = 1.0\n",
      "    vmtkRenderer = vmtkRenderer\n",
      "    SurfaceOutputFileName = \n",
      "Output vmtkdistancetospheres members:\n",
      "    Id = 0\n",
      "    Surface = vtkPolyData\n"
     ]
    }
   ],
   "source": [
    "baseArrayCreator = vmtkscripts.vmtkDistanceToSpheres()\n",
    "\n",
    "baseArrayCreator.Surface = surfaceNormals.Surface #surfaceRemesh.Surface\n",
    "\n",
    "baseArrayCreator.DistanceToSpheresArrayName = 'BaseArray'\n",
    "baseArrayCreator.DistanceOffset = 0.0\n",
    "baseArrayCreator.Scale = 0.15\n",
    "\n",
    "## If DistanceOffset attribut is 0.0\n",
    "## then this value is the array value \n",
    "## closest to the spheres\n",
    "baseArrayCreator.MinDistance = aneurysmThickness\n",
    "baseArrayCreator.MaxDistance = arteryThickness\n",
    "\n",
    "baseArrayCreator.Execute()\n",
    "\n",
    "# Debug\n",
    "# baseArrayCreator.PrintInputMembers()\n",
    "# baseArrayCreator.PrintOutputMembers()"
   ]
  },
  {
   "cell_type": "markdown",
   "metadata": {},
   "source": [
    "## Generating auxiliar array for subtraction\n",
    "\n",
    "To avoid bad mesh elements near high curvature regions (near the neck and arteries curves) the base array generated above is modified by *decreasing* the thickness value on those regions. This can be accomplished by creating an array with values defined on these high curvature/neck regions, which we will call *AuxiliarArray*, with this value being defined as **how much we want to diminish the thickness**. \n",
    "\n",
    "The *AuxiliarArray* is created with the script *vmtksurfaceregiondrawing* which allows us to define closed regions on the surface which will have a specified value inside, the value to be subtracted from the *BaseArray*. The regions specified by the user must be the ones where we want to change the base array.\n",
    "\n",
    "After that, this auxiliar array must be smoothed, using the *vmtkarraysmoothing* script."
   ]
  },
  {
   "cell_type": "code",
   "execution_count": 101,
   "metadata": {},
   "outputs": [
    {
     "name": "stdout",
     "output_type": "stream",
     "text": [
      "Quit renderer\n",
      "Input vmtksurfaceregiondrawing members:\n",
      "    Id = 0\n",
      "    Disabled = 0\n",
      "    Surface = vtkPolyData\n",
      "    SurfaceInputFileName = \n",
      "    Binary = 1\n",
      "    InsideValue = 0.15\n",
      "    OutsideValue = 0.0\n",
      "    ContourScalarsArrayName = AuxiliarArray\n",
      "    vmtkRenderer = vmtkRenderer\n",
      "    SurfaceOutputFileName = \n",
      "Output vmtksurfaceregiondrawing members:\n",
      "    Id = 0\n",
      "    Surface = vtkPolyData\n",
      "Input vmtksurfacearraysmoothing members:\n",
      "    Id = 0\n",
      "    Disabled = 0\n",
      "    Surface = vtkPolyData\n",
      "    SurfaceInputFileName = \n",
      "    SurfaceArrayName = AuxiliarArray\n",
      "    Connexity = 1\n",
      "    Relaxation = 1.0\n",
      "    Iterations = 20\n",
      "    SurfaceOutputFileName = \n",
      "Output vmtksurfacearraysmoothing members:\n",
      "    Id = 0\n",
      "    Surface = vtkPolyData\n"
     ]
    }
   ],
   "source": [
    "auxiliarArrayCreator = vmtkscripts.vmtkSurfaceRegionDrawing()\n",
    "\n",
    "auxiliarArrayCreator.Surface = baseArrayCreator.Surface\n",
    "\n",
    "# General options\n",
    "# regionDrawing.Binary = 1\n",
    "auxiliarArrayCreator.InsideValue = 0.15\n",
    "auxiliarArrayCreator.OutsideValue = 0.0\n",
    "auxiliarArrayCreator.ContourScalarsArrayName = 'AuxiliarArray'\n",
    "\n",
    "auxiliarArrayCreator.Execute()\n",
    "\n",
    "# Debug\n",
    "auxiliarArrayCreator.PrintInputMembers()\n",
    "auxiliarArrayCreator.PrintOutputMembers()\n",
    "\n",
    "# Since the array created by RegionDrawing is discontinous\n",
    "# we use the array smoothing\n",
    "auxiliarArraySmoother = vmtkscripts.vmtkSurfaceArraySmoothing()\n",
    "\n",
    "auxiliarArraySmoother.Surface = auxiliarArrayCreator.Surface\n",
    "auxiliarArraySmoother.SurfaceArrayName = auxiliarArrayCreator.ContourScalarsArrayName\n",
    "\n",
    "# General options\n",
    "auxiliarArraySmoother.Connexity = 1\n",
    "auxiliarArraySmoother.Relaxation = 1.0\n",
    "auxiliarArraySmoother.Iterations = 20\n",
    "\n",
    "auxiliarArraySmoother.Execute()\n",
    "\n",
    "# Debug\n",
    "auxiliarArraySmoother.PrintInputMembers()\n",
    "auxiliarArraySmoother.PrintOutputMembers()"
   ]
  },
  {
   "cell_type": "markdown",
   "metadata": {},
   "source": [
    "## Generating Final Thickness array\n",
    "\n",
    "The final *ThicknessArray* is cretaed by subtracting *AuxiliarArray* of *BaseArray* with the *vmtksurfacearrayoperation* filter."
   ]
  },
  {
   "cell_type": "code",
   "execution_count": 102,
   "metadata": {},
   "outputs": [
    {
     "name": "stdout",
     "output_type": "stream",
     "text": [
      "Writing VTK XML surface file.\n",
      "Input vmtksurfacearrayoperation members:\n",
      "    Id = 0\n",
      "    Disabled = 0\n",
      "    Surface = vtkPolyData\n",
      "    SurfaceInputFileName = \n",
      "    Surface2 = vtkPolyData\n",
      "    Surface2InputFileName = \n",
      "    Operation = subtract\n",
      "    Constant = 0.0\n",
      "    InputArrayName = BaseArray\n",
      "    Input2ArrayName = AuxiliarArray\n",
      "    ResultArrayName = ThicknessArray\n",
      "    SurfaceOutputFileName = /home/iagolessa/Documents/aneurysms/geometries/einsteinCases/unrupturedCases/vmtkReconstruction/case18/surfaces/surfaceWithThickness.vtp\n",
      "Output vmtksurfacearrayoperation members:\n",
      "    Id = 0\n",
      "    Surface = vtkPolyData\n"
     ]
    }
   ],
   "source": [
    "thicknessArrayCreator = vmtkscripts.vmtkSurfaceArrayOperation()\n",
    "\n",
    "thicknessArrayCreator.Surface = auxiliarArraySmoother.Surface\n",
    "thicknessArrayCreator.Surface2 = auxiliarArraySmoother.Surface\n",
    "\n",
    "thicknessArrayCreator.Operation = 'subtract'\n",
    "thicknessArrayCreator.InputArrayName = baseArrayCreator.DistanceToSpheresArrayName\n",
    "thicknessArrayCreator.Input2ArrayName = auxiliarArrayCreator.ContourScalarsArrayName\n",
    "\n",
    "thicknessArrayCreator.ResultArrayName = 'ThicknessArray'\n",
    "thicknessArrayCreator.SurfaceOutputFileName = surfacesDir+'surfaceWithThickness.vtp'\n",
    "\n",
    "thicknessArrayCreator.Execute()\n",
    "thicknessArrayCreator.IOWrite()\n",
    "\n",
    "# Debug\n",
    "# thicknessArrayCreator.PrintInputMembers()\n",
    "# thicknessArrayCreator.PrintOutputMembers()"
   ]
  },
  {
   "cell_type": "markdown",
   "metadata": {},
   "source": [
    "Thickness array creation finished on the initial surface. Filesaved as 'surfaceWithThickness.vtp' (need to be .vtp to store array).\n",
    "Proceed with generation of resolution array for remeshing."
   ]
  },
  {
   "cell_type": "markdown",
   "metadata": {},
   "source": [
    "## **Generating resolution array for remeshing**\n",
    "\n",
    "Now we generated a remeshed surface with refined high quality triangles in the regions of high curvature/aneurysm neck to avoid bad volume elements whn extruding the surface to generate the wall mesh. We can use here also the script *vmtkdistancetospheres* by placing spheres on the regions that we want to refine. The *minDistance* and *maxDistance* correponding in this case to the minimum edgelenght (or element area) and maximum edgelenght that we wish to use on the remeshign procedure. Note that these parameters can be scaled if needed with the *edgelenghtfactor* parameter of *vmtksurfaceremeshing*."
   ]
  },
  {
   "cell_type": "code",
   "execution_count": null,
   "metadata": {},
   "outputs": [],
   "source": [
    "# # 'vmtkurfaceresolution' uses the Euclidean distance to the RBF interpolation\n",
    "# # whereas 'vmtkgeodesicsurfaceresolution' uses the geodesic distance along the surface\n",
    "\n",
    "# surfaceResolution = vmtkscripts.vmtkSurfaceResolution()\n",
    "    \n",
    "# surfaceResolution.SurfaceInputFileName = surfacesDir+'patches/wall.stl'\n",
    "# surfaceResolution.IORead()\n",
    "\n",
    "# surfaceResolution.ResolutionArrayName = 'ResolutionArray'\n",
    "# # RBF Options: 'thinplatespline', 'biharmonic', 'triharmonic'\n",
    "# surfaceResolution.RBFType = 'biharmonic'\n",
    "\n",
    "# surfaceResolution.Execute()\n",
    "# surfaceResolution.PrintInputMembers()\n",
    "# surfaceResolution.PrintOutputMembers()\n",
    "\n",
    "# surfaceResolution.SurfaceOutputFileName = surfacesDir+'surfaceToWallMesh.vtp'\n",
    "# surfaceResolution.IOWrite()\n",
    "\n",
    "# 'vmtkurfaceresolution' uses the Euclidean distance to the RBF interpolation\n",
    "# whereas 'vmtkgeodesicsurfaceresolution' uses the geodesic distance along the surface"
   ]
  },
  {
   "cell_type": "code",
   "execution_count": null,
   "metadata": {},
   "outputs": [],
   "source": [
    "# surfaceGeodesicResolution = vmtkscripts.vmtkGeodesicSurfaceResolution()\n",
    "\n",
    "# surfaceGeodesicResolution.SurfaceInputFileName = surfacesDir+'patches/wall.stl'\n",
    "# surfaceGeodesicResolution.IORead()\n",
    "\n",
    "# surfaceGeodesicResolution.ResolutionArrayName = 'ResolutionArray'\n",
    "# # RBF Options: 'thinplatespline', 'biharmonic', 'triharmonic'\n",
    "# surfaceGeodesicResolution.RBFType = 'biharmonic'\n",
    "\n",
    "# surfaceGeodesicResolution.Execute()\n",
    "# surfaceGeodesicResolution.PrintInputMembers()\n",
    "# surfaceGeodesicResolution.PrintOutputMembers()\n",
    "\n",
    "# surfaceGeodesicResolution.SurfaceOutputFileName = surfacesDir+'surfaceGeodesicResolution.vtp'\n",
    "# surfaceGeodesicResolution.IOWrite()"
   ]
  },
  {
   "cell_type": "code",
   "execution_count": 103,
   "metadata": {},
   "outputs": [
    {
     "name": "stdout",
     "output_type": "stream",
     "text": [
      "Reading STL surface file.\n",
      "Please position the mouse and press space to add spheres, 'u' to undo\n",
      "Please input new parameters :\n",
      "DistanceOffset(0.1) [DistanceScale(1.0) MinDistance(0.1) MaxDistance(0.3): Quit renderer\n"
     ]
    }
   ],
   "source": [
    "resolutionArrayCreator = vmtkscripts.vmtkDistanceToSpheres()\n",
    "\n",
    "resolutionArrayCreator.SurfaceInputFileName = surfacesDir+'patches/wall.stl'\n",
    "resolutionArrayCreator.IORead()\n",
    "\n",
    "resolutionArrayCreator.DistanceToSpheresArrayName = 'ResolutionArray'\n",
    "resolutionArrayCreator.DistanceOffset = 0.1\n",
    "resolutionArrayCreator.Scale = 0.1\n",
    "\n",
    "## If DistanceOffset attribut is 0.0\n",
    "## then this value is the array value \n",
    "## closest to the spheres\n",
    "resolutionArrayCreator.MinDistance = 0.1\n",
    "resolutionArrayCreator.MaxDistance = 0.3\n",
    "\n",
    "resolutionArrayCreator.Execute()"
   ]
  },
  {
   "cell_type": "code",
   "execution_count": 104,
   "metadata": {},
   "outputs": [],
   "source": [
    "resolutionArraySmoothing = vmtkscripts.vmtkSurfaceArraySmoothing()\n",
    "\n",
    "resolutionArraySmoothing.Surface = resolutionArrayCreator.Surface\n",
    "\n",
    "resolutionArraySmoothing.SurfaceArrayName = resolutionArrayCreator.DistanceToSpheresArrayName\n",
    "resolutionArraySmoothing.Connexity = 1\n",
    "resolutionArraySmoothing.Relaxation = 1.0\n",
    "resolutionArraySmoothing.Iterations = 15\n",
    "# resolutionArraySmoothing.SurfaceOutputFileName = surfacesDir+'surfaceToWallMesh.vtp'\n",
    "# resolutionArraySmoothing.PrintInputMembers()\n",
    "# resolutionArraySmoothing.PrintOutputMembers()\n",
    "\n",
    "resolutionArraySmoothing.Execute()\n",
    "# resolutionArraySmoothing.IOWrite()\n",
    "\n",
    "# Debug\n",
    "# resolutionArrayCreator.PrintInputMembers()\n",
    "# resolutionArrayCreator.PrintOutputMembers()"
   ]
  },
  {
   "cell_type": "code",
   "execution_count": 105,
   "metadata": {},
   "outputs": [
    {
     "name": "stdout",
     "output_type": "stream",
     "text": [
      "Writing VTK XML surface file.\n"
     ]
    }
   ],
   "source": [
    "# Remeshing the surface with quality triangles\n",
    "surfaceRemesh = vmtkscripts.vmtkSurfaceRemeshing()\n",
    "\n",
    "surfaceRemesh.Surface = resolutionArraySmoothing.Surface\n",
    "# surfaceRemesh.SurfaceInputFileName = surfacesDir+'surfaceToWallMesh.vtp'\n",
    "# surfaceRemesh.IORead()\n",
    "\n",
    "# surfaceRemesh.ElementSizeMode = \"edgelength\"\n",
    "# surfaceRemesh.TargetEdgeLength = 0.15\n",
    "\n",
    "# Options: 'area', 'edgelength', 'areaarray', 'edgelengtharray'\n",
    "surfaceRemesh.ElementSizeMode = 'edgelengtharray'\n",
    "\n",
    "surfaceRemesh.TargetEdgeLengthArrayName = resolutionArrayCreator.DistanceToSpheresArrayName\n",
    "surfaceRemesh.TargetEdgeLengthFactor = 0.3\n",
    "\n",
    "# If ElementSizeMode = \"area\"\n",
    "# surfaceRemesh.TargetArea = 0.1\n",
    "\n",
    "# If ElementSizeMode = 'areaarray'\n",
    "# surfaceRemesh.ElementSizeMode = 'areaarray'\n",
    "# surfaceRemesh.TargetAreaArrayName = 'SurfaceResolutionArray'\n",
    "# surfaceRemesh.TargetAreaFactor = 0.01\n",
    "\n",
    "surfaceRemesh.SurfaceOutputFileName = surfacesDir+'surfaceRemeshedSpatialVaryingResolution.vtp'\n",
    "\n",
    "# Debug\n",
    "# surfaceRemesh.PrintInputMembers()\n",
    "# surfaceRemesh.PrintOutputMembers()\n",
    "\n",
    "surfaceRemesh.Execute()\n",
    "surfaceRemesh.IOWrite()"
   ]
  },
  {
   "cell_type": "markdown",
   "metadata": {},
   "source": [
    "## **Projecting Normals and Thickness arrays on new remeshed surfaces**"
   ]
  },
  {
   "cell_type": "code",
   "execution_count": 106,
   "metadata": {},
   "outputs": [
    {
     "name": "stdout",
     "output_type": "stream",
     "text": [
      "Computing projection\n",
      "Writing VTK XML surface file.\n",
      "Input vmtksurfaceprojection members:\n",
      "    Id = 0\n",
      "    Disabled = 0\n",
      "    Surface = vtkPolyData\n",
      "    SurfaceInputFileName = \n",
      "    ReferenceSurface = vtkPolyData\n",
      "    ReferenceSurfaceInputFileName = \n",
      "    SurfaceOutputFileName = /home/iagolessa/Documents/aneurysms/geometries/einsteinCases/unrupturedCases/vmtkReconstruction/case18/surfaces/surfaceToWallMesh.vtp\n",
      "Output vmtksurfaceprojection members:\n",
      "    Id = 0\n",
      "    Surface = vtkPolyData\n"
     ]
    }
   ],
   "source": [
    "fieldProjector = vmtkscripts.vmtkSurfaceProjection()\n",
    "\n",
    "fieldProjector.Surface = surfaceRemesh.Surface\n",
    "fieldProjector.ReferenceSurface = thicknessArrayCreator.Surface\n",
    "fieldProjector.SurfaceOutputFileName = surfacesDir+'surfaceToWallMesh.vtp'\n",
    "fieldProjector.Execute()\n",
    "fieldProjector.IOWrite()\n",
    "\n",
    "# Debug\n",
    "fieldProjector.PrintInputMembers()\n",
    "fieldProjector.PrintOutputMembers()"
   ]
  },
  {
   "cell_type": "code",
   "execution_count": 108,
   "metadata": {},
   "outputs": [
    {
     "name": "stdout",
     "output_type": "stream",
     "text": [
      "Quit renderer\n"
     ]
    }
   ],
   "source": [
    "# View surface\n",
    "surfaceViewer = vmtkscripts.vmtkSurfaceViewer()\n",
    "surfaceViewer.Surface = fieldProjector.Surface\n",
    "surfaceViewer.ArrayName = 'ThicknessArray'\n",
    "surfaceViewer.Legend = 1\n",
    "surfaceViewer.Execute()"
   ]
  },
  {
   "cell_type": "code",
   "execution_count": null,
   "metadata": {},
   "outputs": [],
   "source": [
    "# # Surface curvature array\n",
    "# surfaceCurvature = vmtkscripts.vmtkSurfaceCurvature()\n",
    "\n",
    "# surfaceCurvature.Surface = surfaceNormals.Surface\n",
    "# surfaceCurvature.CurvatureType = 'minimum'\n",
    "# surfaceCurvature.AbsoluteCurvature = 1\n",
    "# surfaceCurvature.MedianFiltering = 1\n",
    "# surfaceCurvature.BoundedReciprocal = 1\n",
    "# surfaceCurvature.Epsilon = 2\n",
    "# # surfaceCurvature.CurvatureOnBoundaries = 1\n",
    "# # surfaceCurvature.Offset = -0.1\n",
    "# # surfaceCurvature.SurfaceOutputFileName = casePath+\"surfaces/surfaceCurvature.vtp\"\n",
    "\n",
    "# surfaceCurvature.PrintInputMembers()\n",
    "# # surfaceCurvature.PrintOutputMembers()\n",
    "\n",
    "# surfaceCurvature.Execute()\n",
    "# # surfaceCurvature.IOWrite()\n",
    "# surfaceCurvature.OutputText('Surface curvature computed.')\n",
    "\n",
    "# # View surface\n",
    "# surfaceViewer = vmtkscripts.vmtkSurfaceViewer()\n",
    "# surfaceViewer.Surface = surfaceCurvature.Surface\n",
    "# surfaceViewer.ArrayName = 'Curvature'\n",
    "# surfaceViewer.Legend = 1\n",
    "# # surfaceViewer.ScalarRange = [0,1]\n",
    "# surfaceViewer.Execute()"
   ]
  },
  {
   "cell_type": "code",
   "execution_count": 109,
   "metadata": {},
   "outputs": [
    {
     "name": "stdout",
     "output_type": "stream",
     "text": [
      "Input vmtkboundarylayer members:\n",
      "    Id = 0\n",
      "    Disabled = 0\n",
      "    Mesh = vtkUnstructuredGrid\n",
      "    MeshInputFileName = \n",
      "    WarpVectorsArrayName = Normals\n",
      "    ThicknessArrayName = ThicknessArray\n",
      "    CellEntityIdsArrayName = CellEntityIds\n",
      "    Thickness = 1.0\n",
      "    ThicknessRatio = 0.5\n",
      "    MaximumThickness = 10000000000.0\n",
      "    NumberOfSubLayers = 10\n",
      "    NumberOfSubsteps = 2000\n",
      "    Relaxation = 0.01\n",
      "    LocalCorrectionFactor = 0.45\n",
      "    InnerSurfaceCellEntityId = 1\n",
      "    OuterSurfaceCellEntityId = 2\n",
      "    SidewallCellEntityId = 3\n",
      "    VolumeCellEntityId = 0\n",
      "    SubLayerRatio = 1.0\n",
      "    UseWarpVectorMagnitudeAsThickness = 0\n",
      "    ConstantThickness = 0\n",
      "    IncludeSurfaceCells = 1\n",
      "    IncludeSidewallCells = 1\n",
      "    NegateWarpVectors = 0\n",
      "    MeshOutputFileName = /home/iagolessa/Documents/aneurysms/geometries/einsteinCases/unrupturedCases/vmtkReconstruction/case18/meshes/meshWall.vtu\n",
      "    InnerSurfaceMeshOutputFileName = \n",
      "Output vmtkboundarylayer members:\n",
      "    Id = 0\n",
      "    Mesh = vtkUnstructuredGrid\n",
      "    InnerSurfaceMesh = None\n",
      "Writing VTK XML mesh file.\n"
     ]
    }
   ],
   "source": [
    "# Conveting surface to mesh with normals and curvature informations\n",
    "surfaceToMesh = vmtkscripts.vmtkSurfaceToMesh()\n",
    "\n",
    "# Needs to be a .vtp surface file!! not stl\n",
    "surfaceToMesh.Surface = fieldProjector.Surface\n",
    "\n",
    "# Debug\n",
    "# surfaceToMesh.PrintInputMembers()\n",
    "# surfaceToMesh.PrintOutputMembers()\n",
    "\n",
    "surfaceToMesh.Execute()\n",
    "# surfaceToMesh.IOWrite()\n",
    "\n",
    "# Creating aneurysm and arteries external wall\n",
    "wallMesh = vmtkscripts.vmtkBoundaryLayer()\n",
    "\n",
    "wallMesh.Mesh = surfaceToMesh.Mesh\n",
    "wallMesh.WarpVectorsArrayName = surfaceNormals.NormalsArrayName\n",
    "wallMesh.ThicknessArrayName = thicknessArrayCreator.ResultArrayName\n",
    "wallMesh.MeshOutputFileName = meshesDir+'meshWall.vtu'\n",
    "wallMesh.ThicknessRatio = 0.5\n",
    "\n",
    "# wallMesh.UseWarpVectorMagnitudeAsThickness = 1\n",
    "# wallMesh.Thickness = 0.2\n",
    "wallMesh.NumberOfSubLayers = 10\n",
    "# wallMesh.ConstantThickness = 1\n",
    "\n",
    "# Entity ids for new mesh\n",
    "wallMesh.VolumeCellEntityId = 0\n",
    "wallMesh.InnerSurfaceCellEntityId = 1\n",
    "wallMesh.OuterSurfaceCellEntityId = 2\n",
    "wallMesh.SidewallCellEntityId = 3\n",
    "\n",
    "wallMesh.PrintInputMembers()\n",
    "wallMesh.PrintOutputMembers()\n",
    "\n",
    "wallMesh.Execute()\n",
    "wallMesh.IOWrite()"
   ]
  },
  {
   "cell_type": "code",
   "execution_count": 38,
   "metadata": {},
   "outputs": [
    {
     "ename": "TypeError",
     "evalue": "ambiguous call, multiple overloaded methods match the arguments",
     "output_type": "error",
     "traceback": [
      "\u001b[0;31m---------------------------------------------------------------------------\u001b[0m",
      "\u001b[0;31mTypeError\u001b[0m                                 Traceback (most recent call last)",
      "\u001b[0;32m<ipython-input-38-a4b3a33fe79c>\u001b[0m in \u001b[0;36m<module>\u001b[0;34m()\u001b[0m\n\u001b[1;32m      6\u001b[0m \u001b[0mwallMeshLayer\u001b[0m\u001b[0;34m.\u001b[0m\u001b[0mNumberOfSubLayers\u001b[0m \u001b[0;34m=\u001b[0m \u001b[0;36m10\u001b[0m\u001b[0;34m\u001b[0m\u001b[0m\n\u001b[1;32m      7\u001b[0m \u001b[0;31m# wallMeshLayer.ConstantThickness = 0\u001b[0m\u001b[0;34m\u001b[0m\u001b[0;34m\u001b[0m\u001b[0m\n\u001b[0;32m----> 8\u001b[0;31m \u001b[0mwallMeshLayer\u001b[0m\u001b[0;34m.\u001b[0m\u001b[0mExecute\u001b[0m\u001b[0;34m(\u001b[0m\u001b[0;34m)\u001b[0m\u001b[0;34m\u001b[0m\u001b[0m\n\u001b[0m\u001b[1;32m      9\u001b[0m \u001b[0;34m\u001b[0m\u001b[0m\n\u001b[1;32m     10\u001b[0m \u001b[0mwallMeshLayer\u001b[0m\u001b[0;34m.\u001b[0m\u001b[0mPrintInputMembers\u001b[0m\u001b[0;34m(\u001b[0m\u001b[0;34m)\u001b[0m\u001b[0;34m\u001b[0m\u001b[0m\n",
      "\u001b[0;32m~/anaconda3/envs/vmtk3/lib/python3.5/site-packages/vmtk/vmtkmeshaddexternallayer.py\u001b[0m in \u001b[0;36mExecute\u001b[0;34m(self)\u001b[0m\n\u001b[1;32m    130\u001b[0m         \u001b[0mwallWithBoundariesMesh\u001b[0m \u001b[0;34m=\u001b[0m \u001b[0msurfaceToMesh\u001b[0m\u001b[0;34m.\u001b[0m\u001b[0mMesh\u001b[0m\u001b[0;34m\u001b[0m\u001b[0m\n\u001b[1;32m    131\u001b[0m         \u001b[0msavedNormals\u001b[0m \u001b[0;34m=\u001b[0m \u001b[0mvtk\u001b[0m\u001b[0;34m.\u001b[0m\u001b[0mvtkDoubleArray\u001b[0m\u001b[0;34m(\u001b[0m\u001b[0;34m)\u001b[0m\u001b[0;34m\u001b[0m\u001b[0m\n\u001b[0;32m--> 132\u001b[0;31m         \u001b[0msavedNormals\u001b[0m\u001b[0;34m.\u001b[0m\u001b[0mDeepCopy\u001b[0m\u001b[0;34m(\u001b[0m\u001b[0mwallWithBoundariesMesh\u001b[0m\u001b[0;34m.\u001b[0m\u001b[0mGetCellData\u001b[0m\u001b[0;34m(\u001b[0m\u001b[0;34m)\u001b[0m\u001b[0;34m.\u001b[0m\u001b[0mGetNormals\u001b[0m\u001b[0;34m(\u001b[0m\u001b[0;34m)\u001b[0m\u001b[0;34m)\u001b[0m\u001b[0;34m\u001b[0m\u001b[0m\n\u001b[0m\u001b[1;32m    133\u001b[0m         \u001b[0msavedNormals\u001b[0m\u001b[0;34m.\u001b[0m\u001b[0mSetName\u001b[0m\u001b[0;34m(\u001b[0m\u001b[0;34m'SavedNormals'\u001b[0m\u001b[0;34m)\u001b[0m\u001b[0;34m\u001b[0m\u001b[0m\n\u001b[1;32m    134\u001b[0m         \u001b[0mwallWithBoundariesMesh\u001b[0m\u001b[0;34m.\u001b[0m\u001b[0mGetCellData\u001b[0m\u001b[0;34m(\u001b[0m\u001b[0;34m)\u001b[0m\u001b[0;34m.\u001b[0m\u001b[0mAddArray\u001b[0m\u001b[0;34m(\u001b[0m\u001b[0msavedNormals\u001b[0m\u001b[0;34m)\u001b[0m\u001b[0;34m\u001b[0m\u001b[0m\n",
      "\u001b[0;31mTypeError\u001b[0m: ambiguous call, multiple overloaded methods match the arguments"
     ]
    }
   ],
   "source": [
    "wallMeshLayer = vmtkscripts.vmtkMeshAddExternalLayer()\n",
    "\n",
    "wallMeshLayer.Mesh = surfaceToMesh.Mesh\n",
    "# wallMeshLayer.ThicknessArrayName = 'ThicknessArray' #thicknessArrayCreator.DistanceToSpheresArrayName\n",
    "wallMeshLayer.ThicknessRatio = 0.75\n",
    "wallMeshLayer.NumberOfSubLayers = 10\n",
    "# wallMeshLayer.ConstantThickness = 0\n",
    "wallMeshLayer.Execute()\n",
    "\n",
    "wallMeshLayer.PrintInputMembers()\n",
    "wallMeshLayer.PrintOutputMembers()"
   ]
  },
  {
   "cell_type": "code",
   "execution_count": null,
   "metadata": {},
   "outputs": [],
   "source": []
  }
 ],
 "metadata": {
  "kernelspec": {
   "display_name": "Python 3",
   "language": "python",
   "name": "python3"
  },
  "language_info": {
   "codemirror_mode": {
    "name": "ipython",
    "version": 3
   },
   "file_extension": ".py",
   "mimetype": "text/x-python",
   "name": "python",
   "nbconvert_exporter": "python",
   "pygments_lexer": "ipython3",
   "version": "3.5.1"
  }
 },
 "nbformat": 4,
 "nbformat_minor": 2
}
