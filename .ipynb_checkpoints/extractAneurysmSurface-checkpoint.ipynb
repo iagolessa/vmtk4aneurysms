{
 "cells": [
  {
   "cell_type": "code",
   "execution_count": 2,
   "metadata": {},
   "outputs": [],
   "source": [
    "from vmtk_functions import *\n",
    "from vmtk_filenames import *"
   ]
  },
  {
   "cell_type": "code",
   "execution_count": 68,
   "metadata": {
    "collapsed": true
   },
   "outputs": [
    {
     "name": "stdout",
     "output_type": "stream",
     "text": [
      "Files saved to: /home/iagolessa/documents/unesp/master/aneurysms/geometries/vrCases/vmtkReconstruction/36_FAS/\n"
     ]
    }
   ],
   "source": [
    "# Path to save the generated files when extracting the surface\n",
    "# We reccomend to separate it from the DICOM original dir. \n",
    "# Note that inside casePath, this code will create different sub-directories to store different data types\n",
    "casePath       = '/home/iagolessa/documents/unesp/master/aneurysms/geometries/vrCases/vmtkReconstruction/36_FAS/'\n",
    "\n",
    "# Define subdirs\n",
    "imagesDir       = casePath+'images/'\n",
    "surfacesDir     = casePath+'surfaces/'\n",
    "centerlinesDir  = casePath+'centerlines/'\n",
    "meshesDir       = casePath+'meshes/'\n",
    "parentVesselDir = casePath+\"parentVessel/\"\n",
    "\n",
    "directories = [imagesDir,surfacesDir,centerlinesDir,meshesDir,parentVesselDir]\n",
    "\n",
    "# Create the above directories if they do not exist\n",
    "for directory in directories:\n",
    "    if not os.path.isdir(directory):\n",
    "        os.makedirs(directory)\n",
    "        print(directory+' created.\\n')\n",
    "\n",
    "print('Files saved to:', casePath)"
   ]
  },
  {
   "cell_type": "markdown",
   "metadata": {},
   "source": [
    "<hr>\n",
    "# **Extracting the aneurysm surface**\n",
    "\n",
    "One of the simplest ways of extracting the aneurysm surface is usign the *vmtksurfaceclipper* script with the sphere widget. However this procedure is not always ideal to use, because i depends a lot on the geometry of the aneurysm (speacially, the aneurysm neck geometry). A more robust procedure is explained in the next cell."
   ]
  },
  {
   "cell_type": "code",
   "execution_count": 93,
   "metadata": {},
   "outputs": [],
   "source": [
    "# Function to clip the aneurysm using a spherical clipper widget\n",
    "def clipAneurysm(surface):\n",
    "    \"\"\"Function to clip the aneurysm using a spherical clipper widget\"\"\"\n",
    "    aneurysm = vmtkscripts.vmtkSurfaceClipper()\n",
    "    \n",
    "    aneurysm.Surface = surface\n",
    "    aneurysm.InsideOut = 0\n",
    "    aneurysm.WidgetType = 'box'\n",
    "    aneurysm.Execute()\n",
    "    \n",
    "    return aneurysm.Surface"
   ]
  },
  {
   "cell_type": "markdown",
   "metadata": {},
   "source": [
    "<hr>\n",
    "Extracting the aneurysm surface using the clipper and an array defined on the surface built with the *vmtkdistancetocenterlines* script.\n",
    "The procedures works better on lateral aneurysms cases; the parent vessel centerlines must be calculated (first part of the script): the reference systems are computed at every inlet and outlet. The surface is then clipped at the level 0 of the DistanceToCenterlines array, calculated using the Tube Function.\n",
    "\n",
    "The procedure uses the array *capsGeometryArray* constructed above in the reorientation procedure: it uses the information about the inlet patch to construct the parent vessel centerlines automatically."
   ]
  },
  {
   "cell_type": "code",
   "execution_count": 4,
   "metadata": {},
   "outputs": [
    {
     "name": "stdout",
     "output_type": "stream",
     "text": [
      "Reading VTK XML surface file.\n",
      "Quit renderer\n"
     ]
    }
   ],
   "source": [
    "# # Reading the input surface\n",
    "surfaceInput = readSurface(surfacesDir+surface)\n",
    "viewSurface(surfaceInput)"
   ]
  },
  {
   "cell_type": "code",
   "execution_count": 69,
   "metadata": {},
   "outputs": [
    {
     "name": "stdout",
     "output_type": "stream",
     "text": [
      "Reading VTK XML surface file.\n",
      "\n",
      "CellEntityId: 2\n",
      "  Origin: -25.722315, 14.450605, 28.169302\n",
      "  Normal: -0.542244, 0.288520, 0.789131\n",
      "  Radius: 2.050011\n",
      "\n",
      "CellEntityId: 3\n",
      "  Origin: -0.000002, 0.000002, 0.000001\n",
      "  Normal: 0.000000, 0.000000, -1.000000\n",
      "  Radius: 2.133907\n",
      "\n",
      "Quit renderer\n",
      "Writing PointData file.\n"
     ]
    }
   ],
   "source": [
    "# Surface boundary inspector: we need to inspect the boundary of the oriented surface now\n",
    "# Conveting surface to mesh to get cell entity ids\n",
    "surfaceOrientedToMesh = vmtkscripts.vmtkSurfaceToMesh()\n",
    "\n",
    "# Needs to be a .vtp surface file!! not stl\n",
    "# surfaceOrientedToMesh.Surface = surfaceCapper.Surface #surfaceTransform.Surface\n",
    "# or read\n",
    "surfaceOrientedToMesh.SurfaceInputFileName = surfacesDir+surfaceOrientedFile\n",
    "surfaceOrientedToMesh.IORead()\n",
    "surfaceOrientedToMesh.Execute()\n",
    "\n",
    "# Inspecting\n",
    "surfaceBoundaryInspector = vmtkscripts.vmtkMeshBoundaryInspector()\n",
    "\n",
    "surfaceBoundaryInspector.Mesh = surfaceOrientedToMesh.Mesh\n",
    "surfaceBoundaryInspector.CellEntityIdsArrayName = 'CellEntityIds'\n",
    "surfaceBoundaryInspector.ReferenceSystemsOutputFileName = surfacesDir+referenceSystemsOrientedFile\n",
    "surfaceBoundaryInspector.Execute()\n",
    "surfaceBoundaryInspector.IOWrite()"
   ]
  },
  {
   "cell_type": "code",
   "execution_count": 70,
   "metadata": {},
   "outputs": [
    {
     "data": {
      "text/plain": [
       "array([((-25.722314834594727, 14.450605392456055, 28.169301986694336), (-0.5422435617534545, 0.28851986039669114, 0.7891313007944885), 2.05001051, 2, 'patch'),\n",
       "       ((-2.4455796392430784e-06, 2.2005331175023457e-06, 9.056308840627025e-07), (3.394865170129629e-14, 9.330288160789236e-14, -1.0), 2.13390698, 3, 'patch')],\n",
       "      dtype=[('Center', 'O'), ('Normal', 'O'), ('Radius', '<f8'), ('Id', '<i8'), ('PatchType', '<U10')])"
      ]
     },
     "execution_count": 70,
     "metadata": {},
     "output_type": "execute_result"
    }
   ],
   "source": [
    "# Manipulation of the reference system array \n",
    "# The code below transforms the referenceSystem.dat info\n",
    "# to a numpy structured array called 'capsGeometryArray'\n",
    "# which contains Center, Normals, Radius, Ids and patch type\n",
    "# of the surface caps\n",
    "\n",
    "capsGeometryList = []\n",
    "# Columns to extract\n",
    "# Center position, normals, radius and ids of caps\n",
    "# POSSIBLE IMPROVEMENT: GET COLUMNS BY NAME\n",
    "cols = (0, 1, 2, 3, 4, 5, 6, 13)\n",
    "colsType = [('Center', tuple),\n",
    "            ('Normal', tuple),\n",
    "            ('Radius',float),\n",
    "            ('Id',int),\n",
    "            ('PatchType','U10')]\n",
    "\n",
    "# Get array from referenceSystem.dat file\n",
    "arrayDatFile = np.genfromtxt(surfacesDir+referenceSystemsOrientedFile,skip_header=1,usecols=cols)\n",
    "for row in arrayDatFile:\n",
    "    # Copy formatted to list\n",
    "    Center = tuple(row[0:3])\n",
    "    Normal = tuple(row[3:6])\n",
    "    Radius = row[6]\n",
    "    Id = row[7]\n",
    "    capsGeometryList.append((Center, Normal, Radius, Id,'patch'))\n",
    "\n",
    "# Convert to array\n",
    "capsOrientedGeoArray = np.array(capsGeometryList, dtype=colsType)\n",
    "capsOrientedGeoArray"
   ]
  },
  {
   "cell_type": "code",
   "execution_count": 71,
   "metadata": {},
   "outputs": [
    {
     "name": "stdout",
     "output_type": "stream",
     "text": [
      "Inlet index (supposing is the cap with larger area) is:  3\n"
     ]
    },
    {
     "data": {
      "text/plain": [
       "array([((-25.722314834594727, 14.450605392456055, 28.169301986694336), (-0.5422435617534545, 0.28851986039669114, 0.7891313007944885), 2.05001051, 2, 'outlet'),\n",
       "       ((-2.4455796392430784e-06, 2.2005331175023457e-06, 9.056308840627025e-07), (3.394865170129629e-14, 9.330288160789236e-14, -1.0), 2.13390698, 3, 'inlet')],\n",
       "      dtype=[('Center', 'O'), ('Normal', 'O'), ('Radius', '<f8'), ('Id', '<i8'), ('PatchType', '<U10')])"
      ]
     },
     "execution_count": 71,
     "metadata": {},
     "output_type": "execute_result"
    }
   ],
   "source": [
    "# Getting the inlet index by searching the patch with largest area\n",
    "\n",
    "capsArea = np.zeros(len(capsOrientedGeoArray), \n",
    "                    dtype=[('Area',float),\n",
    "                           ('Id',int)])\n",
    "\n",
    "capsArea['Area'] = (np.pi/4)*capsOrientedGeoArray['Radius']**2\n",
    "capsArea['Id'] = capsOrientedGeoArray['Id']\n",
    "\n",
    "for i in range(0, len(capsArea)):\n",
    "    if capsArea['Area'][i] == np.max(capsArea['Area']):\n",
    "        inletIndex = capsArea['Id'][i]\n",
    "        capsOrientedGeoArray['PatchType'][i] = 'inlet'\n",
    "    else:\n",
    "        capsOrientedGeoArray['PatchType'][i] = 'outlet'\n",
    "\n",
    "print('Inlet index (supposing is the cap with larger area) is: ',inletIndex)\n",
    "capsOrientedGeoArray"
   ]
  },
  {
   "cell_type": "code",
   "execution_count": 72,
   "metadata": {},
   "outputs": [
    {
     "name": "stdout",
     "output_type": "stream",
     "text": [
      "No extra inlets!\n",
      "No extra inlets!\n"
     ]
    },
    {
     "data": {
      "text/plain": [
       "array(['outlet', 'inlet'], dtype='<U10')"
      ]
     },
     "execution_count": 72,
     "metadata": {},
     "output_type": "execute_result"
    }
   ],
   "source": [
    "# Specify the other inlets here\n",
    "extraInletIds = []\n",
    "# For all the patches ids\n",
    "for patchId in capsOrientedGeoArray['Id']:\n",
    "    # If the id is an extraInlet id\n",
    "    # Check if extraInletIds is not empty\n",
    "    if extraInletIds:\n",
    "        # If the patch id is on specified inlet list\n",
    "        if patchId in extraInletIds:\n",
    "            # find its index in capsGeometryArray\n",
    "            index = np.where(capsOrientedGeoArray['Id'] == patchId)\n",
    "            capsOrientedGeoArray['PatchType'][index[0]] = 'inlet'\n",
    "        # If not, then name it 'outlet'\n",
    "        else:\n",
    "            index = np.where(capsOrientedGeoArray['Id'] == patchId)\n",
    "            capsOrientedGeoArray['PatchType'][index[0]] = 'outlet'\n",
    "    else:\n",
    "        print('No extra inlets!')\n",
    "        \n",
    "capsOrientedGeoArray['PatchType']"
   ]
  },
  {
   "cell_type": "code",
   "execution_count": 73,
   "metadata": {},
   "outputs": [
    {
     "data": {
      "text/plain": [
       "{'inlet': 1, 'outlet': 1}"
      ]
     },
     "execution_count": 73,
     "metadata": {},
     "output_type": "execute_result"
    }
   ],
   "source": [
    "# Counting the number of inlets and outlets\n",
    "# using the numpy.unique function: it returns an ndarray with the unique itens of the input array\n",
    "# with the return_counts=True also returns the number of appearance of each item\n",
    "patchTypes, numberOfPatches = np.unique(capsOrientedGeoArray['PatchType'], return_counts=True)\n",
    "\n",
    "# Zip both patchTypes and numberOfPatches and convert to dictionary\n",
    "# with number of inlets and outlets\n",
    "nPatches = dict(zip(patchTypes, numberOfPatches))\n",
    "nPatches"
   ]
  },
  {
   "cell_type": "code",
   "execution_count": 74,
   "metadata": {},
   "outputs": [
    {
     "data": {
      "text/plain": [
       "([(-2.4455796392430784e-06, 2.2005331175023457e-06, 9.056308840627025e-07)],\n",
       " (-25.722314834594727, 14.450605392456055, 28.169301986694336))"
      ]
     },
     "execution_count": 74,
     "metadata": {},
     "output_type": "execute_result"
    }
   ],
   "source": [
    "# Clears object outletBarycenters if exists\n",
    "outletBarycenters = None\n",
    "inletBarycenters = []\n",
    "\n",
    "# create tuples with inlet and outlet barycenters\n",
    "for i in range( len(capsOrientedGeoArray) ):\n",
    "    if capsOrientedGeoArray['PatchType'][i] == 'inlet':\n",
    "        inletBarycenters.append(capsOrientedGeoArray['Center'][i])\n",
    "    else:\n",
    "        # Tye to append outet barycenter, if it cant, then define\n",
    "        # outletBaraycenters with the first outlet \n",
    "        try:\n",
    "            outletBarycenters += capsOrientedGeoArray['Center'][i]\n",
    "        except:\n",
    "            outletBarycenters = capsOrientedGeoArray['Center'][i]\n",
    "            \n",
    "inletBarycenters, outletBarycenters"
   ]
  },
  {
   "cell_type": "code",
   "execution_count": 75,
   "metadata": {},
   "outputs": [],
   "source": [
    "# inletBarycenters = [(1.491148829460144, 3.6632299423217773, 13.445119857788086)]\n",
    "# outletBarycenters = (1.625938693905482e-06, -4.1589964894228615e-07, -3.909442057192791e-06,-13.27431869506836, -8.370388984680176, 21.518117904663086,-2.2654712200164795, -8.190746307373047, 24.120887756347656)"
   ]
  },
  {
   "cell_type": "code",
   "execution_count": 76,
   "metadata": {},
   "outputs": [
    {
     "name": "stdout",
     "output_type": "stream",
     "text": [
      "NonManifold check.\n",
      "Cleaning surface.\n",
      "Triangulating surface.\n",
      "Computing centerlines.\n",
      "Computing centerlines..."
     ]
    }
   ],
   "source": [
    "# Computing centerlines\n",
    "# This code computes centerlines for a generic number of inlets\n",
    "# It does that by computing the centerlines for each source barycenter\n",
    "# and then appending the resulting centerlines with 'vmtksurfaceappend'\n",
    "\n",
    "centerlinesList = []\n",
    "\n",
    "for source in inletBarycenters:\n",
    "    # Instantiate vmtkcenterline object\n",
    "    centerlines = vmtkscripts.vmtkCenterlines()\n",
    "    # Surface to be used\n",
    "    centerlines.Surface = surfaceOrientedToMesh.Surface\n",
    "    # centerlines.SurfaceInputFileName = casePath+'surfaces/patches/wall.stl'\n",
    "    # centerlines.IORead()\n",
    "    \n",
    "    # Type of seed selector: by source coordinate 'pointlist' or 'idlist' by list of ids\n",
    "    centerlines.SeedSelectorName = 'pointlist'\n",
    "    centerlines.SourcePoints = source\n",
    "    centerlines.TargetPoints = list(outletBarycenters)\n",
    "    centerlines.CheckNonManifold = 1\n",
    "    centerlines.AppendEndPoints = 1\n",
    "    centerlines.Execute()\n",
    "    centerlinesList.append(centerlines.Centerlines)"
   ]
  },
  {
   "cell_type": "code",
   "execution_count": 20,
   "metadata": {},
   "outputs": [
    {
     "name": "stdout",
     "output_type": "stream",
     "text": [
      "Reading VTK XML surface file.\n",
      "NonManifold check.\n",
      "Cleaning surface.\n",
      "Triangulating surface.\n",
      "Computing centerlines.\n",
      "Computing centerlines...Array name not known\n",
      "Quit renderer\n"
     ]
    }
   ],
   "source": [
    "# # Instantiate vmtkcenterline object\n",
    "# centerlines = vmtkscripts.vmtkCenterlines()\n",
    "# # Surface to be used\n",
    "# # centerlines.Surface = surfaceOrientedToMesh.Surface\n",
    "# centerlines.SurfaceInputFileName = surfacesDir+surfaceOrientedFile\n",
    "# centerlines.IORead()\n",
    "\n",
    "# # Type of seed selector: by source coordinate 'pointlist' or 'idlist' by list of ids\n",
    "# #     centerlines.SeedSelectorName = 'pointlist'\n",
    "# #     centerlines.SourcePoints = # source\n",
    "# #     centerlines.TargetPoints = [3.8962182998657227, 0.3059086501598358, 19.750572204589844,-2.712946240990277e-07, -4.236111905697726e-08, -5.046152296017681e-07]#list(outletBarycenters)\n",
    "\n",
    "# centerlines.SeedSelectorName = 'idlist'\n",
    "# centerlines.SourceIds = [3]\n",
    "# centerlines.TargetIds = [4,5,6]#list(outletBarycenters)\n",
    "# centerlines.CheckNonManifold = 1\n",
    "# centerlines.AppendEndPoints = 1\n",
    "# centerlines.Execute()\n",
    "# # centerlinesList.append(centerlines.Centerlines)\n",
    "# viewCenterline(centerlines.Centerlines,None)"
   ]
  },
  {
   "cell_type": "code",
   "execution_count": 77,
   "metadata": {},
   "outputs": [
    {
     "data": {
      "text/plain": [
       "(vtkCommonDataModelPython.vtkPolyData)0x7fd83942b768"
      ]
     },
     "execution_count": 77,
     "metadata": {},
     "output_type": "execute_result"
    }
   ],
   "source": [
    "# Provide managing exception if there is only one centerline\n",
    "centerlineMain = centerlinesList[0]\n",
    "centerlineMain"
   ]
  },
  {
   "cell_type": "code",
   "execution_count": 78,
   "metadata": {},
   "outputs": [
    {
     "name": "stdout",
     "output_type": "stream",
     "text": [
      "Writing VTK XML surface file.\n"
     ]
    }
   ],
   "source": [
    "writeSurface(centerlinesList[0],centerlinesDir+'centerlines.vtp','ascii')"
   ]
  },
  {
   "cell_type": "code",
   "execution_count": 79,
   "metadata": {},
   "outputs": [
    {
     "data": {
      "text/plain": [
       "1"
      ]
     },
     "execution_count": 79,
     "metadata": {},
     "output_type": "execute_result"
    }
   ],
   "source": [
    "len(centerlinesList)"
   ]
  },
  {
   "cell_type": "code",
   "execution_count": 80,
   "metadata": {},
   "outputs": [
    {
     "name": "stdout",
     "output_type": "stream",
     "text": [
      "Array name not known\n",
      "Quit renderer\n"
     ]
    }
   ],
   "source": [
    "viewCenterline(centerlinesList[0],None)"
   ]
  },
  {
   "cell_type": "code",
   "execution_count": 81,
   "metadata": {},
   "outputs": [
    {
     "name": "stdout",
     "output_type": "stream",
     "text": [
      "Only one source.\n"
     ]
    }
   ],
   "source": [
    "if len(centerlinesList) > 1:\n",
    "    for centerline in centerlinesList[1:]:\n",
    "        # Instantiate vmtksurfaceappend object\n",
    "        centerlinesAppend = vmtkscripts.vmtkSurfaceAppend()\n",
    "        centerlinesAppend.Surface = centerlineMain\n",
    "        centerlinesAppend.Surface2 = centerline\n",
    "        centerlinesAppend.Execute()\n",
    "        centerlineMain = centerlinesAppend.Surface\n",
    "    centerlinesAppend.SurfaceOutputFileName = centerlinesDir+centerlineWithoutAneurysm\n",
    "    centerlinesAppend.IOWrite()\n",
    "else:\n",
    "    print('Only one source.')"
   ]
  },
  {
   "cell_type": "code",
   "execution_count": 82,
   "metadata": {},
   "outputs": [
    {
     "name": "stdout",
     "output_type": "stream",
     "text": [
      "Reading STL surface file.\n",
      "Writing VTK XML surface file.\n"
     ]
    }
   ],
   "source": [
    "distanceToCenterlines = vmtkscripts.vmtkDistanceToCenterlines()\n",
    "\n",
    "# distanceToCenterlines.Surface = surfaceInput\n",
    "distanceToCenterlines.SurfaceInputFileName = surfacesDir+'patches/wall.stl'\n",
    "distanceToCenterlines.IORead()\n",
    "\n",
    "distanceToCenterlines.Centerlines = centerlineMain\n",
    "distanceToCenterlines.UseRadiusInformation = 1\n",
    "distanceToCenterlines.EvaluateTubeFunction = 1\n",
    "distanceToCenterlines.EvaluateCenterlineRadius = 1\n",
    "distanceToCenterlines.ProjectPointArrays = 1\n",
    "distanceToCenterlines.SurfaceOutputFileName = surfacesDir+surfaceDistToCenterlinesFile\n",
    "\n",
    "# Important to remember of the MaximumInscribedSphereRadiusArray !\n",
    "distanceToCenterlines.RadiusArrayName = centerlines.RadiusArrayName\n",
    "\n",
    "# Execute distance to centerlines\n",
    "distanceToCenterlines.Execute()\n",
    "distanceToCenterlines.IOWrite()"
   ]
  },
  {
   "cell_type": "code",
   "execution_count": 90,
   "metadata": {},
   "outputs": [
    {
     "name": "stdout",
     "output_type": "stream",
     "text": [
      "Writing VTK XML surface file.\n",
      "Writing VTK XML surface file.\n",
      "Quit renderer\n"
     ]
    }
   ],
   "source": [
    "# Aneurysm clipper\n",
    "aneurysmClipper = vmtkscripts.vmtkSurfaceClipper()\n",
    "\n",
    "aneurysmClipper.Surface = distanceToCenterlines.Surface\n",
    "aneurysmClipper.Interactive = 0\n",
    "aneurysmClipper.CleanOutput = 0\n",
    "aneurysmClipper.ClipArrayName = 'DistanceToCenterlines'\n",
    "aneurysmClipper.ClipValue = 1.9\n",
    "aneurysmClipper.SurfaceOutputFileName = surfacesDir+'patches/aneurysmClipped.vtp'\n",
    "aneurysmClipper.ClippedSurfaceOutputFileName = surfacesDir+'patches/surfaceClipped.vtp'\n",
    "# aneurysmClipper.ClipWidget = 'plane'\n",
    "# aneurysmClipper.ClipFunction = 1\n",
    "aneurysmClipper.Execute()\n",
    "aneurysmClipper.IOWrite()\n",
    "\n",
    "# If the chosen level is not enough to extract only the aneurysm, then clip the aneurysm\n",
    "# aneurysm = clipAneurysm(aneurysmClipper.Surface)\n",
    "viewSurface(aneurysmClipper.Surface)"
   ]
  },
  {
   "cell_type": "code",
   "execution_count": 94,
   "metadata": {},
   "outputs": [
    {
     "name": "stdout",
     "output_type": "stream",
     "text": [
      "Quit renderer\n"
     ]
    }
   ],
   "source": [
    "aneurysm = clipAneurysm(aneurysmClipper.Surface)"
   ]
  },
  {
   "cell_type": "code",
   "execution_count": 95,
   "metadata": {},
   "outputs": [
    {
     "name": "stdout",
     "output_type": "stream",
     "text": [
      "Writing VTK XML surface file.\n"
     ]
    }
   ],
   "source": [
    "writeSurface(aneurysmClipper.Surface,surfacesDir+'patches/aneurysmClipped.vtp','ascii')"
   ]
  },
  {
   "cell_type": "code",
   "execution_count": 96,
   "metadata": {},
   "outputs": [
    {
     "name": "stdout",
     "output_type": "stream",
     "text": [
      "Quit renderer\n",
      "Surface area: 226.49167105532624 mm2\n",
      "Volume: 637.9584775317988 mm3\n"
     ]
    }
   ],
   "source": [
    "# Calculate volume and area of surface\n",
    "aneurysmMassProperties = vmtkscripts.vmtkSurfaceMassProperties()\n",
    "\n",
    "# surfaceMassProperties.Surface = aneurysm # aneurysmClipper.Surface\n",
    "aneurysmMassProperties.Surface = aneurysmClipper.Surface\n",
    "# aneurysmMassProperties.IORead()\n",
    "aneurysmMassProperties.Execute()\n",
    "\n",
    "viewSurface(aneurysmMassProperties.Surface)\n",
    "print('Surface area: '+str(aneurysmMassProperties.SurfaceArea)+' mm2')\n",
    "print('Volume: '+str(aneurysmMassProperties.Volume)+' mm3')"
   ]
  },
  {
   "cell_type": "code",
   "execution_count": null,
   "metadata": {},
   "outputs": [],
   "source": [
    "# To iterate overs all cases to get surface area and volume\n",
    "# dirs = sorted(os.listdir(parentDir+vmtkReconstructionDir))\n",
    "\n",
    "# properties = open(parentDir+vmtkReconstructionDir+'properties.csv','a')\n",
    "\n",
    "# for case in dirs:\n",
    "#     try:\n",
    "#         # Calculate volume and area of surface\n",
    "#         surfaceMassProperties = vmtkscripts.vmtkSurfaceMassProperties()\n",
    "# #         surfaceMassProperties.Surface = readSurface(parentDir+vmtkReconstructionDir+case+'surfaces/patches/wall.stl')\n",
    "#         surfaceMassProperties.SurfaceInputFileName = parentDir+vmtkReconstructionDir+case+'/surfaces/patches/wall.stl'\n",
    "#         surfaceMassProperties.IORead()\n",
    "#         surfaceMassProperties.Execute()\n",
    "        \n",
    "#         if float(surfaceMassProperties.SurfaceArea) < 0.1 and surfaceMassProperties.Volume < 0.001:\n",
    "#             surfaceMassProperties.SurfaceArea = surfaceMassProperties.SurfaceArea*10e6\n",
    "#             surfaceMassProperties.Volume = surfaceMassProperties.Volume*10e9\n",
    "\n",
    "#         line = 'Case '+case+': Surface Area = '+str(surfaceMassProperties.SurfaceArea)+' mm2 -- Volume:'+str(surfaceMassProperties.Volume)+' mm3\\n'\n",
    "#         print(line)\n",
    "#         properties.write(line)\n",
    "#     except:\n",
    "#         print('Ops! Something went wrong, probably file does not exists.')\n",
    "# properties.close()"
   ]
  }
 ],
 "metadata": {
  "kernelspec": {
   "display_name": "Python [conda env:vmtk3]",
   "language": "python",
   "name": "conda-env-vmtk3-py"
  },
  "language_info": {
   "codemirror_mode": {
    "name": "ipython",
    "version": 3
   },
   "file_extension": ".py",
   "mimetype": "text/x-python",
   "name": "python",
   "nbconvert_exporter": "python",
   "pygments_lexer": "ipython3",
   "version": "3.5.1"
  }
 },
 "nbformat": 4,
 "nbformat_minor": 2
}
