{
 "cells": [
  {
   "cell_type": "code",
   "execution_count": 1,
   "metadata": {},
   "outputs": [],
   "source": [
    "from vmtk import pypes\n",
    "from vmtk import vmtkscripts"
   ]
  },
  {
   "cell_type": "code",
   "execution_count": 2,
   "metadata": {},
   "outputs": [],
   "source": [
    "# String containing cases path and filenames\n",
    "parentDir = \"/home/iagolessa/documents/unesp/doctorate/aneurysms/geometries/vrCases/\"\n",
    "\n",
    "# Cases storage directory\n",
    "casesDir = \"originalCases/\"\n",
    "\n",
    "# Saving location\n",
    "vmtkReconstructionDir = \"vmtkReconstruction/\"\n",
    "\n",
    "# Storage location and file names\n",
    "caseNameDir = \"71_MLS/\"\n",
    "caseId = \"case71\"\n",
    "\n",
    "casePath = parentDir+vmtkReconstructionDir+caseNameDir\n",
    "parentVesselDir = parentDir+vmtkReconstructionDir+caseNameDir+\"parentVessel/\"\n",
    "\n",
    "# The store magic command, to access a variable across notebooks\n",
    "# %store casePath\n",
    "\n",
    "# This has deleted the variable\n",
    "# del casePath\n",
    "\n",
    "# Extensions\n",
    "imageExtension = \".vti\"\n",
    "surfaceExtension = \".vtp\""
   ]
  },
  {
   "cell_type": "code",
   "execution_count": 3,
   "metadata": {},
   "outputs": [],
   "source": [
    "# Surface reader\n",
    "def readSurface(surfaceFileName):\n",
    "    \"\"\" Function to read a surface VTK object from file name.\n",
    "        The function returns a surface VTK object. \"\"\"\n",
    "    surfaceReader = vmtkscripts.vmtkSurfaceReader()\n",
    "    surfaceReader.InputFileName = surfaceFileName\n",
    "    surfaceReader.Execute()\n",
    "    \n",
    "    return surfaceReader.Surface\n",
    "\n",
    "# Viewing surface\n",
    "def viewSurface(surface):\n",
    "    \"\"\"Function for visualize VTK surface objects\"\"\"\n",
    "    surfaceViewer = vmtkscripts.vmtkSurfaceViewer()\n",
    "    surfaceViewer.Surface = surface\n",
    "    surfaceViewer.Execute()"
   ]
  },
  {
   "cell_type": "markdown",
   "metadata": {},
   "source": [
    "<hr>\n",
    "# MAPPING AND PATCHING\n",
    "\n",
    "This tutorial demonstrates how to map the surface of a population of vessels onto the same parametric space and enable statistical analyses of surface-based quantities."
   ]
  },
  {
   "cell_type": "markdown",
   "metadata": {},
   "source": [
    "## Longitudinal and circumferential metrics\n",
    "By means of the vmtkbranchmetrics script two additional arrays are created on each branch of the split surface whose default names are AbscissaMetric and AngularMetric: the first is computed from the curvilinear abscissa defined on the centerlines, while the second represents the periodic circumferential coordinate of mesh points around the centerlines and spans the interval (-π, +π). In Figure 3 iso-contours over the two arrays are also shown."
   ]
  },
  {
   "cell_type": "code",
   "execution_count": 5,
   "metadata": {},
   "outputs": [
    {
     "name": "stdout",
     "output_type": "stream",
     "text": [
      "Reading VTK XML surface file.\n",
      "Reading VTK XML surface file.\n",
      "Input vmtkbranchmetrics members:\n",
      "    Id = 0\n",
      "    Disabled = 0\n",
      "    Surface = vtkPolyData\n",
      "    SurfaceInputFileName = /home/iagolessa/documents/unesp/doctorate/aneurysms/geometries/vrCases/vmtkReconstruction/71_MLS/surfaces/branchClipped.vtp\n",
      "    Centerlines = vtkPolyData\n",
      "    CenterlinesInputFileName = /home/iagolessa/documents/unesp/doctorate/aneurysms/geometries/vrCases/vmtkReconstruction/71_MLS/centerlines/branchExtracted.vtp\n",
      "    ComputeAbscissaMetric = 1\n",
      "    ComputeAngularMetric = 1\n",
      "    AbscissasArrayName = Abscissas\n",
      "    NormalsArrayName = ParallelTransportNormals\n",
      "    GroupIdsArrayName = GroupIds\n",
      "    CenterlineIdsArrayName = CenterlineIds\n",
      "    TractIdsArrayName = TractIds\n",
      "    RadiusArrayName = MaximumInscribedSphereRadius\n",
      "    BlankingArrayName = Blanking\n",
      "    AngularMetricArrayName = AngularMetric\n",
      "    AbscissaMetricArrayName = AbscissaMetric\n",
      "    SurfaceOutputFileName = /home/iagolessa/documents/unesp/doctorate/aneurysms/geometries/vrCases/vmtkReconstruction/71_MLS/branchAnalysis/surfaceClippedMetrics.vtp\n",
      "Output vmtkbranchmetrics members:\n",
      "    Id = 0\n",
      "    Surface = vtkPolyData\n",
      "    AngularMetricArrayName = AngularMetric\n",
      "    AbscissaMetricArrayName = AbscissaMetric\n",
      "Computing angular metric\n",
      "Computing abscissa metric\n",
      "Writing VTK XML surface file.\n"
     ]
    }
   ],
   "source": [
    "branchMetrics = vmtkscripts.vmtkBranchMetrics()\n",
    "\n",
    "branchMetrics.SurfaceInputFileName = casePath+'surfaces/branchClipped.vtp'\n",
    "branchMetrics.CenterlinesInputFileName = casePath+'centerlines/branchExtracted.vtp'\n",
    "branchMetrics.IORead()\n",
    "\n",
    "branchMetrics.AbscissasArrayName = 'Abscissas'\n",
    "branchMetrics.NormalsArrayName = 'ParallelTransportNormals'\n",
    "branchMetrics.CenterlineIdsArrayName = 'CenterlineIds'\n",
    "branchMetrics.GroupIdsArrayName = 'GroupIds'\n",
    "branchMetrics.TractIdsArrayName = 'TractIds'\n",
    "branchMetrics.BlankingArrayName = 'Blanking'\n",
    "branchMetrics.RadiusArrayName = 'MaximumInscribedSphereRadius'\n",
    "\n",
    "branchMetrics.SurfaceOutputFileName = casePath+'branchAnalysis/surfaceClippedMetrics.vtp'\n",
    "\n",
    "branchMetrics.PrintInputMembers()\n",
    "branchMetrics.PrintOutputMembers()\n",
    "\n",
    "branchMetrics.Execute()\n",
    "branchMetrics.IOWrite()"
   ]
  },
  {
   "cell_type": "markdown",
   "metadata": {},
   "source": [
    "# Metrics mapping to branches\n",
    "By construction of a harmonic function (Figure 4-left) over each vascular segment, vmtkbranchmapping maps and stretches the longitudinal metric to correctly account for the presence of insertion regions at bifurcations; the additional StretchedMapping array is added to the surface (Figure 4-middle)."
   ]
  },
  {
   "cell_type": "code",
   "execution_count": 6,
   "metadata": {},
   "outputs": [
    {
     "name": "stdout",
     "output_type": "stream",
     "text": [
      "Reading VTK XML surface file.\n",
      "Reading VTK XML surface file.\n",
      "Input vmtkbranchmapping members:\n",
      "    Id = 0\n",
      "    Disabled = 0\n",
      "    Surface = vtkPolyData\n",
      "    SurfaceInputFileName = \n",
      "    Centerlines = vtkPolyData\n",
      "    CenterlinesInputFileName = /home/iagolessa/documents/unesp/doctorate/aneurysms/geometries/vrCases/vmtkReconstruction/71_MLS/centerlines/branchExtracted.vtp\n",
      "    ReferenceSystems = vtkPolyData\n",
      "    ReferenceSystemsInputFileName = /home/iagolessa/documents/unesp/doctorate/aneurysms/geometries/vrCases/vmtkReconstruction/71_MLS/centerlines/bifurcationRefSystem.vtp\n",
      "    AbscissasArrayName = Abscissas\n",
      "    NormalsArrayName = ParallelTransportNormals\n",
      "    GroupIdsArrayName = GroupIds\n",
      "    CenterlineIdsArrayName = CenterlineIds\n",
      "    TractIdsArrayName = TractIds\n",
      "    ReferenceSystemsNormalArrayName = \n",
      "    RadiusArrayName = MaximumInscribedSphereRadius\n",
      "    BlankingArrayName = Blanking\n",
      "    AngularMetricArrayName = AngularMetric\n",
      "    HarmonicMappingArrayName = HarmonicMapping\n",
      "    AbscissaMetricArrayName = AbscissaMetric\n",
      "    BoundaryMetricArrayName = BoundaryMetric\n",
      "    StretchedMappingArrayName = StretchedMapping\n",
      "    SurfaceOutputFileName = /home/iagolessa/documents/unesp/doctorate/aneurysms/geometries/vrCases/vmtkReconstruction/71_MLS/branchAnalysis/surfaceClippedMapping.vtp\n",
      "Output vmtkbranchmapping members:\n",
      "    Id = 0\n",
      "    Surface = vtkPolyData\n",
      "    HarmonicMappingArrayName = HarmonicMapping\n",
      "    BoundaryMetricArrayName = BoundaryMetric\n",
      "    StretchedMappingArrayName = StretchedMapping\n",
      "Computing boundary metric\n",
      "Computing harmonic mapping\n",
      "Stretching harmonic mapping\n",
      "Writing VTK XML surface file.\n"
     ]
    }
   ],
   "source": [
    "branchMapping = vmtkscripts.vmtkBranchMapping()\n",
    "\n",
    "# Read surface or use the calculated above\n",
    "# branchMapping.SurfaceInputFileName = casePath+'surfaces/branchClipped.vtp'\n",
    "branchMapping.Surface = branchMetrics.Surface\n",
    "branchMapping.CenterlinesInputFileName = casePath+'centerlines/branchExtracted.vtp'\n",
    "branchMapping.ReferenceSystemsInputFileName = casePath+'centerlines/bifurcationRefSystem.vtp'\n",
    "branchMapping.IORead()\n",
    "\n",
    "branchMapping.AbscissasArrayName = 'Abscissas'\n",
    "branchMapping.NormalsArrayName = 'ParallelTransportNormals'\n",
    "branchMapping.CenterlineIdsArrayName = 'CenterlineIds'\n",
    "branchMapping.GroupIdsArrayName = 'GroupIds'\n",
    "branchMapping.TractIdsArrayName = 'TractIds'\n",
    "branchMapping.BlankingArrayName = 'Blanking'\n",
    "branchMapping.RadiusArrayName = 'MaximumInscribedSphereRadius'\n",
    "\n",
    "branchMapping.AngularMetricArrayName = 'AngularMetric' # from cell above (branch metrics)\n",
    "branchMapping.AbscissaMetricArrayName = 'AbscissaMetric' # from cell above (branch metrics)\n",
    "\n",
    "branchMapping.SurfaceOutputFileName = casePath+'branchAnalysis/surfaceClippedMapping.vtp'\n",
    "\n",
    "branchMapping.PrintInputMembers()\n",
    "branchMapping.PrintOutputMembers()\n",
    "\n",
    "branchMapping.Execute()\n",
    "branchMapping.IOWrite()"
   ]
  },
  {
   "cell_type": "code",
   "execution_count": 12,
   "metadata": {},
   "outputs": [
    {
     "name": "stdout",
     "output_type": "stream",
     "text": [
      "Input vmtkbranchgeometry members:\n",
      "    Id = 0\n",
      "    Disabled = 0\n",
      "    Centerlines = None\n",
      "    CenterlinesInputFileName = \n",
      "    RadiusArrayName = \n",
      "    GroupIdsArrayName = \n",
      "    BlankingArrayName = \n",
      "    LengthArrayName = Length\n",
      "    CurvatureArrayName = Curvature\n",
      "    TorsionArrayName = Torsion\n",
      "    TortuosityArrayName = Tortuosity\n",
      "    LineSmoothing = 0\n",
      "    NumberOfSmoothingIterations = 100\n",
      "    SmoothingFactor = 0.1\n",
      "    GeometryDataOutputFileName = \n",
      "Output vmtkbranchgeometry members:\n",
      "    Id = 0\n",
      "    GeometryData = None\n",
      "    LengthArrayName = Length\n",
      "    CurvatureArrayName = Curvature\n",
      "    TorsionArrayName = Torsion\n",
      "    TortuosityArrayName = Tortuosity\n"
     ]
    }
   ],
   "source": [
    "branchGeometry = vmtkscripts.vmtkBranchGeometry()\n",
    "\n",
    "branchGeometry.PrintInputMembers()\n",
    "branchGeometry.PrintOutputMembers()"
   ]
  },
  {
   "cell_type": "markdown",
   "metadata": {},
   "source": [
    "<hr>\n",
    "# Patching of surface mesh and attributes\n",
    "All the ingredients are now in place to perform the real patching of the surface, that is to “cut” a set of contiguous rectangular regions on the mesh that follow iso-contours in the StretchedMapping and AngularMetric arrays; all the quantities of interest (WSS and OSI in this case) are averaged over these areas.\n",
    "\n",
    "By means of the options -longitudinalpatchsize and -circularpatches we impose the dimensions of the patches, in terms of “height” (in mm) of the patch along the longitudinal direction and number of angular cut over the interval (-π, +π) respectively; the result of this discretization can be seen visualizing the Slab and Sector arrays created by the script or the mesh new surface discretization (Figure 5). You’ll probably have to play with these values to find out the discretization that best fits your needs; we here cut every 0.5 mm and subdivide the interval (-π, +π) in 12 sectors."
   ]
  },
  {
   "cell_type": "code",
   "execution_count": null,
   "metadata": {},
   "outputs": [],
   "source": [
    "vmtkbranchpatching -ifile aorta_clipped_mapping.vtp \n",
    "    -groupidsarray GroupIds \n",
    "    -longitudinalmappingarray StretchedMapping \n",
    "    -circularmappingarray AngularMetric \n",
    "    -longitudinalpatchsize 0.5 \n",
    "    -circularpatches 12 \n",
    "    -ofile aorta_clipped_patching.vtp"
   ]
  },
  {
   "cell_type": "code",
   "execution_count": 17,
   "metadata": {},
   "outputs": [
    {
     "name": "stdout",
     "output_type": "stream",
     "text": [
      "Reading VTK XML surface file.\n",
      "Input vmtkbranchpatching members:\n",
      "    Id = 0\n",
      "    Disabled = 0\n",
      "    Surface = vtkPolyData\n",
      "    SurfaceInputFileName = /home/iagolessa/documents/unesp/doctorate/aneurysms/geometries/vrCases/vmtkReconstruction/38_RSS/branchAnalysis/surfaceClippedMapping.vtp\n",
      "    PatchSize = [0.0, 0.0]\n",
      "    LongitudinalPatchSize = 0.5\n",
      "    CircularNumberOfPatches = 12\n",
      "    CircularPatching = 1\n",
      "    UseConnectivity = 1\n",
      "    GroupIdsArrayName = GroupIds\n",
      "    LongitudinalMappingArrayName = StretchedMapping\n",
      "    CircularMappingArrayName = AngularMetric\n",
      "    LongitudinalPatchNumberArrayName = Slab\n",
      "    CircularPatchNumberArrayName = Sector\n",
      "    PatchAreaArrayName = PatchArea\n",
      "    SurfaceOutputFileName = /home/iagolessa/documents/unesp/doctorate/aneurysms/geometries/vrCases/vmtkReconstruction/38_RSS/branchAnalysis/surfaceClippedPatching.vtp\n",
      "    PatchedDataOutputFileName = \n",
      "Output vmtkbranchpatching members:\n",
      "    Id = 0\n",
      "    Surface = vtkPolyData\n",
      "    PatchedData = None\n",
      "    PatchSize = [0.0, 0.0]\n",
      "    LongitudinalPatchNumberArrayName = Slab\n",
      "    CircularPatchNumberArrayName = Sector\n",
      "    PatchAreaArrayName = PatchArea\n",
      "Writing VTK XML surface file.\n"
     ]
    }
   ],
   "source": [
    "branchPatching = vmtkscripts.vmtkBranchPatching()\n",
    "\n",
    "branchPatching.SurfaceInputFileName = casePath+'branchAnalysis/surfaceClippedMapping.vtp'\n",
    "branchPatching.IORead()\n",
    "branchPatching.GroupIdsArrayName = 'GroupIds'\n",
    "branchPatching.LongitudinalMappingArrayName = 'StretchedMapping'\n",
    "branchPatching.CircularMappingArrayName = 'AngularMetric'\n",
    "branchPatching.LongitudinalPatchSize = 0.5\n",
    "branchPatching.CircularNumberOfPatches = 12\n",
    "\n",
    "branchPatching.SurfaceOutputFileName = casePath+'branchAnalysis/surfaceClippedPatching.vtp'\n",
    "\n",
    "branchPatching.PrintInputMembers()\n",
    "branchPatching.PrintOutputMembers()\n",
    "\n",
    "branchPatching.Execute()\n",
    "branchPatching.IOWrite()"
   ]
  },
  {
   "cell_type": "code",
   "execution_count": null,
   "metadata": {},
   "outputs": [],
   "source": []
  }
 ],
 "metadata": {
  "kernelspec": {
   "display_name": "Python 3",
   "language": "python",
   "name": "python3"
  },
  "language_info": {
   "codemirror_mode": {
    "name": "ipython",
    "version": 3
   },
   "file_extension": ".py",
   "mimetype": "text/x-python",
   "name": "python",
   "nbconvert_exporter": "python",
   "pygments_lexer": "ipython3",
   "version": "3.6.1"
  }
 },
 "nbformat": 4,
 "nbformat_minor": 2
}
