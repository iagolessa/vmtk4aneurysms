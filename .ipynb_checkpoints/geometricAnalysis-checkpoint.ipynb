{
 "cells": [
  {
   "cell_type": "markdown",
   "metadata": {},
   "source": [
    "# **Branch Splitting and Geometric Analysis**\n",
    "<hr>"
   ]
  },
  {
   "cell_type": "code",
   "execution_count": 1,
   "metadata": {
    "collapsed": true
   },
   "outputs": [],
   "source": [
    "from vmtk import vmtkscripts\n",
    "import numpy as np\n",
    "import os"
   ]
  },
  {
   "cell_type": "markdown",
   "metadata": {},
   "source": [
    "The default current directory when loading a notebook from GDrive is the home folder of the current user. To load the user's libraries and modules, first change to the file location using the os' python module, and load the necessary modules, then change to the former directory. "
   ]
  },
  {
   "cell_type": "code",
   "execution_count": 2,
   "metadata": {},
   "outputs": [],
   "source": [
    "# Change to directory where vmtk_functions and vmtk_filenames are located\n",
    "# os.chdir('/home/iagolessa/Documents/aneurysms/vmtkScripts')\n",
    "\n",
    "# Import the necessary user's modules\n",
    "import vmtk_functions\n",
    "from vmtk_filenames import *\n",
    "\n",
    "# Change it back\n",
    "# os.chdir('/home/iagolessa')"
   ]
  },
  {
   "cell_type": "code",
   "execution_count": 3,
   "metadata": {
    "collapsed": true
   },
   "outputs": [
    {
     "name": "stdout",
     "output_type": "stream",
     "text": [
      "Files saved to: /home/iagolessa/documents/unesp/doctorate/aneurysms/geometries/einsteinCases/unrupturedCases/vmtkReconstruction/case11/\n"
     ]
    }
   ],
   "source": [
    "# Path to save the generated files when extracting the surface\n",
    "# We reccomend to separate it from the DICOM original dir. \n",
    "# Note that inside casePath, this code will create different sub-directories to store different data types\n",
    "casePath       = '/home/iagolessa/documents/unesp/doctorate/aneurysms/geometries/einsteinCases/unrupturedCases/vmtkReconstruction/case11/'\n",
    "\n",
    "# Define subdirs\n",
    "imagesDir       = casePath+'images/'\n",
    "surfacesDir     = casePath+'surfaces/'\n",
    "centerlinesDir  = casePath+'centerlines/'\n",
    "meshesDir       = casePath+'meshes/'\n",
    "parentVesselDir = casePath+\"parentVessel/\"\n",
    "\n",
    "print('Files saved to:', casePath)"
   ]
  },
  {
   "cell_type": "markdown",
   "metadata": {},
   "source": [
    "<hr/>\n",
    "# **Branch Splitting**\n",
    "\n",
    "The following cells demonstrates how to split a vascular segment into its constituent branches and, if it is the case, an aneurysm. This is specially good to extract the aneurysm surface using the centerline that can be constructed inside the aneurysm. Of course, since the tool is designed to split a vascular tree in its branches, it may not extract exactly the aneurysm surface correctly depending on the vascular and aneurysm geometry."
   ]
  },
  {
   "cell_type": "markdown",
   "metadata": {},
   "source": [
    "## Centerlines Splitting"
   ]
  },
  {
   "cell_type": "code",
   "execution_count": 10,
   "metadata": {},
   "outputs": [
    {
     "name": "stdout",
     "output_type": "stream",
     "text": [
      "Reading STL surface file.\n",
      "\n",
      "CellEntityId: 2\n",
      "  Origin: 1.269451, -9.534170, 14.482830\n",
      "  Normal: 0.058485, -0.393269, 0.917561\n",
      "  Radius: 0.950650\n",
      "\n",
      "CellEntityId: 3\n",
      "  Origin: -0.000000, -0.000000, -0.000000\n",
      "  Normal: -0.000000, -0.000000, -1.000000\n",
      "  Radius: 1.437742\n",
      "\n",
      "CellEntityId: 4\n",
      "  Origin: 11.155700, -12.383625, 3.246133\n",
      "  Normal: 0.833067, -0.457099, 0.311544\n",
      "  Radius: 1.129303\n",
      "\n",
      "Quit renderer\n",
      "wrapping vtkPolyData object\n",
      "converting cell data: \n",
      "converting points\n",
      "converting point data: \n",
      "BoundaryNormals\n",
      "BoundaryRadius\n",
      "Point1Array\n",
      "Point2Array\n",
      "CellEntityIds\n",
      "converting cell connectivity list\n"
     ]
    }
   ],
   "source": [
    "# Get array with pacthes info\n",
    "surface = vmtk_functions.readSurface(surfacesDir+'patches/wall.stl')\n",
    "capsGeoInfo = vmtk_functions.getPatchInfo(surface)"
   ]
  },
  {
   "cell_type": "code",
   "execution_count": 5,
   "metadata": {},
   "outputs": [
    {
     "name": "stdout",
     "output_type": "stream",
     "text": [
      "[((1.2694508, -9.53417, 14.48283), (0.05848486176320331, -0.3932691015768925, 0.9175614064951964), 0.95065012, 2, 'outlet')\n",
      " ((-2.3999274e-08, -1.1170071e-08, -1.3434129e-10), (-4.746899083496862e-15, -1.1533777711025865e-14, -1.0), 1.4377415 , 3, 'inlet')\n",
      " ((11.1557, -12.383625, 3.246133), (0.8330669726380073, -0.45709895593553546, 0.3115444809050374), 1.12930271, 4, 'outlet')]\n"
     ]
    }
   ],
   "source": [
    "print(capsGeoInfo)"
   ]
  },
  {
   "cell_type": "code",
   "execution_count": 11,
   "metadata": {},
   "outputs": [
    {
     "data": {
      "text/plain": [
       "([(-2.3999274e-08, -1.1170071e-08, -1.3434129e-10)],\n",
       " (1.2694508, -9.53417, 14.48283, 11.1557, -12.383625, 3.246133))"
      ]
     },
     "execution_count": 11,
     "metadata": {},
     "output_type": "execute_result"
    }
   ],
   "source": [
    "# Clears object outletBarycenters if exists\n",
    "outletBarycenters = None\n",
    "inletBarycenters = []\n",
    "\n",
    "# create tuples with inlet and outlet barycenters\n",
    "for i in range( len(capsGeoInfo) ):\n",
    "    if capsGeoInfo['PatchType'][i] == 'inlet':\n",
    "        inletBarycenters.append(capsGeoInfo['Center'][i])\n",
    "    else: \n",
    "        try:\n",
    "            outletBarycenters += capsGeoInfo['Center'][i]\n",
    "        except:\n",
    "            outletBarycenters = capsGeoInfo['Center'][i]\n",
    "            \n",
    "inletBarycenters, outletBarycenters"
   ]
  },
  {
   "cell_type": "code",
   "execution_count": 7,
   "metadata": {},
   "outputs": [],
   "source": [
    "# Aneurysm top point to get aneurysm centerline\n",
    "aneurysmTopPoint = (5.48322, -17.7095, 4.25972) # aneurysm location"
   ]
  },
  {
   "cell_type": "code",
   "execution_count": 12,
   "metadata": {},
   "outputs": [
    {
     "name": "stdout",
     "output_type": "stream",
     "text": [
      "NonManifold check.\n",
      "Cleaning surface.\n",
      "Triangulating surface.\n",
      "Computing centerlines.\n",
      "Computing centerlines..."
     ]
    }
   ],
   "source": [
    "# Computing centerlines\n",
    "# This code computes centerlines for a generic number of inlets\n",
    "# It does that by computing the centerlines for each source barycenter\n",
    "# and then appending the resulting centerlines with 'vmtksurfaceappend'\n",
    "\n",
    "centerlinesList = []\n",
    "\n",
    "for source in inletBarycenters:\n",
    "    # Instantiate vmtkcenterline object\n",
    "    centerlines = vmtkscripts.vmtkCenterlines()\n",
    "    # Surface to be used\n",
    "    centerlines.Surface = surface\n",
    "    # Type of seed selector: by source coordinate\n",
    "    centerlines.SeedSelectorName = 'pointlist'\n",
    "    centerlines.SourcePoints = source\n",
    "    centerlines.TargetPoints = list(outletBarycenters+aneurysmTopPoint)\n",
    "    centerlines.CheckNonManifold = 1\n",
    "    centerlines.AppendEndPoints = 1\n",
    "    centerlines.Execute()\n",
    "    centerlinesList.append(centerlines.Centerlines)\n",
    "\n",
    "# Provide managing exception if there is only one centerline\n",
    "centerlineMain = centerlinesList[0]"
   ]
  },
  {
   "cell_type": "code",
   "execution_count": 13,
   "metadata": {},
   "outputs": [
    {
     "name": "stdout",
     "output_type": "stream",
     "text": [
      "Only one source.\n"
     ]
    }
   ],
   "source": [
    "# If more than one inlet, then the centerlines for \n",
    "# each inlet is appended here by a vmtk script\n",
    "\n",
    "if len(centerlinesList) > 1:\n",
    "    for centerline in centerlinesList[1:]:\n",
    "        # Instantiate vmtksurfaceappend object\n",
    "        centerlinesAppend = vmtkscripts.vmtkSurfaceAppend()\n",
    "        centerlinesAppend.Surface = centerlineMain\n",
    "        centerlinesAppend.Surface2 = centerline\n",
    "        centerlinesAppend.Execute()\n",
    "        # Store final centerlines to centerline main\n",
    "        # therefore, centerlineMain will store the final complete centerline\n",
    "        centerlineMain = centerlinesAppend.Surface\n",
    "else:\n",
    "    print('Only one source.')"
   ]
  },
  {
   "cell_type": "code",
   "execution_count": 14,
   "metadata": {},
   "outputs": [
    {
     "name": "stdout",
     "output_type": "stream",
     "text": [
      "Quit renderer\n"
     ]
    }
   ],
   "source": [
    "vmtk_functions.viewSurface(centerlineMain)"
   ]
  },
  {
   "cell_type": "code",
   "execution_count": 9,
   "metadata": {},
   "outputs": [
    {
     "name": "stdout",
     "output_type": "stream",
     "text": [
      "Only one source.\n",
      "Quit renderer\n"
     ]
    }
   ],
   "source": [
    "# Centerline smoother\n",
    "centerlineSmoother = vmtkscripts.vmtkCenterlineSmoothing()\n",
    "centerlineSmoother.Centerlines = centerlineMain\n",
    "centerlineSmoother.SurfaceOutputFileName = centerlinesDir+centerlineWithAneurysm\n",
    "centerlineSmoother.Execute()\n",
    "centerlineSmoother.IOWrite()\n",
    "\n",
    "vmtk_functions.viewSurface(centerlineSmoother.Centerlines)"
   ]
  },
  {
   "cell_type": "code",
   "execution_count": null,
   "metadata": {},
   "outputs": [],
   "source": [
    "# Compute Voronoi Diagram Separately for parent vessel reconstruction\n",
    "voronoiDiagram = vmtkscripts.vmtkDelaunayVoronoi()\n",
    "\n",
    "voronoiDiagram.Surface = surface\n",
    "voronoiDiagram.CheckNonManifold = 1\n",
    "voronoiDiagram.RemoveSubresolutionTetrahedra = 1\n",
    "voronoiDiagram.VoronoiDiagramOutputFileName = surfacesDir+'VoronoiDiagram.vtp' #VoronoiDiagramFile\n",
    "\n",
    "voronoiDiagram.Execute()\n",
    "voronoiDiagram.IOWrite()\n",
    "\n",
    "# Debug\n",
    "# voronoiDiagram.PrintInputMembers()\n",
    "# voronoiDiagram.PrintOutputMembers()\n",
    "# vmtk_functions.viewSurface(voronoiDiagram.Surface)"
   ]
  },
  {
   "cell_type": "code",
   "execution_count": 15,
   "metadata": {},
   "outputs": [],
   "source": [
    "centerlineSection = vmtkscripts.vmtkCenterlineSections()"
   ]
  },
  {
   "cell_type": "code",
   "execution_count": 16,
   "metadata": {},
   "outputs": [
    {
     "name": "stdout",
     "output_type": "stream",
     "text": [
      "Reading STL surface file.\n",
      "Reading VTK XML surface file.\n",
      "Writing VTK XML surface file.\n",
      "Input vmtkcenterlinesections members:\n",
      "    Id = 0\n",
      "    Disabled = 0\n",
      "    Surface = vtkPolyData\n",
      "    SurfaceInputFileName = /home/iagolessa/documents/unesp/doctorate/aneurysms/geometries/einsteinCases/unrupturedCases/vmtkReconstruction/case11/surfaces/patches/wall.stl\n",
      "    Centerlines = vtkPolyData\n",
      "    CenterlinesInputFileName = /home/iagolessa/documents/unesp/doctorate/aneurysms/geometries/einsteinCases/unrupturedCases/vmtkReconstruction/case11/centerlines/centerlinesWithAneurysm.vtp\n",
      "    CenterlineSectionAreaArrayName = CenterlineSectionArea\n",
      "    CenterlineSectionMinSizeArrayName = CenterlineSectionMinSize\n",
      "    CenterlineSectionMaxSizeArrayName = CenterlineSectionMaxSize\n",
      "    CenterlineSectionShapeArrayName = CenterlineSectionShape\n",
      "    CenterlineSectionClosedArrayName = CenterlineSectionClosed\n",
      "    CenterlineSectionsOutputFileName = \n",
      "    CenterlinesOutputFileName = /home/iagolessa/documents/unesp/doctorate/aneurysms/geometries/einsteinCases/unrupturedCases/vmtkReconstruction/case11/centerlines/centerlineSections.vtp\n",
      "Output vmtkcenterlinesections members:\n",
      "    Id = 0\n",
      "    CenterlineSections = vtkPolyData\n",
      "    Centerlines = vtkPolyData\n",
      "    CenterlineSectionAreaArrayName = CenterlineSectionArea\n",
      "    CenterlineSectionMinSizeArrayName = CenterlineSectionMinSize\n",
      "    CenterlineSectionMaxSizeArrayName = CenterlineSectionMaxSize\n",
      "    CenterlineSectionShapeArrayName = CenterlineSectionShape\n",
      "    CenterlineSectionClosedArrayName = CenterlineSectionClosed\n"
     ]
    }
   ],
   "source": [
    "centerlineSection.SurfaceInputFileName = surfacesDir+'patches/wall.stl'\n",
    "centerlineSection.CenterlinesInputFileName = centerlinesDir+'centerlinesWithAneurysm.vtp'\n",
    "centerlineSection.IORead()\n",
    "\n",
    "# centerlineSection.Surface = surface\n",
    "# centerlineSection.Centerlines = centerlineSmoother.Centerlines\n",
    "\n",
    "centerlineSection.CenterlinesOutputFileName = centerlinesDir+centerlineSectionsFile\n",
    "centerlineSection.Execute()\n",
    "centerlineSection.IOWrite()\n",
    "\n",
    "# Debug\n",
    "centerlineSection.PrintInputMembers()\n",
    "centerlineSection.PrintOutputMembers()"
   ]
  },
  {
   "cell_type": "code",
   "execution_count": 17,
   "metadata": {},
   "outputs": [
    {
     "name": "stdout",
     "output_type": "stream",
     "text": [
      "Writing VTK XML surface file.\n",
      "Input vmtkcenterlinegeometry members:\n",
      "    Id = 0\n",
      "    Disabled = 0\n",
      "    Centerlines = vtkPolyData\n",
      "    CenterlinesInputFileName = \n",
      "    LengthArrayName = Length\n",
      "    CurvatureArrayName = Curvature\n",
      "    TorsionArrayName = Torsion\n",
      "    TortuosityArrayName = Tortuosity\n",
      "    FrenetTangentArrayName = FrenetTangent\n",
      "    FrenetNormalArrayName = FrenetNormal\n",
      "    FrenetBinormalArrayName = FrenetBinormal\n",
      "    LineSmoothing = 0\n",
      "    OutputSmoothedLines = 0\n",
      "    NumberOfSmoothingIterations = 100\n",
      "    SmoothingFactor = 0.1\n",
      "    CenterlinesOutputFileName = /home/iagolessa/documents/unesp/doctorate/aneurysms/geometries/einsteinCases/unrupturedCases/vmtkReconstruction/case11/centerlines/centerlineGeometry.vtp\n",
      "Output vmtkcenterlinegeometry members:\n",
      "    Id = 0\n",
      "    Centerlines = vtkPolyData\n",
      "    LengthArrayName = Length\n",
      "    CurvatureArrayName = Curvature\n",
      "    TorsionArrayName = Torsion\n",
      "    TortuosityArrayName = Tortuosity\n"
     ]
    }
   ],
   "source": [
    "# Computing centerlines Frenet system\n",
    "centerlineGeometry = vmtkscripts.vmtkCenterlineGeometry()\n",
    "\n",
    "centerlineGeometry.Centerlines = centerlineSection.Centerlines\n",
    "centerlineGeometry.CenterlinesOutputFileName = centerlinesDir+centerlineGeometryFile\n",
    "centerlineGeometry.LineSmoothing = 0\n",
    "centerlineGeometry.Execute()\n",
    "centerlineGeometry.IOWrite()\n",
    "\n",
    "# Debug\n",
    "centerlineGeometry.PrintInputMembers()\n",
    "centerlineGeometry.PrintOutputMembers()"
   ]
  },
  {
   "cell_type": "markdown",
   "metadata": {},
   "source": [
    "## Centerline attributes\n",
    "\n",
    "Centerlines are defined by the position of their points. In order to define the position of a point along the centerline or to quantify the angular position of a point on the surface around the centerline, it is necessary to equip centerlines with two attributes, Abscissas and Normals.\n",
    "\n",
    "Abscissas are easy to define: they measure the distances along a line. The point with abscissa 0 is not necessarily the first point of the centerline, but can be chosen to represent a landmark along a centerline, such that, if we have a population of models, all the abscissas will be referred to the same anatomical location. In absence of such location, abscissas can be generated relative to the starting point and can be offset to a different location at a later time.\n",
    "\n",
    "Parallel transport reference systems: given a starting reference system (the analogous to the 0 abscissa point), the next reference system is generated by moving along the centerline of a small amount and rotating the system on the osculating plane of an amount equal to the change in the orientation of the line tangent. This operation is repeated until all points are equipped with a reference system. Since reference systems are rotated within the osculating plane no artificial torsion is introduced proceeding along the centerline.\n",
    "\n",
    "The script that computes abscissas and parallel transport normals is vmtkcenterlineattributes. It computes abscissas and normals relative to the first point of each centerline (they can be offset to landmarks at a later time). As such, it should be called before 'vmtkbranchextractor', otherwise each tract into which centerlines are split will have an abscissa starting from 0 at the first point."
   ]
  },
  {
   "cell_type": "code",
   "execution_count": 18,
   "metadata": {
    "collapsed": true
   },
   "outputs": [
    {
     "name": "stdout",
     "output_type": "stream",
     "text": [
      "Writing VTK XML surface file.\n",
      "Input vmtkcenterlineattributes members:\n",
      "    Id = 0\n",
      "    Disabled = 0\n",
      "    Centerlines = vtkPolyData\n",
      "    CenterlinesInputFileName = \n",
      "    AbscissasArrayName = Abscissas\n",
      "    NormalsArrayName = ParallelTransportNormals\n",
      "    CenterlinesOutputFileName = /home/iagolessa/documents/unesp/doctorate/aneurysms/geometries/einsteinCases/unrupturedCases/vmtkReconstruction/case11/centerlines/centerlinesAttributes.vtp\n",
      "Output vmtkcenterlineattributes members:\n",
      "    Id = 0\n",
      "    Centerlines = vtkPolyData\n",
      "    AbscissasArrayName = Abscissas\n",
      "    NormalsArrayName = ParallelTransportNormals\n"
     ]
    }
   ],
   "source": [
    "# Computation of centerlines attributes\n",
    "# -- Based on the parallel transport theory\n",
    "centerlineAttributes = vmtkscripts.vmtkCenterlineAttributes()\n",
    "\n",
    "centerlineAttributes.CenterlinesOutputFileName = centerlinesDir+'centerlinesAttributes.vtp' #centerlinesAttributesFile\n",
    "centerlineAttributes.Centerlines = centerlineGeometry.Centerlines\n",
    "\n",
    "centerlineAttributes.Execute()\n",
    "centerlineAttributes.IOWrite()\n",
    "\n",
    "# Debug\n",
    "centerlineAttributes.PrintInputMembers()\n",
    "centerlineAttributes.PrintOutputMembers()"
   ]
  },
  {
   "cell_type": "code",
   "execution_count": null,
   "metadata": {},
   "outputs": [],
   "source": [
    "# Extracting branches of centerlines\n",
    "# this script splits the centerline in branches\n",
    "# corresponding to the different tubes formed by the Maximum Inscribed Spheres\n",
    "branchExtractor = vmtkscripts.vmtkBranchExtractor()\n",
    "\n",
    "# If centerline is read from external file\n",
    "# branchExtractor.CenterlinesInputFileName = casePath+'centerlines/centerlinesAttributes.vtp'\n",
    "# branchExtractor.IORead()\n",
    "\n",
    "# If calculated right above\n",
    "branchExtractor.Centerlines = centerlineAttributes.Centerlines\n",
    "branchExtractor.RadiusArrayName = 'MaximumInscribedSphereRadius'\n",
    "branchExtractor.CenterlinesOutputFileName = centerlinesDir+'branchExtracted.vtp'\n",
    "\n",
    "branchExtractor.Execute()\n",
    "branchExtractor.IOWrite()\n",
    "\n",
    "# Debug\n",
    "# branchExtractor.PrintInputMembers()\n",
    "branchExtractor.PrintOutputMembers()"
   ]
  },
  {
   "cell_type": "code",
   "execution_count": null,
   "metadata": {},
   "outputs": [],
   "source": [
    "vmtk_functions.viewCenterline(branchExtractor.Centerlines, branchExtractor.GroupIdsArrayName)"
   ]
  },
  {
   "cell_type": "markdown",
   "metadata": {},
   "source": [
    "## Splitting the vessels and aneurysm surface\n",
    "\n",
    "Lets now move on to surface splitting. We now want to clip the original surface into its branches. We do it the following way using the vmtkbranchclipper script. Before using it, it is recommended to change the labels of the splitted branch to identify the aneurysm region, if needed."
   ]
  },
  {
   "cell_type": "code",
   "execution_count": null,
   "metadata": {},
   "outputs": [],
   "source": [
    "# Before splitting surface branches, if the aneurysm surface\n",
    "# is needed, then it is good to relabel the group ids of the centerlines\n",
    "\n",
    "# Changing labels of centerlines branches\n",
    "# 0 -> 0\n",
    "# 1 -> 0\n",
    "# 2 -> 1\n",
    "# 3 -> 1\n",
    "# 4 -> 0\n",
    "# 5 -> 0\n",
    "# 6 -> 0\n",
    "# 7 -> 0\n",
    "\n",
    "# 8 -> 1\n",
    "# 9 -> 1\n",
    "# 10 -> 1\n",
    "# 11 -> 1\n",
    "\n",
    "centerlinesLabeler = vmtkscripts.vmtkCenterlineLabeler()\n",
    "\n",
    "# The labeling process depends on the original ids \n",
    "# So it should be inspected by the user before execution\n",
    "# so the Labeling attribute be updated accordingly \n",
    "centerlinesLabeler.Centerlines = branchExtractor.Centerlines\n",
    "# Reading external file\n",
    "# centerlinesLabeler.CenterlinesInputFileName = casePath+\"centerlines/branchExtracted.vtp\" \n",
    "# centerlinesLabeler.IORead()\n",
    "\n",
    "# viewCenterline(centerlinesLabeler.Centerlines,'GroupIds')\n",
    "\n",
    "# Parameters to save to disk\n",
    "# centerlinesLabeler.CenterlinesOutputFileName = casePath+'centerlines/branchAneurysmExtracted.vtp'\n",
    "\n",
    "# centerlinesLabeler.Centerlines = branchExtractor.Centerlines\n",
    "centerlinesLabeler.GroupIdsArrayName = branchExtractor.GroupIdsArrayName\n",
    "centerlinesLabeler.LabelIdsArrayName = branchExtractor.GroupIdsArrayName\n",
    "centerlinesLabeler.Labeling = [0, 0,\n",
    "                               1, 1,\n",
    "                               2, 2,\n",
    "                               3, 3,\n",
    "                               4, 4]\n",
    "\n",
    "centerlinesLabeler.PrintInputMembers()\n",
    "centerlinesLabeler.PrintOutputMembers()\n",
    "\n",
    "centerlinesLabeler.Execute()\n",
    "# centerlinesLabeler.IOWrite()"
   ]
  },
  {
   "cell_type": "code",
   "execution_count": null,
   "metadata": {},
   "outputs": [],
   "source": [
    "# Visualizing centerlines group ids after extraction\n",
    "viewCenterline(centerlinesLabeler.Centerlines, centerlinesLabeler.LabelIdsArrayName)"
   ]
  },
  {
   "cell_type": "code",
   "execution_count": null,
   "metadata": {
    "collapsed": true
   },
   "outputs": [],
   "source": [
    "# Performing splitting and grouping on the surface\n",
    "# based on centerlines splitting\n",
    "\n",
    "# Input centerline to use: from branchExtractor directly \n",
    "# centerlinesToSplitSurface = branchExtractor.Centerlines\n",
    "# groupIdsArray = branchExtractor.GroupIdsArrayName\n",
    "# or from labeler\n",
    "centerlinesToSplitSurface = centerlinesLabeler.Centerlines\n",
    "\n",
    "# Branch Clipper\n",
    "branchClipper = vmtkscripts.vmtkBranchClipper()\n",
    "\n",
    "# Surface to clip\n",
    "branchClipper.Surface = surfaceToMesh.Surface\n",
    "# branchClipper.SurfaceInputFileName = casePath+'surfaces/patches/wall.stl' #surfaceRemeshedSm.vtp'\n",
    "# branchClipper.IORead()\n",
    "\n",
    "# Centerlines: if the file is loaded externally\n",
    "# branchClipper.CenterlinesInputFileName = casePath+\"centerlines/branchExtracted.vtp\"\n",
    "# branchClipper.IORead()\n",
    "\n",
    "# or if it was computed here\n",
    "branchClipper.Centerlines = centerlinesToSplitSurface\n",
    "\n",
    "# Other parameters\n",
    "branchClipper.RadiusArrayName   = 'MaximumInscribedSphereRadius'\n",
    "branchClipper.GroupIdsArrayName = branchExtractor.GroupIdsArrayName # centerlinesLabeler.GroupIdsArrayName\n",
    "branchClipper.BlankingArrayName = branchExtractor.BlankingArrayName\n",
    "branchClipper.RadiusArrayName   = branchExtractor.RadiusArrayName\n",
    "\n",
    "# If only some patches must be computed\n",
    "# branchClipper.GroupIds = [0] \n",
    "# branchClipper.ClipValue = -3\n",
    "\n",
    "# branchClipper.SurfaceOutputFileName = casePath+\"surfaces/patches/aneurysm.stl\"\n",
    "# branchClipper.SurfaceOutputFileName = casePath+\"surfaces/branchAneurysmClipped.vtp\"\n",
    "\n",
    "branchClipper.Execute()\n",
    "# branchClipper.IOWrite()\n",
    "\n",
    "# Debug\n",
    "# branchClipper.PrintInputMembers()\n",
    "branchClipper.PrintOutputMembers()"
   ]
  },
  {
   "cell_type": "code",
   "execution_count": null,
   "metadata": {
    "collapsed": true
   },
   "outputs": [],
   "source": [
    "# Visualization of the surface\n",
    "surfaceViewer = vmtkscripts.vmtkSurfaceViewer()\n",
    "surfaceViewer.Surface = branchClipper.Surface\n",
    "surfaceViewer.ArrayName = branchClipper.GroupIdsArrayName\n",
    "surfaceViewer.Legend = 1\n",
    "surfaceViewer.Execute()"
   ]
  },
  {
   "cell_type": "markdown",
   "metadata": {},
   "source": [
    "<hr/>\n",
    "# **Geometrical Analysis**\n",
    "\n",
    "This tutorial demonstrates how to analyze the 3D geometry of a vascular segment. Using vmtk, you should have been able to compute centerlines, to identify bifurcations and branches on the centerlines and to clip the surface according to the branches. Now weÃÂÃÂÃÂÃÂ¢ÃÂÃÂÃÂÃÂÃÂÃÂÃÂÃÂll face the problem of quantifying geometric features of the vascular segment, those associated to bifurcations, such as bifurcation planes and bifurcation angles, and those associated to branches, such as curvature and torsion."
   ]
  },
  {
   "cell_type": "markdown",
   "metadata": {},
   "source": [
    "## Computing bifurcation reference systems \n",
    "\n",
    "We here consider a single bifurcation: the extension to a more general case is rather straightforward. From the centerline splitting and grouping phase we were left with a first group that ends with the second reference points (one for each tract), a second group representing the bifurcation whose tracts start with the second reference point and end with the first, and two last groups representing the daughter branches that start with the first reference points (where each centerline exits the other tube). We define the bifurcation reference system the following way:\n",
    "\n",
    "--> The origin of the bifurcation is defined as the barycenter of the four reference points weighted by the surface of the maximum inscribed sphere defined on the reference points. The reason of the weighting is that small branches have less impact on the position of the bifurcation origin;\n",
    "\n",
    "--> The normal to the bifurcation plane is defined as the normal to the polygon defined by the four reference points computed in the bifurcation origin;\n",
    "\n",
    "--> The bifurcation upnormal is the similarly weighted average vector between the vectors pointing from the second to the first reference point on each centerline"
   ]
  },
  {
   "cell_type": "code",
   "execution_count": null,
   "metadata": {
    "collapsed": true
   },
   "outputs": [],
   "source": [
    "# Computing the bifurcation reference system\n",
    "# it uses the output of Branch Extractor script because \n",
    "# it depends on array calculated there, especially \n",
    "# because it identifies the bifurcations and the tracts\n",
    "bifurcationRefSystem = vmtkscripts.vmtkBifurcationReferenceSystems()\n",
    "\n",
    "# inputFile = casePath+\"centerlines/centerlines.vtp\"\n",
    "# bifurcationRefSystem.CenterlinesInputFileName = inputFile\n",
    "# bifurcationRefSystem.IORead()\n",
    "\n",
    "bifurcationRefSystem.Centerlines = branchExtractor.Centerlines\n",
    "bifurcationRefSystem.RadiusArrayName = branchExtractor.RadiusArrayName\n",
    "bifurcationRefSystem.BlankingArrayName = branchExtractor.BlankingArrayName\n",
    "bifurcationRefSystem.GroupIdsArrayName = branchExtractor.GroupIdsArrayName\n",
    "\n",
    "# bifurcationRefSystem.ReferenceSystemsOutputFileName = centerlinesDir+'bifurcationRefSystem.vtp'\n",
    "\n",
    "bifurcationRefSystem.Execute()\n",
    "# Writing to disk parameters\n",
    "# bifurcationRefSystem.IOWrite()\n",
    "\n",
    "# Debug\n",
    "# bifurcationRefSystem.PrintInputMembers()\n",
    "# bifurcationRefSystem.PrintOutputMembers()"
   ]
  },
  {
   "cell_type": "markdown",
   "metadata": {},
   "source": [
    "## Offsetting centerline attributes to bifurcations\n",
    "\n",
    "As anticipated, centerline attributes (i.e. abscissas and parallel transport normals), which were computed relative to the first point of the centerline (not a very meaningful landmark), can be offset to bifurcations. This way, a population of vessels will have the 0 abscissa corresponding to the origin of the same bifurcation, which sounds like a reasonable thing to do. Similarly, parallel transport normals at the bifurcation will be oriented like the bifurcation plane normal."
   ]
  },
  {
   "cell_type": "code",
   "execution_count": null,
   "metadata": {},
   "outputs": [],
   "source": [
    "# To offset the centerline attributes, we need to chose the bifurcation\n",
    "# so inspecting centerlines\n",
    "\n",
    "vmtk_functions.viewCenterline(branchExtractor.Centerlines, branchExtractor.GroupIdsArrayName)"
   ]
  },
  {
   "cell_type": "code",
   "execution_count": null,
   "metadata": {},
   "outputs": [],
   "source": [
    "bifurcationId = 1\n",
    "\n",
    "# Offsetting the centerlines attributes\n",
    "centerlineOffsetAttributes = vmtkscripts.vmtkCenterlineOffsetAttributes()\n",
    "\n",
    "# Input parameters \n",
    "centerlineOffsetAttributes.Centerlines = branchExtractor.Centerlines\n",
    "centerlineOffsetAttributes.ReferenceSystems = bifurcationRefSystem.ReferenceSystems\n",
    "\n",
    "centerlineOffsetAttributes.AbscissasArrayName = centerlineAttributes.AbscissasArrayName\n",
    "centerlineOffsetAttributes.NormalsArrayName   = centerlineAttributes.NormalsArrayName\n",
    "centerlineOffsetAttributes.GroupIdsArrayName  = branchExtractor.GroupIdsArrayName\n",
    "centerlineOffsetAttributes.CenterlineIdsArrayName = branchExtractor.CenterlineIdsArrayName\n",
    "\n",
    "normalsArrayName = bifurcationRefSystem.ReferenceSystemsNormalArrayName\n",
    "centerlineOffsetAttributes.ReferenceSystemsNormalArrayName = normalsArrayName\n",
    "\n",
    "# Bifurcation ID\n",
    "centerlineOffsetAttributes.ReferenceGroupId = bifurcationId\n",
    "\n",
    "# Writing parameters\n",
    "# centerlineOffsetAttributes.CenterlinesOutputFileName = centerlinesDir+'bifurcationRefSystemOffset.vtp'\n",
    "\n",
    "centerlineOffsetAttributes.Execute()\n",
    "\n",
    "# Writing to disk parameters\n",
    "# centerlineOffsetAttributes.IOWrite()\n",
    "\n",
    "# Debug\n",
    "# centerlineOffsetAttributes.PrintInputMembers()\n",
    "centerlineOffsetAttributes.PrintOutputMembers()"
   ]
  },
  {
   "cell_type": "markdown",
   "metadata": {},
   "source": [
    "## Computing bifurcation geometry\n",
    "\n",
    "Each branch, parent or daughter, arrives or leaves the bifurcation region with a certain orientation. Such orientation can in general be decomposed in in-plane and out-of-plane components, where the plane is the bifurcation plane. The geometry of the bifurcation will therefore be described by the in-plane and out-of-plane angles that each branch forms with the bifurcation reference system. Taking the upnormal as an in-plane reference orientation, each branch at the bifurcation is described by its in-plane angle with the upnormal direction and by its out-of-plane angle with the bifurcation normal."
   ]
  },
  {
   "cell_type": "code",
   "execution_count": null,
   "metadata": {},
   "outputs": [],
   "source": [
    "# To compute bifurcation geometry we use the vmtkbifurcationvectors\n",
    "bifurcationVectors = vmtkscripts.vmtkBifurcationVectors()\n",
    "\n",
    "# Input parameters\n",
    "bifurcationVectors.Centerlines = branchExtractor.Centerlines\n",
    " \n",
    "bifurcationVectors.ReferenceSystems = bifurcationRefSystem.ReferenceSystems\n",
    "bifurcationVectors.RadiusArrayName = branchExtractor.RadiusArrayName\n",
    "bifurcationVectors.CenterlineIdsArrayName = branchExtractor.CenterlineIdsArrayName\n",
    "bifurcationVectors.GroupIdsArrayName = branchExtractor.GroupIdsArrayName\n",
    "bifurcationVectors.TractIdsArrayName = branchExtractor.TractIdsArrayName\n",
    "bifurcationVectors.BlankingArrayName = branchExtractor.BlankingArrayName\n",
    "bifurcationVectors.ReferenceSystemsNormalArrayName = bifurcationRefSystem.ReferenceSystemsNormalArrayName\n",
    "bifurcationVectors.ReferenceSystemsUpNormalArrayName = bifurcationRefSystem.ReferenceSystemsUpNormalArrayName\n",
    "# bifurcationVectors.BifurcationVectorsOutputFileName = centerlinesDir+'bifurcationVectors.vtp' \n",
    "\n",
    "bifurcationVectors.Execute()\n",
    "# bifurcationVectors.IOWrite()\n",
    "\n",
    "# Debug\n",
    "# bifurcationVectors.PrintInputMembers()\n",
    "bifurcationVectors.PrintOutputMembers()"
   ]
  },
  {
   "cell_type": "code",
   "execution_count": null,
   "metadata": {},
   "outputs": [],
   "source": [
    "# Computing bifurcations sections \n",
    "bifurcationSections =  vmtkscripts.vmtkBifurcationSections()\n",
    "\n",
    "# Surface and centerlines already split into branches\n",
    "bifurcationSections.Surface= branchClipper.Surface\n",
    "bifurcationSections.Centerlines = branchClipper.Centerlines\n",
    "bifurcationSections.NumberOfDistanceSpheres = 0\n",
    "\n",
    "# Arrays specifications\n",
    "bifurcationSections.RadiusArrayName = branchExtractor.RadiusArrayName\n",
    "bifurcationSections.CenterlineIdsArrayName = branchExtractor.CenterlineIdsArrayName\n",
    "bifurcationSections.GroupIdsArrayName = branchExtractor.GroupIdsArrayName\n",
    "bifurcationSections.TractIdsArrayName = branchExtractor.TractIdsArrayName\n",
    "bifurcationSections.BlankingArrayName = branchExtractor.BlankingArrayName\n",
    "bifurcationSections.BifurcationSectionsOutputFileName = centerlinesDir+'bifurcationSections0.vtp'\n",
    "\n",
    "bifurcationSections.Execute()\n",
    "bifurcationSections.IOWrite()\n",
    "\n",
    "# Debug\n",
    "# bifurcationSections.PrintInputMembers()\n",
    "bifurcationSections.PrintOutputMembers()"
   ]
  },
  {
   "cell_type": "code",
   "execution_count": null,
   "metadata": {},
   "outputs": [],
   "source": [
    "# Computing bifurcations profiles (curves on branch extractor joining locations)\n",
    "bifurcationProfiles =  vmtkscripts.vmtkBifurcationProfiles()\n",
    "\n",
    "# Surface and centerlines already split into branches\n",
    "bifurcationProfiles.Surface = branchClipper.Surface\n",
    "bifurcationProfiles.Centerlines = branchClipper.Centerlines\n",
    "\n",
    "# Arrays specifications\n",
    "bifurcationProfiles.RadiusArrayName = branchExtractor.RadiusArrayName\n",
    "bifurcationProfiles.CenterlineIdsArrayName = branchExtractor.CenterlineIdsArrayName\n",
    "bifurcationProfiles.GroupIdsArrayName = branchExtractor.GroupIdsArrayName\n",
    "bifurcationProfiles.TractIdsArrayName = branchExtractor.TractIdsArrayName\n",
    "bifurcationProfiles.BlankingArrayName = branchExtractor.BlankingArrayName\n",
    "\n",
    "bifurcationProfiles.BifurcationProfilesOutputFileName = casePath+\"centerlines/bifurcationProfiles.vtp\"\n",
    "\n",
    "bifurcationProfiles.Execute()\n",
    "bifurcationProfiles.IOWrite()\n",
    "\n",
    "# Debug\n",
    "# bifurcationProfiles.PrintInputMembers()\n",
    "bifurcationProfiles.PrintOutputMembers()"
   ]
  }
 ],
 "metadata": {
  "kernelspec": {
   "display_name": "Python [conda env:vmtk3]",
   "language": "python",
   "name": "conda-env-vmtk3-py"
  },
  "language_info": {
   "codemirror_mode": {
    "name": "ipython",
    "version": 3
   },
   "file_extension": ".py",
   "mimetype": "text/x-python",
   "name": "python",
   "nbconvert_exporter": "python",
   "pygments_lexer": "ipython3",
   "version": "3.5.1"
  }
 },
 "nbformat": 4,
 "nbformat_minor": 2
}
