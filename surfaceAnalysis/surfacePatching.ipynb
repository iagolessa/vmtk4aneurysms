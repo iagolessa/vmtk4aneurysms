{
 "cells": [
  {
   "cell_type": "markdown",
   "metadata": {},
   "source": [
    "# **Patching Surface for *snappyHexMesh* Generation**\n",
    "<hr>"
   ]
  },
  {
   "cell_type": "code",
   "execution_count": 1,
   "metadata": {
    "slideshow": {
     "slide_type": "slide"
    }
   },
   "outputs": [],
   "source": [
    "from vmtk import vmtkscripts\n",
    "import numpy as np\n",
    "import os"
   ]
  },
  {
   "cell_type": "markdown",
   "metadata": {},
   "source": [
    "The default current directory when loading a notebook from GDrive is the home folder of the current user. To load the user's libraries and modules, first change to the file location using the os' python module, and load the necessary modules, then change to the former directory. "
   ]
  },
  {
   "cell_type": "code",
   "execution_count": 2,
   "metadata": {},
   "outputs": [],
   "source": [
    "# Path where files are stored\n",
    "aneurysmsPath = \"/home/iagolessa/Documents/\""
   ]
  },
  {
   "cell_type": "code",
   "execution_count": 3,
   "metadata": {},
   "outputs": [],
   "source": [
    "# Change to directory where vmtk_functions and vmtk_filenames are located\n",
    "os.chdir(aneurysmsPath+\"aneurysms/vmtkScriptsForAneurysms\")\n",
    "\n",
    "# Import the necessary user's modules\n",
    "import vmtk_functions\n",
    "from vmtk_filenames import *\n",
    "\n",
    "# Change it back\n",
    "os.chdir('/home/iagolessa')"
   ]
  },
  {
   "cell_type": "markdown",
   "metadata": {},
   "source": [
    "<hr>\n",
    "\n",
    "# **Surface Orientation and Patching**\n",
    "\n",
    "The cells below takes care of orienting the surface by translate and rotate transformations, to conform the inlet patch surface normal to the opposite z direction (this orientation was chosen to facilitate the introduction of boundary conditions at simulation time). \n",
    "\n",
    "The oriented surface is then 'exploded' to its constituent patches using the 'vmtkthreshold' script. First, the boundary is inspected generating a reference system file -- 'referenceSystem.dat' with the normal and center information of each cap patch (the wall has id 1 by default, and we prefer to keep it that way). The capped surface is, then, transformed and saved to disk -- 'surfaceOriented.stl' -- and finally is decomposed into its patches.\n",
    "\n",
    "One of the cells below try to identify the inlet patch index by the patch area, because, usually, the inlet has larger area than the outlets (but is always important to be sure of the inlet id)."
   ]
  },
  {
   "cell_type": "code",
   "execution_count": 61,
   "metadata": {
    "collapsed": true
   },
   "outputs": [
    {
     "name": "stdout",
     "output_type": "stream",
     "text": [
      "Files saved to: /home/iagolessa/Documents/aneurysms/geometries/einsteinCases/rupturedCases/vmtkReconstruction/case4/\n"
     ]
    }
   ],
   "source": [
    "# Path to save the generated files when extracting the surface\n",
    "# We reccomend to separate it from the DICOM original dir. \n",
    "# Note that inside casePath, this code will create different sub-directories to store different data types\n",
    "casePath       = aneurysmsPath+\"aneurysms/geometries/einsteinCases/rupturedCases/vmtkReconstruction/case4/\"\n",
    "\n",
    "# Define subdirs\n",
    "imagesDir       = casePath+'images/'\n",
    "surfacesDir     = casePath+'surfaces/'\n",
    "centerlinesDir  = casePath+'centerlines/'\n",
    "meshesDir       = casePath+'meshes/'\n",
    "parentVesselDir = casePath+\"parentVessel/\"\n",
    "\n",
    "print('Files saved to:', casePath)"
   ]
  },
  {
   "cell_type": "code",
   "execution_count": 62,
   "metadata": {},
   "outputs": [
    {
     "name": "stdout",
     "output_type": "stream",
     "text": [
      "Reading VTK XML surface file.\n"
     ]
    }
   ],
   "source": [
    "# Get array with pacthes info\n",
    "# surface = vmtk_functions.readSurface(surfacesDir+'surfaceRemeshedSpatialVaryingResolution.stl')\n",
    "surface = vmtk_functions.readSurface(surfacesDir+surfaceCappedFile)"
   ]
  },
  {
   "cell_type": "code",
   "execution_count": 63,
   "metadata": {},
   "outputs": [
    {
     "name": "stdout",
     "output_type": "stream",
     "text": [
      "Quit renderer\n"
     ]
    }
   ],
   "source": [
    "vmtk_functions.viewSurface(surface)"
   ]
  },
  {
   "cell_type": "code",
   "execution_count": 64,
   "metadata": {},
   "outputs": [],
   "source": [
    "# Capping the surface\n",
    "surfaceCapper = vmtkscripts.vmtkSurfaceCapper()\n",
    "surfaceCapper.Surface = surface\n",
    "surfaceCapper.Method = 'centerpoint'\n",
    "surfaceCapper.Interactive = 0\n",
    "surfaceCapper.Execute()"
   ]
  },
  {
   "cell_type": "code",
   "execution_count": 65,
   "metadata": {},
   "outputs": [
    {
     "name": "stdout",
     "output_type": "stream",
     "text": [
      "\n",
      "CellEntityId: 2\n",
      "  Origin: 21.555721, -12.979963, 21.950214\n",
      "  Normal: 0.186280, -0.921705, -0.340235\n",
      "  Radius: 0.960764\n",
      "\n",
      "CellEntityId: 3\n",
      "  Origin: -0.000021, 0.000066, -2.336128\n",
      "  Normal: 0.000000, -0.000000, -1.000000\n",
      "  Radius: 2.359390\n",
      "\n",
      "CellEntityId: 4\n",
      "  Origin: -5.953386, -3.164332, 22.839617\n",
      "  Normal: -0.834204, -0.479235, 0.272833\n",
      "  Radius: 1.033402\n",
      "\n",
      "CellEntityId: 5\n",
      "  Origin: 29.735121, -0.088662, 18.659039\n",
      "  Normal: 0.841543, 0.527252, -0.117522\n",
      "  Radius: 1.123292\n",
      "\n",
      "Quit renderer\n",
      "wrapping vtkPolyData object\n",
      "converting cell data: \n",
      "converting points\n",
      "converting point data: \n",
      "BoundaryNormals\n",
      "BoundaryRadius\n",
      "Point1Array\n",
      "Point2Array\n",
      "CellEntityIds\n",
      "converting cell connectivity list\n"
     ]
    }
   ],
   "source": [
    "# Surface boundary inspector\n",
    "# Conveting surface to mesh to get cell entity ids\n",
    "surfaceToMesh = vmtkscripts.vmtkSurfaceToMesh()\n",
    "surfaceToMesh.Surface = surfaceCapper.Surface\n",
    "surfaceToMesh.Execute()\n",
    "\n",
    "# Inspecting\n",
    "surfaceBoundaryInspector = vmtkscripts.vmtkMeshBoundaryInspector()\n",
    "surfaceBoundaryInspector.Mesh = surfaceToMesh.Mesh\n",
    "surfaceBoundaryInspector.CellEntityIdsArrayName = surfaceCapper.CellEntityIdsArrayName\n",
    "surfaceBoundaryInspector.Execute()\n",
    "\n",
    "# Store patch info in python dictionary using vmtksurfacetonumpy\n",
    "vmtkToNumpy = vmtkscripts.vmtkSurfaceToNumpy()\n",
    "vmtkToNumpy.Surface = surfaceBoundaryInspector.ReferenceSystems\n",
    "vmtkToNumpy.Execute()\n",
    "\n",
    "dictPatchData = vmtkToNumpy.ArrayDict"
   ]
  },
  {
   "cell_type": "code",
   "execution_count": 66,
   "metadata": {},
   "outputs": [],
   "source": [
    "# # Build condition array where centers are not equal to inlet center\n",
    "# # therefore, outlet centers\n",
    "# inletBarycenterArray = dictPatchData['Points'][int(inletPos)]\n",
    "# notInlet = (dictPatchData['Points'] != inletBarycenterArray)\n",
    "\n",
    "# # Inlet and outlet centers\n",
    "# # inletBarycenters  = dictPatchData['Points'][int(index)].tolist()\n",
    "# outletBarycenters = np.extract(notInlet, dictPatchData['Points']).tolist()"
   ]
  },
  {
   "cell_type": "code",
   "execution_count": 67,
   "metadata": {},
   "outputs": [
    {
     "data": {
      "text/plain": [
       "{'Points': array([[  2.15557213e+01,  -1.29799633e+01,   2.19502144e+01],\n",
       "        [ -2.11906572e-05,   6.55368131e-05,  -2.33612776e+00],\n",
       "        [ -5.95338631e+00,  -3.16433167e+00,   2.28396168e+01],\n",
       "        [  2.97351208e+01,  -8.86624232e-02,   1.86590385e+01]], dtype=float32),\n",
       " 'PointData': {'BoundaryNormals': array([[  1.86280392e-01,  -9.21704868e-01,  -3.40234849e-01],\n",
       "         [  0.00000000e+00,  -1.41034145e-33,  -1.00000000e+00],\n",
       "         [ -8.34203707e-01,  -4.79235178e-01,   2.72832952e-01],\n",
       "         [  8.41542864e-01,   5.27251539e-01,  -1.17522007e-01]]),\n",
       "  'BoundaryRadius': array([ 0.96076446,  2.35939015,  1.03340235,  1.12329209]),\n",
       "  'Point1Array': array([[  2.15557214e+01,  -1.33126727e+01,   2.28515324e+01],\n",
       "         [ -2.11906574e-05,  -2.35932461e+00,  -2.33612776e+00],\n",
       "         [ -5.95338651e+00,  -2.65305610e+00,   2.37376798e+01],\n",
       "         [  2.97351203e+01,  -3.33042098e-01,   1.75626522e+01]]),\n",
       "  'Point2Array': array([[  2.06117736e+01,  -1.31478614e+01,   2.18882378e+01],\n",
       "         [ -2.35941134e+00,   6.55368117e-05,  -2.33612776e+00],\n",
       "         [ -6.52326287e+00,  -2.41516398e+00,   2.24131085e+01],\n",
       "         [  2.91283288e+01,   8.33993948e-01,   1.84533829e+01]]),\n",
       "  'CellEntityIds': array([2, 3, 4, 5], dtype=int32)},\n",
       " 'CellData': {'CellPointIds': array([[0],\n",
       "         [1],\n",
       "         [2],\n",
       "         [3]], dtype=int32)},\n",
       " 'PatchType': array(['outlet', 'inlet', 'outlet', 'outlet'], \n",
       "       dtype='<U6')}"
      ]
     },
     "execution_count": 67,
     "metadata": {},
     "output_type": "execute_result"
    }
   ],
   "source": [
    "# Get inlet by maximum radius condition\n",
    "# ~~~~~~~~~~~~~~~~~~~~~~~~~~~~~~~~~~~~~\n",
    "# Get max radius and its index\n",
    "maxRadius = max(dictPatchData['PointData']['BoundaryRadius'])\n",
    "inletPos, = np.where( dictPatchData['PointData']['BoundaryRadius'] == maxRadius )\n",
    "\n",
    "# Number of patches\n",
    "nPatches  = len(dictPatchData['PointData']['CellEntityIds'])\n",
    "\n",
    "# Update dictPatchData with patch info\n",
    "dictPatchData['PatchType'] = np.array(nPatches*['outlet'])\n",
    "dictPatchData['PatchType'][int(inletPos)] = 'inlet'\n",
    "dictPatchData"
   ]
  },
  {
   "cell_type": "code",
   "execution_count": 68,
   "metadata": {},
   "outputs": [
    {
     "data": {
      "text/plain": [
       "(1, 3, 5)"
      ]
     },
     "execution_count": 68,
     "metadata": {},
     "output_type": "execute_result"
    }
   ],
   "source": [
    "wallId  = 1\n",
    "inletId = dictPatchData['PointData']['CellEntityIds'][int(inletPos)]\n",
    "\n",
    "lastId = np.max(dictPatchData['PointData']['CellEntityIds'])\n",
    "\n",
    "wallId, inletId, lastId"
   ]
  },
  {
   "cell_type": "code",
   "execution_count": 69,
   "metadata": {},
   "outputs": [
    {
     "data": {
      "text/plain": [
       "{'inlet': 1, 'outlet': 3}"
      ]
     },
     "execution_count": 69,
     "metadata": {},
     "output_type": "execute_result"
    }
   ],
   "source": [
    "# Counting the number of inlets and outlets\n",
    "# using the numpy.unique function: it returns an ndarray with the unique itens of the input array\n",
    "# with the return_counts=True also returns the number of appearance of each item\n",
    "patchTypes, numberOfPatches = np.unique(dictPatchData['PatchType'], return_counts=True)\n",
    "\n",
    "# Zip both patchTypes and numberOfPatches and convert to dictionary\n",
    "# with number of inlets and outlets\n",
    "patchCount = dict(zip(patchTypes, numberOfPatches))\n",
    "patchCount"
   ]
  },
  {
   "cell_type": "code",
   "execution_count": 70,
   "metadata": {},
   "outputs": [
    {
     "name": "stdout",
     "output_type": "stream",
     "text": [
      "Writing VTK XML surface file.\n"
     ]
    }
   ],
   "source": [
    "# Surface reorientation\n",
    "# It is better to reorient the final capped surface before sending to mesh in SnappyHexMesh\n",
    "# The vmtksurfacereferencesystemtransform script takes a surface (the surfaceCapped above) \n",
    "# and rotates and translates it conforming one of its patches (in our case the inlet patch) to a target reference system\n",
    "# for that, it uses the output of the vtmkboundaryinspector\n",
    "\n",
    "surfaceTransform = vmtkscripts.vmtkSurfaceReferenceSystemTransform()\n",
    "\n",
    "# or use the just created surfaceCapped\n",
    "surfaceTransform.Surface = surfaceToMesh.Surface\n",
    "\n",
    "# Target reference system parameters\n",
    "surfaceTransform.ReferenceOrigin  = [0, 0, 0]  # translate to origin of system\n",
    "surfaceTransform.ReferenceNormal1 = [0, 0, -1] # inlet normal will coincide with -z axis orientation\n",
    "surfaceTransform.ReferenceNormal2 = [0, 0, -1]\n",
    "\n",
    "# Surface reference system\n",
    "surfaceTransform.ReferenceSystems = surfaceBoundaryInspector.ReferenceSystems\n",
    "\n",
    "# to get the reference systems of inlet patch\n",
    "# Note that, if there is more than one inlet, the inlet chose is the one with largest area\n",
    "surfaceTransform.ReferenceSystemId = inletId\n",
    "\n",
    "surfaceTransform.ReferenceSystemsIdArrayName      = surfaceCapper.CellEntityIdsArrayName\n",
    "surfaceTransform.ReferenceSystemsNormal1ArrayName = 'BoundaryNormals'\n",
    "surfaceTransform.ReferenceSystemsNormal2ArrayName = 'BoundaryNormals'\n",
    "\n",
    "surfaceTransform.SurfaceOutputFileName = surfacesDir+surfaceOrientedFile\n",
    "surfaceTransform.Execute()\n",
    "surfaceTransform.IOWrite()\n",
    "\n",
    "# Debug\n",
    "# surfaceTransform.PrintInputMembers()\n",
    "# surfaceTransform.PrintOutputMembers()"
   ]
  },
  {
   "cell_type": "code",
   "execution_count": 71,
   "metadata": {},
   "outputs": [],
   "source": [
    "# Check if patch dir exists\n",
    "# If it not exists, create it\n",
    "# the patch dir will contains the surface patch files for meshing (wall, inlet and outlet(s)) \n",
    "\n",
    "patchDir = surfacesDir+'patches/'\n",
    "\n",
    "if not os.path.isdir(patchDir):\n",
    "    os.makedirs(patchDir)\n",
    "    print(patchDir+' created.')"
   ]
  },
  {
   "cell_type": "code",
   "execution_count": 72,
   "metadata": {},
   "outputs": [
    {
     "name": "stdout",
     "output_type": "stream",
     "text": [
      "Extracting surface with id  1\n",
      "Writing STL surface file.\n",
      "Patch saved in /home/iagolessa/Documents/aneurysms/geometries/einsteinCases/rupturedCases/vmtkReconstruction/case4/surfaces/patches/wall.stl\n",
      "Extracting surface with id  2\n",
      "Patch with id 2 is an outlet. Defining file name: /home/iagolessa/Documents/aneurysms/geometries/einsteinCases/rupturedCases/vmtkReconstruction/case4/surfaces/patches/outlet1.stl\n",
      "Patch saved in /home/iagolessa/Documents/aneurysms/geometries/einsteinCases/rupturedCases/vmtkReconstruction/case4/surfaces/patches/outlet1.stl\n",
      "Writing STL surface file.\n",
      "\n",
      "\n",
      "Extracting surface with id  3\n",
      "Patch with id 3 is an inlet. Defining file name: /home/iagolessa/Documents/aneurysms/geometries/einsteinCases/rupturedCases/vmtkReconstruction/case4/surfaces/patches/inlet.stl\n",
      "Patch saved in /home/iagolessa/Documents/aneurysms/geometries/einsteinCases/rupturedCases/vmtkReconstruction/case4/surfaces/patches/inlet.stl\n",
      "Writing STL surface file.\n",
      "\n",
      "\n",
      "Extracting surface with id  4\n",
      "Patch with id 4 is an outlet. Defining file name: /home/iagolessa/Documents/aneurysms/geometries/einsteinCases/rupturedCases/vmtkReconstruction/case4/surfaces/patches/outlet2.stl\n",
      "Patch saved in /home/iagolessa/Documents/aneurysms/geometries/einsteinCases/rupturedCases/vmtkReconstruction/case4/surfaces/patches/outlet2.stl\n",
      "Writing STL surface file.\n",
      "\n",
      "\n",
      "Extracting surface with id  5\n",
      "Patch with id 5 is an outlet. Defining file name: /home/iagolessa/Documents/aneurysms/geometries/einsteinCases/rupturedCases/vmtkReconstruction/case4/surfaces/patches/outlet3.stl\n",
      "Patch saved in /home/iagolessa/Documents/aneurysms/geometries/einsteinCases/rupturedCases/vmtkReconstruction/case4/surfaces/patches/outlet3.stl\n",
      "Writing STL surface file.\n",
      "\n",
      "\n"
     ]
    }
   ],
   "source": [
    "# Using vmtkThreshold script to extract patches for mesh generations in snappy\n",
    "\n",
    "# Surface name to decompose if needs to be read before\n",
    "# if you uncomment these next two lines, dont forget to change line 22 below\n",
    "# surfaceOriented = readSurface(surfacesDir+surfaceCappedFile)\n",
    "\n",
    "# File names for patches\n",
    "wallFileName = patchDir+'wall.stl'\n",
    "\n",
    "# Extracting first the wall\n",
    "extractThreshold = vmtkscripts.vmtkThreshold()\n",
    "\n",
    "extractThreshold.Surface = surfaceTransform.Surface\n",
    "extractThreshold.LowThreshold  = wallId\n",
    "extractThreshold.HighThreshold = wallId\n",
    "extractThreshold.SurfaceOutputFileName = wallFileName\n",
    "\n",
    "print('Extracting surface with id ', wallId)\n",
    "\n",
    "extractThreshold.Execute()\n",
    "extractThreshold.IOWrite()\n",
    "extractThreshold.OutputText('Patch saved in '+extractThreshold.SurfaceOutputFileName+'\\n')\n",
    "\n",
    "# Outlet initial index (to increment) and to be used in output filename\n",
    "outletIndex = 1\n",
    "inletIndex  = 1\n",
    "\n",
    "# Loop to extract inlet and outlet patches\n",
    "for i in np.arange(nPatches):\n",
    "    \n",
    "    print('Extracting surface with id ', dictPatchData['PointData']['CellEntityIds'][i])\n",
    "    \n",
    "    # Instantiate vmtkthreshold\n",
    "    extractThreshold = vmtkscripts.vmtkThreshold()\n",
    "    extractThreshold.Surface       = surfaceTransform.Surface\n",
    "    extractThreshold.LowThreshold  = dictPatchData['PointData']['CellEntityIds'][i]\n",
    "    extractThreshold.HighThreshold = dictPatchData['PointData']['CellEntityIds'][i]\n",
    "    \n",
    "    # Defining output file names\n",
    "    if dictPatchData['PatchType'][i] == 'inlet':\n",
    "        \n",
    "        if patchCount['inlet'] == 1:\n",
    "            inletFileName = patchDir+'inlet.stl'\n",
    "        else:\n",
    "            inletFileName = patchDir+'inlet'+str(inletIndex)+'.stl'\n",
    "            inletIndex += 1\n",
    "            \n",
    "        # Attribute surface output file name\n",
    "        print('Patch with id '+str(dictPatchData['PointData']['CellEntityIds'][i])+' is an inlet. Defining file name: '+inletFileName) # debugging\n",
    "        \n",
    "        extractThreshold.SurfaceOutputFileName = inletFileName\n",
    "        \n",
    "    elif dictPatchData['PatchType'][i] == 'outlet':\n",
    "        \n",
    "        if patchCount['outlet'] == 1:\n",
    "            outletFileName = patchDir+'outlet.stl'\n",
    "            \n",
    "        else:\n",
    "            outletFileName = patchDir+'outlet'+str(outletIndex)+'.stl'\n",
    "            outletIndex += 1\n",
    "            \n",
    "        print('Patch with id '+str(dictPatchData['PointData']['CellEntityIds'][i])+' is an outlet. Defining file name: '+outletFileName) # debugging\n",
    "        \n",
    "        extractThreshold.SurfaceOutputFileName = outletFileName\n",
    "    \n",
    "    extractThreshold.Execute()\n",
    "    extractThreshold.OutputText('Patch saved in '+extractThreshold.SurfaceOutputFileName+'\\n')\n",
    "    extractThreshold.IOWrite()\n",
    "    print('\\n')"
   ]
  },
  {
   "cell_type": "markdown",
   "metadata": {},
   "source": [
    "<hr>\n",
    "The two cells below save the oriented surface and its Voronoi diagram to the parent vessel reconstruction procedure "
   ]
  },
  {
   "cell_type": "code",
   "execution_count": null,
   "metadata": {},
   "outputs": [],
   "source": [
    "# Final surface for parent vessel reconstruction\n",
    "caseId = 'case11'\n",
    "\n",
    "if not os.path.isdir(parentVesselDir+caseId):\n",
    "    os.makedirs(parentVesselDir+caseId)\n",
    "    \n",
    "surfaceForParentVessel = parentVesselDir+caseId+\"/\"+caseId+\"_model.vtp\"\n",
    "print(surfaceForParentVessel)\n",
    "vmtk_functions.writeSurface(surfaceTransform.Surface, surfaceForParentVessel, \"binary\")"
   ]
  },
  {
   "cell_type": "code",
   "execution_count": null,
   "metadata": {},
   "outputs": [],
   "source": [
    "# Compute Voronoi Diagram Separately for parent vessel reconstruction\n",
    "voronoiDiagram = vmtkscripts.vmtkDelaunayVoronoi()\n",
    "\n",
    "voronoiDiagram.Surface = surfaceTransform.Surface\n",
    "# voronoiDiagram.SurfaceInputFileName = surfaceInputFile #casePath+\"surfaces/surfaceRemeshed.vtp\" \n",
    "# voronoiDiagram.IORead()\n",
    "voronoiDiagram.CheckNonManifold = 1\n",
    "voronoiDiagram.RemoveSubresolutionTetrahedra = 1\n",
    "# voronoiDiagram.DelaunayTessellationOutputFileName = casePath+\"surfaces/delaunayTesselation.vtp\"\n",
    "voronoiDiagram.VoronoiDiagramOutputFileName = parentVesselDir+caseId+\"/\"+caseId+\"_voronoi.vtp\"\n",
    "voronoiDiagram.Execute()\n",
    "voronoiDiagram.IOWrite()"
   ]
  },
  {
   "cell_type": "markdown",
   "metadata": {},
   "source": [
    "<hr>\n",
    "\n",
    "The following cell puts together all the operations above in a single function.\n",
    "I am considering changing it to a class and define it as VMTK script or a simple python script.\n",
    "\n",
    "Because of the VMTK piping system when used in my workflow of aneurysm surface extraction, \n",
    "it would be nice I think to include it as a specialized pypes script."
   ]
  },
  {
   "cell_type": "code",
   "execution_count": 54,
   "metadata": {},
   "outputs": [],
   "source": [
    "def patchSurface(surface, outputDir):\n",
    "    \"\"\" \n",
    "    Function to patch a surface to be used \n",
    "    in CFD by creating a mesh in snappyHexMesh.\n",
    "    The function also orient the surface putting\n",
    "    the inlet (selected by largest radius) center\n",
    "    on the origin of the system, with its outward\n",
    "    normal point to -z direction.\n",
    "    \"\"\"\n",
    "    # Cap surface\n",
    "    surfaceCapper = vmtkscripts.vmtkSurfaceCapper()\n",
    "    surfaceCapper.Surface = surface\n",
    "    surfaceCapper.Method = 'centerpoint'\n",
    "    surfaceCapper.Interactive = 0\n",
    "    surfaceCapper.Execute()\n",
    "\n",
    "    # Surface boundary inspector\n",
    "    # Conveting surface to mesh to get cell entity ids\n",
    "    surfaceToMesh = vmtkscripts.vmtkSurfaceToMesh()\n",
    "    surfaceToMesh.Surface = surfaceCapper.Surface\n",
    "    surfaceToMesh.Execute()\n",
    "\n",
    "    # Inspecting\n",
    "    surfaceBoundaryInspector = vmtkscripts.vmtkMeshBoundaryInspector()\n",
    "    surfaceBoundaryInspector.Mesh = surfaceToMesh.Mesh\n",
    "    surfaceBoundaryInspector.CellEntityIdsArrayName = surfaceCapper.CellEntityIdsArrayName\n",
    "    surfaceBoundaryInspector.Execute()\n",
    "\n",
    "    # Store patch info in python dictionary using vmtksurfacetonumpy\n",
    "    vmtkToNumpy = vmtkscripts.vmtkSurfaceToNumpy()\n",
    "    vmtkToNumpy.Surface = surfaceBoundaryInspector.ReferenceSystems\n",
    "    vmtkToNumpy.Execute()\n",
    "\n",
    "    dictPatchData = vmtkToNumpy.ArrayDict\n",
    "\n",
    "    # Get inlet by maximum radius condition\n",
    "    # ~~~~~~~~~~~~~~~~~~~~~~~~~~~~~~~~~~~~~\n",
    "    # Get max radius and its index\n",
    "    maxRadius = max(dictPatchData['PointData']['BoundaryRadius'])\n",
    "    inletPos, = np.where( dictPatchData['PointData']['BoundaryRadius'] == maxRadius )\n",
    "\n",
    "    # Number of patches\n",
    "    nPatches  = len(dictPatchData['PointData']['CellEntityIds'])\n",
    "\n",
    "    # Update dictPatchData with patch info\n",
    "    dictPatchData['PatchType'] = np.array(nPatches*['outlet'])\n",
    "    dictPatchData['PatchType'][int(inletPos)] = 'inlet'\n",
    "    dictPatchData\n",
    "\n",
    "    wallId  = 1\n",
    "    inletId = dictPatchData['PointData']['CellEntityIds'][int(inletPos)]\n",
    "\n",
    "    # Counting the number of inlets and outlets\n",
    "    # using the numpy.unique function: it returns an ndarray with the unique itens of the input array\n",
    "    # with the return_counts=True also returns the number of appearance of each item\n",
    "    patchTypes, numberOfPatches = np.unique(dictPatchData['PatchType'], return_counts=True)\n",
    "\n",
    "    # Zip both patchTypes and numberOfPatches and convert to dictionary\n",
    "    # with number of inlets and outlets\n",
    "    patchCount = dict(zip(patchTypes, numberOfPatches))\n",
    "\n",
    "    # Surface reorientation\n",
    "    # It is better to reorient the final capped surface before sending to mesh in SnappyHexMesh\n",
    "    # The vmtksurfacereferencesystemtransform script takes a surface (the surfaceCapped above) \n",
    "    # and rotates and translates it conforming one of its patches (in our case the inlet patch) to a target reference system\n",
    "    # for that, it uses the output of the vtmkboundaryinspector\n",
    "\n",
    "    surfaceTransform = vmtkscripts.vmtkSurfaceReferenceSystemTransform()\n",
    "\n",
    "    # or use the just created surfaceCapped\n",
    "    surfaceTransform.Surface = surfaceToMesh.Surface\n",
    "\n",
    "    # Target reference system parameters\n",
    "    surfaceTransform.ReferenceOrigin  = [0, 0, 0]  # translate to origin of system\n",
    "    surfaceTransform.ReferenceNormal1 = [0, 0, -1] # inlet normal will coincide with -z axis orientation\n",
    "    surfaceTransform.ReferenceNormal2 = [0, 0, -1]\n",
    "\n",
    "    # Surface reference system\n",
    "    surfaceTransform.ReferenceSystems = surfaceBoundaryInspector.ReferenceSystems\n",
    "\n",
    "    # to get the reference systems of inlet patch\n",
    "    # Note that, if there is more than one inlet, the inlet chose is the one with largest area\n",
    "    surfaceTransform.ReferenceSystemId = inletId\n",
    "\n",
    "    surfaceTransform.ReferenceSystemsIdArrayName      = surfaceCapper.CellEntityIdsArrayName\n",
    "    surfaceTransform.ReferenceSystemsNormal1ArrayName = 'BoundaryNormals'\n",
    "    surfaceTransform.ReferenceSystemsNormal2ArrayName = 'BoundaryNormals'\n",
    "\n",
    "#     surfaceTransform.SurfaceOutputFileName = surfacesDir+surfaceOrientedFile\n",
    "    surfaceTransform.Execute()\n",
    "#     surfaceTransform.IOWrite()\n",
    "\n",
    "    # Check if patch dir exists\n",
    "    # If it not exists, create it\n",
    "    # the patch dir will contains the surface patch files for meshing (wall, inlet and outlet(s)) \n",
    "\n",
    "    patchDir = outputDir+'patches/'\n",
    "\n",
    "    if not os.path.isdir(patchDir):\n",
    "        os.makedirs(patchDir)\n",
    "        print(patchDir+' created.')\n",
    "\n",
    "    # Using vmtkThreshold script to extract patches for mesh generations in snappy\n",
    "\n",
    "    # Surface name to decompose if needs to be read before\n",
    "    # if you uncomment these next two lines, dont forget to change line 22 below\n",
    "    # surfaceOriented = readSurface(surfacesDir+surfaceCappedFile)\n",
    "\n",
    "    # File names for patches\n",
    "    wallFileName = patchDir+'wall.stl'\n",
    "\n",
    "    # Extracting first the wall\n",
    "    extractThreshold = vmtkscripts.vmtkThreshold()\n",
    "\n",
    "    extractThreshold.Surface = surfaceTransform.Surface\n",
    "    extractThreshold.LowThreshold  = wallId\n",
    "    extractThreshold.HighThreshold = wallId\n",
    "    extractThreshold.SurfaceOutputFileName = wallFileName\n",
    "\n",
    "    print('Extracting surface with id ', wallId)\n",
    "\n",
    "    extractThreshold.Execute()\n",
    "    extractThreshold.IOWrite()\n",
    "    extractThreshold.OutputText('Patch saved in '+extractThreshold.SurfaceOutputFileName+'\\n')\n",
    "\n",
    "    # Outlet initial index (to increment) and to be used in output filename\n",
    "    outletIndex = 1\n",
    "    inletIndex  = 1\n",
    "\n",
    "    # Loop to extract inlet and outlet patches\n",
    "    for i in np.arange(nPatches):\n",
    "\n",
    "        print('Extracting surface with id ', dictPatchData['PointData']['CellEntityIds'][i])\n",
    "\n",
    "        # Instantiate vmtkthreshold\n",
    "        extractThreshold = vmtkscripts.vmtkThreshold()\n",
    "        extractThreshold.Surface       = surfaceTransform.Surface\n",
    "        extractThreshold.LowThreshold  = dictPatchData['PointData']['CellEntityIds'][i]\n",
    "        extractThreshold.HighThreshold = dictPatchData['PointData']['CellEntityIds'][i]\n",
    "\n",
    "        # Defining output file names\n",
    "        if dictPatchData['PatchType'][i] == 'inlet':\n",
    "\n",
    "            if patchCount['inlet'] == 1:\n",
    "                inletFileName = patchDir+'inlet.stl'\n",
    "            else:\n",
    "                inletFileName = patchDir+'inlet'+str(inletIndex)+'.stl'\n",
    "                inletIndex += 1\n",
    "\n",
    "            # Attribute surface output file name\n",
    "            print('Patch with id '+str(dictPatchData['PointData']['CellEntityIds'][i])+' is an inlet. Defining file name: '+inletFileName) # debugging\n",
    "\n",
    "            extractThreshold.SurfaceOutputFileName = inletFileName\n",
    "\n",
    "        elif dictPatchData['PatchType'][i] == 'outlet':\n",
    "\n",
    "            if patchCount['outlet'] == 1:\n",
    "                outletFileName = patchDir+'outlet.stl'\n",
    "\n",
    "            else:\n",
    "                outletFileName = patchDir+'outlet'+str(outletIndex)+'.stl'\n",
    "                outletIndex += 1\n",
    "\n",
    "            print('Patch with id '+str(dictPatchData['PointData']['CellEntityIds'][i])+' is an outlet. Defining file name: '+outletFileName) # debugging\n",
    "\n",
    "            extractThreshold.SurfaceOutputFileName = outletFileName\n",
    "\n",
    "        extractThreshold.Execute()\n",
    "        extractThreshold.OutputText('Patch saved in '+extractThreshold.SurfaceOutputFileName+'\\n')\n",
    "        extractThreshold.IOWrite()\n",
    "        print('\\n')"
   ]
  }
 ],
 "metadata": {
  "kernelspec": {
   "display_name": "Python [conda env:vmtk]",
   "language": "python",
   "name": "conda-env-vmtk-py"
  },
  "language_info": {
   "codemirror_mode": {
    "name": "ipython",
    "version": 3
   },
   "file_extension": ".py",
   "mimetype": "text/x-python",
   "name": "python",
   "nbconvert_exporter": "python",
   "pygments_lexer": "ipython3",
   "version": "3.6.1"
  }
 },
 "nbformat": 4,
 "nbformat_minor": 2
}
