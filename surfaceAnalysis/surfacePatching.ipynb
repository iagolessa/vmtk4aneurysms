{
 "cells": [
  {
   "cell_type": "markdown",
   "metadata": {},
   "source": [
    "# **Patching Surface for *snappyHexMesh* Generation**\n",
    "<hr>"
   ]
  },
  {
   "cell_type": "code",
   "execution_count": 2,
   "metadata": {
    "slideshow": {
     "slide_type": "slide"
    }
   },
   "outputs": [],
   "source": [
    "from vmtk import vmtkscripts\n",
    "import numpy as np\n",
    "import os"
   ]
  },
  {
   "cell_type": "code",
   "execution_count": 3,
   "metadata": {},
   "outputs": [],
   "source": [
    "%run '../vmtk_functions.py'\n",
    "%run '../vmtk_filenames.py'"
   ]
  },
  {
   "cell_type": "code",
   "execution_count": 4,
   "metadata": {},
   "outputs": [],
   "source": [
    "# Path where files are stored\n",
    "aneurysmsPath = \"/home/iagolessa/Documents/unesp/doctorate/data/\""
   ]
  },
  {
   "cell_type": "code",
   "execution_count": 5,
   "metadata": {
    "collapsed": true
   },
   "outputs": [
    {
     "name": "stdout",
     "output_type": "stream",
     "text": [
      "Files saved to: /home/iagolessa/Documents/unesp/doctorate/data/aneurysms/geometries/einsteinCases/unrupturedCases/vmtkReconstruction/case14/\n"
     ]
    }
   ],
   "source": [
    "# Path to save the generated files when extracting the surface\n",
    "# We reccomend to separate it from the DICOM original dir. \n",
    "# Note that inside casePath, this code will create different sub-directories to store different data types\n",
    "casePath       = aneurysmsPath+\"aneurysms/geometries/einsteinCases/unrupturedCases/vmtkReconstruction/case14/\"\n",
    "\n",
    "# Define subdirs\n",
    "imagesDir       = casePath+'images/'\n",
    "surfacesDir     = casePath+'surfaces/'\n",
    "centerlinesDir  = casePath+'centerlines/'\n",
    "meshesDir       = casePath+'meshes/'\n",
    "parentVesselDir = casePath+\"parentVessel/\"\n",
    "\n",
    "print('Files saved to:', casePath)"
   ]
  },
  {
   "cell_type": "markdown",
   "metadata": {},
   "source": [
    "<hr>\n",
    "\n",
    "# **Surface Orientation and Patching**\n",
    "\n",
    "The cells below takes care of orienting the surface by translate and rotate transformations, to conform the inlet patch surface normal to the opposite z direction (this orientation was chosen to facilitate the introduction of boundary conditions at simulation time). \n",
    "\n",
    "The oriented surface is then 'exploded' to its constituent patches using the 'vmtkthreshold' script. First, the boundary is inspected generating a reference system file -- 'referenceSystem.dat' with the normal and center information of each cap patch (the wall has id 1 by default, and we prefer to keep it that way). The capped surface is, then, transformed and saved to disk -- 'surfaceOriented.stl' -- and finally is decomposed into its patches.\n",
    "\n",
    "One of the cells below try to identify the inlet patch index by the patch area, because, usually, the inlet has larger area than the outlets (but is always important to be sure of the inlet id)."
   ]
  },
  {
   "cell_type": "code",
   "execution_count": 28,
   "metadata": {},
   "outputs": [
    {
     "data": {
      "text/plain": [
       "('outlet', '.stl')"
      ]
     },
     "execution_count": 28,
     "metadata": {},
     "output_type": "execute_result"
    }
   ],
   "source": [
    "outletFileName  = 'outlet.stl'\n",
    "outletFileName[0:6], outletFileName[6:10]"
   ]
  },
  {
   "cell_type": "code",
   "execution_count": 46,
   "metadata": {},
   "outputs": [
    {
     "name": "stdout",
     "output_type": "stream",
     "text": [
      "Appending to ../vmtk_functions.py\n"
     ]
    }
   ],
   "source": [
    "%%writefile -a ../vmtk_functions.py\n",
    "\n",
    "def patchSurface(surface, outputDir, capped=True):\n",
    "    \"\"\" \n",
    "    Function to patch a surface to be used \n",
    "    in CFD by creating a mesh in snappyHexMesh.\n",
    "    The function also orient the surface putting\n",
    "    the inlet (selected by largest radius) center\n",
    "    on the origin of the system, with its outward\n",
    "    normal point to -z direction.\n",
    "    \"\"\"\n",
    "\n",
    "    inletFileName  = 'inlet.stl'\n",
    "    outletFileName = 'outlet.stl'\n",
    "    wallFileName   = 'wall.stl'\n",
    "    CellEntityIdsArray   = 'CellEntityIds'\n",
    "    BoundaryRadiusArray  = 'BoundaryRadius'\n",
    "    BoundaryNormalsArray = 'BoundaryNormals'\n",
    "    \n",
    "    origin = [0, 0, 0]\n",
    "    orientation = [0, 0, -1]\n",
    "    \n",
    "    \n",
    "    # Check if patch dir exists\n",
    "    patchDir = outputDir+'patches/'\n",
    "    if not os.path.isdir(patchDir):\n",
    "        os.makedirs(patchDir)\n",
    "#         print(patchDir+' created.')\n",
    "    \n",
    "    \n",
    "    # Check cap condition\n",
    "    if capped == False:\n",
    "        surfaceCapper = vmtkscripts.vmtkSurfaceCapper()\n",
    "        surfaceCapper.Surface = surface\n",
    "        surfaceCapper.Method  = 'centerpoint'\n",
    "        surfaceCapper.Interactive = 0\n",
    "        surfaceCapper.Execute()\n",
    "        \n",
    "        surface = surfaceCapper.Surface\n",
    "\n",
    "        \n",
    "    # Surface boundary inspector\n",
    "    # Conveting surface to mesh to get cell entity ids\n",
    "    surfaceToMesh = vmtkscripts.vmtkSurfaceToMesh()\n",
    "    surfaceToMesh.Surface = surface\n",
    "    surfaceToMesh.Execute()\n",
    "\n",
    "    # Inspecting\n",
    "    surfaceBoundaryInspector = vmtkscripts.vmtkMeshBoundaryInspector()\n",
    "    surfaceBoundaryInspector.Mesh = surfaceToMesh.Mesh\n",
    "    surfaceBoundaryInspector.CellEntityIdsArrayName = CellEntityIdsArray\n",
    "    surfaceBoundaryInspector.Execute()\n",
    "\n",
    "    # Store patch info in python dictionary using vmtksurfacetonumpy\n",
    "    vmtkToNumpy = vmtkscripts.vmtkSurfaceToNumpy()\n",
    "    vmtkToNumpy.Surface = surfaceBoundaryInspector.ReferenceSystems\n",
    "    vmtkToNumpy.Execute()\n",
    "\n",
    "    dictPatchData = vmtkToNumpy.ArrayDict\n",
    "    \n",
    "\n",
    "    # Get inlet by maximum radius condition\n",
    "    # ~~~~~~~~~~~~~~~~~~~~~~~~~~~~~~~~~~~~~\n",
    "    # Get max radius and its index\n",
    "    maxRadius = max(dictPatchData['PointData'][BoundaryRadiusArray])\n",
    "    inletPos, = np.where( dictPatchData['PointData'][BoundaryRadiusArray] == maxRadius )\n",
    "\n",
    "    # Number of patches\n",
    "    nPatches  = len(dictPatchData['PointData'][CellEntityIdsArray])\n",
    "\n",
    "    # Update dictPatchData with patch info\n",
    "    dictPatchData['PatchType'] = np.array(nPatches*['outlet'])\n",
    "    dictPatchData['PatchType'][int(inletPos)] = 'inlet'\n",
    "#     dictPatchData\n",
    "\n",
    "    wallId  = 1\n",
    "    inletId = dictPatchData['PointData'][CellEntityIdsArray][int(inletPos)]\n",
    "\n",
    "    # Counting the number of inlets and outlets\n",
    "    # using the numpy.unique function: it returns an ndarray with the unique itens of the input array\n",
    "    # with the return_counts=True also returns the number of appearance of each item\n",
    "    patchTypes, numberOfPatches = np.unique(dictPatchData['PatchType'], return_counts=True)\n",
    "\n",
    "    \n",
    "    # Zip both patchTypes and numberOfPatches and convert to dictionary\n",
    "    # with number of inlets and outlets\n",
    "    patchCount = dict(zip(patchTypes, numberOfPatches))\n",
    "\n",
    "    # Surface reorientation\n",
    "    # The vmtksurfacereferencesystemtransform script takes a surface (the surfaceCapped above) \n",
    "    # and rotates and translates it conforming one of its patches (in our case the inlet patch) \n",
    "    # to a target reference system for that, it uses the output of the vtmkboundaryinspector\n",
    "    surfaceTransform = vmtkscripts.vmtkSurfaceReferenceSystemTransform()\n",
    "    surfaceTransform.Surface = surfaceToMesh.Surface\n",
    "\n",
    "    # Target reference system parameters\n",
    "    surfaceTransform.ReferenceOrigin  = origin  # translate to origin of system\n",
    "    surfaceTransform.ReferenceNormal1 = orientation # inlet normal will coincide with -z axis orientation\n",
    "    surfaceTransform.ReferenceNormal2 = orientation\n",
    "\n",
    "    # Surface reference system\n",
    "    surfaceTransform.ReferenceSystems = surfaceBoundaryInspector.ReferenceSystems\n",
    "    # to get the reference systems of inlet patch\n",
    "    # Note that, if there is more than one inlet, the inlet chose is the one with largest area\n",
    "    surfaceTransform.ReferenceSystemId = inletId\n",
    "    surfaceTransform.ReferenceSystemsIdArrayName      = CellEntityIdsArray\n",
    "    surfaceTransform.ReferenceSystemsNormal1ArrayName = BoundaryNormalsArray\n",
    "    surfaceTransform.ReferenceSystemsNormal2ArrayName = BoundaryNormalsArray\n",
    "    surfaceTransform.Execute()\n",
    "\n",
    "    \n",
    "    # Using vmtkThreshold script to extract patches for mesh generations in snappy\n",
    "    # Extracting first the wall\n",
    "    extractThreshold = vmtkscripts.vmtkThreshold()\n",
    "    extractThreshold.Surface = surfaceTransform.Surface\n",
    "    extractThreshold.LowThreshold  = wallId\n",
    "    extractThreshold.HighThreshold = wallId\n",
    "    extractThreshold.SurfaceOutputFileName = patchDir+wallFileName\n",
    "    extractThreshold.OutputText('Extracting surface with id '+str(wallId)+'\\n')\n",
    "    extractThreshold.Execute()\n",
    "    extractThreshold.IOWrite()\n",
    "    extractThreshold.OutputText('Patch saved in '+extractThreshold.SurfaceOutputFileName+'\\n')\n",
    "\n",
    "    # Outlet initial index (to increment) and to be used in output filename\n",
    "    outletIndex = 1\n",
    "    inletIndex  = 1\n",
    "\n",
    "    # Loop to extract inlet and outlet patches\n",
    "    for i in np.arange(nPatches):\n",
    "        # Instantiate vmtkthreshold\n",
    "        extractThreshold = vmtkscripts.vmtkThreshold()\n",
    "        extractThreshold.Surface       = surfaceTransform.Surface\n",
    "        extractThreshold.LowThreshold  = dictPatchData['PointData'][CellEntityIdsArray][i]\n",
    "        extractThreshold.HighThreshold = dictPatchData['PointData'][CellEntityIdsArray][i]\n",
    "        extractThreshold.OutputText('Extracting surface with id '+str(dictPatchData['PointData'][CellEntityIdsArray][i])+'\\n')\n",
    "        \n",
    "        \n",
    "        # Defining output file names\n",
    "        if dictPatchData['PatchType'][i] == 'inlet':\n",
    "\n",
    "            if patchCount['inlet'] == 1:\n",
    "                inletFilePath = patchDir+inletFileName\n",
    "            else:\n",
    "                prefix = inletFileName[0:5]\n",
    "                suffix = inletFileName[5:9]\n",
    "                inletFilePath = patchDir + prefix + str(inletIndex) + suffix\n",
    "                inletIndex += 1\n",
    "                \n",
    "            extractThreshold.SurfaceOutputFileName = inletFilePath\n",
    "\n",
    "            \n",
    "        elif dictPatchData['PatchType'][i] == 'outlet':\n",
    "            if patchCount['outlet'] == 1:\n",
    "                outletFilePath = patchDir+outletFileName\n",
    "            else:\n",
    "                prefix = outletFileName[0:6]\n",
    "                suffix = outletFileName[6:10]\n",
    "                outletFilePath = patchDir + prefix + str(outletIndex) + suffix\n",
    "                outletIndex += 1\n",
    "\n",
    "            extractThreshold.SurfaceOutputFileName = outletFilePath\n",
    "\n",
    "        extractThreshold.Execute()\n",
    "        extractThreshold.OutputText('Patch saved in '+extractThreshold.SurfaceOutputFileName+'\\n')\n",
    "        extractThreshold.IOWrite()"
   ]
  },
  {
   "cell_type": "code",
   "execution_count": 36,
   "metadata": {},
   "outputs": [
    {
     "name": "stdout",
     "output_type": "stream",
     "text": [
      "Reading VTK XML surface file.\n",
      "Quit renderer\n"
     ]
    }
   ],
   "source": [
    "# Get array with pacthes info\n",
    "# surface = vmtk_functions.readSurface(surfacesDir+'surfaceRemeshedSpatialVaryingResolution.stl')\n",
    "surface = readSurface(surfacesDir+surfaceCappedFile)\n",
    "viewSurface(surface)"
   ]
  },
  {
   "cell_type": "code",
   "execution_count": 43,
   "metadata": {},
   "outputs": [
    {
     "name": "stdout",
     "output_type": "stream",
     "text": [
      "\n",
      "CellEntityId: 2\n",
      "  Origin: 62.042797, 64.870956, 83.123367\n",
      "  Normal: 0.050951, -0.004113, 0.998693\n",
      "  Radius: 2.312869\n",
      "\n",
      "CellEntityId: 3\n",
      "  Origin: 57.510494, 60.195553, 71.737450\n",
      "  Normal: -0.441277, -0.879628, 0.177565\n",
      "  Radius: 1.029664\n",
      "\n",
      "CellEntityId: 4\n",
      "  Origin: 77.544365, 61.752296, 65.396210\n",
      "  Normal: 0.717085, 0.511094, 0.473891\n",
      "  Radius: 1.436829\n",
      "\n",
      "Quit renderer\n",
      "wrapping vtkPolyData object\n",
      "converting cell data: \n",
      "converting points\n",
      "converting point data: \n",
      "BoundaryNormals\n",
      "BoundaryRadius\n",
      "Point1Array\n",
      "Point2Array\n",
      "CellEntityIds\n",
      "converting cell connectivity list\n",
      "Extracting surface with id 1\n",
      "Writing STL surface file.\n",
      "Patch saved in /home/iagolessa/patches/wall.stl\n",
      "Extracting surface with id 2\n",
      "Patch saved in /home/iagolessa/patches/inlet.stl\n",
      "Writing STL surface file.\n",
      "Extracting surface with id 3\n",
      "outlet .stl\n",
      "Patch saved in /home/iagolessa/patches/outlet1.stl\n",
      "Writing STL surface file.\n",
      "Extracting surface with id 4\n",
      "outlet .stl\n",
      "Patch saved in /home/iagolessa/patches/outlet2.stl\n",
      "Writing STL surface file.\n"
     ]
    }
   ],
   "source": [
    "patchSurface(surface,'/home/iagolessa/')"
   ]
  },
  {
   "cell_type": "markdown",
   "metadata": {},
   "source": [
    "<hr>"
   ]
  },
  {
   "cell_type": "code",
   "execution_count": null,
   "metadata": {},
   "outputs": [],
   "source": [
    "# Capping the surface\n",
    "surfaceCapper = vmtkscripts.vmtkSurfaceCapper()\n",
    "surfaceCapper.Surface = surface\n",
    "surfaceCapper.Method = 'centerpoint'\n",
    "surfaceCapper.Interactive = 0\n",
    "surfaceCapper.Execute()"
   ]
  },
  {
   "cell_type": "code",
   "execution_count": null,
   "metadata": {},
   "outputs": [],
   "source": [
    "# Surface boundary inspector\n",
    "# Conveting surface to mesh to get cell entity ids\n",
    "surfaceToMesh = vmtkscripts.vmtkSurfaceToMesh()\n",
    "surfaceToMesh.Surface = surfaceCapper.Surface\n",
    "surfaceToMesh.Execute()\n",
    "\n",
    "# Inspecting\n",
    "surfaceBoundaryInspector = vmtkscripts.vmtkMeshBoundaryInspector()\n",
    "surfaceBoundaryInspector.Mesh = surfaceToMesh.Mesh\n",
    "surfaceBoundaryInspector.CellEntityIdsArrayName = surfaceCapper.CellEntityIdsArrayName\n",
    "surfaceBoundaryInspector.Execute()\n",
    "\n",
    "# Store patch info in python dictionary using vmtksurfacetonumpy\n",
    "vmtkToNumpy = vmtkscripts.vmtkSurfaceToNumpy()\n",
    "vmtkToNumpy.Surface = surfaceBoundaryInspector.ReferenceSystems\n",
    "vmtkToNumpy.Execute()\n",
    "\n",
    "dictPatchData = vmtkToNumpy.ArrayDict"
   ]
  },
  {
   "cell_type": "code",
   "execution_count": null,
   "metadata": {},
   "outputs": [],
   "source": [
    "# # Build condition array where centers are not equal to inlet center\n",
    "# # therefore, outlet centers\n",
    "# inletBarycenterArray = dictPatchData['Points'][int(inletPos)]\n",
    "# notInlet = (dictPatchData['Points'] != inletBarycenterArray)\n",
    "\n",
    "# # Inlet and outlet centers\n",
    "# # inletBarycenters  = dictPatchData['Points'][int(index)].tolist()\n",
    "# outletBarycenters = np.extract(notInlet, dictPatchData['Points']).tolist()"
   ]
  },
  {
   "cell_type": "code",
   "execution_count": null,
   "metadata": {},
   "outputs": [],
   "source": [
    "# Get inlet by maximum radius condition\n",
    "# ~~~~~~~~~~~~~~~~~~~~~~~~~~~~~~~~~~~~~\n",
    "# Get max radius and its index\n",
    "maxRadius = max(dictPatchData['PointData']['BoundaryRadius'])\n",
    "inletPos, = np.where( dictPatchData['PointData']['BoundaryRadius'] == maxRadius )\n",
    "\n",
    "# Number of patches\n",
    "nPatches  = len(dictPatchData['PointData']['CellEntityIds'])\n",
    "\n",
    "# Update dictPatchData with patch info\n",
    "dictPatchData['PatchType'] = np.array(nPatches*['outlet'])\n",
    "dictPatchData['PatchType'][int(inletPos)] = 'inlet'\n",
    "dictPatchData"
   ]
  },
  {
   "cell_type": "code",
   "execution_count": null,
   "metadata": {},
   "outputs": [],
   "source": [
    "wallId  = 1\n",
    "inletId = dictPatchData['PointData']['CellEntityIds'][int(inletPos)]\n",
    "\n",
    "lastId = np.max(dictPatchData['PointData']['CellEntityIds'])\n",
    "\n",
    "wallId, inletId, lastId"
   ]
  },
  {
   "cell_type": "code",
   "execution_count": null,
   "metadata": {},
   "outputs": [],
   "source": [
    "# Counting the number of inlets and outlets\n",
    "# using the numpy.unique function: it returns an ndarray with the unique itens of the input array\n",
    "# with the return_counts=True also returns the number of appearance of each item\n",
    "patchTypes, numberOfPatches = np.unique(dictPatchData['PatchType'], return_counts=True)\n",
    "\n",
    "# Zip both patchTypes and numberOfPatches and convert to dictionary\n",
    "# with number of inlets and outlets\n",
    "patchCount = dict(zip(patchTypes, numberOfPatches))\n",
    "patchCount"
   ]
  },
  {
   "cell_type": "code",
   "execution_count": null,
   "metadata": {},
   "outputs": [],
   "source": [
    "# Surface reorientation\n",
    "# It is better to reorient the final capped surface before sending to mesh in SnappyHexMesh\n",
    "# The vmtksurfacereferencesystemtransform script takes a surface (the surfaceCapped above) \n",
    "# and rotates and translates it conforming one of its patches (in our case the inlet patch) to a target reference system\n",
    "# for that, it uses the output of the vtmkboundaryinspector\n",
    "\n",
    "surfaceTransform = vmtkscripts.vmtkSurfaceReferenceSystemTransform()\n",
    "\n",
    "# or use the just created surfaceCapped\n",
    "surfaceTransform.Surface = surfaceToMesh.Surface\n",
    "\n",
    "# Target reference system parameters\n",
    "surfaceTransform.ReferenceOrigin  = [0, 0, 0]  # translate to origin of system\n",
    "surfaceTransform.ReferenceNormal1 = [0, 0, -1] # inlet normal will coincide with -z axis orientation\n",
    "surfaceTransform.ReferenceNormal2 = [0, 0, -1]\n",
    "\n",
    "# Surface reference system\n",
    "surfaceTransform.ReferenceSystems = surfaceBoundaryInspector.ReferenceSystems\n",
    "\n",
    "# to get the reference systems of inlet patch\n",
    "# Note that, if there is more than one inlet, the inlet chose is the one with largest area\n",
    "surfaceTransform.ReferenceSystemId = inletId\n",
    "\n",
    "surfaceTransform.ReferenceSystemsIdArrayName      = surfaceCapper.CellEntityIdsArrayName\n",
    "surfaceTransform.ReferenceSystemsNormal1ArrayName = 'BoundaryNormals'\n",
    "surfaceTransform.ReferenceSystemsNormal2ArrayName = 'BoundaryNormals'\n",
    "\n",
    "surfaceTransform.SurfaceOutputFileName = surfacesDir+surfaceOrientedFile\n",
    "surfaceTransform.Execute()\n",
    "surfaceTransform.IOWrite()\n",
    "\n",
    "# Debug\n",
    "# surfaceTransform.PrintInputMembers()\n",
    "# surfaceTransform.PrintOutputMembers()"
   ]
  },
  {
   "cell_type": "code",
   "execution_count": null,
   "metadata": {},
   "outputs": [],
   "source": [
    "# Check if patch dir exists\n",
    "# If it not exists, create it\n",
    "# the patch dir will contains the surface patch files for meshing (wall, inlet and outlet(s)) \n",
    "\n",
    "patchDir = surfacesDir+'patches/'\n",
    "\n",
    "if not os.path.isdir(patchDir):\n",
    "    os.makedirs(patchDir)\n",
    "    print(patchDir+' created.')"
   ]
  },
  {
   "cell_type": "code",
   "execution_count": null,
   "metadata": {},
   "outputs": [],
   "source": [
    "# Using vmtkThreshold script to extract patches for mesh generations in snappy\n",
    "\n",
    "# Surface name to decompose if needs to be read before\n",
    "# if you uncomment these next two lines, dont forget to change line 22 below\n",
    "# surfaceOriented = readSurface(surfacesDir+surfaceCappedFile)\n",
    "\n",
    "# File names for patches\n",
    "wallFileName = patchDir+'wall.stl'\n",
    "\n",
    "# Extracting first the wall\n",
    "extractThreshold = vmtkscripts.vmtkThreshold()\n",
    "\n",
    "extractThreshold.Surface = surfaceTransform.Surface\n",
    "extractThreshold.LowThreshold  = wallId\n",
    "extractThreshold.HighThreshold = wallId\n",
    "extractThreshold.SurfaceOutputFileName = wallFileName\n",
    "\n",
    "print('Extracting surface with id ', wallId)\n",
    "\n",
    "extractThreshold.Execute()\n",
    "extractThreshold.IOWrite()\n",
    "extractThreshold.OutputText('Patch saved in '+extractThreshold.SurfaceOutputFileName+'\\n')\n",
    "\n",
    "# Outlet initial index (to increment) and to be used in output filename\n",
    "outletIndex = 1\n",
    "inletIndex  = 1\n",
    "\n",
    "# Loop to extract inlet and outlet patches\n",
    "for i in np.arange(nPatches):\n",
    "    \n",
    "    print('Extracting surface with id ', dictPatchData['PointData']['CellEntityIds'][i])\n",
    "    \n",
    "    # Instantiate vmtkthreshold\n",
    "    extractThreshold = vmtkscripts.vmtkThreshold()\n",
    "    extractThreshold.Surface       = surfaceTransform.Surface\n",
    "    extractThreshold.LowThreshold  = dictPatchData['PointData']['CellEntityIds'][i]\n",
    "    extractThreshold.HighThreshold = dictPatchData['PointData']['CellEntityIds'][i]\n",
    "    \n",
    "    # Defining output file names\n",
    "    if dictPatchData['PatchType'][i] == 'inlet':\n",
    "        \n",
    "        if patchCount['inlet'] == 1:\n",
    "            inletFileName = patchDir+'inlet.stl'\n",
    "        else:\n",
    "            inletFileName = patchDir+'inlet'+str(inletIndex)+'.stl'\n",
    "            inletIndex += 1\n",
    "            \n",
    "        # Attribute surface output file name\n",
    "        print('Patch with id '+str(dictPatchData['PointData']['CellEntityIds'][i])+' is an inlet. Defining file name: '+inletFileName) # debugging\n",
    "        \n",
    "        extractThreshold.SurfaceOutputFileName = inletFileName\n",
    "        \n",
    "    elif dictPatchData['PatchType'][i] == 'outlet':\n",
    "        \n",
    "        if patchCount['outlet'] == 1:\n",
    "            outletFileName = patchDir+'outlet.stl'\n",
    "            \n",
    "        else:\n",
    "            outletFileName = patchDir+'outlet'+str(outletIndex)+'.stl'\n",
    "            outletIndex += 1\n",
    "            \n",
    "        print('Patch with id '+str(dictPatchData['PointData']['CellEntityIds'][i])+' is an outlet. Defining file name: '+outletFileName) # debugging\n",
    "        \n",
    "        extractThreshold.SurfaceOutputFileName = outletFileName\n",
    "    \n",
    "    extractThreshold.Execute()\n",
    "    extractThreshold.OutputText('Patch saved in '+extractThreshold.SurfaceOutputFileName+'\\n')\n",
    "    extractThreshold.IOWrite()\n",
    "    print('\\n')"
   ]
  },
  {
   "cell_type": "markdown",
   "metadata": {},
   "source": [
    "<hr>\n",
    "The two cells below save the oriented surface and its Voronoi diagram to the parent vessel reconstruction procedure "
   ]
  },
  {
   "cell_type": "code",
   "execution_count": null,
   "metadata": {},
   "outputs": [],
   "source": [
    "# Final surface for parent vessel reconstruction\n",
    "caseId = 'case11'\n",
    "\n",
    "if not os.path.isdir(parentVesselDir+caseId):\n",
    "    os.makedirs(parentVesselDir+caseId)\n",
    "    \n",
    "surfaceForParentVessel = parentVesselDir+caseId+\"/\"+caseId+\"_model.vtp\"\n",
    "print(surfaceForParentVessel)\n",
    "vmtk_functions.writeSurface(surfaceTransform.Surface, surfaceForParentVessel, \"binary\")"
   ]
  },
  {
   "cell_type": "code",
   "execution_count": null,
   "metadata": {},
   "outputs": [],
   "source": [
    "# Compute Voronoi Diagram Separately for parent vessel reconstruction\n",
    "voronoiDiagram = vmtkscripts.vmtkDelaunayVoronoi()\n",
    "\n",
    "voronoiDiagram.Surface = surfaceTransform.Surface\n",
    "# voronoiDiagram.SurfaceInputFileName = surfaceInputFile #casePath+\"surfaces/surfaceRemeshed.vtp\" \n",
    "# voronoiDiagram.IORead()\n",
    "voronoiDiagram.CheckNonManifold = 1\n",
    "voronoiDiagram.RemoveSubresolutionTetrahedra = 1\n",
    "# voronoiDiagram.DelaunayTessellationOutputFileName = casePath+\"surfaces/delaunayTesselation.vtp\"\n",
    "voronoiDiagram.VoronoiDiagramOutputFileName = parentVesselDir+caseId+\"/\"+caseId+\"_voronoi.vtp\"\n",
    "voronoiDiagram.Execute()\n",
    "voronoiDiagram.IOWrite()"
   ]
  }
 ],
 "metadata": {
  "kernelspec": {
   "display_name": "Python [conda env:vmtk]",
   "language": "python",
   "name": "conda-env-vmtk-py"
  },
  "language_info": {
   "codemirror_mode": {
    "name": "ipython",
    "version": 3
   },
   "file_extension": ".py",
   "mimetype": "text/x-python",
   "name": "python",
   "nbconvert_exporter": "python",
   "pygments_lexer": "ipython3",
   "version": "3.6.1"
  }
 },
 "nbformat": 4,
 "nbformat_minor": 2
}
