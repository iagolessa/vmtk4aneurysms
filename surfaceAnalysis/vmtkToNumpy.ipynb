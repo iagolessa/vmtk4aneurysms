{
 "cells": [
  {
   "cell_type": "markdown",
   "metadata": {},
   "source": [
    "\n",
    "<hr/>\n",
    "<h2 id=\"title:-Working-With-Numpy-Arrays\">Working With Numpy Arrays<a class=\"anchor-link\" href=\"http://www.vmtk.org/tutorials/WorkingWithNumpyArraysIPYNB.html#title:-Working-With-Numpy-Arrays\"></a></h2>\n"
   ]
  },
  {
   "cell_type": "markdown",
   "metadata": {},
   "source": [
    "Relevant VMTK scripts"
   ]
  },
  {
   "cell_type": "markdown",
   "metadata": {},
   "source": [
    "\n",
    "<p>Scripts that convert VMTK objects to numpy arrays:</p>\n",
    "<ol>\n",
    "<li>vmtkcenterlinestonumpy </li>\n",
    "<li>vmtkimagetonumpy</li>\n",
    "<li>vmtksurfacetonumpy</li>\n",
    "</ol>\n",
    "<p>Scripts that convert a nested dictionary of numpy arrays to VMTK objects:</p>\n",
    "<ol>\n",
    "<li>vmtknumpytocenterlines</li>\n",
    "<li>vmtknumpytoimage</li>\n",
    "<li>vmtknumpytosurface</li>\n",
    "</ol>\n",
    "<p>Convenience scripts to write and read a nested dictionary of numpy arrays to disk:</p>\n",
    "<ol>\n",
    "<li>vmtknumpyreader </li>\n",
    "<li>vmtknumpywriter </li>\n",
    "</ol>\n",
    "<hr/>\n"
   ]
  },
  {
   "cell_type": "markdown",
   "metadata": {},
   "source": [
    "\n",
    "<p>In addition to the standard VMTK package, the following packages must be installed and available on the users PATH:</p>\n",
    "<ol>\n",
    "<li><a href=\"http://www.numpy.org/\">numpy</a></li>\n",
    "<li><a href=\"http://www.h5py.org/\">h5py</a></li>\n",
    "</ol>\n",
    "<p>We recommend using the <a href=\"https://anaconda.org/\">Python Anaconda</a> package manager to create a virtual environment and install the packages. Installation and quickstart instructions are available <a href=\"https://docs.continuum.io/docs_oss/conda/get-started\">here</a>.</p>\n",
    "<hr/>\n"
   ]
  },
  {
   "cell_type": "markdown",
   "metadata": {},
   "source": [
    "\n",
    "<h2 id=\"Structured-Conversion-Between-VTK-Data-and-Numpy-Arrays\">Structured Conversion Between VTK Data and Numpy Arrays<a class=\"anchor-link\" href=\"http://www.vmtk.org/tutorials/WorkingWithNumpyArraysIPYNB.html#Structured-Conversion-Between-VTK-Data-and-Numpy-Arrays\"></a></h2>\n"
   ]
  },
  {
   "cell_type": "markdown",
   "metadata": {},
   "source": [
    "\n",
    "<p>When we want to access VTK data in numpy, we actually need to access the four principle component of a VTK object as described above:</p>\n",
    "<ol>\n",
    "<li>Points</li>\n",
    "<li>Cells</li>\n",
    "<li>Point Data</li>\n",
    "<li>Cell Data</li>\n",
    "</ol>\n",
    "<p>In order to make use of the data in numpy/python, we create a unique numpy array for every VTK array defining these components. In order to handle these arrays in a manageable fashion (accessible through one python object), we assign each data array to a key/value pair in a (nested) python dictionary of pre-defined structure. The following subsections defines the dictionary structure required for centerlines, images, and surfaces.</p>\n",
    "<p>Note: The following structure must be reproduced <i> exactly </i> in order to successfully convert a numpy dataset back into VMTK. Be sure to include all dictionary components (even if they are empty) and ensure that all keys exactly match the description below / the output from converting VMTK objects to numpy.</p>\n"
   ]
  },
  {
   "cell_type": "markdown",
   "metadata": {},
   "source": [
    "\n",
    "<h3 id=\"Converting-VMTK-Surface-Objects\">Converting VMTK Surface Objects<a class=\"anchor-link\" href=\"http://www.vmtk.org/tutorials/WorkingWithNumpyArraysIPYNB.html#Converting-VMTK-Surface-Objects\"></a></h3>\n"
   ]
  },
  {
   "cell_type": "markdown",
   "metadata": {},
   "source": [
    "\n",
    "<p>The following example demonstrates how to convert a VMTK surface to a numpy array. This is handled by the <code>vmtkscripts.vmtkSurfaceToNumpy()</code> script which accepts a <code>Surface</code> as a input and outputs the nested dictionary of arrays through the <code>ArrayDict</code> class attribute.</p>\n"
   ]
  },
  {
   "cell_type": "markdown",
   "metadata": {},
   "source": [
    "\n",
    "<p>The structure of the <code>ArrayDict</code> nested dictionary is as follows:</p>\n",
    "<pre><code>ArrayDict\n",
    "    ['Points']                   &lt;-- required, is Nx3 array of N vertexes and x, y, z locations\n",
    "    ['PointData']                &lt;-- required, even if subarrays are empty\n",
    "        ['PointDataArray1']      &lt;-- optional, (ex. MaximumInscribedSphereRadius)\n",
    "        ['PointDataArray2']      &lt;-- optional\n",
    "        ...\n",
    "    ['CellData']                 &lt;-- required\n",
    "        ['CellPointIds']         &lt;-- required, is Mx3 array defines cell conectivity to ['Points] Indices\n",
    "        ['CellDataArray1']       &lt;-- optional, (ex. CenterlineTractId)\n",
    "        ['CellDataArray2']       &lt;-- optional\n",
    "        ...</code></pre>\n"
   ]
  },
  {
   "cell_type": "markdown",
   "metadata": {},
   "source": [
    "\n",
    "<p>An example showing the dictionary structure is below:</p>\n"
   ]
  },
  {
   "cell_type": "code",
   "execution_count": 10,
   "metadata": {},
   "outputs": [
    {
     "name": "stdout",
     "output_type": "stream",
     "text": [
      "Reading VTK XML surface file.\n"
     ]
    }
   ],
   "source": [
    "from vmtk import vmtkscripts\n",
    "import numpy as np\n",
    "\n",
    "surfaceReader = vmtkscripts.vmtkSurfaceReader()\n",
    "surfaceReader.InputFileName = '/home/iagolessa/Documents/aneurysms/geometries/einsteinCases/unrupturedCases/vmtkReconstruction/case11/surfaces/surfaceClipped.vtp'\n",
    "surfaceReader.Execute()"
   ]
  },
  {
   "cell_type": "code",
   "execution_count": 11,
   "metadata": {},
   "outputs": [
    {
     "name": "stdout",
     "output_type": "stream",
     "text": [
      "Quit renderer\n"
     ]
    }
   ],
   "source": [
    "viewer = vmtkscripts.vmtkSurfaceViewer()\n",
    "viewer.Surface = surfaceReader.Surface\n",
    "viewer.Execute()"
   ]
  },
  {
   "cell_type": "code",
   "execution_count": 12,
   "metadata": {},
   "outputs": [
    {
     "name": "stdout",
     "output_type": "stream",
     "text": [
      "Input vmtksurfacenormals members:\n",
      "    Id = 0\n",
      "    Disabled = 0\n",
      "    Surface = vtkPolyData\n",
      "    SurfaceInputFileName = \n",
      "    NormalsArrayName = Normals\n",
      "    AutoOrientNormals = 1\n",
      "    Consistency = 1\n",
      "    ComputeCellNormals = 0\n",
      "    FlipNormals = 0\n",
      "    SurfaceOutputFileName = \n",
      "Output vmtksurfacenormals members:\n",
      "    Id = 0\n",
      "    Surface = vtkPolyData\n"
     ]
    }
   ],
   "source": [
    "surfaceNormals = vmtkscripts.vmtkSurfaceNormals()\n",
    "surfaceNormals.Surface = surfaceReader.Surface\n",
    "surfaceNormals.PrintInputMembers()\n",
    "surfaceNormals.Execute()\n",
    "surfaceNormals.PrintOutputMembers()"
   ]
  },
  {
   "cell_type": "code",
   "execution_count": 14,
   "metadata": {},
   "outputs": [
    {
     "name": "stdout",
     "output_type": "stream",
     "text": [
      "Input vmtkSurfaceToNumpy members:\n",
      "    Id = 0\n",
      "    Disabled = 0\n",
      "    Surface = vtkPolyData\n",
      "    SurfaceInputFileName = \n",
      "    ConvertCellToPoint = 0\n",
      "    ArrayDictOutputFileName = \n",
      "wrapping vtkPolyData object\n",
      "converting cell data: \n",
      "converting points\n",
      "converting point data: \n",
      "Normals\n",
      "converting cell connectivity list\n",
      "Output vmtkSurfaceToNumpy members:\n",
      "    Id = 0\n",
      "    ArrayDict = dict\n"
     ]
    }
   ],
   "source": [
    "# Converting to Numpy \n",
    "surfaceNumpyAdaptor = vmtkscripts.vmtkSurfaceToNumpy()\n",
    "surfaceNumpyAdaptor.Surface = surfaceNormals.Surface\n",
    "surfaceNumpyAdaptor.PrintInputMembers()\n",
    "surfaceNumpyAdaptor.Execute()\n",
    "surfaceNumpyAdaptor.PrintOutputMembers()"
   ]
  },
  {
   "cell_type": "code",
   "execution_count": 15,
   "metadata": {},
   "outputs": [],
   "source": [
    "# Assign object to dict\n",
    "numpySurface = surfaceNumpyAdaptor.ArrayDict"
   ]
  },
  {
   "cell_type": "markdown",
   "metadata": {},
   "source": [
    "\n",
    "<p>The python object <code>numpySurface</code> is now a nested dictionary of numpy arrays. The top level key/value pairs are:</p>\n"
   ]
  },
  {
   "cell_type": "code",
   "execution_count": 16,
   "metadata": {},
   "outputs": [
    {
     "data": {
      "text/plain": [
       "{'Points': array([[ 36.7655983 ,  31.41010094, -47.32440186],\n",
       "        [ 36.82089996,  31.47240067, -47.34859848],\n",
       "        [ 36.82889938,  31.39679909, -47.38040161],\n",
       "        ..., \n",
       "        [ 31.6379509 ,  41.10438538, -36.68525314],\n",
       "        [ 33.09382248,  42.57857895, -38.21177292],\n",
       "        [ 31.51285172,  41.38369751, -36.42860031]], dtype=float32),\n",
       " 'PointData': {'Normals': array([[-0.62599689,  0.21445388, -0.74975824],\n",
       "         [-0.59403569,  0.28612459, -0.75183398],\n",
       "         [-0.61424208,  0.22482686, -0.75641227],\n",
       "         ..., \n",
       "         [-0.48357823, -0.78013587,  0.39691314],\n",
       "         [ 0.68478292,  0.34574619, -0.64150751],\n",
       "         [-0.56092101, -0.5772717 ,  0.59340125]], dtype=float32)},\n",
       " 'CellData': {'CellPointIds': array([[    0,     1,     2],\n",
       "         [    3,     4,     5],\n",
       "         [    6,     4,     7],\n",
       "         ..., \n",
       "         [54682, 54681, 38267],\n",
       "         [57845, 45499, 59751],\n",
       "         [46807, 57845, 59751]], dtype=int32)}}"
      ]
     },
     "execution_count": 16,
     "metadata": {},
     "output_type": "execute_result"
    }
   ],
   "source": [
    "numpySurface"
   ]
  },
  {
   "cell_type": "markdown",
   "metadata": {},
   "source": [
    "\n",
    "<p>For <code>numpySurface</code>, we can see that the numpy of surface points (stored in <code>numpySurface['Points']</code>) and the number of triangles (stored in <code>numpySurface['CellData']['CellPointIds']</code>) is:</p>\n"
   ]
  },
  {
   "cell_type": "code",
   "execution_count": 21,
   "metadata": {},
   "outputs": [
    {
     "name": "stdout",
     "output_type": "stream",
     "text": [
      "Number of Points =  (63524, 3)  Number of Dimensions =  3\n",
      "Number of Faces =  126666  Number of Vertices Per Face =  3\n"
     ]
    }
   ],
   "source": [
    "print('Number of Points = ', numpySurface['Points'].shape[0], ' Number of Dimensions = ', numpySurface['Points'].shape[1])\n",
    "print('Number of Faces = ', numpySurface['CellData']['CellPointIds'].shape[0], ' Number of Vertices Per Face = ', numpySurface['CellData']['CellPointIds'].shape[1])"
   ]
  },
  {
   "cell_type": "markdown",
   "metadata": {},
   "source": [
    "\n",
    "<p>We can also see that the data stored in <code>PointData</code> has the shape:</p>\n"
   ]
  },
  {
   "cell_type": "code",
   "execution_count": 24,
   "metadata": {},
   "outputs": [
    {
     "name": "stdout",
     "output_type": "stream",
     "text": [
      "numpySurface[\"PointData\"][\"Normals\"] shape =  (63524, 3)\n"
     ]
    }
   ],
   "source": [
    "print('numpySurface[\"PointData\"][\"Normals\"] shape = ', numpySurface[\"PointData\"][\"Normals\"].shape)"
   ]
  },
  {
   "cell_type": "markdown",
   "metadata": {},
   "source": [
    "\n",
    "<p>which exactly matches the number of vertices in the <code>Points</code> array. In this case, each index in <code>numpySurface['PointData']['DistanceToCenterlines']</code> corresponds to a row in <code>numpySurface['Points']</code>. ie. <code>numpySurface['PointData']['DistanceToCenterlines'][100]</code> corresponds to the vertex defined by coordinates at <code>numpySurface['Points'][100, :]</code></p>\n",
    "<p>From here, we can modify the location of the points, define a new cell connectivity list, or add a new Point Data or Cell Data array. If we decide we want to modify the <code>DistanceToCenterlines</code> array values by a constant scale factor, we can perform the operation and convert back to a VMTK surface Object by:</p>\n"
   ]
  },
  {
   "cell_type": "code",
   "execution_count": null,
   "metadata": {},
   "outputs": [],
   "source": [
    "print('Before Modification: ', numpySurface['PointData']['DistanceToCenterlines'])\n",
    "numpySurface['PointData']['DistanceToCenterlines'] = numpySurface['PointData']['DistanceToCenterlines'] * 2\n",
    "print('After Modification: ', numpySurface['PointData']['DistanceToCenterlines'])\n",
    "\n",
    "surfaceVmtkAdaptor = vmtkscripts.vmtkNumpyToSurface()\n",
    "surfaceVmtkAdaptor.ArrayDict = numpySurface\n",
    "surfaceVmtkAdaptor.Execute()"
   ]
  },
  {
   "cell_type": "markdown",
   "metadata": {},
   "source": [
    "\n",
    "<p>We can then use the VMTK object as normal or save it to a file.</p>\n"
   ]
  },
  {
   "cell_type": "markdown",
   "metadata": {},
   "source": [
    "\n",
    "<h3 id=\"Converting-VMTK-Centerline-Objects\">Converting VMTK Centerline Objects<a class=\"anchor-link\" href=\"http://www.vmtk.org/tutorials/WorkingWithNumpyArraysIPYNB.html#Converting-VMTK-Centerline-Objects\"></a></h3>\n"
   ]
  },
  {
   "cell_type": "markdown",
   "metadata": {},
   "source": [
    "\n",
    "<p>The following example demonstrates how to convert a VMTK centerline to a numpy array. This is handled by the <code>vmtkscripts.vmtkCenterlinesToNumpy()</code> script which accepts a <code>Surface / Centerline</code> as a input and outputs the nested dictionary of arrays through the <code>ArrayDict</code> class attribute.</p>\n"
   ]
  },
  {
   "cell_type": "markdown",
   "metadata": {},
   "source": [
    "\n",
    "<p>The structure of the <code>ArrayDict</code> nested dictionary is as follows:</p>\n",
    "<pre><code>ArrayDict\n",
    "    ['Points']                   &lt;-- required, is Nx3 array of N vertexes and x, y, z locations\n",
    "    ['PointData']                &lt;-- required, even if subarrays are empty\n",
    "        ['PointDataArray1']      &lt;-- optional, (ex. MaximumInscribedSphereRadius)\n",
    "        ['PointDataArray2']      &lt;-- optional\n",
    "        ...\n",
    "    ['CellData']                 &lt;-- required\n",
    "        ['CellPointIds']         &lt;-- required, list of Mx1 arrays defining cell connectivity to ['Points']\n",
    "        ['CellDataArray1']       &lt;-- optional, (ex: CenterlineTractId)\n",
    "        ['CellDataArray2']       &lt;-- optional\n",
    "        ...</code></pre>\n"
   ]
  },
  {
   "cell_type": "markdown",
   "metadata": {},
   "source": [
    "\n",
    "<p>Note: The format for <code>['CellData']['CellPointIds']</code> is slightly different for centerlines than it is for the surface example above. Unlike a surface (which defined each triangle face as a row in <code>['CellData']['CellPointIds']</code> with fixed dimensions Mx3), the number of Points making up each cell in a centerline are completely arbitrary. Instead of a <code>Mx3</code> size array, the centerline version of <code>['CellData']['CellPointIds']</code> contains a list of numpy arrays with (potentially) non-equal sizes. Aside from this semantic difference, the meaning of each index in <code>['CellData']['CellPointIds']</code> is the same for centerlines and surfaces; that is, each value in <code>['CellData']['CellPointIds']</code> refers to a row index in <code>['Points']</code> which contains the coordinates of the associated points.</p>\n"
   ]
  },
  {
   "cell_type": "code",
   "execution_count": 25,
   "metadata": {},
   "outputs": [],
   "source": [
    "centerlines = vmtkscripts.vmtkCenterlines()"
   ]
  },
  {
   "cell_type": "code",
   "execution_count": 26,
   "metadata": {},
   "outputs": [
    {
     "name": "stdout",
     "output_type": "stream",
     "text": [
      "Cleaning surface.\n",
      "Triangulating surface.\n",
      "Capping surface.\n",
      "Please position the mouse and press space to add source points, 'u' to undo\n",
      "Quit renderer\n",
      "Please position the mouse and press space to add target points, 'u' to undo\n",
      "Quit renderer\n",
      "Computing centerlines.\n",
      "Computing centerlines..."
     ]
    }
   ],
   "source": [
    "centerlines.Surface =  surfaceNormals.Surface\n",
    "centerlines.Execute()"
   ]
  },
  {
   "cell_type": "code",
   "execution_count": 27,
   "metadata": {},
   "outputs": [
    {
     "name": "stdout",
     "output_type": "stream",
     "text": [
      "Input vmtkCenterlinesToNumpy members:\n",
      "    Id = 0\n",
      "    Disabled = 0\n",
      "    Centerlines = vtkPolyData\n",
      "    CenterlinesInputFileName = \n",
      "    ConvertCellToPoint = 0\n",
      "    ArrayDictOutputFileName = \n",
      "wrapping vtkPolyData object\n",
      "converting cell data: \n",
      "converting points\n",
      "converting point data: \n",
      "MaximumInscribedSphereRadius\n",
      "EdgeArray\n",
      "EdgePCoordArray\n",
      "converting cell connectivity list\n"
     ]
    }
   ],
   "source": [
    "# Converting centerlines to numpy\n",
    "clNumpyAdaptor = vmtkscripts.vmtkCenterlinesToNumpy()\n",
    "clNumpyAdaptor.Centerlines = centerlines.Centerlines\n",
    "clNumpyAdaptor.PrintInputMembers()\n",
    "clNumpyAdaptor.Execute()\n",
    "\n",
    "numpyCenterlines = clNumpyAdaptor.ArrayDict"
   ]
  },
  {
   "cell_type": "code",
   "execution_count": 31,
   "metadata": {},
   "outputs": [
    {
     "data": {
      "text/plain": [
       "{'Points': array([[ 41.97470093,  32.48204803, -33.75366974],\n",
       "        [ 41.95211029,  32.49147797, -33.76319885],\n",
       "        [ 41.9236908 ,  32.50349045, -33.77600861],\n",
       "        ..., \n",
       "        [ 33.35182571,  41.64817047, -36.50933838],\n",
       "        [ 33.28268814,  41.68775177, -36.54977798],\n",
       "        [ 33.26854706,  41.69561005, -36.55780792]], dtype=float32),\n",
       " 'PointData': {'MaximumInscribedSphereRadius': array([ 0.87333914,  0.87297485,  0.87201947, ...,  1.29552613,\n",
       "          1.29601824,  1.29620378]), 'EdgeArray': array([[111388, 111388],\n",
       "         [149691, 149691],\n",
       "         [ 51684,  51684],\n",
       "         ..., \n",
       "         [159587,   1246],\n",
       "         [118526, 118526],\n",
       "         [123317, 123317]], dtype=int32), 'EdgePCoordArray': array([ 0.   ,  0.   ,  0.   , ...,  0.948,  0.   ,  0.   ])},\n",
       " 'CellData': {'CellPointIds': [array([755, 754, 753, 752, 751, 750, 749, 748, 747, 746, 745, 744, 743,\n",
       "          742, 741, 740, 739, 738, 737, 736, 735, 734, 733, 732, 731, 730,\n",
       "          729, 728, 727, 726, 725, 724, 723, 722, 721, 720, 719, 718, 717,\n",
       "          716, 715, 714, 713, 712, 711, 710, 709, 708, 707, 706, 705, 704,\n",
       "          703, 702, 701, 700, 699, 698, 697, 696, 695, 694, 693, 692, 691,\n",
       "          690, 689, 688, 687, 686, 685, 684, 683, 682, 681, 680, 679, 678,\n",
       "          677, 676, 675, 674, 673, 672, 671, 670, 669, 668, 667, 666, 665,\n",
       "          664, 663, 662, 661, 660, 659, 658, 657, 656, 655, 654, 653, 652,\n",
       "          651, 650, 649, 648, 647, 646, 645, 644, 643, 642, 641, 640, 639,\n",
       "          638, 637, 636, 635, 634, 633, 632, 631, 630, 629, 628, 627, 626,\n",
       "          625, 624, 623, 622, 621, 620, 619, 618, 617, 616, 615, 614, 613,\n",
       "          612, 611, 610, 609, 608, 607, 606, 605, 604, 603, 602, 601, 600,\n",
       "          599, 598, 597, 596, 595, 594, 593, 592, 591, 590, 589, 588, 587,\n",
       "          586, 585, 584, 583, 582, 581, 580, 579, 578, 577, 576, 575, 574,\n",
       "          573, 572, 571, 570, 569, 568, 567, 566, 565, 564, 563, 562, 561,\n",
       "          560, 559, 558, 557, 556, 555, 554, 553, 552, 551, 550, 549, 548,\n",
       "          547, 546, 545, 544, 543, 542, 541, 540, 539, 538, 537, 536, 535,\n",
       "          534, 533, 532, 531, 530, 529, 528, 527, 526, 525, 524, 523, 522,\n",
       "          521, 520, 519, 518, 517, 516, 515, 514, 513, 512, 511, 510, 509,\n",
       "          508, 507, 506, 505, 504, 503, 502, 501, 500, 499, 498, 497, 496,\n",
       "          495, 494, 493, 492, 491, 490, 489, 488, 487, 486, 485, 484, 483,\n",
       "          482, 481, 480, 479, 478, 477, 476, 475, 474, 473, 472, 471, 470,\n",
       "          469, 468, 467, 466, 465, 464, 463, 462, 461, 460, 459, 458, 457,\n",
       "          456, 455, 454, 453, 452, 451, 450, 449, 448, 447, 446, 445, 444,\n",
       "          443, 442, 441, 440, 439, 438, 437, 436, 435, 434, 433, 432, 431,\n",
       "          430, 429, 428, 427, 426, 425, 424, 423, 422, 421, 420, 419, 418,\n",
       "          417, 416, 415, 414, 413, 412, 411, 410, 409, 408, 407, 406, 405,\n",
       "          404, 403, 402, 401, 400, 399, 398, 397, 396, 395, 394, 393, 392,\n",
       "          391, 390, 389, 388, 387, 386, 385, 384, 383, 382, 381, 380, 379,\n",
       "          378, 377, 376, 375, 374, 373, 372, 371, 370, 369, 368, 367, 366,\n",
       "          365, 364, 363, 362, 361, 360, 359, 358, 357, 356, 355, 354, 353,\n",
       "          352, 351, 350, 349, 348, 347, 346, 345, 344, 343, 342, 341, 340,\n",
       "          339, 338, 337, 336, 335, 334, 333, 332, 331, 330, 329, 328, 327,\n",
       "          326, 325, 324, 323, 322, 321, 320, 319, 318, 317, 316, 315, 314,\n",
       "          313, 312, 311, 310, 309, 308, 307, 306, 305, 304, 303, 302, 301,\n",
       "          300, 299, 298, 297, 296, 295, 294, 293, 292, 291, 290, 289, 288,\n",
       "          287, 286, 285, 284, 283, 282, 281, 280, 279, 278, 277, 276, 275,\n",
       "          274, 273, 272, 271, 270, 269, 268, 267, 266, 265, 264, 263, 262,\n",
       "          261, 260, 259, 258, 257, 256, 255, 254, 253, 252, 251, 250, 249,\n",
       "          248, 247, 246, 245, 244, 243, 242, 241, 240, 239, 238, 237, 236,\n",
       "          235, 234, 233, 232, 231, 230, 229, 228, 227, 226, 225, 224, 223,\n",
       "          222, 221, 220, 219, 218, 217, 216, 215, 214, 213, 212, 211, 210,\n",
       "          209, 208, 207, 206, 205, 204, 203, 202, 201, 200, 199, 198, 197,\n",
       "          196, 195, 194, 193, 192, 191, 190, 189, 188, 187, 186, 185, 184,\n",
       "          183, 182, 181, 180, 179, 178, 177, 176, 175, 174, 173, 172, 171,\n",
       "          170, 169, 168, 167, 166, 165, 164, 163, 162, 161, 160, 159, 158,\n",
       "          157, 156, 155, 154, 153, 152, 151, 150, 149, 148, 147, 146, 145,\n",
       "          144, 143, 142, 141, 140, 139, 138, 137, 136, 135, 134, 133, 132,\n",
       "          131, 130, 129, 128, 127, 126, 125, 124, 123, 122, 121, 120, 119,\n",
       "          118, 117, 116, 115, 114, 113, 112, 111, 110, 109, 108, 107, 106,\n",
       "          105, 104, 103, 102, 101, 100,  99,  98,  97,  96,  95,  94,  93,\n",
       "           92,  91,  90,  89,  88,  87,  86,  85,  84,  83,  82,  81,  80,\n",
       "           79,  78,  77,  76,  75,  74,  73,  72,  71,  70,  69,  68,  67,\n",
       "           66,  65,  64,  63,  62,  61,  60,  59,  58,  57,  56,  55,  54,\n",
       "           53,  52,  51,  50,  49,  48,  47,  46,  45,  44,  43,  42,  41,\n",
       "           40,  39,  38,  37,  36,  35,  34,  33,  32,  31,  30,  29,  28,\n",
       "           27,  26,  25,  24,  23,  22,  21,  20,  19,  18,  17,  16,  15,\n",
       "           14,  13,  12,  11,  10,   9,   8,   7,   6,   5,   4,   3,   2,\n",
       "            1,   0], dtype=int32),\n",
       "   array([1407, 1406, 1405, 1404, 1403, 1402, 1401, 1400, 1399, 1398, 1397,\n",
       "          1396, 1395, 1394, 1393, 1392, 1391, 1390, 1389, 1388, 1387, 1386,\n",
       "          1385, 1384, 1383, 1382, 1381, 1380, 1379, 1378, 1377, 1376, 1375,\n",
       "          1374, 1373, 1372, 1371, 1370, 1369, 1368, 1367, 1366, 1365, 1364,\n",
       "          1363, 1362, 1361, 1360, 1359, 1358, 1357, 1356, 1355, 1354, 1353,\n",
       "          1352, 1351, 1350, 1349, 1348, 1347, 1346, 1345, 1344, 1343, 1342,\n",
       "          1341, 1340, 1339, 1338, 1337, 1336, 1335, 1334, 1333, 1332, 1331,\n",
       "          1330, 1329, 1328, 1327, 1326, 1325, 1324, 1323, 1322, 1321, 1320,\n",
       "          1319, 1318, 1317, 1316, 1315, 1314, 1313, 1312, 1311, 1310, 1309,\n",
       "          1308, 1307, 1306, 1305, 1304, 1303, 1302, 1301, 1300, 1299, 1298,\n",
       "          1297, 1296, 1295, 1294, 1293, 1292, 1291, 1290, 1289, 1288, 1287,\n",
       "          1286, 1285, 1284, 1283, 1282, 1281, 1280, 1279, 1278, 1277, 1276,\n",
       "          1275, 1274, 1273, 1272, 1271, 1270, 1269, 1268, 1267, 1266, 1265,\n",
       "          1264, 1263, 1262, 1261, 1260, 1259, 1258, 1257, 1256, 1255, 1254,\n",
       "          1253, 1252, 1251, 1250, 1249, 1248, 1247, 1246, 1245, 1244, 1243,\n",
       "          1242, 1241, 1240, 1239, 1238, 1237, 1236, 1235, 1234, 1233, 1232,\n",
       "          1231, 1230, 1229, 1228, 1227, 1226, 1225, 1224, 1223, 1222, 1221,\n",
       "          1220, 1219, 1218, 1217, 1216, 1215, 1214, 1213, 1212, 1211, 1210,\n",
       "          1209, 1208, 1207, 1206, 1205, 1204, 1203, 1202, 1201, 1200, 1199,\n",
       "          1198, 1197, 1196, 1195, 1194, 1193, 1192, 1191, 1190, 1189, 1188,\n",
       "          1187, 1186, 1185, 1184, 1183, 1182, 1181, 1180, 1179, 1178, 1177,\n",
       "          1176, 1175, 1174, 1173, 1172, 1171, 1170, 1169, 1168, 1167, 1166,\n",
       "          1165, 1164, 1163, 1162, 1161, 1160, 1159, 1158, 1157, 1156, 1155,\n",
       "          1154, 1153, 1152, 1151, 1150, 1149, 1148, 1147, 1146, 1145, 1144,\n",
       "          1143, 1142, 1141, 1140, 1139, 1138, 1137, 1136, 1135, 1134, 1133,\n",
       "          1132, 1131, 1130, 1129, 1128, 1127, 1126, 1125, 1124, 1123, 1122,\n",
       "          1121, 1120, 1119, 1118, 1117, 1116, 1115, 1114, 1113, 1112, 1111,\n",
       "          1110, 1109, 1108, 1107, 1106, 1105, 1104, 1103, 1102, 1101, 1100,\n",
       "          1099, 1098, 1097, 1096, 1095, 1094, 1093, 1092, 1091, 1090, 1089,\n",
       "          1088, 1087, 1086, 1085, 1084, 1083, 1082, 1081, 1080, 1079, 1078,\n",
       "          1077, 1076, 1075, 1074, 1073, 1072, 1071, 1070, 1069, 1068, 1067,\n",
       "          1066, 1065, 1064, 1063, 1062, 1061, 1060, 1059, 1058, 1057, 1056,\n",
       "          1055, 1054, 1053, 1052, 1051, 1050, 1049, 1048, 1047, 1046, 1045,\n",
       "          1044, 1043, 1042, 1041, 1040, 1039, 1038, 1037, 1036, 1035, 1034,\n",
       "          1033, 1032, 1031, 1030, 1029, 1028, 1027, 1026, 1025, 1024, 1023,\n",
       "          1022, 1021, 1020, 1019, 1018, 1017, 1016, 1015, 1014, 1013, 1012,\n",
       "          1011, 1010, 1009, 1008, 1007, 1006, 1005, 1004, 1003, 1002, 1001,\n",
       "          1000,  999,  998,  997,  996,  995,  994,  993,  992,  991,  990,\n",
       "           989,  988,  987,  986,  985,  984,  983,  982,  981,  980,  979,\n",
       "           978,  977,  976,  975,  974,  973,  972,  971,  970,  969,  968,\n",
       "           967,  966,  965,  964,  963,  962,  961,  960,  959,  958,  957,\n",
       "           956,  955,  954,  953,  952,  951,  950,  949,  948,  947,  946,\n",
       "           945,  944,  943,  942,  941,  940,  939,  938,  937,  936,  935,\n",
       "           934,  933,  932,  931,  930,  929,  928,  927,  926,  925,  924,\n",
       "           923,  922,  921,  920,  919,  918,  917,  916,  915,  914,  913,\n",
       "           912,  911,  910,  909,  908,  907,  906,  905,  904,  903,  902,\n",
       "           901,  900,  899,  898,  897,  896,  895,  894,  893,  892,  891,\n",
       "           890,  889,  888,  887,  886,  885,  884,  883,  882,  881,  880,\n",
       "           879,  878,  877,  876,  875,  874,  873,  872,  871,  870,  869,\n",
       "           868,  867,  866,  865,  864,  863,  862,  861,  860,  859,  858,\n",
       "           857,  856,  855,  854,  853,  852,  851,  850,  849,  848,  847,\n",
       "           846,  845,  844,  843,  842,  841,  840,  839,  838,  837,  836,\n",
       "           835,  834,  833,  832,  831,  830,  829,  828,  827,  826,  825,\n",
       "           824,  823,  822,  821,  820,  819,  818,  817,  816,  815,  814,\n",
       "           813,  812,  811,  810,  809,  808,  807,  806,  805,  804,  803,\n",
       "           802,  801,  800,  799,  798,  797,  796,  795,  794,  793,  792,\n",
       "           791,  790,  789,  788,  787,  786,  785,  784,  783,  782,  781,\n",
       "           780,  779,  778,  777,  776,  775,  774,  773,  772,  771,  770,\n",
       "           769,  768,  767,  766,  765,  764,  763,  762,  761,  760,  759,\n",
       "           758,  757,  756], dtype=int32),\n",
       "   array([2028, 2027, 2026, 2025, 2024, 2023, 2022, 2021, 2020, 2019, 2018,\n",
       "          2017, 2016, 2015, 2014, 2013, 2012, 2011, 2010, 2009, 2008, 2007,\n",
       "          2006, 2005, 2004, 2003, 2002, 2001, 2000, 1999, 1998, 1997, 1996,\n",
       "          1995, 1994, 1993, 1992, 1991, 1990, 1989, 1988, 1987, 1986, 1985,\n",
       "          1984, 1983, 1982, 1981, 1980, 1979, 1978, 1977, 1976, 1975, 1974,\n",
       "          1973, 1972, 1971, 1970, 1969, 1968, 1967, 1966, 1965, 1964, 1963,\n",
       "          1962, 1961, 1960, 1959, 1958, 1957, 1956, 1955, 1954, 1953, 1952,\n",
       "          1951, 1950, 1949, 1948, 1947, 1946, 1945, 1944, 1943, 1942, 1941,\n",
       "          1940, 1939, 1938, 1937, 1936, 1935, 1934, 1933, 1932, 1931, 1930,\n",
       "          1929, 1928, 1927, 1926, 1925, 1924, 1923, 1922, 1921, 1920, 1919,\n",
       "          1918, 1917, 1916, 1915, 1914, 1913, 1912, 1911, 1910, 1909, 1908,\n",
       "          1907, 1906, 1905, 1904, 1903, 1902, 1901, 1900, 1899, 1898, 1897,\n",
       "          1896, 1895, 1894, 1893, 1892, 1891, 1890, 1889, 1888, 1887, 1886,\n",
       "          1885, 1884, 1883, 1882, 1881, 1880, 1879, 1878, 1877, 1876, 1875,\n",
       "          1874, 1873, 1872, 1871, 1870, 1869, 1868, 1867, 1866, 1865, 1864,\n",
       "          1863, 1862, 1861, 1860, 1859, 1858, 1857, 1856, 1855, 1854, 1853,\n",
       "          1852, 1851, 1850, 1849, 1848, 1847, 1846, 1845, 1844, 1843, 1842,\n",
       "          1841, 1840, 1839, 1838, 1837, 1836, 1835, 1834, 1833, 1832, 1831,\n",
       "          1830, 1829, 1828, 1827, 1826, 1825, 1824, 1823, 1822, 1821, 1820,\n",
       "          1819, 1818, 1817, 1816, 1815, 1814, 1813, 1812, 1811, 1810, 1809,\n",
       "          1808, 1807, 1806, 1805, 1804, 1803, 1802, 1801, 1800, 1799, 1798,\n",
       "          1797, 1796, 1795, 1794, 1793, 1792, 1791, 1790, 1789, 1788, 1787,\n",
       "          1786, 1785, 1784, 1783, 1782, 1781, 1780, 1779, 1778, 1777, 1776,\n",
       "          1775, 1774, 1773, 1772, 1771, 1770, 1769, 1768, 1767, 1766, 1765,\n",
       "          1764, 1763, 1762, 1761, 1760, 1759, 1758, 1757, 1756, 1755, 1754,\n",
       "          1753, 1752, 1751, 1750, 1749, 1748, 1747, 1746, 1745, 1744, 1743,\n",
       "          1742, 1741, 1740, 1739, 1738, 1737, 1736, 1735, 1734, 1733, 1732,\n",
       "          1731, 1730, 1729, 1728, 1727, 1726, 1725, 1724, 1723, 1722, 1721,\n",
       "          1720, 1719, 1718, 1717, 1716, 1715, 1714, 1713, 1712, 1711, 1710,\n",
       "          1709, 1708, 1707, 1706, 1705, 1704, 1703, 1702, 1701, 1700, 1699,\n",
       "          1698, 1697, 1696, 1695, 1694, 1693, 1692, 1691, 1690, 1689, 1688,\n",
       "          1687, 1686, 1685, 1684, 1683, 1682, 1681, 1680, 1679, 1678, 1677,\n",
       "          1676, 1675, 1674, 1673, 1672, 1671, 1670, 1669, 1668, 1667, 1666,\n",
       "          1665, 1664, 1663, 1662, 1661, 1660, 1659, 1658, 1657, 1656, 1655,\n",
       "          1654, 1653, 1652, 1651, 1650, 1649, 1648, 1647, 1646, 1645, 1644,\n",
       "          1643, 1642, 1641, 1640, 1639, 1638, 1637, 1636, 1635, 1634, 1633,\n",
       "          1632, 1631, 1630, 1629, 1628, 1627, 1626, 1625, 1624, 1623, 1622,\n",
       "          1621, 1620, 1619, 1618, 1617, 1616, 1615, 1614, 1613, 1612, 1611,\n",
       "          1610, 1609, 1608, 1607, 1606, 1605, 1604, 1603, 1602, 1601, 1600,\n",
       "          1599, 1598, 1597, 1596, 1595, 1594, 1593, 1592, 1591, 1590, 1589,\n",
       "          1588, 1587, 1586, 1585, 1584, 1583, 1582, 1581, 1580, 1579, 1578,\n",
       "          1577, 1576, 1575, 1574, 1573, 1572, 1571, 1570, 1569, 1568, 1567,\n",
       "          1566, 1565, 1564, 1563, 1562, 1561, 1560, 1559, 1558, 1557, 1556,\n",
       "          1555, 1554, 1553, 1552, 1551, 1550, 1549, 1548, 1547, 1546, 1545,\n",
       "          1544, 1543, 1542, 1541, 1540, 1539, 1538, 1537, 1536, 1535, 1534,\n",
       "          1533, 1532, 1531, 1530, 1529, 1528, 1527, 1526, 1525, 1524, 1523,\n",
       "          1522, 1521, 1520, 1519, 1518, 1517, 1516, 1515, 1514, 1513, 1512,\n",
       "          1511, 1510, 1509, 1508, 1507, 1506, 1505, 1504, 1503, 1502, 1501,\n",
       "          1500, 1499, 1498, 1497, 1496, 1495, 1494, 1493, 1492, 1491, 1490,\n",
       "          1489, 1488, 1487, 1486, 1485, 1484, 1483, 1482, 1481, 1480, 1479,\n",
       "          1478, 1477, 1476, 1475, 1474, 1473, 1472, 1471, 1470, 1469, 1468,\n",
       "          1467, 1466, 1465, 1464, 1463, 1462, 1461, 1460, 1459, 1458, 1457,\n",
       "          1456, 1455, 1454, 1453, 1452, 1451, 1450, 1449, 1448, 1447, 1446,\n",
       "          1445, 1444, 1443, 1442, 1441, 1440, 1439, 1438, 1437, 1436, 1435,\n",
       "          1434, 1433, 1432, 1431, 1430, 1429, 1428, 1427, 1426, 1425, 1424,\n",
       "          1423, 1422, 1421, 1420, 1419, 1418, 1417, 1416, 1415, 1414, 1413,\n",
       "          1412, 1411, 1410, 1409, 1408], dtype=int32),\n",
       "   array([2698, 2697, 2696, 2695, 2694, 2693, 2692, 2691, 2690, 2689, 2688,\n",
       "          2687, 2686, 2685, 2684, 2683, 2682, 2681, 2680, 2679, 2678, 2677,\n",
       "          2676, 2675, 2674, 2673, 2672, 2671, 2670, 2669, 2668, 2667, 2666,\n",
       "          2665, 2664, 2663, 2662, 2661, 2660, 2659, 2658, 2657, 2656, 2655,\n",
       "          2654, 2653, 2652, 2651, 2650, 2649, 2648, 2647, 2646, 2645, 2644,\n",
       "          2643, 2642, 2641, 2640, 2639, 2638, 2637, 2636, 2635, 2634, 2633,\n",
       "          2632, 2631, 2630, 2629, 2628, 2627, 2626, 2625, 2624, 2623, 2622,\n",
       "          2621, 2620, 2619, 2618, 2617, 2616, 2615, 2614, 2613, 2612, 2611,\n",
       "          2610, 2609, 2608, 2607, 2606, 2605, 2604, 2603, 2602, 2601, 2600,\n",
       "          2599, 2598, 2597, 2596, 2595, 2594, 2593, 2592, 2591, 2590, 2589,\n",
       "          2588, 2587, 2586, 2585, 2584, 2583, 2582, 2581, 2580, 2579, 2578,\n",
       "          2577, 2576, 2575, 2574, 2573, 2572, 2571, 2570, 2569, 2568, 2567,\n",
       "          2566, 2565, 2564, 2563, 2562, 2561, 2560, 2559, 2558, 2557, 2556,\n",
       "          2555, 2554, 2553, 2552, 2551, 2550, 2549, 2548, 2547, 2546, 2545,\n",
       "          2544, 2543, 2542, 2541, 2540, 2539, 2538, 2537, 2536, 2535, 2534,\n",
       "          2533, 2532, 2531, 2530, 2529, 2528, 2527, 2526, 2525, 2524, 2523,\n",
       "          2522, 2521, 2520, 2519, 2518, 2517, 2516, 2515, 2514, 2513, 2512,\n",
       "          2511, 2510, 2509, 2508, 2507, 2506, 2505, 2504, 2503, 2502, 2501,\n",
       "          2500, 2499, 2498, 2497, 2496, 2495, 2494, 2493, 2492, 2491, 2490,\n",
       "          2489, 2488, 2487, 2486, 2485, 2484, 2483, 2482, 2481, 2480, 2479,\n",
       "          2478, 2477, 2476, 2475, 2474, 2473, 2472, 2471, 2470, 2469, 2468,\n",
       "          2467, 2466, 2465, 2464, 2463, 2462, 2461, 2460, 2459, 2458, 2457,\n",
       "          2456, 2455, 2454, 2453, 2452, 2451, 2450, 2449, 2448, 2447, 2446,\n",
       "          2445, 2444, 2443, 2442, 2441, 2440, 2439, 2438, 2437, 2436, 2435,\n",
       "          2434, 2433, 2432, 2431, 2430, 2429, 2428, 2427, 2426, 2425, 2424,\n",
       "          2423, 2422, 2421, 2420, 2419, 2418, 2417, 2416, 2415, 2414, 2413,\n",
       "          2412, 2411, 2410, 2409, 2408, 2407, 2406, 2405, 2404, 2403, 2402,\n",
       "          2401, 2400, 2399, 2398, 2397, 2396, 2395, 2394, 2393, 2392, 2391,\n",
       "          2390, 2389, 2388, 2387, 2386, 2385, 2384, 2383, 2382, 2381, 2380,\n",
       "          2379, 2378, 2377, 2376, 2375, 2374, 2373, 2372, 2371, 2370, 2369,\n",
       "          2368, 2367, 2366, 2365, 2364, 2363, 2362, 2361, 2360, 2359, 2358,\n",
       "          2357, 2356, 2355, 2354, 2353, 2352, 2351, 2350, 2349, 2348, 2347,\n",
       "          2346, 2345, 2344, 2343, 2342, 2341, 2340, 2339, 2338, 2337, 2336,\n",
       "          2335, 2334, 2333, 2332, 2331, 2330, 2329, 2328, 2327, 2326, 2325,\n",
       "          2324, 2323, 2322, 2321, 2320, 2319, 2318, 2317, 2316, 2315, 2314,\n",
       "          2313, 2312, 2311, 2310, 2309, 2308, 2307, 2306, 2305, 2304, 2303,\n",
       "          2302, 2301, 2300, 2299, 2298, 2297, 2296, 2295, 2294, 2293, 2292,\n",
       "          2291, 2290, 2289, 2288, 2287, 2286, 2285, 2284, 2283, 2282, 2281,\n",
       "          2280, 2279, 2278, 2277, 2276, 2275, 2274, 2273, 2272, 2271, 2270,\n",
       "          2269, 2268, 2267, 2266, 2265, 2264, 2263, 2262, 2261, 2260, 2259,\n",
       "          2258, 2257, 2256, 2255, 2254, 2253, 2252, 2251, 2250, 2249, 2248,\n",
       "          2247, 2246, 2245, 2244, 2243, 2242, 2241, 2240, 2239, 2238, 2237,\n",
       "          2236, 2235, 2234, 2233, 2232, 2231, 2230, 2229, 2228, 2227, 2226,\n",
       "          2225, 2224, 2223, 2222, 2221, 2220, 2219, 2218, 2217, 2216, 2215,\n",
       "          2214, 2213, 2212, 2211, 2210, 2209, 2208, 2207, 2206, 2205, 2204,\n",
       "          2203, 2202, 2201, 2200, 2199, 2198, 2197, 2196, 2195, 2194, 2193,\n",
       "          2192, 2191, 2190, 2189, 2188, 2187, 2186, 2185, 2184, 2183, 2182,\n",
       "          2181, 2180, 2179, 2178, 2177, 2176, 2175, 2174, 2173, 2172, 2171,\n",
       "          2170, 2169, 2168, 2167, 2166, 2165, 2164, 2163, 2162, 2161, 2160,\n",
       "          2159, 2158, 2157, 2156, 2155, 2154, 2153, 2152, 2151, 2150, 2149,\n",
       "          2148, 2147, 2146, 2145, 2144, 2143, 2142, 2141, 2140, 2139, 2138,\n",
       "          2137, 2136, 2135, 2134, 2133, 2132, 2131, 2130, 2129, 2128, 2127,\n",
       "          2126, 2125, 2124, 2123, 2122, 2121, 2120, 2119, 2118, 2117, 2116,\n",
       "          2115, 2114, 2113, 2112, 2111, 2110, 2109, 2108, 2107, 2106, 2105,\n",
       "          2104, 2103, 2102, 2101, 2100, 2099, 2098, 2097, 2096, 2095, 2094,\n",
       "          2093, 2092, 2091, 2090, 2089, 2088, 2087, 2086, 2085, 2084, 2083,\n",
       "          2082, 2081, 2080, 2079, 2078, 2077, 2076, 2075, 2074, 2073, 2072,\n",
       "          2071, 2070, 2069, 2068, 2067, 2066, 2065, 2064, 2063, 2062, 2061,\n",
       "          2060, 2059, 2058, 2057, 2056, 2055, 2054, 2053, 2052, 2051, 2050,\n",
       "          2049, 2048, 2047, 2046, 2045, 2044, 2043, 2042, 2041, 2040, 2039,\n",
       "          2038, 2037, 2036, 2035, 2034, 2033, 2032, 2031, 2030, 2029], dtype=int32),\n",
       "   array([3461, 3460, 3459, 3458, 3457, 3456, 3455, 3454, 3453, 3452, 3451,\n",
       "          3450, 3449, 3448, 3447, 3446, 3445, 3444, 3443, 3442, 3441, 3440,\n",
       "          3439, 3438, 3437, 3436, 3435, 3434, 3433, 3432, 3431, 3430, 3429,\n",
       "          3428, 3427, 3426, 3425, 3424, 3423, 3422, 3421, 3420, 3419, 3418,\n",
       "          3417, 3416, 3415, 3414, 3413, 3412, 3411, 3410, 3409, 3408, 3407,\n",
       "          3406, 3405, 3404, 3403, 3402, 3401, 3400, 3399, 3398, 3397, 3396,\n",
       "          3395, 3394, 3393, 3392, 3391, 3390, 3389, 3388, 3387, 3386, 3385,\n",
       "          3384, 3383, 3382, 3381, 3380, 3379, 3378, 3377, 3376, 3375, 3374,\n",
       "          3373, 3372, 3371, 3370, 3369, 3368, 3367, 3366, 3365, 3364, 3363,\n",
       "          3362, 3361, 3360, 3359, 3358, 3357, 3356, 3355, 3354, 3353, 3352,\n",
       "          3351, 3350, 3349, 3348, 3347, 3346, 3345, 3344, 3343, 3342, 3341,\n",
       "          3340, 3339, 3338, 3337, 3336, 3335, 3334, 3333, 3332, 3331, 3330,\n",
       "          3329, 3328, 3327, 3326, 3325, 3324, 3323, 3322, 3321, 3320, 3319,\n",
       "          3318, 3317, 3316, 3315, 3314, 3313, 3312, 3311, 3310, 3309, 3308,\n",
       "          3307, 3306, 3305, 3304, 3303, 3302, 3301, 3300, 3299, 3298, 3297,\n",
       "          3296, 3295, 3294, 3293, 3292, 3291, 3290, 3289, 3288, 3287, 3286,\n",
       "          3285, 3284, 3283, 3282, 3281, 3280, 3279, 3278, 3277, 3276, 3275,\n",
       "          3274, 3273, 3272, 3271, 3270, 3269, 3268, 3267, 3266, 3265, 3264,\n",
       "          3263, 3262, 3261, 3260, 3259, 3258, 3257, 3256, 3255, 3254, 3253,\n",
       "          3252, 3251, 3250, 3249, 3248, 3247, 3246, 3245, 3244, 3243, 3242,\n",
       "          3241, 3240, 3239, 3238, 3237, 3236, 3235, 3234, 3233, 3232, 3231,\n",
       "          3230, 3229, 3228, 3227, 3226, 3225, 3224, 3223, 3222, 3221, 3220,\n",
       "          3219, 3218, 3217, 3216, 3215, 3214, 3213, 3212, 3211, 3210, 3209,\n",
       "          3208, 3207, 3206, 3205, 3204, 3203, 3202, 3201, 3200, 3199, 3198,\n",
       "          3197, 3196, 3195, 3194, 3193, 3192, 3191, 3190, 3189, 3188, 3187,\n",
       "          3186, 3185, 3184, 3183, 3182, 3181, 3180, 3179, 3178, 3177, 3176,\n",
       "          3175, 3174, 3173, 3172, 3171, 3170, 3169, 3168, 3167, 3166, 3165,\n",
       "          3164, 3163, 3162, 3161, 3160, 3159, 3158, 3157, 3156, 3155, 3154,\n",
       "          3153, 3152, 3151, 3150, 3149, 3148, 3147, 3146, 3145, 3144, 3143,\n",
       "          3142, 3141, 3140, 3139, 3138, 3137, 3136, 3135, 3134, 3133, 3132,\n",
       "          3131, 3130, 3129, 3128, 3127, 3126, 3125, 3124, 3123, 3122, 3121,\n",
       "          3120, 3119, 3118, 3117, 3116, 3115, 3114, 3113, 3112, 3111, 3110,\n",
       "          3109, 3108, 3107, 3106, 3105, 3104, 3103, 3102, 3101, 3100, 3099,\n",
       "          3098, 3097, 3096, 3095, 3094, 3093, 3092, 3091, 3090, 3089, 3088,\n",
       "          3087, 3086, 3085, 3084, 3083, 3082, 3081, 3080, 3079, 3078, 3077,\n",
       "          3076, 3075, 3074, 3073, 3072, 3071, 3070, 3069, 3068, 3067, 3066,\n",
       "          3065, 3064, 3063, 3062, 3061, 3060, 3059, 3058, 3057, 3056, 3055,\n",
       "          3054, 3053, 3052, 3051, 3050, 3049, 3048, 3047, 3046, 3045, 3044,\n",
       "          3043, 3042, 3041, 3040, 3039, 3038, 3037, 3036, 3035, 3034, 3033,\n",
       "          3032, 3031, 3030, 3029, 3028, 3027, 3026, 3025, 3024, 3023, 3022,\n",
       "          3021, 3020, 3019, 3018, 3017, 3016, 3015, 3014, 3013, 3012, 3011,\n",
       "          3010, 3009, 3008, 3007, 3006, 3005, 3004, 3003, 3002, 3001, 3000,\n",
       "          2999, 2998, 2997, 2996, 2995, 2994, 2993, 2992, 2991, 2990, 2989,\n",
       "          2988, 2987, 2986, 2985, 2984, 2983, 2982, 2981, 2980, 2979, 2978,\n",
       "          2977, 2976, 2975, 2974, 2973, 2972, 2971, 2970, 2969, 2968, 2967,\n",
       "          2966, 2965, 2964, 2963, 2962, 2961, 2960, 2959, 2958, 2957, 2956,\n",
       "          2955, 2954, 2953, 2952, 2951, 2950, 2949, 2948, 2947, 2946, 2945,\n",
       "          2944, 2943, 2942, 2941, 2940, 2939, 2938, 2937, 2936, 2935, 2934,\n",
       "          2933, 2932, 2931, 2930, 2929, 2928, 2927, 2926, 2925, 2924, 2923,\n",
       "          2922, 2921, 2920, 2919, 2918, 2917, 2916, 2915, 2914, 2913, 2912,\n",
       "          2911, 2910, 2909, 2908, 2907, 2906, 2905, 2904, 2903, 2902, 2901,\n",
       "          2900, 2899, 2898, 2897, 2896, 2895, 2894, 2893, 2892, 2891, 2890,\n",
       "          2889, 2888, 2887, 2886, 2885, 2884, 2883, 2882, 2881, 2880, 2879,\n",
       "          2878, 2877, 2876, 2875, 2874, 2873, 2872, 2871, 2870, 2869, 2868,\n",
       "          2867, 2866, 2865, 2864, 2863, 2862, 2861, 2860, 2859, 2858, 2857,\n",
       "          2856, 2855, 2854, 2853, 2852, 2851, 2850, 2849, 2848, 2847, 2846,\n",
       "          2845, 2844, 2843, 2842, 2841, 2840, 2839, 2838, 2837, 2836, 2835,\n",
       "          2834, 2833, 2832, 2831, 2830, 2829, 2828, 2827, 2826, 2825, 2824,\n",
       "          2823, 2822, 2821, 2820, 2819, 2818, 2817, 2816, 2815, 2814, 2813,\n",
       "          2812, 2811, 2810, 2809, 2808, 2807, 2806, 2805, 2804, 2803, 2802,\n",
       "          2801, 2800, 2799, 2798, 2797, 2796, 2795, 2794, 2793, 2792, 2791,\n",
       "          2790, 2789, 2788, 2787, 2786, 2785, 2784, 2783, 2782, 2781, 2780,\n",
       "          2779, 2778, 2777, 2776, 2775, 2774, 2773, 2772, 2771, 2770, 2769,\n",
       "          2768, 2767, 2766, 2765, 2764, 2763, 2762, 2761, 2760, 2759, 2758,\n",
       "          2757, 2756, 2755, 2754, 2753, 2752, 2751, 2750, 2749, 2748, 2747,\n",
       "          2746, 2745, 2744, 2743, 2742, 2741, 2740, 2739, 2738, 2737, 2736,\n",
       "          2735, 2734, 2733, 2732, 2731, 2730, 2729, 2728, 2727, 2726, 2725,\n",
       "          2724, 2723, 2722, 2721, 2720, 2719, 2718, 2717, 2716, 2715, 2714,\n",
       "          2713, 2712, 2711, 2710, 2709, 2708, 2707, 2706, 2705, 2704, 2703,\n",
       "          2702, 2701, 2700, 2699], dtype=int32)]}}"
      ]
     },
     "execution_count": 31,
     "metadata": {},
     "output_type": "execute_result"
    }
   ],
   "source": [
    "numpyCenterlines"
   ]
  },
  {
   "cell_type": "markdown",
   "metadata": {},
   "source": [
    "\n",
    "<p>Like the surface example above, we can see that the data accessed through <code>numpyCenterlines['Points']</code> is a numpy array of shape Nx3:</p>\n"
   ]
  },
  {
   "cell_type": "code",
   "execution_count": 28,
   "metadata": {},
   "outputs": [
    {
     "name": "stdout",
     "output_type": "stream",
     "text": [
      "numpyCenterlines[\"Points\"] shape =  (3462, 3)\n"
     ]
    }
   ],
   "source": [
    "print('numpyCenterlines[\"Points\"] shape = ', numpyCenterlines['Points'].shape)"
   ]
  },
  {
   "cell_type": "markdown",
   "metadata": {},
   "source": [
    "\n",
    "<p>In addition, we see that the keys for Point Data and Cell Data are:</p>\n"
   ]
  },
  {
   "cell_type": "code",
   "execution_count": 29,
   "metadata": {},
   "outputs": [
    {
     "name": "stdout",
     "output_type": "stream",
     "text": [
      "Point Data Keys:  dict_keys(['MaximumInscribedSphereRadius', 'EdgeArray', 'EdgePCoordArray'])\n",
      "Cell Data Keys:  dict_keys(['CellPointIds'])\n"
     ]
    }
   ],
   "source": [
    "print('Point Data Keys: ', numpyCenterlines['PointData'].keys())\n",
    "print('Cell Data Keys: ', numpyCenterlines['CellData'].keys())"
   ]
  },
  {
   "cell_type": "markdown",
   "metadata": {},
   "source": [
    "\n",
    "<p>We see that the number of components in <code>['PointData']['MaximumInscribedSphereRadius']</code> is equal to the number of rows in <code>['Points']</code></p>\n"
   ]
  },
  {
   "cell_type": "code",
   "execution_count": 32,
   "metadata": {},
   "outputs": [
    {
     "name": "stdout",
     "output_type": "stream",
     "text": [
      "Point Data Shape:  (3462,)  = Number of Points:  3462\n"
     ]
    }
   ],
   "source": [
    "print('Point Data Shape: ', numpyCenterlines['PointData']['MaximumInscribedSphereRadius'].shape, ' = Number of Points: ', numpyCenterlines['Points'].shape[0])"
   ]
  },
  {
   "cell_type": "markdown",
   "metadata": {},
   "source": [
    "\n",
    "<p>We can also see that <code>['CellData']['CellPointIds']</code> is a list of a certain length which contains a series of numpy arrays, and that the sizes of the arrays are not necesarily the same:</p>\n"
   ]
  },
  {
   "cell_type": "code",
   "execution_count": 33,
   "metadata": {},
   "outputs": [
    {
     "name": "stdout",
     "output_type": "stream",
     "text": [
      "['CellData']['CellPointIds] is a python list:  True\n",
      "length of ['CellData']['CellPointIds'] list =  5 \n",
      "\n",
      "Minimum size of array in ['CellData']['CellPointIds'] =  621  Which occured at index  2\n",
      "Maximum size of array in ['CellData']['CellPointIds'] =  763  Which occured at index  4\n"
     ]
    }
   ],
   "source": [
    "print(\"['CellData']['CellPointIds] is a python list: \", isinstance(numpyCenterlines['CellData']['CellPointIds'], list))\n",
    "print(\"length of ['CellData']['CellPointIds'] list = \", len(numpyCenterlines['CellData']['CellPointIds']), '\\n')\n",
    "\n",
    "minSize = np.inf\n",
    "maxSize = 0\n",
    "for index, cellId in enumerate(numpyCenterlines['CellData']['CellPointIds']):\n",
    "    if cellId.shape[0] > maxSize:\n",
    "        maxSize = cellId.shape[0]\n",
    "        maxSizeCellIndex = index\n",
    "    if cellId.shape[0] < minSize:\n",
    "        minSize = cellId.shape[0]\n",
    "        minSizeCellIndex = index\n",
    "        \n",
    "print(\"Minimum size of array in ['CellData']['CellPointIds'] = \", minSize, ' Which occured at index ', minSizeCellIndex)\n",
    "print(\"Maximum size of array in ['CellData']['CellPointIds'] = \", maxSize, ' Which occured at index ', maxSizeCellIndex)"
   ]
  },
  {
   "cell_type": "markdown",
   "metadata": {},
   "source": [
    "\n",
    "<p>We can the see that the data inside of <code>['CellData']</code> (not at <code>['CellPointIds']</code>) has a shape equal to the length of the <code>['CellData']['CellPointIds']</code>  list</p>\n"
   ]
  },
  {
   "cell_type": "code",
   "execution_count": 34,
   "metadata": {},
   "outputs": [],
   "source": [
    "for cellDataKey in numpyCenterlines['CellData']:\n",
    "    if cellDataKey == 'CellPointIds':\n",
    "        pass\n",
    "    else:\n",
    "        print('Shape of ', cellDataKey, ' = ', numpyCenterlines['CellData'][cellDataKey].shape)"
   ]
  },
  {
   "cell_type": "markdown",
   "metadata": {},
   "source": [
    "\n",
    "<p>This is important, as the data stored in the <code>['CellData']</code> arrays are indexed so that the value at <code>['CellData']['foo'][index]</code> refers to the list element at the corresponding list index in <code>['CellData']['CellPointIds']</code>. For example: the data sorted at <code>['CellData']['TractIds'][5]</code> refers to the cell point id list accessible at <code>['CellData']['CellPointIds'][5]</code>. Recall that this array's values indicate the row indices of the vertices in <code>['Points']</code> which make up the cell. In this way it is possible to map a Cell Data value to a particular Point coordinate.</p>\n",
    "<p>However, it is not always convenient to have to map each <code>['CellData']['foo']</code> index to the <code>['CellData']['CellPointIds']</code> list to the corresponding coordinate in <code>['Points']</code>. A conceptually simpler (though more resource intensive) method to perform the mapping is to take each dataset attribute in <code>['CellData']</code> (with the exception of <code>CellPointIDs</code>), and map it to a dense array in <code>['PointData']</code>. This can be performed automatically by specifying <code>foo.ConvertCellToPoint = 1</code> when calling <code>vmtkscripts.vmtkCenterlinesToNumpy()</code></p>\n",
    "<p>Like the surface example above, it is possible to convert from the nested python dictionary of arrays to a VMTK centerlines object via the <code>vmtkscripts.vmtkNumpyToCenterlines()</code> module:</p>\n"
   ]
  },
  {
   "cell_type": "code",
   "execution_count": 35,
   "metadata": {},
   "outputs": [
    {
     "name": "stdout",
     "output_type": "stream",
     "text": [
      "converting points\n",
      "converting point data\n",
      "converting cell data\n"
     ]
    }
   ],
   "source": [
    "clVmtkAdaptor = vmtkscripts.vmtkNumpyToCenterlines()\n",
    "clVmtkAdaptor.ArrayDict = numpyCenterlines\n",
    "clVmtkAdaptor.Execute()"
   ]
  },
  {
   "cell_type": "markdown",
   "metadata": {},
   "source": [
    "<hr>\n",
    "<h3 id=\"Converting-VMTK-Image-Objects\">Converting VMTK Image Objects<a class=\"anchor-link\" href=\"http://www.vmtk.org/tutorials/WorkingWithNumpyArraysIPYNB.html#Converting-VMTK-Image-Objects\"></a></h3>\n"
   ]
  },
  {
   "cell_type": "markdown",
   "metadata": {},
   "source": [
    "\n",
    "<p>The conversion of VMTK Image Objects requires a much simpler ArrayDict structure than for a surface or centerline. The structure of the <code>ArrayDict</code> is as follows:</p>\n",
    "<pre><code>ArrayDict\n",
    "    ['Origin']                 &lt;-- required, is 3x1 array of (float) x,y,z vertex locations at index (0,0,0)\n",
    "    ['Dimensions']             &lt;-- required, is 3x1 array of (int) number of voxels in the x,y,z direction.\n",
    "    ['Spacing']                &lt;-- required, is 3x1 array of (float) voxel spacing in the x,y,z directions\n",
    "    ['PointData']              &lt;-- required\n",
    "        ['PointDataArray1']    &lt;-- required, is np.ndarray of shape = dimensions containing image data. \n",
    "        ['PointDataArray2']    &lt;-- optional, is np.ndarray of shape = dimensions containing image data. \n",
    "        ...</code></pre>\n"
   ]
  },
  {
   "cell_type": "markdown",
   "metadata": {},
   "source": [
    "\n",
    "<p>Recall that for this module, image data does not have a concept of cell data. As a result the entire VTK object can be specified with 3 attributes (Origin, Dimensions, &amp; Spacing) and a dense array representing the image intensity scalars at each voxel index. An example of this is shown below:</p>\n"
   ]
  },
  {
   "cell_type": "code",
   "execution_count": 37,
   "metadata": {},
   "outputs": [
    {
     "name": "stdout",
     "output_type": "stream",
     "text": [
      "Reading VTK XML image file.\n",
      "Spacing 0.575590 0.575590 0.575592\n",
      "Origin -0.000000 -0.000000 -146.775360\n",
      "Dimensions 256 256 250\n"
     ]
    }
   ],
   "source": [
    "imageReader = vmtkscripts.vmtkImageReader()\n",
    "imageReader.InputFileName = '/home/iagolessa/Documents/aneurysms/geometries/einsteinCases/unrupturedCases/vmtkReconstruction/case11/images/case11.vti'\n",
    "imageReader.Execute()"
   ]
  },
  {
   "cell_type": "code",
   "execution_count": 40,
   "metadata": {},
   "outputs": [],
   "source": [
    "imageViewer = vmtkscripts.vmtkImageViewer()\n",
    "imageViewer.Image = imageReader.Image\n",
    "imageViewer.TextureInterpolation = False\n",
    "imageViewer.Execute()"
   ]
  },
  {
   "cell_type": "code",
   "execution_count": 41,
   "metadata": {},
   "outputs": [
    {
     "name": "stdout",
     "output_type": "stream",
     "text": [
      "wrapping vtkDataObject\n",
      "setting origin\n",
      "setting dimensions\n",
      "setting spacing\n",
      "writing point data: \n"
     ]
    }
   ],
   "source": [
    "imageNumpyAdaptor = vmtkscripts.vmtkImageToNumpy()\n",
    "imageNumpyAdaptor.Image = imageReader.Image\n",
    "imageNumpyAdaptor.Execute()"
   ]
  },
  {
   "cell_type": "code",
   "execution_count": 42,
   "metadata": {},
   "outputs": [
    {
     "data": {
      "text/plain": [
       "{'Origin': array([  -0.        ,   -0.        , -146.77536011]),\n",
       " 'Dimensions': array([256, 256, 250]),\n",
       " 'Spacing': array([ 0.57558964,  0.57558964,  0.57559204]),\n",
       " 'PointData': {'ImageScalars': array([[[-5942.77806251, -5942.77806251, -5942.77806251, ...,\n",
       "           -5942.77806251, -5942.77806251, -5942.77806251],\n",
       "          [-5942.77806251, -5942.77806251, -5942.77806251, ...,\n",
       "           -5942.77806251, -5942.77806251, -5942.77806251],\n",
       "          [-5942.77806251, -5942.77806251, -5942.77806251, ...,\n",
       "           -5942.77806251, -5942.77806251, -5942.77806251],\n",
       "          ..., \n",
       "          [-5942.77806251, -5942.77806251, -5942.77806251, ...,\n",
       "           -5942.77806251, -5942.77806251, -5942.77806251],\n",
       "          [-5942.77806251, -5942.77806251, -5942.77806251, ...,\n",
       "           -5942.77806251, -5942.77806251, -5942.77806251],\n",
       "          [-5942.77806251, -5942.77806251, -5942.77806251, ...,\n",
       "           -5942.77806251, -5942.77806251, -5942.77806251]],\n",
       "  \n",
       "         [[-5942.77806251, -5942.77806251, -5942.77806251, ...,\n",
       "           -5942.77806251, -5942.77806251, -5942.77806251],\n",
       "          [-5942.77806251, -5942.77806251, -5942.77806251, ...,\n",
       "           -5942.77806251, -5942.77806251, -5942.77806251],\n",
       "          [-5942.77806251, -5942.77806251, -5942.77806251, ...,\n",
       "           -5942.77806251, -5942.77806251, -5942.77806251],\n",
       "          ..., \n",
       "          [-5942.77806251, -5942.77806251, -5942.77806251, ...,\n",
       "           -5942.77806251, -5942.77806251, -5942.77806251],\n",
       "          [-5942.77806251, -5942.77806251, -5942.77806251, ...,\n",
       "           -5942.77806251, -5942.77806251, -5942.77806251],\n",
       "          [-5942.77806251, -5942.77806251, -5942.77806251, ...,\n",
       "           -5942.77806251, -5942.77806251, -5942.77806251]],\n",
       "  \n",
       "         [[-5942.77806251, -5942.77806251, -5942.77806251, ...,\n",
       "           -5942.77806251, -5942.77806251, -5942.77806251],\n",
       "          [-5942.77806251, -5942.77806251, -5942.77806251, ...,\n",
       "           -5942.77806251, -5942.77806251, -5942.77806251],\n",
       "          [-5942.77806251, -5942.77806251, -5942.77806251, ...,\n",
       "           -5942.77806251, -5942.77806251, -5942.77806251],\n",
       "          ..., \n",
       "          [-5942.77806251, -5942.77806251, -5942.77806251, ...,\n",
       "           -5942.77806251, -5942.77806251, -5942.77806251],\n",
       "          [-5942.77806251, -5942.77806251, -5942.77806251, ...,\n",
       "           -5942.77806251, -5942.77806251, -5942.77806251],\n",
       "          [-5942.77806251, -5942.77806251, -5942.77806251, ...,\n",
       "           -5942.77806251, -5942.77806251, -5942.77806251]],\n",
       "  \n",
       "         ..., \n",
       "         [[-5942.77806251, -5942.77806251, -5942.77806251, ...,\n",
       "           -5942.77806251, -5942.77806251, -5942.77806251],\n",
       "          [-5942.77806251, -5942.77806251, -5942.77806251, ...,\n",
       "           -5942.77806251, -5942.77806251, -5942.77806251],\n",
       "          [-5942.77806251, -5942.77806251, -5942.77806251, ...,\n",
       "           -5942.77806251, -5942.77806251, -5942.77806251],\n",
       "          ..., \n",
       "          [-5942.77806251, -5942.77806251, -5942.77806251, ...,\n",
       "           -5942.77806251, -5942.77806251, -5942.77806251],\n",
       "          [-5942.77806251, -5942.77806251, -5942.77806251, ...,\n",
       "           -5942.77806251, -5942.77806251, -5942.77806251],\n",
       "          [-5942.77806251, -5942.77806251, -5942.77806251, ...,\n",
       "           -5942.77806251, -5942.77806251, -5942.77806251]],\n",
       "  \n",
       "         [[-5942.77806251, -5942.77806251, -5942.77806251, ...,\n",
       "           -5942.77806251, -5942.77806251, -5942.77806251],\n",
       "          [-5942.77806251, -5942.77806251, -5942.77806251, ...,\n",
       "           -5942.77806251, -5942.77806251, -5942.77806251],\n",
       "          [-5942.77806251, -5942.77806251, -5942.77806251, ...,\n",
       "           -5942.77806251, -5942.77806251, -5942.77806251],\n",
       "          ..., \n",
       "          [-5942.77806251, -5942.77806251, -5942.77806251, ...,\n",
       "           -5942.77806251, -5942.77806251, -5942.77806251],\n",
       "          [-5942.77806251, -5942.77806251, -5942.77806251, ...,\n",
       "           -5942.77806251, -5942.77806251, -5942.77806251],\n",
       "          [-5942.77806251, -5942.77806251, -5942.77806251, ...,\n",
       "           -5942.77806251, -5942.77806251, -5942.77806251]],\n",
       "  \n",
       "         [[-5942.77806251, -5942.77806251, -5942.77806251, ...,\n",
       "           -5942.77806251, -5942.77806251, -5942.77806251],\n",
       "          [-5942.77806251, -5942.77806251, -5942.77806251, ...,\n",
       "           -5942.77806251, -5942.77806251, -5942.77806251],\n",
       "          [-5942.77806251, -5942.77806251, -5942.77806251, ...,\n",
       "           -5942.77806251, -5942.77806251, -5942.77806251],\n",
       "          ..., \n",
       "          [-5942.77806251, -5942.77806251, -5942.77806251, ...,\n",
       "           -5942.77806251, -5942.77806251, -5942.77806251],\n",
       "          [-5942.77806251, -5942.77806251, -5942.77806251, ...,\n",
       "           -5942.77806251, -5942.77806251, -5942.77806251],\n",
       "          [-5942.77806251, -5942.77806251, -5942.77806251, ...,\n",
       "           -5942.77806251, -5942.77806251, -5942.77806251]]])}}"
      ]
     },
     "execution_count": 42,
     "metadata": {},
     "output_type": "execute_result"
    }
   ],
   "source": [
    "numpyImage = imageNumpyAdaptor.ArrayDict\n",
    "numpyImage"
   ]
  },
  {
   "cell_type": "code",
   "execution_count": 43,
   "metadata": {},
   "outputs": [
    {
     "name": "stdout",
     "output_type": "stream",
     "text": [
      "['Spacing'] =  [ 0.57558964  0.57558964  0.57559204]\n",
      "['Origin'] =  [  -0.           -0.         -146.77536011]\n",
      "['Dimensions'] =  [256 256 250]\n",
      "['PointData']['ImageScalars'] shape =  (256, 256, 250)\n"
     ]
    }
   ],
   "source": [
    "print(\"['Spacing'] = \", numpyImage['Spacing'])\n",
    "print(\"['Origin'] = \", numpyImage['Origin'])\n",
    "print(\"['Dimensions'] = \", numpyImage['Dimensions'])\n",
    "print(\"['PointData']['ImageScalars'] shape = \", numpyImage['PointData']['ImageScalars'].shape)"
   ]
  },
  {
   "cell_type": "markdown",
   "metadata": {},
   "source": [
    "\n",
    "<p>We can modify the data stored in <code>['PointData']['ImageScalars']</code> and return it to a VMTK image object as demonstrated below:</p>\n"
   ]
  },
  {
   "cell_type": "code",
   "execution_count": 44,
   "metadata": {},
   "outputs": [
    {
     "name": "stdout",
     "output_type": "stream",
     "text": [
      "Intensity Maximum Before Modification =  19482.2642596\n",
      "Intensity Minimum Before Modification =  -5942.77806251\n",
      "Intensity Maximum After Modification =  500.0\n",
      "Intensity Minimum After Modification =  -5942.77806251\n"
     ]
    }
   ],
   "source": [
    "print('Intensity Maximum Before Modification = ', np.amax(numpyImage['PointData']['ImageScalars']))\n",
    "print('Intensity Minimum Before Modification = ', np.amin(numpyImage['PointData']['ImageScalars']))\n",
    "\n",
    "numpyImage['PointData']['ImageScalars'][np.where(numpyImage['PointData']['ImageScalars'] > 500)] = 500\n",
    "\n",
    "print('Intensity Maximum After Modification = ', np.amax(numpyImage['PointData']['ImageScalars']))\n",
    "print('Intensity Minimum After Modification = ', np.amin(numpyImage['PointData']['ImageScalars']))"
   ]
  },
  {
   "cell_type": "code",
   "execution_count": 47,
   "metadata": {},
   "outputs": [
    {
     "name": "stdout",
     "output_type": "stream",
     "text": [
      "Converting Numpy Array to vtkImageData\n",
      "converting point data\n",
      "Output vmtkNumpyToImage members:\n",
      "    Id = 0\n",
      "    Image = vtkImageData\n"
     ]
    }
   ],
   "source": [
    "imageVmtkAdaptor = vmtkscripts.vmtkNumpyToImage()\n",
    "imageVmtkAdaptor.ArrayDict = numpyImage\n",
    "imageVmtkAdaptor.Execute()\n",
    "imageVmtkAdaptor.PrintOutputMembers()"
   ]
  },
  {
   "cell_type": "code",
   "execution_count": 49,
   "metadata": {},
   "outputs": [
    {
     "name": "stdout",
     "output_type": "stream",
     "text": [
      "Quit renderer\n"
     ]
    }
   ],
   "source": [
    "imageViewer = vmtkscripts.vmtkImageViewer()\n",
    "imageViewer.Image = imageVmtkAdaptor.Image\n",
    "imageViewer.Execute()"
   ]
  },
  {
   "cell_type": "markdown",
   "metadata": {},
   "source": [
    "\n",
    "<h2 id=\"Saving-VMTK-Numpy-Objects\">Saving VMTK Numpy Objects<a class=\"anchor-link\" href=\"http://www.vmtk.org/tutorials/WorkingWithNumpyArraysIPYNB.html#Saving-VMTK-Numpy-Objects\"></a></h2>\n"
   ]
  },
  {
   "cell_type": "markdown",
   "metadata": {},
   "source": [
    "\n",
    "<p>Two convenience scripts have been provided to save and read VMTK numpy objects (surfaces, centerlines, or images) to disk. The files can be written in either HDF5 format (provided the h5py module is installed) or via a standard python pickle object. The procedure is identical for every object type.</p>\n",
    "<p>Simply use vmtkscripts.vmtkNumpyWriter() and vmtkscripts.vmtkNumpyReader() in the fashion standard through vmtk. The scripts take an <code>ArrayDict</code> as an input member along with a <code>Format</code> identification (default = pickle) and a output/input file name, and read/write the array to/from disk.</p>\n"
   ]
  }
 ],
 "metadata": {
  "kernelspec": {
   "display_name": "Python [conda env:vmtk]",
   "language": "python",
   "name": "conda-env-vmtk-py"
  },
  "language_info": {
   "codemirror_mode": {
    "name": "ipython",
    "version": 3
   },
   "file_extension": ".py",
   "mimetype": "text/x-python",
   "name": "python",
   "nbconvert_exporter": "python",
   "pygments_lexer": "ipython3",
   "version": "3.6.1"
  }
 },
 "nbformat": 4,
 "nbformat_minor": 2
}
