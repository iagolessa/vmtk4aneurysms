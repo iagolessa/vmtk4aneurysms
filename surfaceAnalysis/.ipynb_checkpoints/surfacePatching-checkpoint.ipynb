{
 "cells": [
  {
   "cell_type": "markdown",
   "metadata": {},
   "source": [
    "# **Patching Surface for *snappyHexMesh* Generation**\n",
    "<hr>"
   ]
  },
  {
   "cell_type": "code",
   "execution_count": 1,
   "metadata": {
    "slideshow": {
     "slide_type": "slide"
    }
   },
   "outputs": [],
   "source": [
    "from vmtk import vmtkscripts\n",
    "import numpy as np\n",
    "import os"
   ]
  },
  {
   "cell_type": "markdown",
   "metadata": {},
   "source": [
    "The default current directory when loading a notebook from GDrive is the home folder of the current user. To load the user's libraries and modules, first change to the file location using the os' python module, and load the necessary modules, then change to the former directory. "
   ]
  },
  {
   "cell_type": "code",
   "execution_count": 2,
   "metadata": {},
   "outputs": [],
   "source": [
    "# Path where files are stored\n",
    "aneurysmsPath = \"/home/iagolessa/documents/unesp/doctorate/\""
   ]
  },
  {
   "cell_type": "code",
   "execution_count": 3,
   "metadata": {},
   "outputs": [],
   "source": [
    "# Change to directory where vmtk_functions and vmtk_filenames are located\n",
    "os.chdir(aneurysmsPath+\"aneurysms/vmtkScripts\")\n",
    "\n",
    "# Import the necessary user's modules\n",
    "import vmtk_functions\n",
    "from vmtk_filenames import *\n",
    "\n",
    "# Change it back\n",
    "os.chdir('/home/iagolessa')"
   ]
  },
  {
   "cell_type": "markdown",
   "metadata": {},
   "source": [
    "<hr>\n",
    "# **Surface Orientation and Patching**\n",
    "\n",
    "The cells below takes care of orienting the surface by translate and rotate transformations, to conform the inlet patch surface normal to the opposite z direction (this orientation was chosen to facilitate the introduction of boundary conditions at simulation time). \n",
    "\n",
    "The oriented surface is then 'exploded' to its constituent patches using the 'vmtkthreshold' script. First, the boundary is inspected generating a reference system file -- 'referenceSystem.dat' with the normal and center information of each cap patch (the wall has id 1 by default, and we prefer to keep it that way). The capped surface is, then, transformed and saved to disk -- 'surfaceOriented.stl' -- and finally is decomposed into its patches.\n",
    "\n",
    "One of the cells below try to identify the inlet patch index by the patch area, because, usually, the inlet has larger area than the outlets (but is always important to be sure of the inlet id)."
   ]
  },
  {
   "cell_type": "code",
   "execution_count": 4,
   "metadata": {
    "collapsed": true
   },
   "outputs": [
    {
     "name": "stdout",
     "output_type": "stream",
     "text": [
      "Files saved to: /home/iagolessa/documents/unesp/doctorate/aneurysms/geometries/vrCases/extraCases/imageSubtracted/AquilionPrime/newImage/\n"
     ]
    }
   ],
   "source": [
    "# Path to save the generated files when extracting the surface\n",
    "# We reccomend to separate it from the DICOM original dir. \n",
    "# Note that inside casePath, this code will create different sub-directories to store different data types\n",
    "casePath       = aneurysmsPath+\"aneurysms/geometries/vrCases/extraCases/imageSubtracted/AquilionPrime/newImage/\"\n",
    "\n",
    "# Define subdirs\n",
    "imagesDir       = casePath+'images/'\n",
    "surfacesDir     = casePath+'surfaces/'\n",
    "centerlinesDir  = casePath+'centerlines/'\n",
    "meshesDir       = casePath+'meshes/'\n",
    "parentVesselDir = casePath+\"parentVessel/\"\n",
    "\n",
    "print('Files saved to:', casePath)"
   ]
  },
  {
   "cell_type": "code",
   "execution_count": 5,
   "metadata": {},
   "outputs": [
    {
     "name": "stdout",
     "output_type": "stream",
     "text": [
      "Reading VTK XML surface file.\n",
      "\n",
      "CellEntityId: 2\n",
      "  Origin: 224.594208, 223.905975, -580.416992\n",
      "  Normal: 0.187458, 0.179352, -0.965760\n",
      "  Radius: 2.471807\n",
      "\n",
      "CellEntityId: 3\n",
      "  Origin: 218.270782, 218.899338, -562.974182\n",
      "  Normal: -0.945212, -0.241524, 0.219640\n",
      "  Radius: 1.860568\n",
      "\n",
      "CellEntityId: 4\n",
      "  Origin: 228.617676, 217.818604, -563.176758\n",
      "  Normal: 0.778048, -0.608633, -0.155588\n",
      "  Radius: 1.239399\n",
      "\n",
      "Quit renderer\n",
      "wrapping vtkPolyData object\n",
      "converting cell data: \n",
      "converting points\n",
      "converting point data: \n",
      "BoundaryNormals\n",
      "BoundaryRadius\n",
      "Point1Array\n",
      "Point2Array\n",
      "CellEntityIds\n",
      "converting cell connectivity list\n"
     ]
    }
   ],
   "source": [
    "# Get array with pacthes info\n",
    "# surface = vmtk_functions.readSurface(surfacesDir+'surfaceRemeshedSpatialVaryingResolution.stl')\n",
    "surface = vmtk_functions.readSurface(surfacesDir+surfaceCappedFile)\n",
    "capsGeometryArray = vmtk_functions.getPatchInfo(surface)"
   ]
  },
  {
   "cell_type": "code",
   "execution_count": 6,
   "metadata": {},
   "outputs": [],
   "source": [
    "colsType = [('Center', tuple),\n",
    "            ('Normal', tuple),\n",
    "            ('Radius', float),\n",
    "            ('PatchId', int),\n",
    "            ('PatchType','U10')]\n",
    "\n",
    "# Empty auxiliar list     \n",
    "capsGeometryList = []"
   ]
  },
  {
   "cell_type": "code",
   "execution_count": null,
   "metadata": {},
   "outputs": [],
   "source": [
    "# Capping the surface\n",
    "surfaceCapper = vmtkscripts.vmtkSurfaceCapper()\n",
    "surfaceCapper.Surface = surface\n",
    "surfaceCapper.Method = 'centerpoint'\n",
    "surfaceCapper.Interactive = 0\n",
    "surfaceCapper.Execute()"
   ]
  },
  {
   "cell_type": "code",
   "execution_count": 7,
   "metadata": {},
   "outputs": [
    {
     "name": "stdout",
     "output_type": "stream",
     "text": [
      "Output vmtksurfacetomesh members:\n",
      "    Id = 0\n",
      "    Mesh = vtkUnstructuredGrid\n"
     ]
    }
   ],
   "source": [
    "# Surface boundary inspector\n",
    "# Conveting surface to mesh to get cell entity ids\n",
    "surfaceToMesh = vmtkscripts.vmtkSurfaceToMesh()\n",
    "surfaceToMesh.Surface = surface#Capper.Surface\n",
    "surfaceToMesh.Execute()\n",
    "surfaceToMesh.PrintOutputMembers()"
   ]
  },
  {
   "cell_type": "code",
   "execution_count": 8,
   "metadata": {},
   "outputs": [
    {
     "name": "stdout",
     "output_type": "stream",
     "text": [
      "Quit renderer\n"
     ]
    }
   ],
   "source": [
    "meshViewer = vmtkscripts.vmtkMeshViewer()\n",
    "meshViewer.Mesh = surfaceToMesh.Mesh\n",
    "meshViewer.Execute()"
   ]
  },
  {
   "cell_type": "code",
   "execution_count": 11,
   "metadata": {},
   "outputs": [
    {
     "name": "stdout",
     "output_type": "stream",
     "text": [
      "\n",
      "CellEntityId: 2\n",
      "  Origin: 224.594208, 223.905975, -580.416992\n",
      "  Normal: 0.187458, 0.179352, -0.965760\n",
      "  Radius: 2.471807\n",
      "\n",
      "CellEntityId: 3\n",
      "  Origin: 218.270782, 218.899338, -562.974182\n",
      "  Normal: -0.945212, -0.241524, 0.219640\n",
      "  Radius: 1.860568\n",
      "\n",
      "CellEntityId: 4\n",
      "  Origin: 228.617676, 217.818604, -563.176758\n",
      "  Normal: 0.778048, -0.608633, -0.155588\n",
      "  Radius: 1.239399\n",
      "\n",
      "Quit renderer\n",
      "wrapping vtkPolyData object\n",
      "converting cell data: \n",
      "converting points\n",
      "converting point data: \n",
      "BoundaryNormals\n",
      "BoundaryRadius\n",
      "Point1Array\n",
      "Point2Array\n",
      "CellEntityIds\n",
      "converting cell connectivity list\n"
     ]
    }
   ],
   "source": [
    "# Inspecting\n",
    "surfaceBoundaryInspector = vmtkscripts.vmtkMeshBoundaryInspector()\n",
    "surfaceBoundaryInspector.Mesh = surfaceToMesh.Mesh\n",
    "surfaceBoundaryInspector.CellEntityIdsArrayName = \"CellEntityIds\"#surfaceCapper.CellEntityIdsArrayName\n",
    "surfaceBoundaryInspector.Execute()\n",
    "\n",
    "# Store patch info in python dictionary using vmtksurfacetonumpy\n",
    "vmtkToNumpy = vmtkscripts.vmtkSurfaceToNumpy()\n",
    "vmtkToNumpy.Surface = surfaceBoundaryInspector.ReferenceSystems\n",
    "vmtkToNumpy.Execute()"
   ]
  },
  {
   "cell_type": "code",
   "execution_count": 12,
   "metadata": {},
   "outputs": [],
   "source": [
    "dictPatchData = vmtkToNumpy.ArrayDict\n",
    "# Creation of a 'capsGeometryArray' ndarray structured object\n",
    "# which contains Center, Normals, Radius, and patch type\n",
    "# of the surface caps\n",
    "\n",
    "# Assigning structuired array with patch info\n",
    "intPatchesNum = len( dictPatchData['CellData']['CellPointIds'] )\n",
    "\n",
    "for index in range(intPatchesNum):\n",
    "    # Copy formatted to list\n",
    "    Center  = tuple(dictPatchData['Points'][index])\n",
    "    Normal  = tuple(dictPatchData['PointData']['BoundaryNormals'][index])\n",
    "    PatchId = dictPatchData['PointData']['CellEntityIds'][index]\n",
    "    Radius  = dictPatchData['PointData']['BoundaryRadius'][index]\n",
    "\n",
    "    capsGeometryList.append((Center, Normal, Radius, PatchId, 'patch'))\n",
    "\n",
    "# Convert to array\n",
    "capsGeometryArray = np.array(capsGeometryList, \n",
    "                             dtype=colsType)\n",
    "\n",
    "# Change patch type based on maximum radius\n",
    "maxRadius = np.max(capsGeometryArray['Radius'])\n",
    "\n",
    "for i in range(0, len(capsGeometryArray)):\n",
    "    if  capsGeometryArray['Radius'][i] == maxRadius:\n",
    "        capsGeometryArray['PatchType'][i] = 'inlet'\n",
    "    else:\n",
    "        capsGeometryArray['PatchType'][i] = 'outlet'"
   ]
  },
  {
   "cell_type": "code",
   "execution_count": 13,
   "metadata": {},
   "outputs": [
    {
     "name": "stdout",
     "output_type": "stream",
     "text": [
      "[ ((224.59421, 223.90598, -580.41699), (0.18745767713345737, 0.17935204847683389, -0.96576004369143986),  2.4718073 , 2, 'inlet')\n",
      " ((218.27078, 218.89934, -562.97418), (-0.94521150631809958, -0.24152354909011958, 0.21963966754386985),  1.86056843, 3, 'outlet')\n",
      " ((228.61768, 217.8186, -563.17676), (0.77804783850141446, -0.60863296470938, -0.15558751644122254),  1.23939853, 4, 'outlet')]\n"
     ]
    }
   ],
   "source": [
    "# ~~~~~~~~~~~~~~~~~~~~~~~~~~~~~\n",
    "# Specify the other inlets here\n",
    "extraInletIds = []\n",
    "\n",
    "# For all the patches ids\n",
    "for patchId in capsGeometryArray['PatchId']:\n",
    "    # If the id is an extraInlet id\n",
    "    # Check if extraInletIds is not empty\n",
    "    if extraInletIds:\n",
    "        # If the patch id is on specified inlet list\n",
    "        if patchId in extraInletIds:\n",
    "            # find its index in capsGeometryArray\n",
    "            index = np.where(capsGeometryArray['PatchId'] == patchId)\n",
    "            capsGeometryArray['PatchType'][index[0]] = 'inlet'\n",
    "        # If not, then name it 'outlet'\n",
    "        else:\n",
    "            index = np.where(capsGeometryArray['PatchId'] == patchId)\n",
    "            capsGeometryArray['PatchType'][index[0]] = 'outlet'\n",
    "    else:\n",
    "        continue\n",
    "        \n",
    "print(capsGeometryArray)"
   ]
  },
  {
   "cell_type": "code",
   "execution_count": 14,
   "metadata": {},
   "outputs": [
    {
     "name": "stdout",
     "output_type": "stream",
     "text": [
      "Last numbered patch index:  4\n"
     ]
    }
   ],
   "source": [
    "# Last index of patches: to be used below when iterating over patches\n",
    "\n",
    "# --> Volume is always 0\n",
    "# --> Wall is always 1\n",
    "wallIndex = 1 # surfaceBoundaryInspector.WallCellEntityId # = 1\n",
    "\n",
    "# Inlet index: get inlet line first in array\n",
    "inletPos = np.where(capsGeometryArray['PatchType'] == 'inlet')\n",
    "inletId = int(capsGeometryArray['PatchId'][inletPos])\n",
    "\n",
    "lastId = np.max(dictPatchData['PointData']['CellEntityIds'])\n",
    "print('Last numbered patch index: ', lastId)"
   ]
  },
  {
   "cell_type": "code",
   "execution_count": 15,
   "metadata": {},
   "outputs": [
    {
     "data": {
      "text/plain": [
       "{'inlet': 1, 'outlet': 2}"
      ]
     },
     "execution_count": 15,
     "metadata": {},
     "output_type": "execute_result"
    }
   ],
   "source": [
    "# Counting the number of inlets and outlets\n",
    "# using the numpy.unique function: it returns an ndarray with the unique itens of the input array\n",
    "# with the return_counts=True also returns the number of appearance of each item\n",
    "patchTypes, numberOfPatches = np.unique(capsGeometryArray['PatchType'], return_counts=True)\n",
    "\n",
    "# Zip both patchTypes and numberOfPatches and convert to dictionary\n",
    "# with number of inlets and outlets\n",
    "nPatches = dict(zip(patchTypes, numberOfPatches))\n",
    "nPatches"
   ]
  },
  {
   "cell_type": "code",
   "execution_count": null,
   "metadata": {},
   "outputs": [],
   "source": [
    "# Surface reorientation\n",
    "# It is better to reorient the final capped surface before sending to mesh in SnappyHexMesh\n",
    "# The vmtksurfacereferencesystemtransform script takes a surface (the surfaceCapped above) \n",
    "# and rotates and translates it conforming one of its patches (in our case the inlet patch) to a target reference system\n",
    "# for that, it uses the output of the vtmkboundaryinspector\n",
    "\n",
    "surfaceTransform = vmtkscripts.vmtkSurfaceReferenceSystemTransform()\n",
    "\n",
    "# Load from file\n",
    "# surfaceTransform.SurfaceInputFileName = surfacesDir+'surfaceCapped.vtp'\n",
    "# surfaceTransform.IORead()\n",
    "\n",
    "# or use the just created surfaceCapped\n",
    "surfaceTransform.Surface = surfaceToMesh.Surface\n",
    "\n",
    "# Target reference system parameters\n",
    "surfaceTransform.ReferenceOrigin  = [0, 0, 0]  # translate to origin of system\n",
    "surfaceTransform.ReferenceNormal1 = [0, 0, -1] # inlet normal will coincide with -z axis orientation\n",
    "surfaceTransform.ReferenceNormal2 = [0, 0, -1]\n",
    "\n",
    "# Surface reference system\n",
    "surfaceTransform.ReferenceSystems = surfaceBoundaryInspector.ReferenceSystems\n",
    "\n",
    "# to get the reference systems of inlet patch\n",
    "# Note that, if there is more than one inlet, the inlet chose is the one with largest area\n",
    "surfaceTransform.ReferenceSystemId = inletId\n",
    "\n",
    "surfaceTransform.ReferenceSystemsIdArrayName = 'CellEntityIds'\n",
    "surfaceTransform.ReferenceSystemsNormal1ArrayName = 'BoundaryNormals'\n",
    "surfaceTransform.ReferenceSystemsNormal2ArrayName = 'BoundaryNormals'\n",
    "\n",
    "# NEEDS TO BE A VTP FILE TO SAVE ARRAY DATA!\n",
    "surfaceTransform.SurfaceOutputFileName = surfacesDir+surfaceOrientedFile\n",
    "\n",
    "surfaceTransform.PrintInputMembers()\n",
    "surfaceTransform.PrintOutputMembers()\n",
    "\n",
    "# surfaceTransform.OutputText('Transforming capped surface. \\n')\n",
    "surfaceTransform.Execute()\n",
    "surfaceTransform.IOWrite()\n",
    "# surfaceTransform.OutputText('File saved: '+surfaceTransform.SurfaceOutputFileName)"
   ]
  },
  {
   "cell_type": "code",
   "execution_count": 17,
   "metadata": {},
   "outputs": [
    {
     "name": "stdout",
     "output_type": "stream",
     "text": [
      "/home/iagolessa/documents/unesp/doctorate/aneurysms/geometries/vrCases/extraCases/imageSubtracted/AquilionPrime/newImage/surfaces/patches/ created.\n"
     ]
    }
   ],
   "source": [
    "# Check if patch dir exists\n",
    "# If it not exists, create it\n",
    "# the patch dir will contains the surface patch files for meshing (wall, inlet and outlet(s)) \n",
    "\n",
    "patchDir = surfacesDir+'patches/'\n",
    "\n",
    "if not os.path.isdir(patchDir):\n",
    "    os.makedirs(patchDir)\n",
    "    print(patchDir+' created.')"
   ]
  },
  {
   "cell_type": "code",
   "execution_count": 18,
   "metadata": {},
   "outputs": [
    {
     "name": "stdout",
     "output_type": "stream",
     "text": [
      "Extracting surface with id  1\n",
      "Writing STL surface file.\n",
      "Patch saved in /home/iagolessa/documents/unesp/doctorate/aneurysms/geometries/vrCases/extraCases/imageSubtracted/AquilionPrime/newImage/surfaces/patches/wall.stl\n",
      "Extracting surface with id  2\n",
      "Patch with id 2 is an inlet. Defining file name: /home/iagolessa/documents/unesp/doctorate/aneurysms/geometries/vrCases/extraCases/imageSubtracted/AquilionPrime/newImage/surfaces/patches/inlet.stl\n",
      "Patch saved in /home/iagolessa/documents/unesp/doctorate/aneurysms/geometries/vrCases/extraCases/imageSubtracted/AquilionPrime/newImage/surfaces/patches/inlet.stl\n",
      "Writing STL surface file.\n",
      "\n",
      "\n",
      "Extracting surface with id  3\n",
      "Patch with id 3 is an outlet. Defining file name: /home/iagolessa/documents/unesp/doctorate/aneurysms/geometries/vrCases/extraCases/imageSubtracted/AquilionPrime/newImage/surfaces/patches/outlet1.stl\n",
      "Patch saved in /home/iagolessa/documents/unesp/doctorate/aneurysms/geometries/vrCases/extraCases/imageSubtracted/AquilionPrime/newImage/surfaces/patches/outlet1.stl\n",
      "Writing STL surface file.\n",
      "\n",
      "\n",
      "Extracting surface with id  4\n",
      "Patch with id 4 is an outlet. Defining file name: /home/iagolessa/documents/unesp/doctorate/aneurysms/geometries/vrCases/extraCases/imageSubtracted/AquilionPrime/newImage/surfaces/patches/outlet2.stl\n",
      "Patch saved in /home/iagolessa/documents/unesp/doctorate/aneurysms/geometries/vrCases/extraCases/imageSubtracted/AquilionPrime/newImage/surfaces/patches/outlet2.stl\n",
      "Writing STL surface file.\n",
      "\n",
      "\n"
     ]
    }
   ],
   "source": [
    "# Using vmtkThreshold script to extract patches for mesh generations in snappy\n",
    "\n",
    "# Surface name to decompose if needs to be read before\n",
    "# if you uncomment these next two lines, dont forget to change line 22 below\n",
    "# surfaceOriented = readSurface(surfacesDir+surfaceCappedFile)\n",
    "# print('\\n')\n",
    "\n",
    "# File names for patches\n",
    "wallFileName = patchDir+'wall.stl'\n",
    "\n",
    "# Extracting first the wall\n",
    "extractThreshold = vmtkscripts.vmtkThreshold()\n",
    "\n",
    "extractThreshold.Surface = surface# surfaceTransform.Surface\n",
    "extractThreshold.LowThreshold = wallIndex\n",
    "extractThreshold.HighThreshold = wallIndex\n",
    "extractThreshold.SurfaceOutputFileName = wallFileName\n",
    "print('Extracting surface with id ', wallIndex)\n",
    "extractThreshold.Execute()\n",
    "extractThreshold.IOWrite()\n",
    "extractThreshold.OutputText('Patch saved in '+extractThreshold.SurfaceOutputFileName+'\\n')\n",
    "\n",
    "# Outlet initial index (to increment)\n",
    "outletIndex = 1\n",
    "inletIndex = 1\n",
    "\n",
    "# Loop to extract inlet and outlet patches\n",
    "for i in np.arange( len(capsGeometryArray) ):\n",
    "    print('Extracting surface with id ', capsGeometryArray['PatchId'][i])\n",
    "    # Instantiate vmtkthreshold\n",
    "    extractThreshold = vmtkscripts.vmtkThreshold()\n",
    "    extractThreshold.Surface = surface #surfaceTransform.Surface\n",
    "    extractThreshold.LowThreshold = capsGeometryArray['PatchId'][i]\n",
    "    extractThreshold.HighThreshold = capsGeometryArray['PatchId'][i]\n",
    "    \n",
    "    # Defining output file names\n",
    "    if capsGeometryArray['PatchType'][i] == 'inlet':\n",
    "        #\n",
    "        if nPatches['inlet'] == 1:\n",
    "            inletFileName = patchDir+'inlet.stl'\n",
    "        else:\n",
    "            inletFileName = patchDir+'inlet'+str(inletIndex)+'.stl'\n",
    "            inletIndex += 1\n",
    "        #\n",
    "        # Attribute surface output file name\n",
    "        print('Patch with id '+str(capsGeometryArray['PatchId'][i])+' is an inlet. Defining file name: '+inletFileName) # debugging\n",
    "        extractThreshold.SurfaceOutputFileName = inletFileName\n",
    "        \n",
    "    elif capsGeometryArray['PatchType'][i] == 'outlet':\n",
    "        if nPatches['outlet'] == 1:\n",
    "            outletFileName = patchDir+'outlet.stl'\n",
    "        else:\n",
    "            outletFileName = patchDir+'outlet'+str(outletIndex)+'.stl'\n",
    "            outletIndex += 1\n",
    "        print('Patch with id '+str(capsGeometryArray['PatchId'][i])+' is an outlet. Defining file name: '+outletFileName) # debugging\n",
    "        extractThreshold.SurfaceOutputFileName = outletFileName\n",
    "    \n",
    "    extractThreshold.Execute()\n",
    "    # Writing surface\n",
    "    extractThreshold.OutputText('Patch saved in '+extractThreshold.SurfaceOutputFileName+'\\n')\n",
    "    extractThreshold.IOWrite()\n",
    "    print('\\n')"
   ]
  },
  {
   "cell_type": "markdown",
   "metadata": {},
   "source": [
    "<hr>\n",
    "The two cells below save the oriented surface and its Voronoi diagram to the parent vessel reconstruction procedure "
   ]
  },
  {
   "cell_type": "code",
   "execution_count": null,
   "metadata": {},
   "outputs": [],
   "source": [
    "# Final surface for parent vessel reconstruction\n",
    "caseId = 'case11'\n",
    "\n",
    "if not os.path.isdir(parentVesselDir+caseId):\n",
    "    os.makedirs(parentVesselDir+caseId)\n",
    "    \n",
    "surfaceForParentVessel = parentVesselDir+caseId+\"/\"+caseId+\"_model.vtp\"\n",
    "print(surfaceForParentVessel)\n",
    "vmtk_functions.writeSurface(surfaceTransform.Surface, surfaceForParentVessel, \"binary\")"
   ]
  },
  {
   "cell_type": "code",
   "execution_count": null,
   "metadata": {},
   "outputs": [],
   "source": [
    "# Compute Voronoi Diagram Separately for parent vessel reconstruction\n",
    "voronoiDiagram = vmtkscripts.vmtkDelaunayVoronoi()\n",
    "\n",
    "voronoiDiagram.Surface = surfaceTransform.Surface\n",
    "# voronoiDiagram.SurfaceInputFileName = surfaceInputFile #casePath+\"surfaces/surfaceRemeshed.vtp\" \n",
    "# voronoiDiagram.IORead()\n",
    "voronoiDiagram.CheckNonManifold = 1\n",
    "voronoiDiagram.RemoveSubresolutionTetrahedra = 1\n",
    "# voronoiDiagram.DelaunayTessellationOutputFileName = casePath+\"surfaces/delaunayTesselation.vtp\"\n",
    "voronoiDiagram.VoronoiDiagramOutputFileName = parentVesselDir+caseId+\"/\"+caseId+\"_voronoi.vtp\"\n",
    "voronoiDiagram.Execute()\n",
    "voronoiDiagram.IOWrite()"
   ]
  },
  {
   "cell_type": "code",
   "execution_count": null,
   "metadata": {},
   "outputs": [],
   "source": [
    "vmtk_functions.viewSurface(voronoiDiagram.Surface)"
   ]
  }
 ],
 "metadata": {
  "kernelspec": {
   "display_name": "Python [conda env:vmtk]",
   "language": "python",
   "name": "conda-env-vmtk-py"
  },
  "language_info": {
   "codemirror_mode": {
    "name": "ipython",
    "version": 3
   },
   "file_extension": ".py",
   "mimetype": "text/x-python",
   "name": "python",
   "nbconvert_exporter": "python",
   "pygments_lexer": "ipython3",
   "version": "3.6.1"
  }
 },
 "nbformat": 4,
 "nbformat_minor": 2
}
