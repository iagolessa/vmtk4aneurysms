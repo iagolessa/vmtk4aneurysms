{
 "cells": [
  {
   "cell_type": "markdown",
   "metadata": {},
   "source": [
    "# **Create Computational Meshes**\n",
    "<hr>"
   ]
  },
  {
   "cell_type": "code",
   "execution_count": 1,
   "metadata": {},
   "outputs": [],
   "source": [
    "from vmtk import vmtkscripts\n",
    "import os"
   ]
  },
  {
   "cell_type": "markdown",
   "metadata": {},
   "source": [
    "The default current directory when loading a notebook from GDrive is the home folder of the current user. To load the user's libraries and modules, first change to the file location using the os' python module, and load the necessary modules, then change to the former directory. "
   ]
  },
  {
   "cell_type": "code",
   "execution_count": 2,
   "metadata": {},
   "outputs": [],
   "source": [
    "# Change to directory where vmtk_functions and vmtk_filenames are located\n",
    "os.chdir('/home/iagolessa/Documents/aneurysms/vmtkScripts')\n",
    "\n",
    "# Import the necessary user's modules\n",
    "import vmtk_functions\n",
    "from vmtk_filenames import *\n",
    "\n",
    "# Change it back\n",
    "os.chdir('/home/iagolessa')"
   ]
  },
  {
   "cell_type": "code",
   "execution_count": 3,
   "metadata": {
    "collapsed": true
   },
   "outputs": [],
   "source": [
    "# Path to save the generated files when extracting the surface\n",
    "# We reccomend to separate it from the DICOM original dir. \n",
    "# Note that inside casePath, this code will create different sub-directories to store different data types\n",
    "casePath       =  '/home/iagolessa/Documents/aneurysms/geometries/einsteinCases/unrupturedCases/vmtkReconstruction/case11/'"
   ]
  },
  {
   "cell_type": "code",
   "execution_count": 4,
   "metadata": {
    "collapsed": true
   },
   "outputs": [
    {
     "name": "stdout",
     "output_type": "stream",
     "text": [
      "Files saved to: /home/iagolessa/Documents/aneurysms/geometries/einsteinCases/unrupturedCases/vmtkReconstruction/case11/\n"
     ]
    }
   ],
   "source": [
    "# Define subdirs\n",
    "imagesDir       = casePath+'images/'\n",
    "surfacesDir     = casePath+'surfaces/'\n",
    "centerlinesDir  = casePath+'centerlines/'\n",
    "meshesDir       = casePath+'meshes/'\n",
    "parentVesselDir = casePath+\"parentVessel/\"\n",
    "\n",
    "print('Files saved to:', casePath)"
   ]
  },
  {
   "cell_type": "code",
   "execution_count": 5,
   "metadata": {},
   "outputs": [
    {
     "name": "stdout",
     "output_type": "stream",
     "text": [
      "Reading STL surface file.\n"
     ]
    }
   ],
   "source": [
    "# Get array with pacthes info\n",
    "surface = vmtk_functions.readSurface(meshesDir+'wallSurfaceMesh.stl')"
   ]
  },
  {
   "cell_type": "code",
   "execution_count": 6,
   "metadata": {},
   "outputs": [
    {
     "name": "stdout",
     "output_type": "stream",
     "text": [
      "Quit renderer\n"
     ]
    }
   ],
   "source": [
    "vmtk_functions.viewSurface(surface)"
   ]
  },
  {
   "cell_type": "markdown",
   "metadata": {},
   "source": [
    "If surface have its dimension sin meters, then scale it back to millimeters here."
   ]
  },
  {
   "cell_type": "code",
   "execution_count": null,
   "metadata": {},
   "outputs": [],
   "source": [
    "surfaceScaling = vmtkscripts.vmtkSurfaceScaling()\n",
    "surfaceScaling.Surface = surface\n",
    "surfaceScaling.ScaleFactor = 1000.0\n",
    "surfaceScaling.Execute()"
   ]
  },
  {
   "cell_type": "code",
   "execution_count": null,
   "metadata": {},
   "outputs": [],
   "source": [
    "surface = surfaceScaling.Surface"
   ]
  },
  {
   "cell_type": "code",
   "execution_count": 7,
   "metadata": {},
   "outputs": [
    {
     "name": "stdout",
     "output_type": "stream",
     "text": [
      "\n",
      "CellEntityId: 2\n",
      "  Origin: -0.000026, 0.000220, 0.000000\n",
      "  Normal: 0.000000, 0.000000, -1.000000\n",
      "  Radius: 1.437221\n",
      "\n",
      "CellEntityId: 3\n",
      "  Origin: 11.155675, -12.383680, 3.246148\n",
      "  Normal: 0.833069, -0.457098, 0.311542\n",
      "  Radius: 1.128742\n",
      "\n",
      "CellEntityId: 4\n",
      "  Origin: 1.269730, -9.533875, 14.482897\n",
      "  Normal: 0.058478, -0.393267, 0.917563\n",
      "  Radius: 0.949900\n",
      "\n",
      "Quit renderer\n",
      "wrapping vtkPolyData object\n",
      "converting cell data: \n",
      "converting points\n",
      "converting point data: \n",
      "BoundaryNormals\n",
      "BoundaryRadius\n",
      "Point1Array\n",
      "Point2Array\n",
      "CellEntityIds\n",
      "converting cell connectivity list\n",
      "[ ((-2.5754096e-05, 0.00021974262, 1.1313995e-08), (2.0047723027890876e-08, 9.9977738696114211e-09, -0.99999999999999978),  1.43722061, 2, 'inlet')\n",
      " ((11.155675, -12.38368, 3.2461481), (0.83306856218849057, -0.45709793008602928, 0.31154173557369258),  1.12874189, 3, 'outlet')\n",
      " ((1.2697303, -9.5338745, 14.482897), (0.058478362385568444, -0.3932665183644341, 0.91756292790533911),  0.94990039, 4, 'outlet')]\n"
     ]
    }
   ],
   "source": [
    "capsGeoInfo = vmtk_functions.getPatchInfo(surface)\n",
    "print(capsGeoInfo)"
   ]
  },
  {
   "cell_type": "markdown",
   "metadata": {},
   "source": [
    "<hr/>\n",
    "# **Meshing the Aneurysm Surface with VMTK**\n",
    "\n",
    "Finally, we use the final generated surface obtained in the previous section to generate a CFD tetrahedral mesh. It is possible in VMTK to generate a boudary layer mesh with radius adaptative cell refinement.\n",
    "\n",
    "For the radius adaptative procedure, we need to first calculate the centerlines, and then to generate a DistanceToCenterlines fields defined on the surface. It is importante to note that the radius adaptative mesh, in my opinion, is not quite good when meshing aneurysm geometries, due to poor quality elements inside the aneurysm volume (you will need to generate a centerline inside the aneurysm dome, however, depending on the aneurysm size, this won't be very helpful)."
   ]
  },
  {
   "cell_type": "code",
   "execution_count": null,
   "metadata": {},
   "outputs": [],
   "source": [
    "# Computing the centerlines of the surface\n",
    "# for generating a radius adaptative mesh\n",
    "centerlines = vmtkscripts.vmtkCenterlines()\n",
    "centerlines.Surface = surface\n",
    "# centerlines.SeedSelectorName = 'openprofiles'\n",
    "centerlines.AppendEndPoints = 1\n",
    "centerlines.Execute()"
   ]
  },
  {
   "cell_type": "code",
   "execution_count": null,
   "metadata": {},
   "outputs": [],
   "source": [
    "# ~~~~~~~~~~~~~~~~~~~~~~~~~~~~~~~~~~~ #\n",
    "# Calculating distance to centerlines\n",
    "distanceToCenterlines = vmtkscripts.vmtkDistanceToCenterlines()\n",
    "\n",
    "distanceToCenterlines.Surface = centerlines.Surface\n",
    "distanceToCenterlines.Centerlines = centerlines.Centerlines\n",
    "distanceToCenterlines.UseRadiusInformation = 1\n",
    "distanceToCenterlines.RadiusArrayName = centerlines.RadiusArrayName\n",
    "distanceToCenterlines.PrintInputMembers()\n",
    "distanceToCenterlines.PrintOutputMembers()\n",
    "distanceToCenterlines.Execute()\n",
    "\n",
    "# viewSurface(distanceToCenterlines.Surface)"
   ]
  },
  {
   "cell_type": "code",
   "execution_count": null,
   "metadata": {},
   "outputs": [],
   "source": [
    "aneurysmResolutionArray = vmtkscripts.vmtkSurfaceRegionDrawing()\n",
    "\n",
    "aneurysmResolutionArray.Surface = surface\n",
    "# aneurysmResolutionArray.SurfaceInputFileName = surfacesDir+'surfaceWithThickness.vtp'\n",
    "# aneurysmResolutionArray.IORead()\n",
    "\n",
    "# General options\n",
    "# aneurysmResolutionArray.Binary = 1\n",
    "aneurysmResolutionArray.InsideValue = 0.05\n",
    "aneurysmResolutionArray.OutsideValue = 0.1\n",
    "aneurysmResolutionArray.ContourScalarsArrayName = 'ResolutionArray'\n",
    "\n",
    "aneurysmResolutionArray.Execute()\n",
    "\n",
    "# Debug\n",
    "aneurysmResolutionArray.PrintInputMembers()\n",
    "aneurysmResolutionArray.PrintOutputMembers()\n",
    "\n",
    "aneurysmArraySmoothing = vmtkscripts.vmtkSurfaceArraySmoothing()\n",
    "\n",
    "aneurysmArraySmoothing.Surface = aneurysmResolutionArray.Surface\n",
    "\n",
    "aneurysmArraySmoothing.SurfaceArrayName = aneurysmResolutionArray.ContourScalarsArrayName\n",
    "aneurysmArraySmoothing.Connexity = 1\n",
    "aneurysmArraySmoothing.Relaxation = 1.0\n",
    "aneurysmArraySmoothing.Iterations = 30\n",
    "# aneurysmArraySmoothing.SurfaceOutputFileName = surfacesDir+'surfaceToWallMesh.vtp'\n",
    "# aneurysmArraySmoothing.PrintInputMembers()\n",
    "# aneurysmArraySmoothing.PrintOutputMembers()\n",
    "aneurysmArraySmoothing.SurfaceArrayName = aneurysmResolutionArray.ContourScalarsArrayName\n",
    "aneurysmArraySmoothing.Execute()\n",
    "# aneurysmArraySmoothing.IOWrite()\n",
    "\n",
    "# Debug\n",
    "# aneurysmArraySmoothing.PrintInputMembers()\n",
    "# aneurysmArraySmoothing.PrintOutputMembers()\n",
    "\n",
    "# Remeshing the surface with quality triangles\n",
    "surfaceRemesh = vmtkscripts.vmtkSurfaceRemeshing()\n",
    "\n",
    "surfaceRemesh.Surface = aneurysmArraySmoothing.Surface #resolutionArraySmoothing.Surface\n",
    "# surfaceRemesh.SurfaceInputFileName = surfacesDir+'surfaceWithThickness.vtp'\n",
    "# surfaceRemesh.IORead()\n",
    "\n",
    "# surfaceRemesh.ElementSizeMode = \"edgelength\"\n",
    "# surfaceRemesh.TargetEdgeLength = 0.1\n",
    "\n",
    "# Options: 'area', 'edgelength', 'areaarray', 'edgelengtharray'\n",
    "surfaceRemesh.ElementSizeMode = 'edgelengtharray'\n",
    "surfaceRemesh.TargetEdgeLengthArrayName = resolutionArrayCreator.ContourScalarsArrayName\n",
    "surfaceRemesh.TargetEdgeLengthFactor = 1\n",
    "\n",
    "# If ElementSizeMode = \"area\"\n",
    "# surfaceRemesh.TargetArea = 0.1\n",
    "\n",
    "# If ElementSizeMode = 'areaarray'\n",
    "# surfaceRemesh.ElementSizeMode = 'areaarray'\n",
    "# surfaceRemesh.TargetAreaArrayName = 'SurfaceResolutionArray'\n",
    "# surfaceRemesh.TargetAreaFactor = 0.01\n",
    "\n",
    "# surfaceRemesh.SurfaceOutputFileName = surfacesDir+'surfaceRemeshedSpatialVaryingResolution.vtp'\n",
    "\n",
    "# Debug\n",
    "# surfaceRemesh.PrintInputMembers()\n",
    "# surfaceRemesh.PrintOutputMembers()\n",
    "\n",
    "surfaceRemesh.Execute()\n",
    "surfaceRemesh.IOWrite()"
   ]
  },
  {
   "cell_type": "code",
   "execution_count": null,
   "metadata": {},
   "outputs": [],
   "source": [
    "vmtk_functions.viewSurface(surfaceRemesh.Surface)"
   ]
  },
  {
   "cell_type": "code",
   "execution_count": null,
   "metadata": {},
   "outputs": [],
   "source": [
    "surfaceRemesh.SurfaceOutputFileName = surfacesDir+'surfaceRemeshedSpatialVaryingResolution.vtp'\n",
    "surfaceRemesh.IOWrite()"
   ]
  },
  {
   "cell_type": "code",
   "execution_count": null,
   "metadata": {},
   "outputs": [],
   "source": [
    "fieldProjector = vmtkscripts.vmtkSurfaceProjection()\n",
    "\n",
    "# fieldProjector.SurfaceInputFileName = surfacesDir+'surfaceRemeshedSpatialVaryingResolution.stl'\n",
    "# fieldProjector.IORead()\n",
    "\n",
    "fieldProjector.Surface = surfaceRemesh.Surface\n",
    "fieldProjector.ReferenceSurface = aneurysmArraySmoothing.Surface\n",
    "# fieldProjector.ReferenceSurfaceInputFileName = surfacesDir+'surfaceWithThickness.vtp'\n",
    "# fieldProjector.IORead()\n",
    "\n",
    "# fieldProjector.SurfaceOutputFileName = surfacesDir+'surfaceToWallMesh.vtp'\n",
    "fieldProjector.Execute()\n",
    "# fieldProjector.IOWrite()\n",
    "\n",
    "# Debug\n",
    "fieldProjector.PrintInputMembers()\n",
    "fieldProjector.PrintOutputMembers()"
   ]
  },
  {
   "cell_type": "code",
   "execution_count": null,
   "metadata": {},
   "outputs": [],
   "source": [
    "vmtk_functions.viewSurface(surface)"
   ]
  },
  {
   "cell_type": "code",
   "execution_count": null,
   "metadata": {},
   "outputs": [],
   "source": [
    "# Generating a radius adaptative mesh\n",
    "mesh = vmtkscripts.vmtkMeshGenerator()\n",
    "\n",
    "# Needed parameters for uniform mesh\n",
    "mesh.Surface = surface #fieldProjector.Surface\n",
    "mesh.ElementSizeMode = \"edgelength\"\n",
    "# mesh.TargetEdgeLengthArrayName = distanceToCenterlines.DistanceToCenterlinesArrayName #aneurysmResolutionArray.ContourScalarsArrayName \n",
    "mesh.TargetEdgeLength = 0.2\n",
    "mesh.TargetEdgeLengthFactor = 1.0\n",
    "# mesh.MeshOutputFileName = meshesDir+'meshWithBL.vtu'\n",
    "\n",
    "# mesh.SkipRemeshing = 1\n",
    "# mesh.CappingMethod = 'simple'\n",
    "# mesh.SkipCapping = 0\n",
    "\n",
    "mesh.TriangleSplitFactor = 3\n",
    "mesh.VolumeElementScaleFactor = 0.8\n",
    "\n",
    "# To create boundary layer refinement\n",
    "mesh.BoundaryLayer = 1\n",
    "mesh.NumberOfSubLayers = 8\n",
    "mesh.SubLayerRatio = 0.8\n",
    "mesh.BoundaryLayerThicknessFactor = 0.4 \n",
    "mesh.BoundaryLayerOnCaps = 0\n",
    "\n",
    "# Parameters for radius adaptative mesh\n",
    "# mesh.TargetEdgeLengthArrayName = distanceToCenterlines.DistanceToCenterlinesArrayName\n",
    "# mesh.TargetEdgeLengthFactor = 0.3\n",
    "    \n",
    "mesh.PrintInputMembers()\n",
    "mesh.PrintOutputMembers()\n",
    "mesh.Execute()"
   ]
  },
  {
   "cell_type": "code",
   "execution_count": null,
   "metadata": {},
   "outputs": [],
   "source": [
    "mesh.MeshOutputFileName = meshesDir+'meshWithBL.vtu'\n",
    "mesh.RemeshedSurfaceOutputFileName = meshesDir+'wallSurfaceMesh.vtp'\n",
    "mesh.IOWrite()"
   ]
  },
  {
   "cell_type": "code",
   "execution_count": null,
   "metadata": {},
   "outputs": [],
   "source": [
    "meshWriter = vmtkscripts.vmtkMeshWriter()\n",
    "\n",
    "meshWriter.Mesh = mesh.Mesh\n",
    "# meshWriter.CellEntityIdsArrayName = wallMesh.CellEntityIdsArrayName\n",
    "meshWriter.Mode = 'ascii'\n",
    "meshWriter.OutputFileName = meshesDir+'meshWithBL.vtk'\n",
    "# meshWriter.WriteVTKMeshFile()\n",
    "meshWriter.WriteRegionMarkers = 1\n",
    "\n",
    "meshWriter.Execute()\n",
    "meshWriter.IOWrite()\n",
    "# Debug\n",
    "meshWriter.PrintInputMembers()\n",
    "meshWriter.PrintOutputMembers()"
   ]
  },
  {
   "cell_type": "markdown",
   "metadata": {},
   "source": [
    "<hr> \n",
    "# **Generating a Mesh for the Aneurysm and Tissue Wall**\n",
    "\n",
    "For fluid-solid interaction simulations, a mesh for the solid wall -- artery and aneurysm wall -- must be created in the context of partitioned FSI methods. While the operations above handle the creation of the fluid domain mesh -- or it can be created in an external mesh generator, such as *snappyHexMesh*--, the operations below use vmtk scripts to generate a prismatic layer mesh for the solid domain. Investigation of a variable wall thickness are performed here, also using the aforementioned vmtk scripts.\n",
    "\n",
    "The literature reports that the aneurysm and its surrounding arteries have different thickness: studies performed by Costalat et al. (2011), Robertson et al. (2015) and Cebral et al. (2015) show that the aneurysm thickness ranges from 0.1 to 0.6 mm, with mean thickness around 0.3 mm, whereas the intracranial arteries have mean thickness with 0.6+-0.12 mm and 0.51+-0.08 mm in the basilar and middle cerebral arteries, respectively, for example. Of course, these measures change from patient to patient and nothing assures that the thickness of our aneurysms cases are the same. The study by Nakagawa et al. (2016) performed measurements of the so-called *wall-to-lumen ratio (WLR)*, which is given by:\n",
    "\n",
    "\\begin{equation}\n",
    "    WLR = \\frac{\\text{artery wall thickness}}{\\text{artery lumen diameter}}\n",
    "\\end{equation}\n",
    "\n",
    "in patients being operated: during the procedure, they measured the artery outer diameter in different positions of healthy intracranial arteries, while the inner diameter was measured by *indocyanine green angiography*, a technique used for flow measurements during the operation. The authors claim that their study was the first to directly measure this parameter in human -- former studies have obtained it for rats and human cadavers. \n",
    "\n",
    "Their results show that the mean WLR for the following arteries are:\n",
    "\n",
    "    Medium-sized intracranial arteries (2-3mm): 0.070+-0,01\n",
    "    Large-size intracranial arteries (> 3mm): 0.088+-0.012\n",
    "    \n",
    "In the code below, I will use this parameter to calculate the parent and daughter arteries wall thickness based on their diameter. \n",
    "\n",
    "Regarding the aneurysm wall thickness, by this time (07/13/2018), I did not found any study reporting the WLR for intracranial aneurysms, or any measured related to it for this kind of pathology. Since it is well reported that the wall of intracranial aneurysms have a thickness distribution, probably the WLR definition as given above is not applicable to aneurysms, at least not in a straightforward manner. Therefore, we adopt the following rule-- of course, this can be changed if any study reporting the WLR, or other related measure, be released in the future: once we calculate the surrounding arteries wall thickness, we choose a slighlty smaller thickness for the aneurysm dome region that is in the range presented above.   \n",
    "\n",
    "In the code below, I attempt to create a *thickness array* defined on a surface: the thickness should be smaller on the aneurysm region than on the arteries region, according to the results show above. I will create the thickness array with different techiniques, for example: using the *vmtkdistancetocenterlines* script to create an array that have increasing values along the aneurysm mean line from the artery centerline. In this case, we don't have too much control on the values of the array. The other technique involves the *vmtkssurfaceresolution*, *vmtkgeodesicsurfaceresolution*, *vmtkdistancetospheres* or *vmtksurfaceregiondrawing* to create an array based on the Eulerian or geodesic distance to seeds positioned on the surface. In this case, we have more control on the array bounding values. \n",
    "\n",
    "Together with the *ThicknessArray*, we need to create a *SurfaceRefinementArray*, which will be used with the *vmtksurfaceremeshing* script to generate a surface with different refinement levels on the surface triangles. This procedure is needed to refine close to high curvature regions of the arteries and aneurysm surface, usually close to the aneurysm neck and on arteries curves. "
   ]
  },
  {
   "cell_type": "markdown",
   "metadata": {},
   "source": [
    "<hr>\n",
    "The distance to spheres script in the next cell will be used to create the *SurfaceRefinementArray*, by positioning spheres close to the aneurysm neck.\n",
    "\n",
    "The input surface here is the remeshed surface when it was initially extracted, because is a high quality surface. \n",
    "The output surface will be named as 'surfaceToWallMesh.vtp' which will be used when the external layer will be created."
   ]
  },
  {
   "cell_type": "markdown",
   "metadata": {},
   "source": [
    "In the next cell, we define two variables holding the aneurysm and arteries mean thickness that will be used below, in millimeters. "
   ]
  },
  {
   "cell_type": "code",
   "execution_count": 8,
   "metadata": {},
   "outputs": [
    {
     "data": {
      "text/plain": [
       "{'parentArtery': {'diameter': 2.8700000000000001,\n",
       "  'thickness': 0.20000000000000001},\n",
       " 'daughter1Artery': {'diameter': 2.2599999999999998, 'thickness': 0.16},\n",
       " 'daughter2Artery': {'diameter': 1.8999999999999999, 'thickness': 0.13}}"
      ]
     },
     "execution_count": 8,
     "metadata": {},
     "output_type": "execute_result"
    }
   ],
   "source": [
    "# Definition of medium and large arteries\n",
    "largeArteryDiameter = 3.00 # mm\n",
    "\n",
    "# First we define the WLR:\n",
    "wlrMedium = 0.07\n",
    "wlrLarge = 0.088\n",
    "\n",
    "# Then the arteries diameter\n",
    "# - For terminal cases, for normal extraction cases,\n",
    "#   there will be a parent artery and 2 daughter arteries \n",
    "#   after the bifurcations\n",
    "daughtersDiameter = []\n",
    "\n",
    "for artery in range(len(capsGeoInfo)): \n",
    "    # The inlet radius is attributed to the parent artery diameter\n",
    "    if capsGeoInfo['PatchType'][artery] == 'inlet':\n",
    "        parentArteryDiameter = round(2 * capsGeoInfo['Radius'][artery], 2) # mm\n",
    "        \n",
    "    # The other two are stored in a list with the daughter \n",
    "    # arteries diameters\n",
    "    else:\n",
    "        daughtersDiameter.append(round(2 * capsGeoInfo['Radius'][artery], 2))\n",
    "\n",
    "# # Allocate variables for wall thickness\n",
    "# parentArteryThickness = 0.0 \n",
    "# daughter1ArteryThickness = 0.0\n",
    "# daughter2ArteryThickness = 0.0\n",
    "\n",
    "# Defines dictionary with arteries diameters \n",
    "# and wall thickness in tuple\n",
    "arteriesInfo = {'parentArtery': {'diameter': parentArteryDiameter, 'thickness': None},\n",
    "                'daughter1Artery': {'diameter': daughtersDiameter[0], 'thickness': None},\n",
    "                'daughter2Artery': {'diameter': daughtersDiameter[1], 'thickness': None}}\n",
    "\n",
    "# Calculate artery wall thickness \n",
    "# based on size of the artery\n",
    "for artery in arteriesInfo.keys():\n",
    "    # Compare artery diameter with large artery\n",
    "    if arteriesInfo[artery]['diameter'] > largeArteryDiameter:\n",
    "        arteriesInfo[artery]['thickness'] = round(wlrLarge * arteriesInfo[artery]['diameter'], 2)\n",
    "    else:\n",
    "        arteriesInfo[artery]['thickness'] = round(wlrMedium * arteriesInfo[artery]['diameter'], 2)\n",
    "\n",
    "arteriesInfo"
   ]
  },
  {
   "cell_type": "code",
   "execution_count": 9,
   "metadata": {},
   "outputs": [
    {
     "data": {
      "text/plain": [
       "0.10000000000000001"
      ]
     },
     "execution_count": 9,
     "metadata": {},
     "output_type": "execute_result"
    }
   ],
   "source": [
    "# Define here the aneurysm wall thickness\n",
    "aneurysmThickness = 0.5*arteriesInfo['parentArtery']['thickness'] # mm\n",
    "aneurysmThickness"
   ]
  },
  {
   "cell_type": "markdown",
   "metadata": {},
   "source": [
    "# **Generating the Thickness array**\n",
    "\n",
    "The overall procedure of creating the thickness array is decomposed in two steps: first a *base array* must be created and then an *auxiliar array*. Operations with these two are then carried out to generate the final thickness array.\n",
    "\n",
    "## Generating the base array\n",
    "\n",
    "Using *vmtkdistancetospheres*, by placing a sphere on the aneurysm dome center and delimiting the aneurysm neck with the sphere surface by increasing its diameter. The script, then, generates an array on the surface with values ranging from *minDistance* to *maxDistance* to the sphere surface, corresponding to the *Euclidean* distance in this case.\n",
    "Setup:\n",
    "\n",
    "    minDistance = minimum thickness (aneurysm)\n",
    "    maxDistance = maximum thickness (surrounding arteries)\n",
    "    \n",
    "The *minDistance* will correspond to the aneurysm thickness for that case whereas the *maxDistance* to the arteries thickness. The neck, therefore, will have a spatial gradient of values ranging from *minDistance* to *maxDistance* along the neck lenght."
   ]
  },
  {
   "cell_type": "code",
   "execution_count": null,
   "metadata": {},
   "outputs": [],
   "source": [
    "# Gnerating the array with the aneurysm thickness value\n",
    "thicknessArrayCreator = vmtkscripts.vmtkSurfaceRegionDrawing()\n",
    "thicknessArrayCreator.Surface = surface\n",
    "thicknessArrayCreator.OutsideValue = aneurysmThickness\n",
    "thicknessArrayCreator.InsideValue = aneurysmThickness\n",
    "thicknessArrayCreator.ContourScalarsArrayName = 'ThicknessArray'\n",
    "thicknessArrayCreator.Binary = 1\n",
    "thicknessArrayCreator.Execute()\n",
    "\n",
    "surface = thicknessArrayCreator.Surface\n",
    "\n",
    "# View surface\n",
    "surfaceViewer = vmtkscripts.vmtkSurfaceViewer()\n",
    "surfaceViewer.Surface = thicknessArrayCreator.Surface\n",
    "surfaceViewer.ArrayName = thicknessArrayCreator.ContourScalarsArrayName\n",
    "surfaceViewer.Legend = 1\n",
    "surfaceViewer.Execute()"
   ]
  },
  {
   "cell_type": "code",
   "execution_count": null,
   "metadata": {},
   "outputs": [],
   "source": [
    "thicknessArrayCreator.SurfaceOutputFileName = surfacesDir+'test.vtp'\n",
    "thicknessArrayCreator.IOWrite()"
   ]
  },
  {
   "cell_type": "markdown",
   "metadata": {},
   "source": [
    "I need to understand what is exactly the rule used to define the inside and outside regions. It seems always when I isolate the parent artery, the inside region does not include the artery itself, but the rest of the surface; and when I paint the daughter arteries, the artery is the inside zone and the rest if the ouside region. But I DONT KNOW WHY! There no logic on this reasoning, it is just by observation. I am still waiting for someone to answer my question on VMTK users group."
   ]
  },
  {
   "cell_type": "code",
   "execution_count": null,
   "metadata": {},
   "outputs": [],
   "source": [
    "# Now we loop over arteries with different thicknesses\n",
    "for artery in arteriesInfo.keys():\n",
    "    print('Isolate the artery '+artery+' by drawing it with a contour.')\n",
    "    \n",
    "    drawArtery = vmtkscripts.vmtkSurfaceRegionDrawing()\n",
    "    drawArtery.Surface = surfaceNormals.Surface\n",
    "    \n",
    "    if artery == 'parentArtery':\n",
    "        drawArtery.InsideValue = 0.0\n",
    "        drawArtery.OutsideValue = arteriesInfo[artery]['thickness'] - aneurysmThickness\n",
    "    else:\n",
    "        drawArtery.InsideValue = arteriesInfo[artery]['thickness'] - aneurysmThickness   \n",
    "        drawArtery.OutsideValue = 0.0\n",
    "        \n",
    "    drawArtery.Binary = 1\n",
    "    drawArtery.Execute()\n",
    "    \n",
    "    # Now add the array in the ThicknessArray of the original surface\n",
    "    arrayOperator = vmtkscripts.vmtkSurfaceArrayOperation()\n",
    "    arrayOperator.Surface = surface\n",
    "    arrayOperator.Surface2 = drawArtery.Surface\n",
    "    arrayOperator.InputArrayName = thicknessArrayCreator.ContourScalarsArrayName\n",
    "    arrayOperator.Input2ArrayName = drawArtery.ContourScalarsArrayName\n",
    "    arrayOperator.Operation = 'add'\n",
    "    arrayOperator.ResultArrayName = thicknessArrayCreator.ContourScalarsArrayName\n",
    "    arrayOperator.Execute()\n",
    "    \n",
    "    # View surface\n",
    "    surfaceViewer = vmtkscripts.vmtkSurfaceViewer()\n",
    "    surfaceViewer.Surface = arrayOperator.Surface\n",
    "    surfaceViewer.ArrayName = arrayOperator.ResultArrayName\n",
    "    surfaceViewer.Legend = 1\n",
    "    surfaceViewer.Execute()\n",
    "    \n",
    "    surface = arrayOperator.Surface\n",
    "    "
   ]
  },
  {
   "cell_type": "code",
   "execution_count": null,
   "metadata": {},
   "outputs": [],
   "source": [
    "# Since the array created by RegionDrawing is discontinous\n",
    "# we use the array smoothing\n",
    "thicknessArraySmoother = vmtkscripts.vmtkSurfaceArraySmoothing()\n",
    "thicknessArraySmoother.Surface = surface\n",
    "thicknessArraySmoother.SurfaceArrayName = thicknessArrayCreator.ContourScalarsArrayName\n",
    "# General options\n",
    "thicknessArraySmoother.Connexity = 1\n",
    "thicknessArraySmoother.Relaxation = 1.0\n",
    "thicknessArraySmoother.Iterations = 30\n",
    "thicknessArraySmoother.Execute()\n",
    "\n",
    "# Debug\n",
    "# thicknessArraySmoother.PrintInputMembers()\n",
    "# thicknessArraySmoother.PrintOutputMembers()"
   ]
  },
  {
   "cell_type": "code",
   "execution_count": null,
   "metadata": {},
   "outputs": [],
   "source": [
    "thicknessArraySmoother.SurfaceOutputFileName = surfacesDir+'surfaceWithThickness.vtp'\n",
    "thicknessArraySmoother.IOWrite()"
   ]
  },
  {
   "cell_type": "code",
   "execution_count": null,
   "metadata": {},
   "outputs": [],
   "source": [
    "# View surface\n",
    "surfaceViewer = vmtkscripts.vmtkSurfaceViewer()\n",
    "surfaceViewer.Surface = thicknessArraySmoother.Surface\n",
    "surfaceViewer.ArrayName = thicknessArraySmoother.SurfaceArrayName\n",
    "surfaceViewer.Legend = 1\n",
    "surfaceViewer.Execute()"
   ]
  },
  {
   "cell_type": "code",
   "execution_count": null,
   "metadata": {},
   "outputs": [],
   "source": [
    "baseArrayCreator = vmtkscripts.vmtkDistanceToSpheres()\n",
    "\n",
    "baseArrayCreator.Surface = surfaceNormals.Surface #surfaceRemesh.Surface\n",
    "\n",
    "baseArrayCreator.DistanceToSpheresArrayName = 'BaseArray'\n",
    "# Set the DistanceOffset of the field creator to the \n",
    "# minimum distance == aneurysmThickness\n",
    "baseArrayCreator.DistanceOffset = aneurysmThickness\n",
    "baseArrayCreator.Scale = 0.15\n",
    "\n",
    "## If DistanceOffset attribut is 0.0\n",
    "## then this value is the array value \n",
    "## closest to the spheres\n",
    "baseArrayCreator.MinDistance = aneurysmThickness\n",
    "baseArrayCreator.MaxDistance = arteryThickness\n",
    "\n",
    "baseArrayCreator.Execute()\n",
    "\n",
    "# Debug\n",
    "# baseArrayCreator.PrintInputMembers()\n",
    "# baseArrayCreator.PrintOutputMembers()"
   ]
  },
  {
   "cell_type": "markdown",
   "metadata": {},
   "source": [
    "## Generating auxiliar array for subtraction\n",
    "\n",
    "To avoid bad mesh elements near high curvature regions (near the neck and arteries curves) the base array generated above is modified by *decreasing* the thickness value on those regions. This can be accomplished by creating an array with values defined on these high curvature/neck regions, which we will call *AuxiliarArray*, with this value being defined as **how much we want to diminish the thickness**. \n",
    "\n",
    "The *AuxiliarArray* is created with the script *vmtksurfaceregiondrawing* which allows us to define closed regions on the surface which will have a specified value inside, the value to be subtracted from the *BaseArray*. The regions specified by the user must be the ones where we want to change the base array.\n",
    "\n",
    "After that, this auxiliar array must be smoothed, using the *vmtkarraysmoothing* script."
   ]
  },
  {
   "cell_type": "code",
   "execution_count": null,
   "metadata": {},
   "outputs": [],
   "source": [
    "auxiliarArrayCreator = vmtkscripts.vmtkSurfaceRegionDrawing()\n",
    "\n",
    "auxiliarArrayCreator.Surface = baseArrayCreator.Surface\n",
    "\n",
    "# General options\n",
    "# regionDrawing.Binary = 1\n",
    "auxiliarArrayCreator.InsideValue = 0.15\n",
    "auxiliarArrayCreator.OutsideValue = 0.0\n",
    "auxiliarArrayCreator.ContourScalarsArrayName = 'AuxiliarArray'\n",
    "\n",
    "auxiliarArrayCreator.Execute()\n",
    "\n",
    "# Debug\n",
    "auxiliarArrayCreator.PrintInputMembers()\n",
    "auxiliarArrayCreator.PrintOutputMembers()\n",
    "\n",
    "# Since the array created by RegionDrawing is discontinous\n",
    "# we use the array smoothing\n",
    "auxiliarArraySmoother = vmtkscripts.vmtkSurfaceArraySmoothing()\n",
    "\n",
    "auxiliarArraySmoother.Surface = auxiliarArrayCreator.Surface\n",
    "auxiliarArraySmoother.SurfaceArrayName = auxiliarArrayCreator.ContourScalarsArrayName\n",
    "\n",
    "# General options\n",
    "auxiliarArraySmoother.Connexity = 1\n",
    "auxiliarArraySmoother.Relaxation = 1.0\n",
    "auxiliarArraySmoother.Iterations = 15\n",
    "\n",
    "auxiliarArraySmoother.Execute()\n",
    "\n",
    "# Debug\n",
    "auxiliarArraySmoother.PrintInputMembers()\n",
    "auxiliarArraySmoother.PrintOutputMembers()"
   ]
  },
  {
   "cell_type": "markdown",
   "metadata": {},
   "source": [
    "## Generating Final Thickness array\n",
    "\n",
    "The final *ThicknessArray* is cretaed by subtracting *AuxiliarArray* of *BaseArray* with the *vmtksurfacearrayoperation* filter."
   ]
  },
  {
   "cell_type": "code",
   "execution_count": null,
   "metadata": {},
   "outputs": [],
   "source": [
    "thicknessArrayCreator = vmtkscripts.vmtkSurfaceArrayOperation()\n",
    "\n",
    "thicknessArrayCreator.Surface = auxiliarArraySmoother.Surface\n",
    "thicknessArrayCreator.Surface2 = auxiliarArraySmoother.Surface\n",
    "\n",
    "thicknessArrayCreator.Operation = 'subtract'\n",
    "thicknessArrayCreator.InputArrayName = baseArrayCreator.DistanceToSpheresArrayName\n",
    "thicknessArrayCreator.Input2ArrayName = auxiliarArrayCreator.ContourScalarsArrayName\n",
    "\n",
    "thicknessArrayCreator.ResultArrayName = 'ThicknessArray'\n",
    "thicknessArrayCreator.SurfaceOutputFileName = surfacesDir+'surfaceWithThickness.vtp'\n",
    "\n",
    "thicknessArrayCreator.Execute()\n",
    "thicknessArrayCreator.IOWrite()\n",
    "\n",
    "# Debug\n",
    "# thicknessArrayCreator.PrintInputMembers()\n",
    "# thicknessArrayCreator.PrintOutputMembers()"
   ]
  },
  {
   "cell_type": "markdown",
   "metadata": {},
   "source": [
    "Thickness array creation finished on the initial surface. Filesaved as 'surfaceWithThickness.vtp' (need to be .vtp to store arrays).\n",
    "Proceed with generation of resolution array for remeshing."
   ]
  },
  {
   "cell_type": "markdown",
   "metadata": {},
   "source": [
    "## Computing surface outwards normals\n",
    "\n",
    "The surface normals will be used at the final process of creating the wall mesh. To avoid incorrect orientation of the final artery wall surface, the normals are flipped here, in this way the final surface will have the correct orientation regarding its volume. "
   ]
  },
  {
   "cell_type": "code",
   "execution_count": 14,
   "metadata": {},
   "outputs": [],
   "source": [
    "# Building normals to surface array on remeshed surface for thicknesse creation\n",
    "surfaceNormals = vmtkscripts.vmtkSurfaceNormals()\n",
    "\n",
    "# Loading surface\n",
    "surfaceNormals.Surface = surface #fieldProjector.Surface\n",
    "# surfaceNormals.SurfaceInputFileName = surfacesDir+'patches/wall.stl'\n",
    "# surfaceNormals.IORead()\n",
    "\n",
    "# General options\n",
    "# surfaceNormals.ComputeCellNormals = 1\n",
    "surfaceNormals.FlipNormals = 1\n",
    "\n",
    "surfaceNormals.Execute()"
   ]
  },
  {
   "cell_type": "markdown",
   "metadata": {},
   "source": [
    "## **Generating resolution array for remeshing**\n",
    "\n",
    "Now we generate a remeshed surface with refined high quality triangles in the regions of high curvature/aneurysm neck to avoid bad volume elements whn extruding the surface to generate the wall mesh. We can use here also the script *vmtkdistancetospheres* by placing spheres on the regions that we want to refine. The *minDistance* and *maxDistance* correponding in this case to the minimum edgelenght (or element area) and maximum edgelenght that we wish to use on the remeshign procedure. Note that these parameters can be scaled if needed with the *edgelenghtfactor* parameter of *vmtksurfaceremeshing*.\n",
    "\n",
    "If you think that it is not necessary to refine specific regions of the surface -- depending on the aneurysm and arteries geometries, it can be the case --, then change the boolean flag *refinement* in the cell below to 'False' -- note that the default behavior is 'True' --  and skip the next cell until the final wall mesh creation cell."
   ]
  },
  {
   "cell_type": "code",
   "execution_count": 13,
   "metadata": {},
   "outputs": [],
   "source": [
    "refinement = True"
   ]
  },
  {
   "cell_type": "code",
   "execution_count": null,
   "metadata": {},
   "outputs": [],
   "source": [
    "resolutionArrayCreator = vmtkscripts.vmtkSurfaceRegionDrawing()\n",
    "\n",
    "# resolutionArrayCreator.Surface = thicknessArraySmoother.Surface\n",
    "resolutionArrayCreator.SurfaceInputFileName = surfacesDir+'patches/wall.stl' #'surfaceWithThickness.vtp'\n",
    "resolutionArrayCreator.IORead()\n",
    "\n",
    "# General options\n",
    "# regionDrawing.Binary = 1\n",
    "resolutionArrayCreator.InsideValue = 0.05\n",
    "resolutionArrayCreator.OutsideValue = 0.1\n",
    "resolutionArrayCreator.ContourScalarsArrayName = 'ResolutionArray'\n",
    "\n",
    "resolutionArrayCreator.Execute()\n",
    "\n",
    "# Debug\n",
    "# resolutionArrayCreator.PrintInputMembers()\n",
    "# resolutionArrayCreator.PrintOutputMembers()"
   ]
  },
  {
   "cell_type": "code",
   "execution_count": null,
   "metadata": {},
   "outputs": [],
   "source": [
    "resolutionArraySmoothing = vmtkscripts.vmtkSurfaceArraySmoothing()\n",
    "\n",
    "resolutionArraySmoothing.Surface = resolutionArrayCreator.Surface\n",
    "\n",
    "resolutionArraySmoothing.SurfaceArrayName = resolutionArrayCreator.ContourScalarsArrayName\n",
    "resolutionArraySmoothing.Connexity = 1\n",
    "resolutionArraySmoothing.Relaxation = 1.0\n",
    "resolutionArraySmoothing.Iterations = 20\n",
    "# resolutionArraySmoothing.SurfaceOutputFileName = surfacesDir+'surfaceToWallMesh.vtp'\n",
    "# resolutionArraySmoothing.PrintInputMembers()\n",
    "# resolutionArraySmoothing.PrintOutputMembers()\n",
    "resolutionArraySmoothing.SurfaceArrayName = resolutionArrayCreator.ContourScalarsArrayName\n",
    "\n",
    "resolutionArraySmoothing.Execute()\n",
    "# resolutionArraySmoothing.IOWrite()\n",
    "\n",
    "# Debug\n",
    "# resolutionArrayCreator.PrintInputMembers()\n",
    "# resolutionArrayCreator.PrintOutputMembers()"
   ]
  },
  {
   "cell_type": "code",
   "execution_count": null,
   "metadata": {},
   "outputs": [],
   "source": [
    "# Remeshing the surface with quality triangles\n",
    "surfaceRemesh = vmtkscripts.vmtkSurfaceRemeshing()\n",
    "\n",
    "surfaceRemesh.Surface = resolutionArraySmoothing.Surface #resolutionArraySmoothing.Surface\n",
    "# surfaceRemesh.SurfaceInputFileName = surfacesDir+'surfaceWithThickness.vtp'\n",
    "# surfaceRemesh.IORead()\n",
    "\n",
    "# surfaceRemesh.ElementSizeMode = \"edgelength\"\n",
    "# surfaceRemesh.TargetEdgeLength = 0.1\n",
    "\n",
    "# Options: 'area', 'edgelength', 'areaarray', 'edgelengtharray'\n",
    "surfaceRemesh.ElementSizeMode = 'edgelengtharray'\n",
    "surfaceRemesh.TargetEdgeLengthArrayName = resolutionArrayCreator.ContourScalarsArrayName\n",
    "surfaceRemesh.TargetEdgeLengthFactor = 1\n",
    "\n",
    "# If ElementSizeMode = \"area\"\n",
    "# surfaceRemesh.TargetArea = 0.1\n",
    "\n",
    "# If ElementSizeMode = 'areaarray'\n",
    "# surfaceRemesh.ElementSizeMode = 'areaarray'\n",
    "# surfaceRemesh.TargetAreaArrayName = 'SurfaceResolutionArray'\n",
    "# surfaceRemesh.TargetAreaFactor = 0.01\n",
    "\n",
    "# surfaceRemesh.SurfaceOutputFileName = surfacesDir+'surfaceRemeshedSpatialVaryingResolution.vtp'\n",
    "\n",
    "# Debug\n",
    "# surfaceRemesh.PrintInputMembers()\n",
    "# surfaceRemesh.PrintOutputMembers()\n",
    "\n",
    "surfaceRemesh.Execute()\n",
    "surfaceRemesh.IOWrite()"
   ]
  },
  {
   "cell_type": "code",
   "execution_count": null,
   "metadata": {},
   "outputs": [],
   "source": [
    "surfaceRemesh.SurfaceOutputFileName = surfacesDir+'surfaceRemeshedSpatialVaryingResolution.stl'\n",
    "surfaceRemesh.IOWrite()"
   ]
  },
  {
   "cell_type": "code",
   "execution_count": null,
   "metadata": {},
   "outputs": [],
   "source": [
    "surfaceSmoothed = vmtk_functions.smoothSurface(surfaceRemesh.Surface)\n",
    "vmtk_functions.viewSurface(surfaceSmoothed)"
   ]
  },
  {
   "cell_type": "code",
   "execution_count": null,
   "metadata": {},
   "outputs": [],
   "source": [
    "vmtk_functions.writeSurface(surfaceSmoothed,surfacesDir+'surfaceRemeshedSpatialVaryingResolution.stl','ascii')"
   ]
  },
  {
   "cell_type": "markdown",
   "metadata": {},
   "source": [
    "## **Projecting Normals and Thickness arrays on new remeshed surfaces**"
   ]
  },
  {
   "cell_type": "code",
   "execution_count": 10,
   "metadata": {},
   "outputs": [
    {
     "name": "stdout",
     "output_type": "stream",
     "text": [
      "Reading VTK XML surface file.\n",
      "Computing projection\n",
      "Writing VTK XML surface file.\n",
      "Input vmtksurfaceprojection members:\n",
      "    Id = 0\n",
      "    Disabled = 0\n",
      "    Surface = vtkPolyData\n",
      "    SurfaceInputFileName = \n",
      "    ReferenceSurface = vtkPolyData\n",
      "    ReferenceSurfaceInputFileName = /home/iagolessa/Documents/aneurysms/geometries/einsteinCases/unrupturedCases/vmtkReconstruction/case11/surfaces/surfaceWithThickness.vtp\n",
      "    SurfaceOutputFileName = /home/iagolessa/Documents/aneurysms/geometries/einsteinCases/unrupturedCases/vmtkReconstruction/case11/surfaces/surfaceToWallMesh.vtp\n",
      "Output vmtksurfaceprojection members:\n",
      "    Id = 0\n",
      "    Surface = vtkPolyData\n"
     ]
    }
   ],
   "source": [
    "fieldProjector = vmtkscripts.vmtkSurfaceProjection()\n",
    "\n",
    "# fieldProjector.SurfaceInputFileName = surfacesDir+'surfaceRemeshedSpatialVaryingResolution.stl'\n",
    "# fieldProjector.IORead()\n",
    "\n",
    "fieldProjector.Surface = surface #vmtk_functions.readSurface(surfacesDir+'surfaceWithThickness.vtp')\n",
    "\n",
    "# fieldProjector.ReferenceSurface = thicknessArrayCreator.Surface\n",
    "fieldProjector.ReferenceSurfaceInputFileName = surfacesDir+'surfaceWithThickness.vtp'\n",
    "fieldProjector.IORead()\n",
    "\n",
    "fieldProjector.SurfaceOutputFileName = surfacesDir+'surfaceToWallMesh.vtp'\n",
    "fieldProjector.Execute()\n",
    "fieldProjector.IOWrite()\n",
    "\n",
    "# Debug\n",
    "fieldProjector.PrintInputMembers()\n",
    "fieldProjector.PrintOutputMembers()"
   ]
  },
  {
   "cell_type": "code",
   "execution_count": 11,
   "metadata": {},
   "outputs": [
    {
     "name": "stdout",
     "output_type": "stream",
     "text": [
      "Quit renderer\n"
     ]
    }
   ],
   "source": [
    "# View surface\n",
    "surfaceViewer = vmtkscripts.vmtkSurfaceViewer()\n",
    "surfaceViewer.Surface = fieldProjector.Surface\n",
    "surfaceViewer.ArrayName = 'ThicknessArray'\n",
    "surfaceViewer.Legend = 1\n",
    "surfaceViewer.Execute()"
   ]
  },
  {
   "cell_type": "code",
   "execution_count": 15,
   "metadata": {},
   "outputs": [
    {
     "name": "stdout",
     "output_type": "stream",
     "text": [
      "Input vmtkboundarylayer members:\n",
      "    Id = 0\n",
      "    Disabled = 0\n",
      "    Mesh = vtkUnstructuredGrid\n",
      "    MeshInputFileName = \n",
      "    WarpVectorsArrayName = Normals\n",
      "    ThicknessArrayName = ThicknessArray\n",
      "    CellEntityIdsArrayName = CellEntityIds\n",
      "    Thickness = 1.0\n",
      "    ThicknessRatio = 1\n",
      "    MaximumThickness = 10000000000.0\n",
      "    NumberOfSubLayers = 5\n",
      "    NumberOfSubsteps = 7000\n",
      "    Relaxation = 0.01\n",
      "    LocalCorrectionFactor = 0.5\n",
      "    InnerSurfaceCellEntityId = 1\n",
      "    OuterSurfaceCellEntityId = 2\n",
      "    SidewallCellEntityId = 3\n",
      "    VolumeCellEntityId = 0\n",
      "    SubLayerRatio = 1.0\n",
      "    UseWarpVectorMagnitudeAsThickness = 0\n",
      "    ConstantThickness = 0\n",
      "    IncludeSurfaceCells = 0\n",
      "    IncludeSidewallCells = 0\n",
      "    NegateWarpVectors = 1\n",
      "    MeshOutputFileName = /home/iagolessa/Documents/aneurysms/geometries/einsteinCases/unrupturedCases/vmtkReconstruction/case11/meshes/meshWall.vtu\n",
      "    InnerSurfaceMeshOutputFileName = \n",
      "Output vmtkboundarylayer members:\n",
      "    Id = 0\n",
      "    Mesh = vtkUnstructuredGrid\n",
      "    InnerSurfaceMesh = None\n",
      "Writing VTK XML mesh file.\n"
     ]
    }
   ],
   "source": [
    "# Conveting surface to mesh with normals and curvature informations\n",
    "surfaceToMesh = vmtkscripts.vmtkSurfaceToMesh()\n",
    "\n",
    "# surfaceToMesh.SurfaceInputFileName = surfacesDir+'surfaceToWallMesh.vtp'\n",
    "# surfaceToMesh.IORead()\n",
    "# Needs to be a .vtp surface file!! not stl\n",
    "if refinement:\n",
    "    surfaceToMesh.Surface = surfaceNormals.Surface #fieldProjector.Surface\n",
    "else:\n",
    "    surfaceToMesh.Surface = thicknessArraySmoother.Surface\n",
    "\n",
    "# Debug\n",
    "# surfaceToMesh.PrintInputMembers()\n",
    "# surfaceToMesh.PrintOutputMembers()\n",
    "\n",
    "surfaceToMesh.Execute()\n",
    "# surfaceToMesh.IOWrite()\n",
    "\n",
    "# Creating aneurysm and arteries external wall\n",
    "wallMesh = vmtkscripts.vmtkBoundaryLayer()\n",
    "\n",
    "wallMesh.Mesh = surfaceToMesh.Mesh\n",
    "wallMesh.WarpVectorsArrayName = 'Normals'#surfaceNormals.NormalsArrayName\n",
    "wallMesh.ThicknessArrayName = \"ThicknessArray\" #thicknessArrayCreator.ResultArrayName\n",
    "wallMesh.MeshOutputFileName = meshesDir+'meshWall.vtu'\n",
    "wallMesh.ThicknessRatio = 1\n",
    "\n",
    "# wallMesh.UseWarpVectorMagnitudeAsThickness = 1\n",
    "# wallMesh.Thickness = 0.2\n",
    "wallMesh.NumberOfSubLayers = 5\n",
    "# wallMesh.ConstantThickness = 1\n",
    "\n",
    "# Setup\n",
    "wallMesh.NumberOfSubsteps = 7000\n",
    "wallMesh.Relaxation = 0.01\n",
    "wallMesh.LocalCorrectionFactor = 0.5\n",
    "\n",
    "# Entity ids for new mesh\n",
    "wallMesh.VolumeCellEntityId = 0\n",
    "wallMesh.InnerSurfaceCellEntityId = 1\n",
    "wallMesh.OuterSurfaceCellEntityId = 2\n",
    "wallMesh.SidewallCellEntityId = 3\n",
    "\n",
    "wallMesh.IncludeSidewallCells = 0\n",
    "wallMesh.IncludeSurfaceCells = 0\n",
    "wallMesh.NegateWarpVectors = 1\n",
    "\n",
    "wallMesh.PrintInputMembers()\n",
    "wallMesh.PrintOutputMembers()\n",
    "\n",
    "wallMesh.Execute()\n",
    "wallMesh.IOWrite()"
   ]
  },
  {
   "cell_type": "code",
   "execution_count": 17,
   "metadata": {},
   "outputs": [
    {
     "name": "stdout",
     "output_type": "stream",
     "text": [
      "Writing VTK mesh file.\n",
      "Input vmtkmeshwriter members:\n",
      "    Id = 0\n",
      "    Disabled = 0\n",
      "    Mesh = vtkUnstructuredGrid\n",
      "    MeshInputFileName = \n",
      "    Format = vtk\n",
      "    GuessFormat = 1\n",
      "    Compressed = 1\n",
      "    OutputFileName = /home/iagolessa/Documents/aneurysms/geometries/einsteinCases/unrupturedCases/vmtkReconstruction/case11/meshes/meshWall.vtk\n",
      "    Mesh = vtkUnstructuredGrid\n",
      "    Mode = ascii\n",
      "    CellEntityIdsArrayName = CellEntityIds\n",
      "    CellEntityIdsOffset = -1\n",
      "    WriteRegionMarkers = 1\n",
      "Output vmtkmeshwriter members:\n",
      "    Id = 0\n"
     ]
    }
   ],
   "source": [
    "meshWriter = vmtkscripts.vmtkMeshWriter()\n",
    "\n",
    "meshWriter.Mesh = wallMesh.Mesh\n",
    "# meshWriter.CellEntityIdsArrayName = wallMesh.CellEntityIdsArrayName\n",
    "meshWriter.Mode = 'ascii'\n",
    "meshWriter.OutputFileName = meshesDir+'meshWall.vtk'\n",
    "# meshWriter.WriteVTKMeshFile()\n",
    "meshWriter.WriteRegionMarkers = 1\n",
    "\n",
    "meshWriter.Execute()\n",
    "meshWriter.IOWrite()\n",
    "# Debug\n",
    "meshWriter.PrintInputMembers()\n",
    "meshWriter.PrintOutputMembers()"
   ]
  },
  {
   "cell_type": "code",
   "execution_count": null,
   "metadata": {},
   "outputs": [],
   "source": [
    "# # Surface curvature array\n",
    "# surfaceCurvature = vmtkscripts.vmtkSurfaceCurvature()\n",
    "\n",
    "# surfaceCurvature.Surface = surfaceNormals.Surface\n",
    "# surfaceCurvature.CurvatureType = 'minimum'\n",
    "# surfaceCurvature.AbsoluteCurvature = 1\n",
    "# surfaceCurvature.MedianFiltering = 1\n",
    "# surfaceCurvature.BoundedReciprocal = 1\n",
    "# surfaceCurvature.Epsilon = 2\n",
    "# # surfaceCurvature.CurvatureOnBoundaries = 1\n",
    "# # surfaceCurvature.Offset = -0.1\n",
    "# # surfaceCurvature.SurfaceOutputFileName = casePath+\"surfaces/surfaceCurvature.vtp\"\n",
    "\n",
    "# surfaceCurvature.PrintInputMembers()\n",
    "# # surfaceCurvature.PrintOutputMembers()\n",
    "\n",
    "# surfaceCurvature.Execute()\n",
    "# # surfaceCurvature.IOWrite()\n",
    "# surfaceCurvature.OutputText('Surface curvature computed.')\n",
    "\n",
    "# # View surface\n",
    "# surfaceViewer = vmtkscripts.vmtkSurfaceViewer()\n",
    "# surfaceViewer.Surface = surfaceCurvature.Surface\n",
    "# surfaceViewer.ArrayName = 'Curvature'\n",
    "# surfaceViewer.Legend = 1\n",
    "# # surfaceViewer.ScalarRange = [0,1]\n",
    "# surfaceViewer.Execute()"
   ]
  },
  {
   "cell_type": "code",
   "execution_count": null,
   "metadata": {},
   "outputs": [],
   "source": [
    "# # 'vmtkurfaceresolution' uses the Euclidean distance to the RBF interpolation\n",
    "# # whereas 'vmtkgeodesicsurfaceresolution' uses the geodesic distance along the surface\n",
    "\n",
    "# surfaceResolution = vmtkscripts.vmtkSurfaceResolution()\n",
    "    \n",
    "# surfaceResolution.SurfaceInputFileName = surfacesDir+'patches/wall.stl'\n",
    "# surfaceResolution.IORead()\n",
    "\n",
    "# surfaceResolution.ResolutionArrayName = 'ResolutionArray'\n",
    "# # RBF Options: 'thinplatespline', 'biharmonic', 'triharmonic'\n",
    "# surfaceResolution.RBFType = 'biharmonic'\n",
    "\n",
    "# surfaceResolution.Execute()\n",
    "# surfaceResolution.PrintInputMembers()\n",
    "# surfaceResolution.PrintOutputMembers()\n",
    "\n",
    "# surfaceResolution.SurfaceOutputFileName = surfacesDir+'surfaceToWallMesh.vtp'\n",
    "# surfaceResolution.IOWrite()\n",
    "\n",
    "# 'vmtkurfaceresolution' uses the Euclidean distance to the RBF interpolation\n",
    "# whereas 'vmtkgeodesicsurfaceresolution' uses the geodesic distance along the surface"
   ]
  },
  {
   "cell_type": "code",
   "execution_count": null,
   "metadata": {},
   "outputs": [],
   "source": [
    "# surfaceGeodesicResolution = vmtkscripts.vmtkGeodesicSurfaceResolution()\n",
    "\n",
    "# surfaceGeodesicResolution.SurfaceInputFileName = surfacesDir+'patches/wall.stl'\n",
    "# surfaceGeodesicResolution.IORead()\n",
    "\n",
    "# surfaceGeodesicResolution.ResolutionArrayName = 'ResolutionArray'\n",
    "# # RBF Options: 'thinplatespline', 'biharmonic', 'triharmonic'\n",
    "# surfaceGeodesicResolution.RBFType = 'biharmonic'\n",
    "\n",
    "# surfaceGeodesicResolution.Execute()\n",
    "# surfaceGeodesicResolution.PrintInputMembers()\n",
    "# surfaceGeodesicResolution.PrintOutputMembers()\n",
    "\n",
    "# surfaceGeodesicResolution.SurfaceOutputFileName = surfacesDir+'surfaceGeodesicResolution.vtp'\n",
    "# surfaceGeodesicResolution.IOWrite()"
   ]
  }
 ],
 "metadata": {
  "kernelspec": {
   "display_name": "Python [conda env:vmtk]",
   "language": "python",
   "name": "conda-env-vmtk-py"
  },
  "language_info": {
   "codemirror_mode": {
    "name": "ipython",
    "version": 3
   },
   "file_extension": ".py",
   "mimetype": "text/x-python",
   "name": "python",
   "nbconvert_exporter": "python",
   "pygments_lexer": "ipython3",
   "version": "3.6.1"
  }
 },
 "nbformat": 4,
 "nbformat_minor": 2
}
