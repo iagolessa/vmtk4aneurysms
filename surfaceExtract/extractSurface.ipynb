{
 "cells": [
  {
   "cell_type": "markdown",
   "metadata": {},
   "source": [
    "# **Extract High Quality Surface**\n",
    "<hr>"
   ]
  },
  {
   "cell_type": "code",
   "execution_count": 6,
   "metadata": {},
   "outputs": [],
   "source": [
    "from vmtk import vmtkscripts\n",
    "from vmtk import pypes\n",
    "import os\n",
    "import numpy as np"
   ]
  },
  {
   "cell_type": "code",
   "execution_count": 7,
   "metadata": {},
   "outputs": [],
   "source": [
    "# Path where files are stored\n",
    "aneurysmsPath = \"/home/iagolessa/Documents/unesp/doctorate/data/\""
   ]
  },
  {
   "cell_type": "code",
   "execution_count": 8,
   "metadata": {},
   "outputs": [],
   "source": [
    "%run '../vmtk_functions.py'\n",
    "%run '../vmtk_filenames.py'"
   ]
  },
  {
   "cell_type": "markdown",
   "metadata": {},
   "source": [
    "<hr>\n",
    "\n",
    "**The next cell is used to define strings that holds path information about the loaded and saved data**"
   ]
  },
  {
   "cell_type": "code",
   "execution_count": 9,
   "metadata": {
    "collapsed": true
   },
   "outputs": [
    {
     "name": "stdout",
     "output_type": "stream",
     "text": [
      "Files saved to: /home/iagolessa/Documents/unesp/doctorate/data/aneurysms/geometries/einsteinCases/unrupturedCases/vmtkReconstruction/case14/\n"
     ]
    }
   ],
   "source": [
    "# Change the full path to the DICOM directory here\n",
    "dicomDirectory = aneurysmsPath+\"aneurysms/geometries/einsteinCases/rupturedCases/originalData/case4/EMPB/\"\n",
    "dicomFirstFile = 'IM-0023-0001-0001.dcm' #'IM_00769.dcm' #None #'I1000000'\n",
    "\n",
    "# Path to save the generated files when extracting the surface\n",
    "# We reccomend to separate it from the DICOM original dir. \n",
    "# Note that inside casePath, this code will create different sub-directories to store different data types\n",
    "casePath       = aneurysmsPath+'aneurysms/geometries/einsteinCases/unrupturedCases/vmtkReconstruction/case14/'\n",
    "\n",
    "# Define subdirs\n",
    "imagesDir       = casePath+'images/'\n",
    "surfacesDir     = casePath+'surfaces/'\n",
    "centerlinesDir  = casePath+'centerlines/'\n",
    "meshesDir       = casePath+'meshes/'\n",
    "parentVesselDir = casePath+\"parentVessel/\"\n",
    "\n",
    "directories = [imagesDir,\n",
    "               surfacesDir,\n",
    "               centerlinesDir,\n",
    "               meshesDir,\n",
    "               parentVesselDir]\n",
    "\n",
    "# Create the above directories if they do not exist\n",
    "for directory in directories:\n",
    "    if not os.path.isdir(directory):\n",
    "        os.makedirs(directory)\n",
    "        print(directory+' created.\\n')\n",
    "\n",
    "print('Files saved to:', casePath)\n",
    "# print('DICOM source directory: ',dicomDirectory)"
   ]
  },
  {
   "cell_type": "markdown",
   "metadata": {},
   "source": [
    "<hr>\n",
    "\n",
    "# **Extracting the Aneurysm Surface**\n",
    "\n",
    "This section gather operations performed to *segment* a vessel and aneurysm surface (*vtkPolyData*) from a 3D image originated from a DSA or CTA scans (usually imported as a DICOM image) as a *vtkImageData*. The workflow is as follows: \n",
    "\n",
    "*Input: DICOM image (converted to vtk extension .vti)*\n",
    "* Extraction of the VoI (*Volume of Interest*); \n",
    "* Segmentation with the Level Sets segmentation procedure and; \n",
    "* Surface extraction with the Marching Cubes algorithm.\n",
    "\n",
    "*Output: triangulated surface file in vtk format .vtp or .stl*\n",
    "\n",
    "--\n",
    "\n",
    "Reading the DICOM directory to get image. \n",
    "To view image, use the function *viewImage(image)*"
   ]
  },
  {
   "cell_type": "code",
   "execution_count": null,
   "metadata": {},
   "outputs": [],
   "source": [
    "imageDicom = vmtk_functions.readDicom(dicomDirectory,dicomFirstFile)\n",
    "\n",
    "vmtk_functions.viewImage(imageDicom)"
   ]
  },
  {
   "cell_type": "code",
   "execution_count": null,
   "metadata": {},
   "outputs": [],
   "source": [
    "# Writing loaded DICOM to disk as .vti\n",
    "# .vti is the native image format o VTK\n",
    "vmtk_functions.writeImage(imageDicom,imagesDir+imageDicomFile)"
   ]
  },
  {
   "cell_type": "code",
   "execution_count": null,
   "metadata": {},
   "outputs": [],
   "source": [
    "# The image morphology apply binary or grayscale morphology filter to\n",
    "# the input image. For a better visualization with the MIP rendering\n",
    "imageMorphology = vmtkscripts.vmtkImageMorphology()\n",
    "imageMorphology.Image = imageDicom\n",
    "imageMorphology.Operation = 'open'\n",
    "imageMorphology.Execute()\n",
    "\n",
    "# Debug\n",
    "imageMorphology.PrintInputMembers()\n",
    "imageMorphology.PrintOutputMembers()\n",
    "\n",
    "vmtk_functions.viewImage(imageMorphology.Image)"
   ]
  },
  {
   "cell_type": "code",
   "execution_count": null,
   "metadata": {},
   "outputs": [],
   "source": [
    "imageMorphology.Deallocate()"
   ]
  },
  {
   "cell_type": "code",
   "execution_count": null,
   "metadata": {},
   "outputs": [],
   "source": [
    "vmtk_functions.viewImage(imageMorphology.Image)"
   ]
  },
  {
   "cell_type": "code",
   "execution_count": null,
   "metadata": {},
   "outputs": [],
   "source": [
    "# Need to study a little bit this filter to know exactly \n",
    "# what kind of normalization it performs on the image\n",
    "imageNormalizer = vmtkscripts.vmtkImageNormalize()\n",
    "imageNormalizer.Image = imageDicom\n",
    "imageNormalizer.Execute()\n",
    "\n",
    "vmtk_functions.viewImage(imageNormalizer.Image)"
   ]
  },
  {
   "cell_type": "code",
   "execution_count": null,
   "metadata": {},
   "outputs": [],
   "source": [
    "# imageReader = vmtkscripts.vmtkImageReader()\n",
    "\n",
    "# imageReader.InputFileName = dicomDirectory+dicomFirstFile+'.dcm'\n",
    "# imageReader.IORead()\n",
    "# imageReader.PrintInputMembers()\n",
    "# imageReader.PrintOutputMembers()\n",
    "# imageReader.Execute()\n",
    "\n",
    "# imageViewer = vmtkscripts.vmtkImageViewer()\n",
    "# imageViewer.Image = imageReader.Image\n",
    "# imageViewer.PrintInputMembers()\n",
    "# imageViewer.PrintOutputMembers()\n",
    "# imageViewer.Execute()"
   ]
  },
  {
   "cell_type": "markdown",
   "metadata": {},
   "source": [
    "To find the aneurysm, it is easier to extract an 'initial surface' using the Marching Cubes algorithm instead of inspecting the 3D image. The function *initialSurface* encapsulates this task: it applies the Marching Cubes algorithm with a pre-defined level, and passes the largest connected surface. Note that the chosen level, depends on the image, and must be verified before by the user.\n",
    "\n",
    "This procedure is kind of redundant for identifying the aneurysm compared with the MIP rendering, but is important to verify the correct level for the level sets segmentation algorithm."
   ]
  },
  {
   "cell_type": "code",
   "execution_count": null,
   "metadata": {},
   "outputs": [],
   "source": [
    "# Visualizing an initial surface\n",
    "level = 2250\n",
    "vmtk_functions.viewSurface(vmtk_functions.initialSurface(imageDicom,level))"
   ]
  },
  {
   "cell_type": "code",
   "execution_count": null,
   "metadata": {},
   "outputs": [],
   "source": [
    "# Writing it to disk\n",
    "vmtk_functions.writeSurface(\n",
    "    vmtk_functions.initialSurface(imageDicom,level),\n",
    "    surfacesDir+surfaceDicomFile,\n",
    "    'binary'\n",
    ")"
   ]
  },
  {
   "cell_type": "code",
   "execution_count": null,
   "metadata": {},
   "outputs": [],
   "source": [
    "# BUG WITH VMTKRENDERER: WINDOW DOES NOT CLOSE\n",
    "# ~~~~~~~~~~~~~~~~~~~~~~~~~~~~~~~~~~~~~~~~~~~~\n",
    "# surfaceOnImageViewer = vmtkscripts.vmtkRenderer()\n",
    "# surfaceOnImageViewer.Execute()\n",
    "\n",
    "# originalImage = vmtkscripts.vmtkImageViewer()\n",
    "# originalImage.Image = imageDicom\n",
    "# originalImage.vmtkRenderer = surfaceOnImageViewer.vmtkRenderer\n",
    "# originalImage.Display = 0\n",
    "\n",
    "# initialSurface = vmtkscripts.vmtkSurfaceViewer()\n",
    "# initialSurface.Surface = vmtk_functions.initialSurface(imageDicom,level)\n",
    "# initialSurface.vmtkRenderer = surfaceOnImageViewer.vmtkRenderer\n",
    "\n",
    "# originalImage.Execute()\n",
    "# initialSurface.Execute()"
   ]
  },
  {
   "cell_type": "code",
   "execution_count": null,
   "metadata": {},
   "outputs": [],
   "source": [
    "# Check initial surface on original image\n",
    "surfaceAgainstDicom = 'vmtkimagereader -ifile '+imagesDir+imageDicomFile+' ' \\\n",
    "         '--pipe vmtkrenderer --pipe vmtksurfaceviewer -ifile '+surfacesDir+surfaceDicomFile+' -display 0 -opacity 0.5 ' \\\n",
    "         '--pipe vmtkimageviewer -i @vmtkimagereader.o'\n",
    "        \n",
    "pypes.PypeRun(surfaceAgainstDicom)"
   ]
  },
  {
   "cell_type": "code",
   "execution_count": null,
   "metadata": {},
   "outputs": [],
   "source": [
    "vmtkimagereader -ifile --pipe vmtkrenderer --pipe vmtksurfaceviewer -ifile '+surfacesDir+surfaceDicomFile+' -display 0 -opacity 0.5 --pipe vmtkimageviewer -i @vmtkimagereader.o'"
   ]
  },
  {
   "cell_type": "markdown",
   "metadata": {},
   "source": [
    "If you already have a *.vti* extension image converted from a DICOM, skip directly to this cell"
   ]
  },
  {
   "cell_type": "code",
   "execution_count": null,
   "metadata": {},
   "outputs": [],
   "source": [
    "imageDicom = readImage(imagesDir+imageDicomFile)\n",
    "print('Reading vtkImageData object file.')\n",
    "viewImage(imageDicom)"
   ]
  },
  {
   "cell_type": "markdown",
   "metadata": {},
   "source": [
    "To work with a smaller portion of the vessels tree -- epsecially for the CFD simulation --, the next cell allows to cut a cubic portion of the image, known as the *volume of interest* (VOI)."
   ]
  },
  {
   "cell_type": "code",
   "execution_count": null,
   "metadata": {
    "collapsed": true
   },
   "outputs": [],
   "source": [
    "# Selection of VOI (centered in the aneurysm)\n",
    "# The VOI is the region containing the aneurysm with its surrounding \n",
    "# vessels that will be extracted for a CFD simulation\n",
    "\n",
    "# Object instantiation\n",
    "imageVoiSelector = vmtkscripts.vmtkImageVOISelector()\n",
    "\n",
    "# Object attributes\n",
    "imageVoiSelector.Image = imageDicom\n",
    "# Writing to disk parameters\n",
    "imageVoiSelector.ImageOutputFileName = imagesDir+imageVoiFile\n",
    "\n",
    "# Calling 'Execute' member function\n",
    "imageVoiSelector.Execute()\n",
    "imageVoiSelector.IOWrite()\n",
    "\n",
    "# Debug\n",
    "# imageVoiSelector.PrintInputMembers()\n",
    "# imageVoiSelector.PrintOutputMembers()\n",
    "\n",
    "vmtk_functions.viewSurface(vmtk_functions.initialSurface(imageVoiSelector.Image,level))\n",
    "\n",
    "If already exists a VOI file, the next cell will load it, storing it in the imageVoiSelector object.\n",
    "\n",
    "imageVoiSelector = vmtkscripts.vmtkImageVOISelector()\n",
    "imageVoiSelector.Image = readImage(imagesDir+imageVoiFile)\n",
    "\n",
    "viewImage(imageVoiSelector.Image)"
   ]
  },
  {
   "cell_type": "markdown",
   "metadata": {},
   "source": [
    "# Testing \n",
    "<hr>\n",
    "In this section, we apply filters to the input image, generating a feature image to be used with the level sets segmentation procedure.\n",
    "\n",
    "***WARNING: The following operations consume a lot of RAM memory, use it knowing that they can completely freeze your computer***\n",
    "\n",
    "We test the following filters:\n",
    "\n",
    "    vmtkimagefeaturecorrection:\tcorrect a feature image (e.g. remove influence of bone and/or air from CT-based feature images)\n",
    "    vmtkimagefeatures: compute a feature image for use in segmentation\n",
    "    vmtkimageobjectenhancement: compute a feature image for use in segmentation\n",
    "    vmtkimageshiftscale: shift and scale the intensity of an image and cast it to a specified type\n",
    "    vmtkimagevesselenhancement: compute a feature image for use in segmentation"
   ]
  },
  {
   "cell_type": "code",
   "execution_count": null,
   "metadata": {},
   "outputs": [],
   "source": [
    "# Instantiate imagecast\n",
    "imageCast = vmtkscripts.vmtkImageCast()\n",
    "\n",
    "imageCast.Image = imageVoiSelector.Image\n",
    "imageCast.OutputType = 'float'\n",
    "imageCast.Execute()\n",
    "\n",
    "# Debug\n",
    "# imageCast.PrintInputMembers()\n",
    "# imageCast.PrintOutputMembers()\n",
    "\n",
    "# ~~~~~~~~~~~~~~~~~~~~~~~~~~~~~~~~~~~~~~~~~~~~~~~~~~~~~~~\n",
    "vesselEnhancer = vmtkscripts.vmtkImageVesselEnhancement()\n",
    "\n",
    "vesselEnhancer.Image = imageCast.Image\n",
    "\n",
    "# Options = ['frangi', 'sato', 'ved', 'vedm']\n",
    "vesselEnhancer.Method = 'sato'\n",
    "\n",
    "# Sigma setup\n",
    "vesselEnhancer.SigmaMin = 1.0\n",
    "vesselEnhancer.SigmaMax = 1.0\n",
    "vesselEnhancer.NumberOfSigmaSteps = 1\n",
    "# Options = ['equispaced','logarithmic']\n",
    "vesselEnhancer.SigmaStepMethod = 'equispaced'\n",
    "\n",
    "vesselEnhancer.ScaledVesselness = 1\n",
    "vesselEnhancer.Alpha1 = 0.5\n",
    "vesselEnhancer.Alpha2 = 2.0\n",
    "vesselEnhancer.Alpha = 1.0\n",
    "vesselEnhancer.Beta = 1.0\n",
    "vesselEnhancer.Gamma = 0.5\n",
    "vesselEnhancer.C = 1e-06\n",
    "vesselEnhancer.TimeStep = 0.01\n",
    "vesselEnhancer.Epsilon = 0.01\n",
    "\n",
    "vesselEnhancer.Execute()\n",
    "\n",
    "# Debug\n",
    "vesselEnhancer.PrintInputMembers()\n",
    "vesselEnhancer.PrintOutputMembers()"
   ]
  },
  {
   "cell_type": "code",
   "execution_count": null,
   "metadata": {},
   "outputs": [],
   "source": [
    "vmtk_functions.viewImageMIP(vesselEnhancer.Image)"
   ]
  },
  {
   "cell_type": "markdown",
   "metadata": {},
   "source": [
    "<hr>"
   ]
  },
  {
   "cell_type": "markdown",
   "metadata": {},
   "source": [
    "# **The procedure below have been already collected to the new script *vmtkextractrawsurface.py***\n",
    "## **Level sets segmentation procedure**\n",
    "\n",
    "Level sets segmentation procedure: usually the fastest (and that sometimes leads to good quality surfaces) is the *isosurface* method, it requires only the level, outputing a complete surface correspondig to that level. The value 2500 used below is a value that usually leads directly to the surface close to the desired one. However, this situation can be the case only for these images; there may obviously be images with different levels (good question for automation: how to select the correct level?)\n",
    "\n",
    "The first cell below generates an initial image -- *initializationImage* -- to be used with the Level Sets segmentation procedure, as it is required by the method. This initial image is generated using the *isosurface* method."
   ]
  },
  {
   "cell_type": "code",
   "execution_count": null,
   "metadata": {},
   "outputs": [],
   "source": [
    "# Object instantiantion\n",
    "initializationImage = vmtkscripts.vmtkImageInitialization()\n",
    "\n",
    "# Select existing image\n",
    "try:\n",
    "    initializationImage.Image = imageVoiSelector.Image\n",
    "except:\n",
    "    initializationImage.Image = imageDicom\n",
    "    \n",
    "initializationImage.Method = 'isosurface'\n",
    "initializationImage.IsoSurfaceValue = level\n",
    "initializationImage.Interactive = 0\n",
    "initializationImage.InitialLevelSetsOutputFileName = imagesDir+imageInitialLevelSetsFile\n",
    "\n",
    "initializationImage.Execute()\n",
    "# initializationImage.IOWrite()\n",
    "# viewImage(initializationImage.InitialLevelSets)\n",
    "\n",
    "# Debug\n",
    "# initializationImage.PrintInputMembers()\n",
    "# initializationImage.PrintOutputMembers()\n",
    "\n",
    "# ~~~~~~~~~~~~~~~~~~~~~~~~~~~~~~~~~~~~~~~~~~~~~~~~~~~~ #\n",
    "# If image was generated from dicom above\n",
    "imageLevelSets = vmtkscripts.vmtkLevelSetSegmentation()\n",
    "\n",
    "# Input image\n",
    "imageLevelSets.Image = initializationImage.Image\n",
    "imageLevelSets.InitialLevelSets = initializationImage.InitialLevelSets\n",
    "\n",
    "# Vessel enhanced image used as a feature image\n",
    "# imageLevelSets.FeatureImage = vesselEnhancer.Image\n",
    "\n",
    "\n",
    "imageLevelSets.LevelSetsOutputFileName = imagesDir+imageLevelSetsFile\n",
    "# Once the branch segmented, the parameters that have led to good agreement between the extracted level and image are:\n",
    "# -- NumberOfIterations = 300\n",
    "# -- PropagationScaling = 0.5: usually 0.0, but the isosurface method does not get the gradients very well\n",
    "# -- CurvatureScaling = 0.1: usually 0.0, it is important not to set very high because it can degenerate the surface\n",
    "#                            however, i noted that setting slighty above 0.0 remove high curvature parts on the surface\n",
    "# -- AdvectionScaling = 1.0: usually 1.0 is perfect\n",
    "\n",
    "imageLevelSets.NumberOfIterations = 300\n",
    "imageLevelSets.PropagationScaling = 0.5\n",
    "imageLevelSets.CurvatureScaling = 0.1\n",
    "imageLevelSets.AdvectionScaling = 1.0\n",
    "imageLevelSets.SmoothingIterations = 20\n",
    "\n",
    "# Execute Level Sets\n",
    "imageLevelSets.Execute()\n",
    "# imageLevelSets.IOWrite()\n",
    "\n",
    "# Debug\n",
    "# imageLevelSets.PrintInputMembers()\n",
    "imageLevelSets.PrintOutputMembers()\n",
    "\n",
    "vmtk_functions.viewImage(imageLevelSets.LevelSets)\n",
    "\n",
    "# ~~~~~~~~~~~~~~~~~~~~~~~~~~~~~~~~~~~~~~~~~~~~~~~~~~~~ #\n",
    "# Converting VOI image to surface using Marching Cubes\n",
    "surfaceMarchingCubes = vmtkscripts.vmtkMarchingCubes()\n",
    "\n",
    "# The input image to Marching Cubes must be the Level Sets image\n",
    "surfaceMarchingCubes.Image = imageLevelSets.LevelSets\n",
    "\n",
    "# surfaceMarchingCubes.ImageInputFileName = imagesDir+'imageLevelSets.vti'\n",
    "# surfaceMarchingCubes.IORead()\n",
    "# Writing parameters\n",
    "# surfaceMarchingCubes.SurfaceOutputFileName = surfacesDir+surfaceVoiFile\n",
    "\n",
    "# Parameters\n",
    "surfaceMarchingCubes.Level = 0.1# increasing the value to inflate the surface\n",
    "# surfaceMarchingCubes.PrintInputMembers()\n",
    "surfaceMarchingCubes.Execute()\n",
    "\n",
    "# Visualizing output surface\n",
    "# surfaceMarchingCubes.IOWrite()\n",
    "# surfaceMarchingCubes.OutputText('Initial surface wrote to '+surfaceMarchingCubes.SurfaceOutputFileName)\n",
    "\n",
    "# Run vmtksurfacetriangle to prevent pathed surfaces from Marching Cubes\n",
    "# before using the vmtksurfaceconnected\n",
    "surfaceTriangle = vmtkscripts.vmtkSurfaceTriangle()\n",
    "surfaceTriangle.Surface = surfaceMarchingCubes.Surface\n",
    "surfaceTriangle.Execute()\n",
    "\n",
    "# Extract largest connected surface\n",
    "surfaceConnected = vmtkscripts.vmtkSurfaceConnectivity()\n",
    "surfaceConnected.Surface = surfaceTriangle.Surface\n",
    "surfaceConnected.SurfaceOutputFileName = surfacesDir+surfaceVoiFile\n",
    "surfaceConnected.Execute()\n",
    "surfaceConnected.IOWrite()\n",
    "\n",
    "viewSurface(surfaceConnected.Surface)"
   ]
  },
  {
   "cell_type": "markdown",
   "metadata": {},
   "source": [
    "Final comparison between the extracted surface and the initial image. It uses the *pypes* vmtk module to compare both image and surface in a single renderer for inspection."
   ]
  },
  {
   "cell_type": "markdown",
   "metadata": {},
   "source": [
    "Final high-level functioon with the 'raw surface extraction' procedure, taking as input the image and the level, with an option inflation parameter"
   ]
  },
  {
   "cell_type": "code",
   "execution_count": null,
   "metadata": {},
   "outputs": [],
   "source": [
    "# TRY WITH VMTKRENDERER\n",
    "myPipe = 'vmtkimagereader -ifile '+imagesDir+imageDicomFile+' ' \\\n",
    "         '--pipe vmtkrenderer --pipe vmtksurfaceviewer -ifile '+surfacesDir+surfaceVoiFile+' -display 0 -opacity 0.5 ' \\\n",
    "         '--pipe vmtkimageviewer -i @vmtkimagereader.o'\n",
    "        \n",
    "print(myPipe)\n",
    "pypes.PypeRun(myPipe)"
   ]
  },
  {
   "cell_type": "markdown",
   "metadata": {},
   "source": [
    "<hr>\n",
    "\n",
    "# **Aneurysm Surface Quality Treatment**\n",
    "\n",
    "In general, the segmented (triangulated) surface does not have a very good quality (degenerated and/or warped triangles, for example). \n",
    "Hence, some operations must be performed to treat the surface before using it to generate a good **volume mesh** for a CFD simulation.\n",
    "VMTK provides such operations, as: \n",
    "\n",
    "* Smoothing the surface, i.e., creating good quality triangles on it;\n",
    "* Subdividing (surface refinement): increase the detail level of the surface;\n",
    "* Clipping the surface to remove surrounding vessels;\n",
    "* Capping i.e. closing the surface with caps;\n",
    "* Surface remeshing: completely change the surface with high quality triangles;\n",
    "\n",
    "among other operations. The following cells gather all these possible operations."
   ]
  },
  {
   "cell_type": "markdown",
   "metadata": {},
   "source": [
    "<hr>\n",
    "\n",
    "**Input surface: the final surface of the Marching Cubes procedure or the chosen surface for treatment**"
   ]
  },
  {
   "cell_type": "code",
   "execution_count": null,
   "metadata": {},
   "outputs": [],
   "source": [
    "surfaceInput = vmtk_functions.readSurface(surfacesDir+'surfaceSmoothed.stl')\n",
    "vmtk_functions.viewSurface(surfaceInput)"
   ]
  },
  {
   "cell_type": "code",
   "execution_count": null,
   "metadata": {},
   "outputs": [],
   "source": [
    "# If the segmentation procedure has just been finished\n",
    "# and the \"surfaceVoI\" is available in memory\n",
    "\n",
    "# surfaceInput = vmtk_functions.readSurface(surfacesDir+surfaceVoiFile)\n",
    "# vmtk_functions.viewSurface(surfaceInput)\n",
    "\n",
    "# Smoothing the segmented surface\n",
    "surfaceSmoothed = vmtk_functions.smoothSurface(surfaceInput)"
   ]
  },
  {
   "cell_type": "code",
   "execution_count": null,
   "metadata": {},
   "outputs": [],
   "source": [
    "# Subdividing surface triangles\n",
    "surfaceSubdivided = vmtk_functions.subdivideSurface(surfaceSmoothed)\n",
    "vmtk_functions.viewSurface(surfaceSubdivided)"
   ]
  },
  {
   "cell_type": "code",
   "execution_count": null,
   "metadata": {},
   "outputs": [],
   "source": [
    "vmtk_functions.writeSurface(surfaceSmoothed,surfacesDir+surfaceSmoothedFile,'ascii')"
   ]
  },
  {
   "cell_type": "markdown",
   "metadata": {},
   "source": [
    "# **TESTING**\n",
    "<hr>"
   ]
  },
  {
   "cell_type": "markdown",
   "metadata": {},
   "source": [
    "In this cell we try to use the loop extractor script. I still do not get what is the main purpose of this script, seems not very useful at least for our purposes."
   ]
  },
  {
   "cell_type": "code",
   "execution_count": null,
   "metadata": {},
   "outputs": [],
   "source": [
    "loopExtractor = vmtkscripts.vmtkSurfaceLoopExtraction()\n",
    "\n",
    "# loopExtractor.Surface = surfaceInput\n",
    "loopExtractor.SurfaceInputFileName = surfacesDir+'surfaceWithClipArray.vtp'\n",
    "loopExtractor.IORead()\n",
    "loopExtractor.LoopOutputFileName = surfacesDir+'loop.vtp'\n",
    "\n",
    "loopExtractor.Execute()\n",
    "loopExtractor.IOWrite()\n",
    "loopExtractor.PrintInputMembers()\n",
    "loopExtractor.PrintOutputMembers()"
   ]
  },
  {
   "cell_type": "code",
   "execution_count": null,
   "metadata": {},
   "outputs": [],
   "source": [
    "vmtk_functions.viewSurface(loopExtractor.Loop)"
   ]
  },
  {
   "cell_type": "code",
   "execution_count": null,
   "metadata": {},
   "outputs": [],
   "source": [
    "loopClipper = vmtkscripts.vmtkSurfaceClipLoop()\n",
    "\n",
    "loopClipper.Surface = loopExtractor.Surface\n",
    "loopClipper.Loop = loopExtractor.Loop\n",
    "loopClipper.Execute()\n",
    "\n",
    "loopClipper.PrintInputMembers()\n",
    "loopClipper.PrintOutputMembers()"
   ]
  },
  {
   "cell_type": "code",
   "execution_count": null,
   "metadata": {},
   "outputs": [],
   "source": [
    "vmtk_functions.viewSurface(loopClipper.Surface)"
   ]
  },
  {
   "cell_type": "markdown",
   "metadata": {},
   "source": [
    "<hr> \n",
    "\n",
    "# **The procedure below have been already collected to the new script *vmtksurfacevesselfixer.py***\n",
    "\n",
    "In the following cells, we try to automatically improve the surface obtained above and to generate a surface in a *region of interest* (ROI) with open inlets and outlets where boundary conditions will be applied in a CFD simulation. Some comments on the process are given here.\n",
    "\n",
    "The first task would be to reduce the above surface to the ROI volume, which can be performed in the next cell. The widget type can be changed between box or sphere, however I think that the best approach is to use box because it has more degrees of freedom than a sphere, hence resulting in more flexibility to extract the ROI. In the sequence, we apply the *vmtksurfaceconnectivity* to avoid separate portions of the clipped surface to be passed along the process. "
   ]
  },
  {
   "cell_type": "markdown",
   "metadata": {},
   "source": [
    "Then, the ROI surface is passed to the region drawing script where the operator must define a loop around the vessels and the regions that must be cut, either because it does not correspond to reality (spourious lateral connections between vessels originating from the segmentation procedure) or to extract vessels that will not be simulated.\n",
    "\n",
    "**The script only works with closed contours!**\n",
    "\n",
    "The resulting surface with the cutting array is then passed to clipper to clip on middle values of the resulting array. But before the array is smoothed to result in a smoother cut from the clipping procedure, which is better when the surface is fixed. Sometimes, for arrays in loop regions, it is better to skip the smoothing operations because it can sooth out the middle value, which would cause the clipping on this region to not occur. \n",
    "\n",
    "After the clipping operation, it is wise to remesh the surface to get better quality contours on the hole of the surface because the surfaceFixer works internally with the *vmtksurfacecapper* script using the smooth method. "
   ]
  },
  {
   "cell_type": "markdown",
   "metadata": {},
   "source": [
    "With the *surfaceFixer* object I try finally to close the above surface, clipped with an array value, however for curved cuts it is imporssible to correctly close the surface following the vessels walls."
   ]
  },
  {
   "cell_type": "code",
   "execution_count": null,
   "metadata": {},
   "outputs": [],
   "source": [
    "# Clipping the surface\n",
    "roiSelector = vmtkscripts.vmtkSurfaceClipper()\n",
    "\n",
    "roiSelector.Surface = surfaceInput\n",
    "# roiSelector.SurfaceInputFileName = surfacesDir+surfaceRemeshedSmFile\n",
    "# roiSelector.IORead()\n",
    "roiSelector.InsideOut = 1\n",
    "roiSelector.WidgetType = 'box'\n",
    "roiSelector.Execute()\n",
    "\n",
    "# Extract largest connected surface\n",
    "surfaceConnected = vmtkscripts.vmtkSurfaceConnectivity()\n",
    "surfaceConnected.Surface = roiSelector.Surface\n",
    "surfaceConnected.Execute()\n",
    "\n",
    "vmtk_functions.writeSurface(surfaceConnected.Surface,surfacesDir+'test.vtp','binary')\n",
    "\n",
    "cutRegionsMarker = vmtkscripts.vmtkSurfaceRegionDrawing()\n",
    "\n",
    "cutRegionsMarker.Surface = surfaceConnected.Surface\n",
    "cutRegionsMarker.Execute()\n",
    "\n",
    "# Debug\n",
    "# cutRegionsMarker.PrintInputMembers()\n",
    "# cutRegionsMarker.PrintOutputMembers()\n",
    "\n",
    "cutRegionsMarker.SurfaceOutputFileName = surfacesDir+'surfaceWithClipArray.vtp'\n",
    "cutRegionsMarker.IOWrite()\n",
    "\n",
    "# Since the array created by RegionDrawing is discontinous\n",
    "# we use the array smoothing\n",
    "cutRegionsSmoother = vmtkscripts.vmtkSurfaceArraySmoothing()\n",
    "cutRegionsSmoother.Surface = cutRegionsMarker.Surface\n",
    "cutRegionsSmoother.SurfaceArrayName = cutRegionsMarker.ContourScalarsArrayName\n",
    "# General options\n",
    "cutRegionsSmoother.Connexity = 1\n",
    "cutRegionsSmoother.Relaxation = 1.0\n",
    "cutRegionsSmoother.Iterations = 10\n",
    "cutRegionsSmoother.Execute()\n",
    "\n",
    "cutRegionsSmoother.SurfaceOutputFileName = surfacesDir+'surfaceWithSmoothClipArray.vtp'\n",
    "cutRegionsSmoother.IOWrite()\n",
    "\n",
    "cutRegionsSmoother.Deallocate()\n",
    "# Debug\n",
    "# cutRegionsSmoother.PrintInputMembers()\n",
    "# cutRegionsSmoother.PrintOutputMembers()\n",
    "\n",
    "# View surface\n",
    "surfaceViewer = vmtkscripts.vmtkSurfaceViewer()\n",
    "surfaceViewer.Surface = cutRegionsSmoother.Surface\n",
    "surfaceViewer.ArrayName = cutRegionsSmoother.SurfaceArrayName\n",
    "surfaceViewer.Legend = 1\n",
    "surfaceViewer.Execute()\n",
    "\n",
    "# CLIPPER IN VERSION 1.4 WITH POSSIBLE BUG IN INTERACTIVE PYTHON\n",
    "# Initial Clipper to revome excess of surface\n",
    "surfaceArrayClipper = vmtkscripts.vmtkSurfaceClipper()\n",
    "\n",
    "surfaceArrayClipper.Surface = cutRegionsMarker.Surface #cutRegionsSmoother.Surface\n",
    "# surfaceArrayClipper.SurfaceInputFileName = surfacesDir+'surfaceWithClipArray.vtp'\n",
    "# surfaceArrayClipper.IORead()\n",
    "# surfaceClipper.InsideOut = 0\n",
    "# surfaceClipper.WidgetType = 'box'\n",
    "surfaceArrayClipper.Interactive = 0\n",
    "surfaceArrayClipper.ClipArrayName = 'ContourScalars' #cutRegionsMarker.ContourScalarsArrayName #cutRegionsSmoother.SurfaceArrayName\n",
    "surfaceArrayClipper.ClipValue = 0.5#*(cutRegionsMarker.InsideValue + \\\n",
    "#                                      cutRegionsMarker.OutsideValue)\n",
    "surfaceArrayClipper.Execute()\n",
    "\n",
    "# Debug\n",
    "# surfaceArrayClipper.PrintInputMembers()\n",
    "# surfaceArrayClipper.PrintOutputMembers()\n",
    "\n",
    "# Extract largest connected surface\n",
    "surfaceConnected = vmtkscripts.vmtkSurfaceConnectivity()\n",
    "surfaceConnected.Surface = surfaceArrayClipper.Surface\n",
    "surfaceConnected.Execute()\n",
    "\n",
    "# Check if is correct (debug)\n",
    "vmtk_functions.viewSurface(surfaceConnected.Surface)\n",
    "\n",
    "# surfaceArrayClipper.SurfaceOutputFileName = surfacesDir+'surfaceArrayClipped.vtp'\n",
    "# surfaceArrayClipper.IOWrite()\n",
    "\n",
    "# Simple remesh procedure to increase quality at cut lines\n",
    "surfaceRemesh = vmtkscripts.vmtkSurfaceRemeshing()\n",
    "\n",
    "surfaceRemesh.Surface = surfaceConnected.Surface\n",
    "surfaceRemesh.ElementSizeMode = \"edgelength\"\n",
    "surfaceRemesh.TargetEdgeLength = 0.2\n",
    "surfaceRemesh.SurfaceOutputFileName = surfacesDir+surfaceRemeshedFile\n",
    "surfaceRemesh.Execute()\n",
    "surfaceRemesh.IOWrite()\n",
    "# surfaceRemesh.Execute()\n",
    "\n",
    "vmtk_functions.viewSurface(surfaceRemesh.Surface)\n",
    "\n",
    "surfaceFixer = vmtkscripts.vmtkSurfaceCapper()\n",
    "\n",
    "surfaceFixer.Surface = surfaceRemesh.Surface\n",
    "# Capping Method = 'simple', 'centerpoint', 'smooth', 'annular', 'concaveannular'\n",
    "surfaceFixer.Method = 'smooth'\n",
    "surfaceFixer.ConstraintFactor = 0.2\n",
    "surfaceFixer.NumberOfRings = 6\n",
    "surfaceFixer.Interactive = 0\n",
    "\n",
    "surfaceFixer.Execute()\n",
    "\n",
    "# Debug\n",
    "# surfaceFixer.PrintInputMembers()\n",
    "# surfaceFixer.PrintOutputMembers()"
   ]
  },
  {
   "cell_type": "code",
   "execution_count": null,
   "metadata": {},
   "outputs": [],
   "source": [
    "surfaceSmoothed = vmtk_functions.smoothSurface(surfaceFixer.Surface)\n",
    "vmtk_functions.viewSurface(surfaceSmoothed)\n",
    "vmtk_functions.writeSurface(surfaceSmoothed,surfacesDir+'surfaceFixed.stl','ascii')"
   ]
  },
  {
   "cell_type": "markdown",
   "metadata": {},
   "source": [
    "<hr>\n",
    "\n",
    "**The remeshing procedure is very important to get a surface with *high* quality triangles. I also noted that this script is very robust even with large and complex vessels surface network.**"
   ]
  },
  {
   "cell_type": "code",
   "execution_count": null,
   "metadata": {},
   "outputs": [],
   "source": [
    "# Remeshing the surface with quality triangles\n",
    "\n",
    "surfaceRemesh = vmtkscripts.vmtkSurfaceRemeshing()\n",
    "\n",
    "# surfaceRemesh.Surface = surfaceSmoothed\n",
    "surfaceRemesh.SurfaceInputFileName = surfacesDir+'surfaceFixed.vtp'\n",
    "surfaceRemesh.IORead()\n",
    "\n",
    "surfaceRemesh.ElementSizeMode = \"edgelength\"\n",
    "surfaceRemesh.TargetEdgeLength = 0.1\n",
    "\n",
    "# If ElementSizeMode = \"edgelenghtarray\"\n",
    "# Then use DistanceToCenterlines array for radius adaptative surface mesh\n",
    "# surfaceRemesh.ElementSizeMode = \"edgelengtharray\"\n",
    "# surfaceRemesh.TargetEdgeLengthArrayName = \"DistanceToCenterlines\"\n",
    "# surfaceRemesh.TargetEdgeLengthFactor = 0.2\n",
    "\n",
    "# If ElementSizeMode = \"area\"\n",
    "# surfaceRemesh.TargetArea = 0.1\n",
    "\n",
    "# Setup\n",
    "#surfaceRemesh.PrintInputMembers()\n",
    "# surfaceRemesh.PrintOutputMembers()\n",
    "\n",
    "# Write parameters\n",
    "surfaceRemesh.SurfaceOutputFileName = surfacesDir+surfaceRemeshedFile\n",
    "\n",
    "surfaceRemesh.Execute()\n",
    "surfaceRemesh.IOWrite()"
   ]
  },
  {
   "cell_type": "code",
   "execution_count": null,
   "metadata": {},
   "outputs": [],
   "source": [
    "# Smoothing procedure after remeshing\n",
    "# (even after the remeshing it is a good idea to smooth the surface to decrease the feature angles)\n",
    "surfaceRmSmoothed = vmtk_functions.smoothSurface(surfaceRemesh.Surface)\n",
    "vmtk_functions.viewSurface(surfaceRmSmoothed)"
   ]
  },
  {
   "cell_type": "code",
   "execution_count": null,
   "metadata": {},
   "outputs": [],
   "source": [
    "vmtk_functions.writeSurface(surfaceRmSmoothed,surfacesDir+'surfaceFixedRm.stl','ascii')"
   ]
  },
  {
   "cell_type": "code",
   "execution_count": null,
   "metadata": {},
   "outputs": [],
   "source": [
    "#MAYBE IS BETTER TO PUT THE CENTERLINE CONSTRUICTION ABOVE THE REMESHING PROCEDURE TO CHECK NON MANIFOLDNESS\n",
    "# computing centerlines to use with vmtksurfaceendclipper\n",
    "centerlines = vmtkscripts.vmtkCenterlines()\n",
    "\n",
    "centerlines.SurfaceInputFileName = surfacesDir+surfaceClippedFile\n",
    "centerlines.IORead()\n",
    "centerlines.AppendEndPoints = 1\n",
    "centerlines.Execute()\n",
    "\n",
    "# Debug\n",
    "# centerlines.PrintInputMembers()\n",
    "# centerlines.PrintOutputMembers()\n",
    "\n",
    "# Computing centerlines Frenet system\n",
    "centerlineGeometry = vmtkscripts.vmtkCenterlineGeometry()\n",
    "\n",
    "centerlineGeometry.Centerlines = centerlines.Centerlines\n",
    "# centerlineGeometry.CenterlinesOutputFileName = centerlinesDir+'centerlineGeometry.vtp' # centerlineGeometryFile\n",
    "centerlineGeometry.LineSmoothing = 0\n",
    "centerlineGeometry.Execute()\n",
    "# centerlineGeometry.IOWrite()\n",
    "\n",
    "# Debug\n",
    "# centerlineGeometry.PrintInputMembers()\n",
    "# centerlineGeometry.PrintOutputMembers()\n",
    "\n",
    "# And then execute end clipper\n",
    "# SOMETINES DOES NOT WORK\n",
    "surfaceEndClipper = vmtkscripts.vmtkSurfaceEndClipper()\n",
    "\n",
    "surfaceEndClipper.Surface = centerlines.Surface\n",
    "# surfaceEndClipper.SurfaceInputFileName = surfacesDir+'surfaceRemeshedSmBlended.stl'\n",
    "# surfaceEndClipper.IORead()\n",
    "\n",
    "# Setup\n",
    "surfaceEndClipper.CenterlineNormals = 1\n",
    "surfaceEndClipper.Centerlines = centerlines.Centerlines\n",
    "surfaceEndClipper.FrenetTangentArrayName = centerlineGeometry.FrenetTangentArrayName\n",
    "\n",
    "surfaceEndClipper.SurfaceOutputFileName = surfacesDir+surfaceEndClippedFile\n",
    "surfaceEndClipper.Execute()\n",
    "\n",
    "viewSurface(surfaceEndClipper.Surface)\n",
    "# surfaceEndClipper.IOWrite()\n",
    "\n",
    "# Debug\n",
    "surfaceEndClipper.PrintInputMembers()\n",
    "surfaceEndClipper.PrintOutputMembers()"
   ]
  },
  {
   "cell_type": "code",
   "execution_count": null,
   "metadata": {},
   "outputs": [],
   "source": [
    "# Clipping the surface\n",
    "surfaceClipper = vmtkscripts.vmtkSurfaceClipper()\n",
    "# surfaceClipper.Surface = surfaceRmSmoothed\n",
    "surfaceClipper.SurfaceInputFileName = surfacesDir+'surfaceFixed.vtp'\n",
    "surfaceClipper.IORead()\n",
    "surfaceClipper.InsideOut = 0\n",
    "surfaceClipper.WidgetType = 'box'\n",
    "surfaceClipper.Execute()\n",
    "\n",
    "surfaceClipper.SurfaceOutputFileName = surfacesDir+surfaceClippedFile\n",
    "surfaceClipper.IOWrite()\n",
    "\n",
    "# Writer surface in other format\n",
    "# writeSurface(surfaceClipper.Surface,casePath+\"surfaces/surfaceClipped.stl\",\"ascii\")"
   ]
  },
  {
   "cell_type": "code",
   "execution_count": null,
   "metadata": {},
   "outputs": [],
   "source": [
    "# FLOW EXTENSIONS NOT WORKING HERE: POSSIBLE BUG THAT GENERATES ZOMBIE WINDOWS OF THE PROCEDURE\n",
    "# SO USE IT WITH Interaction = 0\n",
    "\n",
    "# # Compute centerlines for flow extensions procedure\n",
    "# Only needed if the 'centerlinedirection' is used\n",
    "# centerlines = vmtkscripts.vmtkCenterlines()\n",
    "\n",
    "# # centerlines.Surface = surfaceRmSmoothed\n",
    "# centerlines.SurfaceInputFileName = surfacesDir+surfaceFinalFile\n",
    "# centerlines.IORead()\n",
    "# # centerlines.AppendEndPoints = 1\n",
    "# centerlines.Execute()\n",
    "\n",
    "# ~~~~~~~~~~~~~~~~~~~~~~\n",
    "# Adding flow extensions\n",
    "surfaceFlowExtensions = vmtkscripts.vmtkFlowExtensions()\n",
    "\n",
    "surfaceFlowExtensions.Surface = surfaceClipper.Surface\n",
    "# surfaceFlowExtensions.Centerlines = centerlines.Centerlines\n",
    "\n",
    "# surfaceFlowExtensions.SurfaceInputFileName = surfacesDir+'patches/wall.stl'\n",
    "# surfaceFlowExtensions.CenterlinesInputFileName = centerlinesDir+'centerlines.vtp'\n",
    "# surfaceFlowExtensions.IORead()\n",
    "\n",
    "surfaceFlowExtensions.SurfaceOutputFileName = surfacesDir+surfaceWithFlowExtFile\n",
    "\n",
    "# Setup\n",
    "surfaceFlowExtensions.InterpolationMode = 'thinplatespline' # or linear\n",
    "surfaceFlowExtensions.ExtensionMode = 'boundarynormal' # or centerlinedirection\n",
    "# boolean flag which enables computing the length of each \n",
    "# flowextension proportional to the mean profile radius\n",
    "surfaceFlowExtensions.AdaptiveExtensionLength = 1 # (bool)\n",
    "\n",
    "# The proportionality factor is set through 'extensionratio'\n",
    "surfaceFlowExtensions.ExtensionRatio = 1\n",
    "\n",
    "# Controls how far into the centerline the algorithm looks \n",
    "# for computing the orientation of the flow extension.\n",
    "# surfaceFlowExtensions.CenterlineNormalEstimationDistanceRatio = 1\n",
    "\n",
    "\n",
    "surfaceFlowExtensions.Interactive = 1\n",
    "surfaceFlowExtensions.TransitionRatio = 0.5\n",
    "surfaceFlowExtensions.AdaptiveExtensionRadius = 1\n",
    "surfaceFlowExtensions.AdaptiveNumberOfBoundaryPoints = 1\n",
    "surfaceFlowExtensions.TargetNumberOfBoundaryPoints = 50\n",
    "surfaceFlowExtensions.Sigma = 1.0\n",
    "\n",
    "\n",
    "# surfaceFlowExtensions.PrintInputMembers()\n",
    "# surfaceFlowExtensions.PrintOutputMembers()\n",
    "surfaceFlowExtensions.Execute()\n",
    "surfaceFlowExtensions.IOWrite()\n",
    "\n",
    "viewSurface(surfaceFlowExtensions.Surface)"
   ]
  },
  {
   "cell_type": "code",
   "execution_count": null,
   "metadata": {},
   "outputs": [],
   "source": [
    "# Remeshing procedure\n",
    "flowExtRemesh = vmtkscripts.vmtkSurfaceRemeshing()\n",
    "\n",
    "flowExtRemesh.Surface = surfaceFlowExtensions.Surface\n",
    "flowExtRemesh.ElementSizeMode = \"edgelength\"\n",
    "flowExtRemesh.TargetEdgeLength = 0.15\n",
    "# flowExtRemesh.SurfaceOutputFileName = surfacesDir+surfaceRemeshedFile\n",
    "flowExtRemesh.Execute()\n",
    "vmtk_functions.viewSurface(flowExtRemesh.Surface)\n",
    "# flowExtRemesh.IOWrite()"
   ]
  },
  {
   "cell_type": "code",
   "execution_count": 16,
   "metadata": {},
   "outputs": [
    {
     "name": "stdout",
     "output_type": "stream",
     "text": [
      "Reading VTK XML surface file.\n"
     ]
    }
   ],
   "source": [
    "# Smoothing procedure after remeshing\n",
    "# (even after the remeshing it is a good idea to smooth the surface to decrease the feature angles)\n",
    "surfaceFlowSmoothed = smoothSurface(readSurface(surfacesDir+'surfaceWithFlowExtRm.vtp'))"
   ]
  },
  {
   "cell_type": "code",
   "execution_count": 17,
   "metadata": {},
   "outputs": [
    {
     "name": "stdout",
     "output_type": "stream",
     "text": [
      "Quit renderer\n"
     ]
    }
   ],
   "source": [
    "viewSurface(surfaceFlowSmoothed)              "
   ]
  },
  {
   "cell_type": "code",
   "execution_count": 18,
   "metadata": {},
   "outputs": [
    {
     "name": "stdout",
     "output_type": "stream",
     "text": [
      "Writing VTK XML surface file.\n"
     ]
    }
   ],
   "source": [
    "writeSurface(surfaceFlowSmoothed,surfacesDir+'surfaceWithFlowExtRmSm.vtp','binary')"
   ]
  },
  {
   "cell_type": "markdown",
   "metadata": {},
   "source": [
    "Finally, capping the high quality surface to proceed with the orientation and splitting the surface before send to SnappyHexMesh procedure.\n",
    "The capping procedure close the 'wholes' on the surface, corresponding to inlets and outlets of the model geometry (used for boundary conditions for CFD simulations).\n",
    "It is important to note that the capping procedure also identify each cap and the vascular surface with ids, to allow splitting of each patch."
   ]
  },
  {
   "cell_type": "code",
   "execution_count": 19,
   "metadata": {
    "collapsed": true
   },
   "outputs": [
    {
     "name": "stdout",
     "output_type": "stream",
     "text": [
      "Writing VTK XML surface file.\n"
     ]
    }
   ],
   "source": [
    "# Capping the surface\n",
    "surfaceCapper = vmtkscripts.vmtkSurfaceCapper()\n",
    "\n",
    "surfaceCapper.Surface = surfaceFlowSmoothed\n",
    "# surfaceCapper.SurfaceInputFileName = surfacesDir+surfaceClippedFile\n",
    "# surfaceCapper.IORead()\n",
    "surfaceCapper.SurfaceOutputFileName = surfacesDir+surfaceCappedFile\n",
    "\n",
    "# Capping Method = 'simple', 'centerpoint', 'smooth', 'annular', 'concaveannular'\n",
    "surfaceCapper.Method = 'centerpoint'\n",
    "# surfaceCapper.NumberOfRings = 8\n",
    "# surfaceCapper.ConstraintFactor = 0.0\n",
    "surfaceCapper.Interactive = 0\n",
    "\n",
    "surfaceCapper.Execute()\n",
    "surfaceCapper.IOWrite()\n",
    "\n",
    "# Debug\n",
    "# surfaceCapper.PrintInputMembers()\n",
    "# surfaceCapper.PrintOutputMembers()"
   ]
  },
  {
   "cell_type": "markdown",
   "metadata": {},
   "source": [
    "The final surface obtained here is a capped surface of the aneurysm and surrounnding vessels.\n",
    "The surface can have its quality increased by using other tools such as Blender and Paraview, before send it to meshing using SnappyHexMesh."
   ]
  },
  {
   "cell_type": "markdown",
   "metadata": {},
   "source": [
    "<hr>\n",
    "\n",
    "# **Surface Properties**\n",
    "\n",
    "Below, we compute some properties of the final surface:\n",
    "* Surface Curvature; \n",
    "* Surface Normals;\n",
    "* Volume and surface area;\n",
    "* Boundary Inspector;"
   ]
  },
  {
   "cell_type": "code",
   "execution_count": 20,
   "metadata": {},
   "outputs": [
    {
     "name": "stdout",
     "output_type": "stream",
     "text": [
      "Reading STL surface file.\n"
     ]
    },
    {
     "ename": "TypeError",
     "evalue": "list indices must be integers or slices, not float",
     "output_type": "error",
     "traceback": [
      "\u001b[0;31m---------------------------------------------------------------------------\u001b[0m",
      "\u001b[0;31mTypeError\u001b[0m                                 Traceback (most recent call last)",
      "\u001b[0;32m<ipython-input-20-15a8887f153a>\u001b[0m in \u001b[0;36m<module>\u001b[0;34m()\u001b[0m\n\u001b[1;32m      8\u001b[0m \u001b[0msurfaceGaussianCurvature\u001b[0m\u001b[0;34m.\u001b[0m\u001b[0mMedianFiltering\u001b[0m \u001b[0;34m=\u001b[0m \u001b[0;36m1\u001b[0m\u001b[0;34m\u001b[0m\u001b[0m\n\u001b[1;32m      9\u001b[0m \u001b[0msurfaceGaussianCurvature\u001b[0m\u001b[0;34m.\u001b[0m\u001b[0mBoundedReciprocal\u001b[0m \u001b[0;34m=\u001b[0m \u001b[0;36m1\u001b[0m\u001b[0;34m\u001b[0m\u001b[0m\n\u001b[0;32m---> 10\u001b[0;31m \u001b[0msurfaceGaussianCurvature\u001b[0m\u001b[0;34m.\u001b[0m\u001b[0mExecute\u001b[0m\u001b[0;34m(\u001b[0m\u001b[0;34m)\u001b[0m\u001b[0;34m\u001b[0m\u001b[0m\n\u001b[0m\u001b[1;32m     11\u001b[0m \u001b[0;34m\u001b[0m\u001b[0m\n\u001b[1;32m     12\u001b[0m \u001b[0msurfaceMeanCurvature\u001b[0m \u001b[0;34m=\u001b[0m \u001b[0mvmtkscripts\u001b[0m\u001b[0;34m.\u001b[0m\u001b[0mvmtkSurfaceCurvature\u001b[0m\u001b[0;34m(\u001b[0m\u001b[0;34m)\u001b[0m\u001b[0;34m\u001b[0m\u001b[0m\n",
      "\u001b[0;32m~/anaconda3/envs/vmtk/lib/python3.6/site-packages/vmtk/vmtksurfacecurvature.py\u001b[0m in \u001b[0;36mExecute\u001b[0;34m(self)\u001b[0m\n\u001b[1;32m    112\u001b[0m                 \u001b[0;32mif\u001b[0m \u001b[0;32mnot\u001b[0m \u001b[0mvalues\u001b[0m\u001b[0;34m:\u001b[0m\u001b[0;34m\u001b[0m\u001b[0m\n\u001b[1;32m    113\u001b[0m                     \u001b[0;32mcontinue\u001b[0m\u001b[0;34m\u001b[0m\u001b[0m\n\u001b[0;32m--> 114\u001b[0;31m                 \u001b[0mmedianValue\u001b[0m \u001b[0;34m=\u001b[0m \u001b[0mvalues\u001b[0m\u001b[0;34m[\u001b[0m\u001b[0;34m(\u001b[0m\u001b[0mlen\u001b[0m\u001b[0;34m(\u001b[0m\u001b[0mvalues\u001b[0m\u001b[0;34m)\u001b[0m \u001b[0;34m-\u001b[0m \u001b[0;36m1\u001b[0m\u001b[0;34m)\u001b[0m\u001b[0;34m/\u001b[0m\u001b[0;36m2\u001b[0m\u001b[0;34m]\u001b[0m\u001b[0;34m\u001b[0m\u001b[0m\n\u001b[0m\u001b[1;32m    115\u001b[0m                 \u001b[0mactiveScalars\u001b[0m\u001b[0;34m.\u001b[0m\u001b[0mSetTuple1\u001b[0m\u001b[0;34m(\u001b[0m\u001b[0mpointId\u001b[0m\u001b[0;34m,\u001b[0m\u001b[0mmedianValue\u001b[0m\u001b[0;34m)\u001b[0m\u001b[0;34m\u001b[0m\u001b[0m\n\u001b[1;32m    116\u001b[0m \u001b[0;34m\u001b[0m\u001b[0m\n",
      "\u001b[0;31mTypeError\u001b[0m: list indices must be integers or slices, not float"
     ]
    }
   ],
   "source": [
    "# Surface curvature array\n",
    "surfaceGaussianCurvature = vmtkscripts.vmtkSurfaceCurvature()\n",
    "\n",
    "surfaceGaussianCurvature.SurfaceInputFileName = surfacesDir+'patches/wall.stl'\n",
    "surfaceGaussianCurvature.IORead()\n",
    "surfaceGaussianCurvature.CurvatureType = 'gaussian'\n",
    "surfaceGaussianCurvature.AbsoluteCurvature = 1\n",
    "surfaceGaussianCurvature.MedianFiltering = 1\n",
    "surfaceGaussianCurvature.BoundedReciprocal = 1\n",
    "surfaceGaussianCurvature.Execute()\n",
    "\n",
    "surfaceMeanCurvature = vmtkscripts.vmtkSurfaceCurvature()\n",
    "surfaceMeanCurvature.Surface = surfaceGaussianCurvature.Surface\n",
    "surfaceMeanCurvature.CurvatureType = 'mean'\n",
    "surfaceMeanCurvature.AbsoluteCurvature = 1\n",
    "surfaceMeanCurvature.MedianFiltering = 1\n",
    "surfaceMeanCurvature.BoundedReciprocal = 1\n",
    "surfaceMeanCurvature.Execute()\n",
    "\n",
    "surfaceNormals = vmtkscripts.vmtkSurfaceNormals()\n",
    "surfaceNormals.Surface = surfaceMeanCurvature.Surface\n",
    "surfaceNormals.SurfaceOutputFileName = surfacesDir+\"surfaceWithProperties.vtp\"\n",
    "surfaceNormals.Execute()\n",
    "surfaceNormals.IOWrite()"
   ]
  },
  {
   "cell_type": "code",
   "execution_count": null,
   "metadata": {},
   "outputs": [],
   "source": [
    "# Calculate volume and area of surface\n",
    "surfaceMassProperties = vmtkscripts.vmtkSurfaceMassProperties()\n",
    "# surfaceMassProperties.Surface = aneurysm # aneurysmClipper.Surface\n",
    "surfaceMassProperties.SurfaceInputFileName = surfacesDir+surfaceCappedFile\n",
    "surfaceMassProperties.IORead()\n",
    "surfaceMassProperties.Execute()\n",
    "\n",
    "viewSurface(surfaceMassProperties.Surface)\n",
    "print('Surface area: '+str(surfaceMassProperties.SurfaceArea)+' mm2')\n",
    "print('Volume: '+str(surfaceMassProperties.Volume)+' mm3')"
   ]
  }
 ],
 "metadata": {
  "kernelspec": {
   "display_name": "Python [conda env:vmtk]",
   "language": "python",
   "name": "conda-env-vmtk-py"
  },
  "language_info": {
   "codemirror_mode": {
    "name": "ipython",
    "version": 3
   },
   "file_extension": ".py",
   "mimetype": "text/x-python",
   "name": "python",
   "nbconvert_exporter": "python",
   "pygments_lexer": "ipython3",
   "version": "3.6.1"
  }
 },
 "nbformat": 4,
 "nbformat_minor": 2
}
