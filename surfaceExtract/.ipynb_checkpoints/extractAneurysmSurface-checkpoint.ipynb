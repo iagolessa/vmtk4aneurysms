{
 "cells": [
  {
   "cell_type": "markdown",
   "metadata": {},
   "source": [
    "# **Extract the Aneurysm Surface**\n",
    "<hr>"
   ]
  },
  {
   "cell_type": "code",
   "execution_count": 1,
   "metadata": {
    "slideshow": {
     "slide_type": "slide"
    }
   },
   "outputs": [],
   "source": [
    "from vmtk import vmtkscripts\n",
    "import numpy as np\n",
    "import os"
   ]
  },
  {
   "cell_type": "code",
   "execution_count": 2,
   "metadata": {},
   "outputs": [],
   "source": [
    "# Change to directory where vmtk_functions and vmtk_filenames are located\n",
    "os.chdir('/home/iagolessa/Documents/aneurysms/vmtkScripts')\n",
    "\n",
    "# Import the necessary user's modules\n",
    "import vmtk_functions\n",
    "from vmtk_filenames import *\n",
    "\n",
    "# Change it back\n",
    "os.chdir('/home/iagolessa')"
   ]
  },
  {
   "cell_type": "code",
   "execution_count": 7,
   "metadata": {
    "collapsed": true
   },
   "outputs": [
    {
     "name": "stdout",
     "output_type": "stream",
     "text": [
      "Files saved to: /home/iagolessa/Documents/aneurysms/geometries/einsteinCases/unrupturedCases/vmtkReconstruction/case12/\n"
     ]
    }
   ],
   "source": [
    "# Path to save the generated files when extracting the surface\n",
    "# We reccomend to separate it from the DICOM original dir. \n",
    "# Note that inside casePath, this code will create different sub-directories to store different data types\n",
    "casePath = '/home/iagolessa/Documents/aneurysms/geometries/einsteinCases/unrupturedCases/vmtkReconstruction/case12/'\n",
    "# Define subdirs\n",
    "imagesDir       = casePath+'images/'\n",
    "surfacesDir     = casePath+'surfaces/'\n",
    "centerlinesDir  = casePath+'centerlines/'\n",
    "meshesDir       = casePath+'meshes/'\n",
    "parentVesselDir = casePath+\"parentVessel/\"\n",
    "\n",
    "print('Files saved to:', casePath)"
   ]
  },
  {
   "cell_type": "markdown",
   "metadata": {},
   "source": [
    "<hr>\n",
    "# **Extracting the aneurysm surface**\n",
    "\n",
    "One of the simplest ways of extracting the aneurysm surface is using the *vmtksurfaceregiondrawing* script and draw a line on the aneurysm neck. Of course, this procedure requires the expertise of a physician to correctly iddentify the aneurysm neck. This is perfomed on the next cell: the procedure initially calls the region drawing script, then the field is smoothed and finally the path is cut using the clipper tool with an array. The cell, then, outputs the surface area and aneurysm volume. \n",
    "\n",
    "Tests to automatically extract the aneurysm sac are performed below."
   ]
  },
  {
   "cell_type": "code",
   "execution_count": null,
   "metadata": {},
   "outputs": [],
   "source": []
  },
  {
   "cell_type": "code",
   "execution_count": 8,
   "metadata": {},
   "outputs": [
    {
     "name": "stdout",
     "output_type": "stream",
     "text": [
      "Reading VTK XML surface file.\n",
      "Quit renderer\n",
      "Quit renderer\n",
      "Writing STL surface file.\n",
      "Surface area: 67.02327634909156 mm2\n",
      "Volume: 93.64268605434252 mm3\n"
     ]
    }
   ],
   "source": [
    "aneurysmNeckDraw = vmtkscripts.vmtkSurfaceRegionDrawing()\n",
    "\n",
    "aneurysmNeckDraw.SurfaceInputFileName = surfacesDir+surfaceOrientedFile\n",
    "aneurysmNeckDraw.IORead()\n",
    "aneurysmNeckDraw.Execute()\n",
    "\n",
    "# Debug\n",
    "# aneurysmNeckDraw.PrintInputMembers()\n",
    "# aneurysmNeckDraw.PrintOutputMembers()\n",
    "\n",
    "\n",
    "# Since the array created by RegionDrawing is discontinous\n",
    "# we use the array smoothing\n",
    "aneurysmNeckSmoother = vmtkscripts.vmtkSurfaceArraySmoothing()\n",
    "aneurysmNeckSmoother.Surface = aneurysmNeckDraw.Surface\n",
    "aneurysmNeckSmoother.SurfaceArrayName = aneurysmNeckDraw.ContourScalarsArrayName\n",
    "# General options\n",
    "aneurysmNeckSmoother.Connexity = 1\n",
    "aneurysmNeckSmoother.Relaxation = 1.0\n",
    "aneurysmNeckSmoother.Iterations = 30\n",
    "aneurysmNeckSmoother.Execute()\n",
    "\n",
    "# Debug\n",
    "# aneurysmNeckSmoother.PrintInputMembers()\n",
    "# aneurysmNeckSmoother.PrintOutputMembers()\n",
    "\n",
    "# Surface clipper\n",
    "aneurysmClipper = vmtkscripts.vmtkSurfaceClipper()\n",
    "\n",
    "aneurysmClipper.Surface = aneurysmNeckSmoother.Surface\n",
    "# aneurysmClipper.SurfaceInputFileName = surfacesDir+'surfaceWithClipArray.vtp'\n",
    "# aneurysmClipper.IORead()\n",
    "# aneurysmClipper.InsideOut = 0\n",
    "# aneurysmClipper.WidgetType = 'box'\n",
    "aneurysmClipper.Interactive = 0\n",
    "aneurysmClipper.ClipArrayName = aneurysmNeckDraw.ContourScalarsArrayName\n",
    "aneurysmClipper.ClipValue = 0.5*(aneurysmNeckDraw.InsideValue + \\\n",
    "                                 aneurysmNeckDraw.OutsideValue)\n",
    "aneurysmClipper.Execute()\n",
    "\n",
    "# Debug\n",
    "# aneurysmClipper.PrintInputMembers()\n",
    "# aneurysmClipper.PrintOutputMembers()\n",
    "\n",
    "# # Extract largest connected surface\n",
    "# surfaceConnected = vmtkscripts.vmtkSurfaceConnectivity()\n",
    "# surfaceConnected.Surface = surfaceArrayClipper.Surface\n",
    "# surfaceConnected.Execute()\n",
    "\n",
    "# Check if is correct (debug)\n",
    "vmtk_functions.viewSurface(aneurysmClipper.ClippedSurface)\n",
    "\n",
    "\n",
    "# Simple remesh procedure to increase quality at cut lines\n",
    "# aneurysmRemesh.Surface = aneurysmClipper.Surface\n",
    "# aneurysmRemesh.ElementSizeMode = \"edgelength\"\n",
    "# aneurysmRemesh.Execute()\n",
    "\n",
    "\n",
    "# Write aneurysm surface\n",
    "vmtk_functions.writeSurface(aneurysmClipper.ClippedSurface,surfacesDir+'patches/aneurysm.stl','binary')\n",
    "\n",
    "# Calculate volume and area of surface\n",
    "aneurysmMassProperties = vmtkscripts.vmtkSurfaceMassProperties()\n",
    "aneurysmMassProperties.Surface = aneurysmClipper.ClippedSurface\n",
    "aneurysmMassProperties.Execute()\n",
    "\n",
    "print('Surface area: '+str(aneurysmMassProperties.SurfaceArea)+' mm2')\n",
    "print('Volume: '+str(aneurysmMassProperties.Volume)+' mm3')"
   ]
  },
  {
   "cell_type": "markdown",
   "metadata": {},
   "source": [
    "<hr>\n",
    "<hr>\n",
    "Extracting the aneurysm surface using the clipper and an array defined on the surface built with the *vmtkdistancetocenterlines* script.\n",
    "The procedures works better on lateral aneurysms cases; the parent vessel centerlines must be calculated (first part of the script): the reference systems are computed at every inlet and outlet. The surface is then clipped at the level 0 of the DistanceToCenterlines array, calculated using the Tube Function.\n",
    "\n",
    "The procedure uses the array *capsGeometryArray* constructed above in the reorientation procedure: it uses the information about the inlet patch to construct the parent vessel centerlines automatically."
   ]
  },
  {
   "cell_type": "code",
   "execution_count": null,
   "metadata": {},
   "outputs": [],
   "source": [
    "# # Function to clip the aneurysm using a spherical clipper widget\n",
    "# def clipAneurysm(surface):\n",
    "#     \"\"\"Function to clip the aneurysm using a spherical clipper widget\"\"\"\n",
    "#     aneurysm = vmtkscripts.vmtkSurfaceClipper()\n",
    "    \n",
    "#     aneurysm.Surface = surface\n",
    "#     aneurysm.InsideOut = 0\n",
    "#     aneurysm.WidgetType = 'box'\n",
    "#     aneurysm.Execute()\n",
    "    \n",
    "#     return aneurysm.Surface"
   ]
  },
  {
   "cell_type": "code",
   "execution_count": null,
   "metadata": {},
   "outputs": [],
   "source": [
    "# # Reading the input surface\n",
    "surfaceInput = readSurface(surfacesDir+surface)\n",
    "viewSurface(surfaceInput)"
   ]
  },
  {
   "cell_type": "code",
   "execution_count": null,
   "metadata": {},
   "outputs": [],
   "source": [
    "# Surface boundary inspector: we need to inspect the boundary of the oriented surface now\n",
    "# Conveting surface to mesh to get cell entity ids\n",
    "surfaceOrientedToMesh = vmtkscripts.vmtkSurfaceToMesh()\n",
    "\n",
    "# Needs to be a .vtp surface file!! not stl\n",
    "# surfaceOrientedToMesh.Surface = surfaceCapper.Surface #surfaceTransform.Surface\n",
    "# or read\n",
    "surfaceOrientedToMesh.SurfaceInputFileName = surfacesDir+surfaceOrientedFile\n",
    "surfaceOrientedToMesh.IORead()\n",
    "surfaceOrientedToMesh.Execute()\n",
    "\n",
    "# Inspecting\n",
    "surfaceBoundaryInspector = vmtkscripts.vmtkMeshBoundaryInspector()\n",
    "\n",
    "surfaceBoundaryInspector.Mesh = surfaceOrientedToMesh.Mesh\n",
    "surfaceBoundaryInspector.CellEntityIdsArrayName = 'CellEntityIds'\n",
    "surfaceBoundaryInspector.ReferenceSystemsOutputFileName = surfacesDir+referenceSystemsOrientedFile\n",
    "surfaceBoundaryInspector.Execute()\n",
    "surfaceBoundaryInspector.IOWrite()"
   ]
  },
  {
   "cell_type": "code",
   "execution_count": null,
   "metadata": {},
   "outputs": [],
   "source": [
    "# Manipulation of the reference system array \n",
    "# The code below transforms the referenceSystem.dat info\n",
    "# to a numpy structured array called 'capsGeometryArray'\n",
    "# which contains Center, Normals, Radius, Ids and patch type\n",
    "# of the surface caps\n",
    "\n",
    "capsGeometryList = []\n",
    "# Columns to extract\n",
    "# Center position, normals, radius and ids of caps\n",
    "# POSSIBLE IMPROVEMENT: GET COLUMNS BY NAME\n",
    "cols = (0, 1, 2, 3, 4, 5, 6, 13)\n",
    "colsType = [('Center', tuple),\n",
    "            ('Normal', tuple),\n",
    "            ('Radius',float),\n",
    "            ('Id',int),\n",
    "            ('PatchType','U10')]\n",
    "\n",
    "# Get array from referenceSystem.dat file\n",
    "arrayDatFile = np.genfromtxt(surfacesDir+referenceSystemsOrientedFile,skip_header=1,usecols=cols)\n",
    "for row in arrayDatFile:\n",
    "    # Copy formatted to list\n",
    "    Center = tuple(row[0:3])\n",
    "    Normal = tuple(row[3:6])\n",
    "    Radius = row[6]\n",
    "    Id = row[7]\n",
    "    capsGeometryList.append((Center, Normal, Radius, Id,'patch'))\n",
    "\n",
    "# Convert to array\n",
    "capsOrientedGeoArray = np.array(capsGeometryList, dtype=colsType)\n",
    "capsOrientedGeoArray"
   ]
  },
  {
   "cell_type": "code",
   "execution_count": null,
   "metadata": {},
   "outputs": [],
   "source": [
    "# Getting the inlet index by searching the patch with largest area\n",
    "\n",
    "capsArea = np.zeros(len(capsOrientedGeoArray), \n",
    "                    dtype=[('Area',float),\n",
    "                           ('Id',int)])\n",
    "\n",
    "capsArea['Area'] = (np.pi/4)*capsOrientedGeoArray['Radius']**2\n",
    "capsArea['Id'] = capsOrientedGeoArray['Id']\n",
    "\n",
    "for i in range(0, len(capsArea)):\n",
    "    if capsArea['Area'][i] == np.max(capsArea['Area']):\n",
    "        inletIndex = capsArea['Id'][i]\n",
    "        capsOrientedGeoArray['PatchType'][i] = 'inlet'\n",
    "    else:\n",
    "        capsOrientedGeoArray['PatchType'][i] = 'outlet'\n",
    "\n",
    "print('Inlet index (supposing is the cap with larger area) is: ',inletIndex)\n",
    "capsOrientedGeoArray"
   ]
  },
  {
   "cell_type": "code",
   "execution_count": null,
   "metadata": {},
   "outputs": [],
   "source": [
    "# Specify the other inlets here\n",
    "extraInletIds = []\n",
    "# For all the patches ids\n",
    "for patchId in capsOrientedGeoArray['Id']:\n",
    "    # If the id is an extraInlet id\n",
    "    # Check if extraInletIds is not empty\n",
    "    if extraInletIds:\n",
    "        # If the patch id is on specified inlet list\n",
    "        if patchId in extraInletIds:\n",
    "            # find its index in capsGeometryArray\n",
    "            index = np.where(capsOrientedGeoArray['Id'] == patchId)\n",
    "            capsOrientedGeoArray['PatchType'][index[0]] = 'inlet'\n",
    "        # If not, then name it 'outlet'\n",
    "        else:\n",
    "            index = np.where(capsOrientedGeoArray['Id'] == patchId)\n",
    "            capsOrientedGeoArray['PatchType'][index[0]] = 'outlet'\n",
    "    else:\n",
    "        print('No extra inlets!')\n",
    "        \n",
    "capsOrientedGeoArray['PatchType']"
   ]
  },
  {
   "cell_type": "code",
   "execution_count": null,
   "metadata": {},
   "outputs": [],
   "source": [
    "# Counting the number of inlets and outlets\n",
    "# using the numpy.unique function: it returns an ndarray with the unique itens of the input array\n",
    "# with the return_counts=True also returns the number of appearance of each item\n",
    "patchTypes, numberOfPatches = np.unique(capsOrientedGeoArray['PatchType'], return_counts=True)\n",
    "\n",
    "# Zip both patchTypes and numberOfPatches and convert to dictionary\n",
    "# with number of inlets and outlets\n",
    "nPatches = dict(zip(patchTypes, numberOfPatches))\n",
    "nPatches"
   ]
  },
  {
   "cell_type": "code",
   "execution_count": null,
   "metadata": {},
   "outputs": [],
   "source": [
    "# Clears object outletBarycenters if exists\n",
    "outletBarycenters = None\n",
    "inletBarycenters = []\n",
    "\n",
    "# create tuples with inlet and outlet barycenters\n",
    "for i in range( len(capsOrientedGeoArray) ):\n",
    "    if capsOrientedGeoArray['PatchType'][i] == 'inlet':\n",
    "        inletBarycenters.append(capsOrientedGeoArray['Center'][i])\n",
    "    else:\n",
    "        # Tye to append outet barycenter, if it cant, then define\n",
    "        # outletBaraycenters with the first outlet \n",
    "        try:\n",
    "            outletBarycenters += capsOrientedGeoArray['Center'][i]\n",
    "        except:\n",
    "            outletBarycenters = capsOrientedGeoArray['Center'][i]\n",
    "            \n",
    "inletBarycenters, outletBarycenters"
   ]
  },
  {
   "cell_type": "code",
   "execution_count": null,
   "metadata": {},
   "outputs": [],
   "source": [
    "# inletBarycenters = [(1.491148829460144, 3.6632299423217773, 13.445119857788086)]\n",
    "# outletBarycenters = (1.625938693905482e-06, -4.1589964894228615e-07, -3.909442057192791e-06,-13.27431869506836, -8.370388984680176, 21.518117904663086,-2.2654712200164795, -8.190746307373047, 24.120887756347656)"
   ]
  },
  {
   "cell_type": "code",
   "execution_count": null,
   "metadata": {},
   "outputs": [],
   "source": [
    "# Computing centerlines\n",
    "# This code computes centerlines for a generic number of inlets\n",
    "# It does that by computing the centerlines for each source barycenter\n",
    "# and then appending the resulting centerlines with 'vmtksurfaceappend'\n",
    "\n",
    "centerlinesList = []\n",
    "\n",
    "for source in inletBarycenters:\n",
    "    # Instantiate vmtkcenterline object\n",
    "    centerlines = vmtkscripts.vmtkCenterlines()\n",
    "    # Surface to be used\n",
    "    centerlines.Surface = surfaceOrientedToMesh.Surface\n",
    "    # centerlines.SurfaceInputFileName = casePath+'surfaces/patches/wall.stl'\n",
    "    # centerlines.IORead()\n",
    "    \n",
    "    # Type of seed selector: by source coordinate 'pointlist' or 'idlist' by list of ids\n",
    "    centerlines.SeedSelectorName = 'pointlist'\n",
    "    centerlines.SourcePoints = source\n",
    "    centerlines.TargetPoints = list(outletBarycenters)\n",
    "    centerlines.CheckNonManifold = 1\n",
    "    centerlines.AppendEndPoints = 1\n",
    "    centerlines.Execute()\n",
    "    centerlinesList.append(centerlines.Centerlines)"
   ]
  },
  {
   "cell_type": "code",
   "execution_count": null,
   "metadata": {},
   "outputs": [],
   "source": [
    "# # Instantiate vmtkcenterline object\n",
    "# centerlines = vmtkscripts.vmtkCenterlines()\n",
    "# # Surface to be used\n",
    "# # centerlines.Surface = surfaceOrientedToMesh.Surface\n",
    "# centerlines.SurfaceInputFileName = surfacesDir+surfaceOrientedFile\n",
    "# centerlines.IORead()\n",
    "\n",
    "# # Type of seed selector: by source coordinate 'pointlist' or 'idlist' by list of ids\n",
    "# #     centerlines.SeedSelectorName = 'pointlist'\n",
    "# #     centerlines.SourcePoints = # source\n",
    "# #     centerlines.TargetPoints = [3.8962182998657227, 0.3059086501598358, 19.750572204589844,-2.712946240990277e-07, -4.236111905697726e-08, -5.046152296017681e-07]#list(outletBarycenters)\n",
    "\n",
    "# centerlines.SeedSelectorName = 'idlist'\n",
    "# centerlines.SourceIds = [3]\n",
    "# centerlines.TargetIds = [4,5,6]#list(outletBarycenters)\n",
    "# centerlines.CheckNonManifold = 1\n",
    "# centerlines.AppendEndPoints = 1\n",
    "# centerlines.Execute()\n",
    "# # centerlinesList.append(centerlines.Centerlines)\n",
    "# viewCenterline(centerlines.Centerlines,None)"
   ]
  },
  {
   "cell_type": "code",
   "execution_count": null,
   "metadata": {},
   "outputs": [],
   "source": [
    "# Provide managing exception if there is only one centerline\n",
    "centerlineMain = centerlinesList[0]\n",
    "centerlineMain"
   ]
  },
  {
   "cell_type": "code",
   "execution_count": null,
   "metadata": {},
   "outputs": [],
   "source": [
    "writeSurface(centerlinesList[0],centerlinesDir+'centerlines.vtp','ascii')"
   ]
  },
  {
   "cell_type": "code",
   "execution_count": null,
   "metadata": {},
   "outputs": [],
   "source": [
    "len(centerlinesList)"
   ]
  },
  {
   "cell_type": "code",
   "execution_count": null,
   "metadata": {},
   "outputs": [],
   "source": [
    "viewCenterline(centerlinesList[0],None)"
   ]
  },
  {
   "cell_type": "code",
   "execution_count": null,
   "metadata": {},
   "outputs": [],
   "source": [
    "if len(centerlinesList) > 1:\n",
    "    for centerline in centerlinesList[1:]:\n",
    "        # Instantiate vmtksurfaceappend object\n",
    "        centerlinesAppend = vmtkscripts.vmtkSurfaceAppend()\n",
    "        centerlinesAppend.Surface = centerlineMain\n",
    "        centerlinesAppend.Surface2 = centerline\n",
    "        centerlinesAppend.Execute()\n",
    "        centerlineMain = centerlinesAppend.Surface\n",
    "    centerlinesAppend.SurfaceOutputFileName = centerlinesDir+centerlineWithoutAneurysm\n",
    "    centerlinesAppend.IOWrite()\n",
    "else:\n",
    "    print('Only one source.')"
   ]
  },
  {
   "cell_type": "code",
   "execution_count": null,
   "metadata": {},
   "outputs": [],
   "source": [
    "distanceToCenterlines = vmtkscripts.vmtkDistanceToCenterlines()\n",
    "\n",
    "# distanceToCenterlines.Surface = surfaceInput\n",
    "distanceToCenterlines.SurfaceInputFileName = surfacesDir+'patches/wall.stl'\n",
    "distanceToCenterlines.IORead()\n",
    "\n",
    "distanceToCenterlines.Centerlines = centerlineMain\n",
    "distanceToCenterlines.UseRadiusInformation = 1\n",
    "distanceToCenterlines.EvaluateTubeFunction = 1\n",
    "distanceToCenterlines.EvaluateCenterlineRadius = 1\n",
    "distanceToCenterlines.ProjectPointArrays = 1\n",
    "distanceToCenterlines.SurfaceOutputFileName = surfacesDir+surfaceDistToCenterlinesFile\n",
    "\n",
    "# Important to remember of the MaximumInscribedSphereRadiusArray !\n",
    "distanceToCenterlines.RadiusArrayName = centerlines.RadiusArrayName\n",
    "\n",
    "# Execute distance to centerlines\n",
    "distanceToCenterlines.Execute()\n",
    "distanceToCenterlines.IOWrite()"
   ]
  },
  {
   "cell_type": "code",
   "execution_count": null,
   "metadata": {},
   "outputs": [],
   "source": [
    "# Aneurysm clipper\n",
    "aneurysmClipper = vmtkscripts.vmtkSurfaceClipper()\n",
    "\n",
    "aneurysmClipper.Surface = distanceToCenterlines.Surface\n",
    "aneurysmClipper.Interactive = 0\n",
    "aneurysmClipper.CleanOutput = 0\n",
    "aneurysmClipper.ClipArrayName = 'DistanceToCenterlines'\n",
    "aneurysmClipper.ClipValue = 1.9\n",
    "aneurysmClipper.SurfaceOutputFileName = surfacesDir+'patches/aneurysmClipped.vtp'\n",
    "aneurysmClipper.ClippedSurfaceOutputFileName = surfacesDir+'patches/surfaceClipped.vtp'\n",
    "# aneurysmClipper.ClipWidget = 'plane'\n",
    "# aneurysmClipper.ClipFunction = 1\n",
    "aneurysmClipper.Execute()\n",
    "aneurysmClipper.IOWrite()\n",
    "\n",
    "# If the chosen level is not enough to extract only the aneurysm, then clip the aneurysm\n",
    "# aneurysm = clipAneurysm(aneurysmClipper.Surface)\n",
    "viewSurface(aneurysmClipper.Surface)"
   ]
  },
  {
   "cell_type": "code",
   "execution_count": null,
   "metadata": {},
   "outputs": [],
   "source": [
    "aneurysm = clipAneurysm(aneurysmClipper.Surface)"
   ]
  },
  {
   "cell_type": "code",
   "execution_count": null,
   "metadata": {},
   "outputs": [],
   "source": [
    "writeSurface(aneurysmClipper.Surface,surfacesDir+'patches/aneurysmClipped.vtp','ascii')"
   ]
  }
 ],
 "metadata": {
  "kernelspec": {
   "display_name": "Python [conda env:vmtk]",
   "language": "python",
   "name": "conda-env-vmtk-py"
  },
  "language_info": {
   "codemirror_mode": {
    "name": "ipython",
    "version": 3
   },
   "file_extension": ".py",
   "mimetype": "text/x-python",
   "name": "python",
   "nbconvert_exporter": "python",
   "pygments_lexer": "ipython3",
   "version": "3.6.1"
  }
 },
 "nbformat": 4,
 "nbformat_minor": 2
}
