{
 "cells": [
  {
   "cell_type": "markdown",
   "metadata": {},
   "source": [
    "# **Extract the Aneurysm Surface**\n",
    "<hr>"
   ]
  },
  {
   "cell_type": "code",
   "execution_count": 1,
   "metadata": {
    "slideshow": {
     "slide_type": "slide"
    }
   },
   "outputs": [],
   "source": [
    "from vmtk import vmtkscripts\n",
    "from vmtk import vmtkrenderer\n",
    "from vmtk import pypes\n",
    "import numpy as np\n",
    "import pandas as pd\n",
    "import os\n",
    "import vtk"
   ]
  },
  {
   "cell_type": "code",
   "execution_count": 8,
   "metadata": {},
   "outputs": [
    {
     "ename": "FileNotFoundError",
     "evalue": "[Errno 2] No such file or directory: '/home/iagolessa/Documents/aneurysms/vmtkScriptsForAneurysms/'",
     "output_type": "error",
     "traceback": [
      "\u001b[0;31m---------------------------------------------------------------------------\u001b[0m",
      "\u001b[0;31mFileNotFoundError\u001b[0m                         Traceback (most recent call last)",
      "\u001b[0;32m<ipython-input-8-629a0ec41e6f>\u001b[0m in \u001b[0;36m<module>\u001b[0;34m()\u001b[0m\n\u001b[1;32m      1\u001b[0m \u001b[0;31m# Change to directory where vmtk_functions and vmtk_filenames are located\u001b[0m\u001b[0;34m\u001b[0m\u001b[0;34m\u001b[0m\u001b[0m\n\u001b[0;32m----> 2\u001b[0;31m \u001b[0mos\u001b[0m\u001b[0;34m.\u001b[0m\u001b[0mchdir\u001b[0m\u001b[0;34m(\u001b[0m\u001b[0;34m'/home/iagolessa/Documents/aneurysms/vmtkScriptsForAneurysms/'\u001b[0m\u001b[0;34m)\u001b[0m\u001b[0;34m\u001b[0m\u001b[0m\n\u001b[0m\u001b[1;32m      3\u001b[0m \u001b[0;34m\u001b[0m\u001b[0m\n\u001b[1;32m      4\u001b[0m \u001b[0;31m# Import the necessary user's modules\u001b[0m\u001b[0;34m\u001b[0m\u001b[0;34m\u001b[0m\u001b[0m\n\u001b[1;32m      5\u001b[0m \u001b[0;32mimport\u001b[0m \u001b[0mvmtk_functions\u001b[0m\u001b[0;34m\u001b[0m\u001b[0m\n",
      "\u001b[0;31mFileNotFoundError\u001b[0m: [Errno 2] No such file or directory: '/home/iagolessa/Documents/aneurysms/vmtkScriptsForAneurysms/'"
     ]
    }
   ],
   "source": [
    "# Change to directory where vmtk_functions and vmtk_filenames are located\n",
    "os.chdir('/home/iagolessa/Documents/aneurysms/vmtkScriptsForAneurysms/')\n",
    "\n",
    "# Import the necessary user's modules\n",
    "import vmtk_functions\n",
    "from vmtk_filenames import *\n",
    "\n",
    "# Change it back\n",
    "os.chdir('/home/iagolessa')"
   ]
  },
  {
   "cell_type": "code",
   "execution_count": 3,
   "metadata": {
    "collapsed": true
   },
   "outputs": [
    {
     "name": "stdout",
     "output_type": "stream",
     "text": [
      "Files saved to: /home/iagolessa/Documents/aneurysms/geometries/vrCases/vmtkReconstruction/55_MLF/\n"
     ]
    }
   ],
   "source": [
    "# Path to save the generated files when extracting the surface\n",
    "# We reccomend to separate it from the DICOM original dir. \n",
    "# Note that inside casePath, this code will create different sub-directories to store different data types\n",
    "casePath = '/home/iagolessa/Documents/aneurysms/geometries/vrCases/vmtkReconstruction/55_MLF/'\n",
    "# Define subdirs\n",
    "imagesDir       = casePath+'images/'\n",
    "surfacesDir     = casePath+'surfaces/'\n",
    "centerlinesDir  = casePath+'centerlines/'\n",
    "meshesDir       = casePath+'meshes/'\n",
    "parentVesselDir = casePath+\"parentVessel/\"\n",
    "\n",
    "print('Files saved to:', casePath)"
   ]
  },
  {
   "cell_type": "code",
   "execution_count": 4,
   "metadata": {},
   "outputs": [
    {
     "name": "stdout",
     "output_type": "stream",
     "text": [
      "Reading STL surface file.\n",
      "Quit renderer\n"
     ]
    }
   ],
   "source": [
    "# # Reading the input surface\n",
    "surfaceInput = vmtk_functions.readSurface(surfacesDir+'patches/wall.stl')\n",
    "vmtk_functions.viewSurface(surfaceInput)"
   ]
  },
  {
   "cell_type": "markdown",
   "metadata": {},
   "source": [
    "<hr>\n",
    "\n",
    "# **Extracting the aneurysm surface**\n",
    "\n",
    "I use this notebook to try out a class to extract an aneurysm surface from an input surface segmented from an image.\n",
    "The following cell contains the class itself how it is buid today as vmtkextractaneurysm.py\n",
    "\n",
    "The other cells contains tests of it."
   ]
  },
  {
   "cell_type": "code",
   "execution_count": 2,
   "metadata": {},
   "outputs": [],
   "source": [
    "# %%writefile vmtkextractaneurysm.py\n",
    "#! /usr/bin/env python\n",
    "\n",
    "# Creating Python Class to handle aneurysms operations\n",
    "# My idea is to expand this class in the future: \n",
    "# extract the aneyurysm and calculate other geometric parameters\n",
    "import sys\n",
    "import vtk\n",
    "\n",
    "from vmtk import vmtkscripts\n",
    "from vmtk import vmtkrenderer\n",
    "from vmtk import pypes\n",
    "\n",
    "\n",
    "vmtkextractaneurysm = 'vmtkExtractAneurysm'\n",
    "\n",
    "class vmtkExtractAneurysm(pypes.pypeScript):\n",
    "    \n",
    "    # Constructor\n",
    "    def __init__(self):\n",
    "        # Calls base class constructor\n",
    "        # Extend constructor\n",
    "        pypes.pypeScript.__init__(self)\n",
    "        \n",
    "        self.Surface       = None\n",
    "        self.AneurysmType  = None\n",
    "        self.ManualMode    = True\n",
    "        self.vmtkRenderer  = None\n",
    "        self.OwnRenderer   = 0\n",
    "        self.AneurysmSurface = None\n",
    "        \n",
    "        self.Actor = None\n",
    "        self.InsideValue   = 0.0\n",
    "        self.FillValue     = 1.0\n",
    "        self.ContourWidget = None\n",
    "        self.Interpolator  = None\n",
    "        self.ContourScalarsArrayName = 'ContourScalars'\n",
    "        \n",
    "        self.SetScriptName('vmtkextractaneurysm')\n",
    "        self.SetScriptDoc('extract aneurysm from surface and compute geometric data.')\n",
    "        \n",
    "        self.SetInputMembers([\n",
    "            ['Surface', \n",
    "             'i', 'vtkPolyData', 1, \n",
    "             '', \n",
    "             'the input surface', \n",
    "             'vmtksurfacereader'],\n",
    "            ['AneurysmType', \n",
    "             'type', 'str', 1, \n",
    "             ['lateral', 'terminal'], \n",
    "             'aneurysm type'],\n",
    "            ['ManualMode', \n",
    "             'manual', 'bool', 1, \n",
    "             '', \n",
    "             'enable manual mode (works for both types, however is mandatory for terminal case)']\n",
    "        ])\n",
    "        \n",
    "        self.SetOutputMembers([\n",
    "            ['AneurysmSurface', \n",
    "             'o', \n",
    "             'vtkPolyData', \n",
    "             1, \n",
    "             '', \n",
    "             'the output surface of only the aneurysm surface', \n",
    "             'vmtksurfacereader'],\n",
    "        ])\n",
    "    \n",
    "    def SmoothArray(self):\n",
    "        # Change it here to get it local\n",
    "        arraySmoother = vmtkscripts.vmtkSurfaceArraySmoothing()\n",
    "        arraySmoother.Surface = self.Surface\n",
    "        arraySmoother.SurfaceArrayName = self.ContourScalarsArrayName\n",
    "        \n",
    "        # General options\n",
    "        arraySmoother.Connexity = 1\n",
    "        arraySmoother.Relaxation = 1.0\n",
    "        arraySmoother.Iterations = 15\n",
    "        arraySmoother.Execute()\n",
    "        \n",
    "        self.Surface = arraySmoother.Surface\n",
    "        \n",
    "        \n",
    "    def DeleteContourCallback(self, obj):\n",
    "        self.ContourWidget.Initialize()\n",
    "\n",
    "\n",
    "    def InteractCallback(self, obj):\n",
    "        if self.ContourWidget.GetEnabled() == 1:\n",
    "            self.ContourWidget.SetEnabled(0)\n",
    "        else:\n",
    "            self.ContourWidget.SetEnabled(1)\n",
    "\n",
    "\n",
    "    def Display(self):\n",
    "        self.vmtkRenderer.Render()\n",
    "\n",
    "\n",
    "    def StartRepresentation(self):\n",
    "        # Define contour field on surface\n",
    "        contourScalars = vtk.vtkDoubleArray()\n",
    "        contourScalars.SetNumberOfComponents(1)\n",
    "        contourScalars.SetNumberOfTuples(self.Surface.GetNumberOfPoints())\n",
    "        contourScalars.SetName(self.ContourScalarsArrayName)\n",
    "        contourScalars.FillComponent(0,self.FillValue)\n",
    "\n",
    "\t\t# Add array to surface\n",
    "        self.Surface.GetPointData().AddArray(contourScalars)\n",
    "        self.Surface.GetPointData().SetActiveScalars(self.ContourScalarsArrayName)\n",
    "\n",
    "\t\t# Create mapper and actor to scene\n",
    "        self.mapper = vtk.vtkPolyDataMapper()\n",
    "        self.mapper.SetInputData(self.Surface)\n",
    "        self.mapper.ScalarVisibilityOn()\n",
    "\n",
    "        self.Actor = vtk.vtkActor()\n",
    "        self.Actor.SetMapper(self.mapper)\n",
    "        self.Actor.GetMapper().SetScalarRange(-1.0,0.0)\n",
    "        self.vmtkRenderer.Renderer.AddActor(self.Actor)\n",
    "\n",
    "\t\t# Create representation to draw contour\n",
    "        self.ContourWidget = vtk.vtkContourWidget()\n",
    "        self.ContourWidget.SetInteractor(self.vmtkRenderer.RenderWindowInteractor)\n",
    "\n",
    "        rep = vtk.vtkOrientedGlyphContourRepresentation.SafeDownCast(self.ContourWidget.GetRepresentation())\n",
    "        rep.GetLinesProperty().SetColor(1, 0.2, 0)\n",
    "        rep.GetLinesProperty().SetLineWidth(3.0)\n",
    "\n",
    "        pointPlacer = vtk.vtkPolygonalSurfacePointPlacer()\n",
    "        pointPlacer.AddProp(self.Actor)\n",
    "        pointPlacer.GetPolys().AddItem(self.Surface)\n",
    "        rep.SetPointPlacer(pointPlacer)\n",
    "\n",
    "        self.Interpolator = vtk.vtkPolygonalSurfaceContourLineInterpolator()\n",
    "        self.Interpolator.GetPolys().AddItem(self.Surface)\n",
    "        rep.SetLineInterpolator(self.Interpolator)\n",
    "\n",
    "        self.vmtkRenderer.AddKeyBinding('i', \n",
    "                                        'Start interaction: select aneurysm neck', \n",
    "                                        self.InteractCallback)\n",
    "        self.vmtkRenderer.AddKeyBinding('space', \n",
    "                                        'Clip aneurysm surface', \n",
    "                                        self.ClipAneurysmManual)\n",
    "        self.vmtkRenderer.AddKeyBinding('d', \n",
    "                                        'Delete contour', \n",
    "                                        self.DeleteContourCallback)\n",
    "        self.Display()\n",
    "       \n",
    "\n",
    "    def ClipAneurysmManual(self, obj):\n",
    "        \"\"\" \n",
    "            Interactively select the aneurysm neck to be clipped.\n",
    "            Obviously, works with both aneurysms types.\n",
    "        \"\"\"\n",
    "        rep = vtk.vtkOrientedGlyphContourRepresentation.SafeDownCast(self.ContourWidget.GetRepresentation())\n",
    "\t\t\n",
    "\t\t# Get contour point of closed path\n",
    "        pointIds = vtk.vtkIdList()\n",
    "        self.Interpolator.GetContourPointIds(rep,pointIds)\n",
    "\n",
    "        points = vtk.vtkPoints()\n",
    "        points.SetNumberOfPoints(pointIds.GetNumberOfIds())\n",
    "\n",
    "        for i in range(pointIds.GetNumberOfIds()):\n",
    "            pointId = pointIds.GetId(i)\n",
    "            point = self.Surface.GetPoint(pointId)\n",
    "            points.SetPoint(i,point)\n",
    "\n",
    "\t\t# Create array on closed contour \n",
    "        selectionFilter = vtk.vtkSelectPolyData()\n",
    "        selectionFilter.SetInputData(self.Surface)\n",
    "        selectionFilter.SetLoop(points)\n",
    "        selectionFilter.GenerateSelectionScalarsOn() \n",
    "        selectionFilter.SetSelectionModeToSmallestRegion() # AHA! smallest region!\n",
    "        selectionFilter.Update()\n",
    "\n",
    "\t\t# Get scalars from selection filter\n",
    "        selectionScalars = selectionFilter.GetOutput().GetPointData().GetScalars()\n",
    "\n",
    "\t\t# Get scalars defined on surface\n",
    "        contourScalars = self.Surface.GetPointData().GetArray(self.ContourScalarsArrayName)\n",
    "\n",
    "\t\t# Update field on surface to include closed region with InsideValue\n",
    "        for i in range(contourScalars.GetNumberOfTuples()):\n",
    "            selectionValue = selectionScalars.GetTuple1(i)\n",
    "\n",
    "            if selectionValue < 0.0:\n",
    "                contourScalars.SetTuple1(i,self.InsideValue)\n",
    "\n",
    "        self.Actor.GetMapper().SetScalarRange(contourScalars.GetRange(0))\n",
    "        self.Surface.Modified()\n",
    "        \n",
    "        self.vmtkRenderer.InputInfo('Clipping aneurysm...')\n",
    "        self.SmoothArray()\n",
    "        \n",
    "\t\t# Clip surface on ContourScalars field\n",
    "        self.clipper = vtk.vtkClipPolyData()\n",
    "        self.clipper.SetInputData(self.Surface)\n",
    "        self.clipper.GenerateClippedOutputOn()\t\n",
    "        self.Surface.GetPointData().SetActiveScalars(self.ContourScalarsArrayName)\n",
    "        self.clipper.GenerateClipScalarsOff()\n",
    "        \n",
    "\t\t# Clip value for generated field (mid value)\n",
    "        clipValue = 0.5*(self.FillValue + self.InsideValue)\n",
    "        self.clipper.SetValue(clipValue)\n",
    "        self.clipper.Update()\n",
    "        \n",
    "        # Update mapper\n",
    "        self.mapper.SetInputData(self.clipper.GetClippedOutput())\n",
    "        self.mapper.ScalarVisibilityOn()\n",
    "        self.mapper.Update()\n",
    "        \n",
    "        # Update scene\n",
    "        self.Actor = vtk.vtkActor()\n",
    "        self.Actor.SetMapper(self.mapper)\n",
    "        self.Actor.GetMapper().SetScalarRange(-1.0, 0.0)\n",
    "        self.Actor.Modified()\n",
    "        \n",
    "        # Get output\n",
    "        self.AneurysmSurface = self.clipper.GetClippedOutput()\n",
    "        self.vmtkRenderer.RemoveKeyBinding('i')\n",
    "        self.vmtkRenderer.RemoveKeyBinding('space')\n",
    "        self.vmtkRenderer.RemoveKeyBinding('d')\n",
    "        \n",
    "        self.ContourWidget.Initialize()\n",
    "        \n",
    "        volume = self.Volume()\n",
    "        surfaceArea = self.SurfaceArea()\n",
    "        self.vmtkRenderer.InputInfo('Done.\\n'\n",
    "                                    'Aneurysm volume = '+str(round(volume,2))+' mm3\\n'\n",
    "                                    'Surface area = '+str(round(surfaceArea,2))+' mm2\\n'\n",
    "                                    'Press q to exit')\n",
    "        \n",
    "        \n",
    "    def ClipLateralAneurysm(self):\n",
    "        \"\"\"\n",
    "        Function to automatically clip lateral aneurysm.\n",
    "        Works internally by using the DistanceToCenterlines array\n",
    "        and the clip by array function; the inlet used to calculate\n",
    "        the model centerline is defined as the patch with \n",
    "        largest radius.\n",
    "        \"\"\"\n",
    "        \n",
    "        # Get surface inlet and outlet patches' reference systems\n",
    "        surfaceRefSystem = vmtkscripts.vmtkBoundaryReferenceSystems()\n",
    "        surfaceRefSystem.Surface = self.Surface\n",
    "        surfaceRefSystem.Execute()\n",
    "\n",
    "        # Store patch info in python dictionary using vmtksurfacetonumpy\n",
    "        vmtkToNumpy = vmtkscripts.vmtkSurfaceToNumpy()\n",
    "        vmtkToNumpy.Surface = surfaceRefSystem.ReferenceSystems\n",
    "        vmtkToNumpy.Execute()\n",
    "        dictPatchData = vmtkToNumpy.ArrayDict\n",
    "        \n",
    "        # Get inlet by maximum radius condition\n",
    "        # ~~~~\n",
    "        # Get max radius and its index\n",
    "        maxRadius = max(dictPatchData['PointData']['BoundaryRadius'])\n",
    "        index,    = np.where( dictPatchData['PointData']['BoundaryRadius'] == maxRadius )\n",
    "        inletBarycenterArray = dictPatchData['Points'][int(index)]\n",
    "\n",
    "        # Build condition array where centers are not equal to inlet center\n",
    "        # therefore, outlet centers\n",
    "        notInlet = (dictPatchData['Points'] != inletBarycenterArray)\n",
    "        \n",
    "        # Inlet and outlet centers\n",
    "        inletBarycenters  = dictPatchData['Points'][int(index)].tolist()\n",
    "        outletBarycenters = np.extract(notInlet, dictPatchData['Points']).tolist()\n",
    "\n",
    "        # Computing centerlines\n",
    "        centerlines = vmtkscripts.vmtkCenterlines()\n",
    "        centerlines.Surface = self.Surface\n",
    "        centerlines.SeedSelectorName = 'pointlist'\n",
    "        centerlines.SourcePoints     = inletBarycenters\n",
    "        centerlines.TargetPoints     = outletBarycenters\n",
    "        centerlines.Execute()\n",
    "\n",
    "        # Check if centerline is ok\n",
    "        vmtk_functions.viewCenterline(centerlines.Centerlines,None)\n",
    "        surfaceViewer = vmtkscripts.vmtkSurfaceViewer()\n",
    "        surfaceViewer.Surface = self.Surface\n",
    "        surfaceViewer.Opacity = 0.3\n",
    "        surfaceViewer.Execute()\n",
    "        \n",
    "        # Multiply radius by a constant\n",
    "        arrayOperation = vmtkscripts.vmtkSurfaceArrayOperation()\n",
    "        arrayOperation.Surface   = centerlines.Centerlines\n",
    "        arrayOperation.Operation = 'multiplybyc'\n",
    "        arrayOperation.Constant  = 1.25\n",
    "        arrayOperation.InputArrayName  = centerlines.RadiusArrayName\n",
    "        arrayOperation.ResultArrayName = 'ModifiedRadius' #centerlines.RadiusArrayName\n",
    "        arrayOperation.Execute()\n",
    "\n",
    "        # Calculate distance to centerlines array\n",
    "        distanceToCenterlines = vmtkscripts.vmtkDistanceToCenterlines()\n",
    "        distanceToCenterlines.Surface     = centerlines.Surface\n",
    "        distanceToCenterlines.Centerlines = arrayOperation.Surface\n",
    "        distanceToCenterlines.UseRadiusInformation = 1\n",
    "        distanceToCenterlines.EvaluateTubeFunction = 1\n",
    "        distanceToCenterlines.ProjectPointArrays   = 1\n",
    "        distanceToCenterlines.EvaluateCenterlineRadius = 1\n",
    "        # Important to remember of the MaximumInscribedSphereRadiusArray !\n",
    "        distanceToCenterlines.RadiusArrayName = arrayOperation.ResultArrayName\n",
    "        # Execute distance to centerlines\n",
    "        distanceToCenterlines.Execute()\n",
    "        \n",
    "        # Aneurysm clipper\n",
    "        aneurysmClipper = vmtkscripts.vmtkSurfaceClipper()\n",
    "        aneurysmClipper.Surface = distanceToCenterlines.Surface\n",
    "        aneurysmClipper.Interactive = False\n",
    "        aneurysmClipper.CleanOutput = True\n",
    "        aneurysmClipper.ClipValue   = 0.0\n",
    "        aneurysmClipper.ClipArrayName = distanceToCenterlines.DistanceToCenterlinesArrayName\n",
    "        aneurysmClipper.Execute()\n",
    "\n",
    "        surfaceConnect = vmtkscripts.vmtkSurfaceConnectivity()\n",
    "        surfaceConnect.Surface = aneurysmClipper.Surface\n",
    "        surfaceConnect.Execute()\n",
    "        \n",
    "        self.AneurysmSurface = surfaceConnect.Surface\n",
    "\n",
    "        \n",
    "    def Volume(self):\n",
    "        \"\"\"Calculate volume and area of surface\"\"\"\n",
    "        getProperties = vmtkscripts.vmtkSurfaceMassProperties()\n",
    "        getProperties.Surface = self.AneurysmSurface\n",
    "        getProperties.Execute()\n",
    "        \n",
    "        #aneurysmMassProperties.SurfaceArea)+' mm2')\n",
    "        return getProperties.Volume\n",
    "    \n",
    "    \n",
    "    def SurfaceArea(self):\n",
    "        \"\"\"Calculate volume and area of surface\"\"\"\n",
    "        getProperties = vmtkscripts.vmtkSurfaceMassProperties()\n",
    "        getProperties.Surface = self.AneurysmSurface\n",
    "        getProperties.Execute()\n",
    "        \n",
    "        return getProperties.SurfaceArea\n",
    "\n",
    "    \n",
    "    def ShowAneurysm(self):\n",
    "        aneurysmViewer = vmtkscripts.vmtkSurfaceViewer()\n",
    "        aneurysmViewer.Surface = self.AneurysmSurface\n",
    "        aneurysmViewer.Execute()\n",
    "    \n",
    "    def Execute(self):\n",
    "        if self.Surface == None:\n",
    "            self.PrintError('Error: no Surface.')\n",
    "\n",
    "        # Initialize renderer\n",
    "        if not self.vmtkRenderer:\n",
    "            self.vmtkRenderer = vmtkrenderer.vmtkRenderer()\n",
    "            self.vmtkRenderer.Initialize()\n",
    "            self.OwnRenderer = 1\n",
    "\n",
    "        self.vmtkRenderer.RegisterScript(self) \n",
    "\n",
    "        # Filter input surface\n",
    "        triangleFilter = vtk.vtkTriangleFilter()\n",
    "        triangleFilter.SetInputData(self.Surface)\n",
    "        triangleFilter.Update()\n",
    "        \n",
    "        # Removed connectivty filter because it conflicted with \n",
    "        # array smoothin gprocedure\n",
    "#         connectivityFilter = vtk.vtkPolyDataConnectivityFilter()\n",
    "#         connectivityFilter.SetInputData(triangleFilter.GetOutput())\n",
    "#         connectivityFilter.ColorRegionsOff()\n",
    "#         connectivityFilter.SetExtractionModeToLargestRegion()\n",
    "#         connectivityFilter.Update()\n",
    "        \n",
    "        self.Surface = triangleFilter.GetOutput()\n",
    "        \n",
    "        \n",
    "        if self.AneurysmType == 'terminal' or self.ManualMode:\n",
    "            # Start representation and manually clip aneurysm\n",
    "            self.StartRepresentation()\n",
    "            \n",
    "        elif self.AneurysmType == 'lateral' and not self.ManualMode:\n",
    "            self.ClipLateralAneurysm()\n",
    "        \n",
    "        else:\n",
    "            self.PrintError('Aneurysm type not recognized.')\n",
    "            \n",
    "                        \n",
    "        if self.OwnRenderer:\n",
    "            self.vmtkRenderer.Deallocate() \n",
    "\n",
    "# When saved as a script.\n",
    "# if __name__ == '__main__':\n",
    "#     main = pypes.pypeMain()\n",
    "#     main.Arguments = sys.argv\n",
    "#     main.Execute()"
   ]
  },
  {
   "cell_type": "code",
   "execution_count": 92,
   "metadata": {},
   "outputs": [],
   "source": [
    "casesPath = '/home/iagolessa/Documents/aneurysms/geometries/einsteinCases/unrupturedCases/vmtkReconstruction/'\n",
    "myList = os.listdir(casesPath)\n",
    "myList.sort()"
   ]
  },
  {
   "cell_type": "code",
   "execution_count": 96,
   "metadata": {},
   "outputs": [],
   "source": [
    "myList"
   ]
  },
  {
   "cell_type": "code",
   "execution_count": 97,
   "metadata": {},
   "outputs": [],
   "source": [
    "aneurysmData = []\n",
    "for case in myList:\n",
    "    surfaceFile = casesPath+case+'/surfaces/patches/wall.stl'\n",
    "    print(surfaceFile)\n",
    "    if os.path.isfile(surfaceFile):\n",
    "        "
   ]
  },
  {
   "cell_type": "code",
   "execution_count": 97,
   "metadata": {},
   "outputs": [],
   "source": [
    "surfaceProperties = vmtkscripts.vmtkSurfaceMassProperties()\n",
    "surfaceProperties.SurfaceInputFileName = casessurfaceFile\n",
    "surfaceProperties.IORead()\n",
    "surfaceProperties.Execute()"
   ]
  },
  {
   "cell_type": "code",
   "execution_count": 97,
   "metadata": {},
   "outputs": [
    {
     "name": "stdout",
     "output_type": "stream",
     "text": [
      "/home/iagolessa/Documents/aneurysms/geometries/einsteinCases/unrupturedCases/vmtkReconstruction/case14/surfaces/patches/wall.stl\n",
      "Reading STL surface file.\n",
      "Clipping aneurysm...Done.\n",
      "Aneurysm volume = 194.23 mm3\n",
      "Surface area = 158.09 mm2\n",
      "Press q to exitQuit renderer\n"
     ]
    }
   ],
   "source": [
    "aneurysmClipper = vmtkExtractAneurysm()\n",
    "aneurysmClipper.Surface = surfaceProperties.Surface\n",
    "aneurysmClipper.AneurysmType = 'terminal'\n",
    "aneurysmClipper.ManualMode = True\n",
    "#         aneurysmClipper.PrintInputMembers()\n",
    "aneurysmClipper.Execute()\n",
    "#         aneurysmClipper.PrintOutputMembers()\n",
    "\n",
    "# aneurysmData.append([case, surfaceProperties.SurfaceArea, surfaceProperties.Volume, aneurysmClipper.SurfaceArea(), aneurysmClipper.Volume()])"
   ]
  },
  {
   "cell_type": "code",
   "execution_count": 95,
   "metadata": {},
   "outputs": [],
   "source": [
    "data = pd.DataFrame(aneurysmData)\n",
    "data.columns = ['Case', 'Surface area', 'Volume', 'Aneurysm surface area', 'Aneurysm volume']\n",
    "data.to_csv(casesPath+'aneurysmData.csv')"
   ]
  },
  {
   "cell_type": "code",
   "execution_count": null,
   "metadata": {},
   "outputs": [],
   "source": [
    "surfaceRefSystem = vmtkscripts.vmtkBoundaryReferenceSystems()\n",
    "\n",
    "surfaceRefSystem.Surface = surfaceInput\n",
    "surfaceRefSystem.ReferenceSystemsOutputFileName = surfacesDir+'refSystem.dat'\n",
    "surfaceRefSystem.PrintInputMembers()\n",
    "surfaceRefSystem.Execute()\n",
    "surfaceRefSystem.IOWrite()\n",
    "surfaceRefSystem.PrintOutputMembers()\n",
    "\n",
    "# Store patch info in python dictionary using vmtksurfacetonumpy\n",
    "vmtkToNumpy = vmtkscripts.vmtkSurfaceToNumpy()\n",
    "vmtkToNumpy.Surface = surfaceRefSystem.ReferenceSystems\n",
    "vmtkToNumpy.Execute()\n",
    "\n",
    "dictPatchData = vmtkToNumpy.ArrayDict\n",
    "dictPatchData\n",
    "\n",
    "maxRadius = max(dictPatchData['PointData']['BoundaryRadius'])\n",
    "index, = np.where( dictPatchData['PointData']['BoundaryRadius'] == maxRadius )\n",
    "inletBarycenterArray = dictPatchData['Points'][int(index)]\n",
    "\n",
    "inletBarycenters = dictPatchData['Points'][int(index)].tolist()\n",
    "\n",
    "\n",
    "# Build condition array where centers are not equal to inlet center\n",
    "# therefore, outlet centers\n",
    "notInlet = (dictPatchData['Points'] != inletBarycenterArray)\n",
    "outletBarycenters = np.extract(notInlet, dictPatchData['Points']).tolist()\n",
    "\n",
    "\n",
    "inletBarycenters, outletBarycenters\n",
    "\n",
    "# Computing centerlines\n",
    "# This code computes centerlines for a generic number of inlets\n",
    "# It does that by computing the centerlines for each source barycenter\n",
    "# and then appending the resulting centerlines with 'vmtksurfaceappend'\n",
    "\n",
    "# centerlinesList = []\n",
    "\n",
    "# for source in inletBarycenters:\n",
    "# Instantiate vmtkcenterline object\n",
    "centerlines = vmtkscripts.vmtkCenterlines()\n",
    "# Surface to be used\n",
    "centerlines.Surface = surfaceInput\n",
    "\n",
    "# Type of seed selector: by source coordinate 'pointlist' or 'idlist' by list of ids\n",
    "centerlines.SeedSelectorName = 'pointlist'\n",
    "centerlines.SourcePoints = inletBarycenters\n",
    "centerlines.TargetPoints = outletBarycenters\n",
    "# centerlines.CheckNonManifold = 1\n",
    "# centerlines.AppendEndPoints = False\n",
    "centerlines.PrintInputMembers()\n",
    "centerlines.Execute()\n",
    "centerlines.PrintOutputMembers()\n",
    "# centerlinesList.append(centerlines.Centerlines)\n",
    "\n",
    "centerlines.CenterlinesOutputFileName = centerlinesDir+'centerlines.vtp'\n",
    "centerlines.IOWrite()\n",
    "\n",
    "vmtk_functions.viewCenterline(centerlines.Centerlines,None)\n",
    "\n",
    "    \n",
    "# Provide managing exception if there is only one centerline\n",
    "# centerlineMain = centerlinesList[0]\n",
    "# centerlineMain\n",
    "\n",
    "# if len(centerlinesList) > 1:\n",
    "#     for centerline in centerlinesList[1:]:\n",
    "#         # Instantiate vmtksurfaceappend object\n",
    "#         centerlinesAppend = vmtkscripts.vmtkSurfaceAppend()\n",
    "#         centerlinesAppend.Surface = centerlineMain\n",
    "#         centerlinesAppend.Surface2 = centerline\n",
    "#         centerlinesAppend.Execute()\n",
    "#         centerlineMain = centerlinesAppend.Surface\n",
    "# else:\n",
    "#     print('Only one source.')\n",
    "\n",
    "\n",
    "arrayOperation = vmtkscripts.vmtkSurfaceArrayOperation()\n",
    "\n",
    "arrayOperation.Surface = centerlines.Centerlines\n",
    "# arrayOperation.Surface2 = centerlines.Surface\n",
    "arrayOperation.Operation = 'multiplybyc'\n",
    "arrayOperation.Constant = 1.25\n",
    "arrayOperation.InputArrayName = centerlines.RadiusArrayName\n",
    "arrayOperation.ResultArrayName = centerlines.RadiusArrayName\n",
    "\n",
    "arrayOperation.PrintInputMembers()\n",
    "arrayOperation.Execute()\n",
    "arrayOperation.PrintOutputMembers()\n",
    "\n",
    "\n",
    "centerlineToNumpy =  vmtkscripts.vmtkCenterlinesToNumpy()\n",
    "\n",
    "centerlineToNumpy.Centerlines = centerlines.Centerlines\n",
    "centerlineToNumpy.Execute()\n",
    "centerlineToNumpy.PrintInputMembers()\n",
    "centerlineToNumpy.PrintOutputMembers()\n",
    "\n",
    "centerlineDict = centerlineToNumpy.ArrayDict\n",
    "centerlineDict['PointData'].keys()\n",
    "\n",
    "\n",
    "\n",
    "distanceToCenterlines = vmtkscripts.vmtkDistanceToCenterlines()\n",
    "\n",
    "# distanceToCenterlines.Surface = surfaceInput\n",
    "distanceToCenterlines.Surface = centerlines.Surface\n",
    "\n",
    "distanceToCenterlines.Centerlines = arrayOperation.Surface\n",
    "distanceToCenterlines.UseRadiusInformation = 1\n",
    "distanceToCenterlines.EvaluateTubeFunction = 1\n",
    "distanceToCenterlines.EvaluateCenterlineRadius = 1\n",
    "distanceToCenterlines.ProjectPointArrays = 1\n",
    "# Important to remember of the MaximumInscribedSphereRadiusArray !\n",
    "distanceToCenterlines.RadiusArrayName = arrayOperation.ResultArrayName #centerlines.RadiusArrayName\n",
    "# Execute distance to centerlines\n",
    "distanceToCenterlines.Execute()\n",
    "\n",
    "distanceToCenterlines.PrintInputMembers()\n",
    "distanceToCenterlines.PrintOutputMembers()\n",
    "\n",
    "\n",
    "\n",
    "surfaceViewer = vmtkscripts.vmtkSurfaceViewer()\n",
    "surfaceViewer.Surface = distanceToCenterlines.Surface\n",
    "surfaceViewer.ArrayName = distanceToCenterlines.DistanceToCenterlinesArrayName\n",
    "surfaceViewer.Legend = 1\n",
    "surfaceViewer.Execute()\n",
    "\n",
    "\n",
    "\n",
    "# Aneurysm clipper\n",
    "aneurysmClipper = vmtkscripts.vmtkSurfaceClipper()\n",
    "\n",
    "aneurysmClipper.Surface = distanceToCenterlines.Surface\n",
    "aneurysmClipper.Interactive = 0\n",
    "aneurysmClipper.CleanOutput = 0\n",
    "aneurysmClipper.ClipArrayName = distanceToCenterlines.DistanceToCenterlinesArrayName #'DistanceToCenterlines'\n",
    "aneurysmClipper.ClipValue = 0.0\n",
    "\n",
    "aneurysmClipper.Execute()\n",
    "aneurysmClipper.IOWrite()\n",
    "\n",
    "surfaceConnect = vmtkscripts.vmtkSurfaceConnectivity()\n",
    "surfaceConnect.Surface = aneurysmClipper.Surface\n",
    "surfaceConnect.Execute()\n",
    "vmtk_functions.viewSurface(surfaceConnect.Surface)"
   ]
  },
  {
   "cell_type": "code",
   "execution_count": 5,
   "metadata": {},
   "outputs": [
    {
     "name": "stdout",
     "output_type": "stream",
     "text": [
      "Reading VTK XML surface file.\n",
      "Output vmtksurfacetriangle members:\n",
      "    Id = 0\n",
      "    Surface = vtkPolyData\n"
     ]
    }
   ],
   "source": [
    "pathToFoamCase = \"/home/iagolessa/foam/iagolessa-4.0/run/aneurysms/unruptured/fluidFlow/Casson/case17/\" \n",
    "outputFileName = pathToFoamCase+\"OSI.vtp\"\n",
    "\n",
    "triangulate = vmtkscripts.vmtkSurfaceTriangle()\n",
    "triangulate.SurfaceInputFileName = outputFileName\n",
    "triangulate.IORead()\n",
    "triangulate.Execute()\n",
    "triangulate.PrintOutputMembers()"
   ]
  },
  {
   "cell_type": "code",
   "execution_count": 57,
   "metadata": {},
   "outputs": [
    {
     "name": "stdout",
     "output_type": "stream",
     "text": [
      "Clipping aneurysm...Done.\n",
      "Aneurysm volume = 0.0 mm3\n",
      "Surface area = 0.0 mm2\n",
      "Press q to exitQuit renderer\n"
     ]
    }
   ],
   "source": [
    "aneurysmClipper = vmtkExtractAneurysm()\n",
    "aneurysmClipper.Surface = triangulate.Surface\n",
    "aneurysmClipper.AneurysmType = 'terminal'\n",
    "aneurysmClipper.ManualMode = True\n",
    "#         aneurysmClipper.PrintInputMembers()\n",
    "aneurysmClipper.Execute()\n",
    "#         aneurysmClipper.PrintOutputMembers()\n",
    "\n",
    "# aneurysmData.append([case, surfaceProperties.SurfaceArea, surfaceProperties.Volume, aneurysmClipper.SurfaceArea(), aneurysmClipper.Volume()])"
   ]
  },
  {
   "cell_type": "code",
   "execution_count": 60,
   "metadata": {},
   "outputs": [
    {
     "data": {
      "text/plain": [
       "<bound method vmtkExtractAneurysm.ShowAneurysm of <__main__.vmtkExtractAneurysm object at 0x7fe91f7cacc0>>"
      ]
     },
     "execution_count": 60,
     "metadata": {},
     "output_type": "execute_result"
    }
   ],
   "source": [
    "aneurysmClipper.ShowAneurysm# = \"/home/iagolessa/foam/iagolessa-4.0/run/aneurysms/unruptured/fluidFlow/Casson/case17/aneurysm.stl\"\n",
    "# aneurysmClipper.IOWrite()"
   ]
  },
  {
   "cell_type": "code",
   "execution_count": 61,
   "metadata": {},
   "outputs": [
    {
     "name": "stdout",
     "output_type": "stream",
     "text": [
      "Quit renderer\n"
     ]
    }
   ],
   "source": [
    "viewer = vmtkscripts.vmtkSurfaceViewer()\n",
    "viewer.Surface = aneurysmClipper.AneurysmSurface\n",
    "viewer.Execute()"
   ]
  },
  {
   "cell_type": "code",
   "execution_count": 63,
   "metadata": {},
   "outputs": [
    {
     "name": "stdout",
     "output_type": "stream",
     "text": [
      "Writing VTK XML surface file.\n"
     ]
    }
   ],
   "source": [
    "writer = vmtkscripts.vmtkSurfaceWriter()\n",
    "writer.Surface = aneurysmClipper.AneurysmSurface\n",
    "writer.OutputFileName = pathToFoamCase+'aneurysm.vtp'\n",
    "writer.Execute()"
   ]
  },
  {
   "cell_type": "code",
   "execution_count": 64,
   "metadata": {},
   "outputs": [
    {
     "data": {
      "text/plain": [
       "1.230666279328999e-07"
      ]
     },
     "execution_count": 64,
     "metadata": {},
     "output_type": "execute_result"
    }
   ],
   "source": [
    "properties = vmtkscripts.vmtkSurfaceMassProperties()\n",
    "properties.Surface = aneurysmClipper.AneurysmSurface\n",
    "properties.Execute()\n",
    "properties.Volume"
   ]
  },
  {
   "cell_type": "code",
   "execution_count": 65,
   "metadata": {},
   "outputs": [
    {
     "name": "stdout",
     "output_type": "stream",
     "text": [
      "wrapping vtkPolyData object\n",
      "converting cell data: \n",
      "OSI\n",
      "wallShearComponent_average\n",
      "wallShearComponent_magnitude_average\n",
      "converting points\n",
      "converting point data: \n",
      "ContourScalars\n",
      "converting cell connectivity list\n"
     ]
    },
    {
     "data": {
      "text/plain": [
       "{'CellData': {'OSI': array([ 0.00162006,  0.00162006,  0.0003001 , ...,  0.00714149,\n",
       "          0.00915707,  0.00915707]),\n",
       "  'wallShearComponent_average': array([[-0.00127426, -0.00458998, -0.00124891],\n",
       "         [-0.00127426, -0.00458998, -0.00124891],\n",
       "         [-0.00297795,  0.00181138, -0.00515663],\n",
       "         ..., \n",
       "         [ 0.00031821, -0.00167114,  0.00249061],\n",
       "         [-0.00011609, -0.00188262,  0.00246955],\n",
       "         [-0.00011609, -0.00188262,  0.00246955]], dtype=float32),\n",
       "  'wallShearComponent_magnitude_average': array([ 0.00494058,  0.00494058,  0.00622789, ...,  0.00305984,\n",
       "          0.00316545,  0.00316545]),\n",
       "  'CellPointIds': array([[  483,   484,   485],\n",
       "         [  486,   485,   484],\n",
       "         [  491,   492,   493],\n",
       "         ..., \n",
       "         [86651, 28930, 28956],\n",
       "         [29085, 28958, 29084],\n",
       "         [29084, 28958, 70125]], dtype=int32)},\n",
       " 'Points': array([[-0.00101505, -0.01700126,  0.00917809],\n",
       "        [-0.00102765, -0.01706389,  0.00912527],\n",
       "        [-0.0010772 , -0.01699738,  0.00915759],\n",
       "        ..., \n",
       "        [ 0.00114545, -0.00324547,  0.00769461],\n",
       "        [ 0.00116029, -0.00322493,  0.00765281],\n",
       "        [ 0.00115525, -0.00328987,  0.00771271]], dtype=float32),\n",
       " 'PointData': {'ContourScalars': array([ 1.,  1.,  1., ...,  1.,  1.,  1.])}}"
      ]
     },
     "execution_count": 65,
     "metadata": {},
     "output_type": "execute_result"
    }
   ],
   "source": [
    "numpyConverter = vmtkscripts.vmtkSurfaceToNumpy()\n",
    "numpyConverter.Surface = aneurysmClipper.AneurysmSurface\n",
    "numpyConverter.Execute()\n",
    "numpyConverter.ArrayDict"
   ]
  },
  {
   "cell_type": "code",
   "execution_count": 67,
   "metadata": {},
   "outputs": [
    {
     "name": "stdout",
     "output_type": "stream",
     "text": [
      "Quit renderer\n",
      "Writing VTK XML surface file.\n"
     ]
    }
   ],
   "source": [
    "aneurysmNeck = vmtkscripts.vmtkSurfaceRegionDrawing()\n",
    "aneurysmNeck.Surface = triangulate.Surface\n",
    "aneurysmNeck.Execute()\n",
    "\n",
    "arraySmoother = vmtkscripts.vmtkSurfaceArraySmoothing()\n",
    "arraySmoother.Surface = aneurysmNeck.Surface\n",
    "arraySmoother.Iterations = 15\n",
    "arraySmoother.SurfaceArrayName = aneurysmNeck.ContourScalarsArrayName\n",
    "arraySmoother.Execute()\n",
    "arraySmoother.SurfaceOutputFileName = pathToFoamCase+'OSI_updated.vtp'\n",
    "arraySmoother.IOWrite()"
   ]
  },
  {
   "cell_type": "code",
   "execution_count": 68,
   "metadata": {},
   "outputs": [],
   "source": [
    "from scipy.spatial import ConvexHull"
   ]
  },
  {
   "cell_type": "code",
   "execution_count": 69,
   "metadata": {},
   "outputs": [],
   "source": [
    "aneurysmHull = ConvexHull(numpyConverter.ArrayDict['Points'])"
   ]
  },
  {
   "cell_type": "code",
   "execution_count": 70,
   "metadata": {},
   "outputs": [
    {
     "data": {
      "text/plain": [
       "1.3548428859591112e-06"
      ]
     },
     "execution_count": 70,
     "metadata": {},
     "output_type": "execute_result"
    }
   ],
   "source": [
    "aneurysmHull.volume"
   ]
  },
  {
   "cell_type": "code",
   "execution_count": 71,
   "metadata": {},
   "outputs": [
    {
     "data": {
      "text/plain": [
       "array([ 0.00494058,  0.00494058,  0.00622789, ...,  0.00305984,\n",
       "        0.00316545,  0.00316545])"
      ]
     },
     "execution_count": 71,
     "metadata": {},
     "output_type": "execute_result"
    }
   ],
   "source": [
    "# Building convexx array for numpy to surface converter\n",
    "convexHullArray = numpyConverter.ArrayDict\n",
    "convexHullArray.pop('PointData')\n",
    "\n",
    "convexHullArray['CellData'].pop('OSI')\n",
    "convexHullArray['CellData'].pop('wallShearComponent_average')\n",
    "convexHullArray['CellData'].pop('wallShearComponent_magnitude_average')"
   ]
  },
  {
   "cell_type": "code",
   "execution_count": 72,
   "metadata": {},
   "outputs": [
    {
     "data": {
      "text/plain": [
       "{'CellData': {'CellPointIds': array([[87375, 87371, 23516],\n",
       "         [ 8880,  8883,  7263],\n",
       "         [   84,  8883,  7263],\n",
       "         ..., \n",
       "         [56299, 56298, 56292],\n",
       "         [56299, 56289, 42102],\n",
       "         [56299, 56298, 56289]], dtype=int32)},\n",
       " 'Points': array([[-0.00101505, -0.01700126,  0.00917809],\n",
       "        [-0.00102765, -0.01706389,  0.00912527],\n",
       "        [-0.0010772 , -0.01699738,  0.00915759],\n",
       "        ..., \n",
       "        [ 0.00114545, -0.00324547,  0.00769461],\n",
       "        [ 0.00116029, -0.00322493,  0.00765281],\n",
       "        [ 0.00115525, -0.00328987,  0.00771271]])}"
      ]
     },
     "execution_count": 72,
     "metadata": {},
     "output_type": "execute_result"
    }
   ],
   "source": [
    "convexHullArray['CellData']['CellPointIds'] = aneurysmHull.simplices\n",
    "convexHullArray['Points'] = aneurysmHull.points\n",
    "\n",
    "convexHullArray"
   ]
  },
  {
   "cell_type": "code",
   "execution_count": 73,
   "metadata": {},
   "outputs": [
    {
     "name": "stdout",
     "output_type": "stream",
     "text": [
      "converting points\n",
      "converting numpy array to surface\n",
      "Input vmtkNumpyToSurface members:\n",
      "    Id = 0\n",
      "    Disabled = 0\n",
      "    ArrayDict = dict\n",
      "    ArrayDictInputFileName = \n",
      "    SurfaceOutputFileName = \n",
      "Output vmtkNumpyToSurface members:\n",
      "    Id = 0\n",
      "    Surface = vtkPolyData\n"
     ]
    }
   ],
   "source": [
    "numpyToSurface = vmtkscripts.vmtkNumpyToSurface()\n",
    "numpyToSurface.ArrayDict = convexHullArray\n",
    "numpyToSurface.Execute()\n",
    "numpyToSurface.PrintInputMembers()\n",
    "numpyToSurface.PrintOutputMembers()"
   ]
  },
  {
   "cell_type": "code",
   "execution_count": 74,
   "metadata": {},
   "outputs": [
    {
     "name": "stdout",
     "output_type": "stream",
     "text": [
      "Quit renderer\n"
     ]
    }
   ],
   "source": [
    "viewer = vmtkscripts.vmtkSurfaceViewer()\n",
    "viewer.Surface = numpyToSurface.Surface\n",
    "viewer.Execute()"
   ]
  },
  {
   "cell_type": "code",
   "execution_count": 75,
   "metadata": {},
   "outputs": [
    {
     "name": "stdout",
     "output_type": "stream",
     "text": [
      "Writing VTK XML surface file.\n"
     ]
    }
   ],
   "source": [
    "writer = vmtkscripts.vmtkSurfaceWriter()\n",
    "writer.Surface = numpyToSurface.Surface\n",
    "writer.OutputFileName = pathToFoamCase+'convexHull.vtp'\n",
    "writer.Execute()"
   ]
  },
  {
   "cell_type": "code",
   "execution_count": null,
   "metadata": {},
   "outputs": [],
   "source": []
  }
 ],
 "metadata": {
  "kernelspec": {
   "display_name": "Python [conda env:vmtk]",
   "language": "python",
   "name": "conda-env-vmtk-py"
  },
  "language_info": {
   "codemirror_mode": {
    "name": "ipython",
    "version": 3
   },
   "file_extension": ".py",
   "mimetype": "text/x-python",
   "name": "python",
   "nbconvert_exporter": "python",
   "pygments_lexer": "ipython3",
   "version": "3.6.1"
  }
 },
 "nbformat": 4,
 "nbformat_minor": 2
}
