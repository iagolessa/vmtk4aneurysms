{
 "cells": [
  {
   "cell_type": "markdown",
   "metadata": {},
   "source": [
    "## **Area-average over complete surface**\n",
    "\n",
    "Small script to calculate the area-averaged WSS for aneurysm case with different meshes for mesh convergence study.\n",
    "The area-averaged WSS is defined as:\n",
    "\n",
    "\\begin{equation}\n",
    "    WSS_A \n",
    "    =\n",
    "    \\frac{1}{A}\n",
    "    \\int_{S}{}\n",
    "        \\left\\| \\vec{WSS} (\\vec{x},t) \\right\\| \n",
    "        \\mathrm{d}S   \n",
    "\\end{equation}\n",
    "\n",
    "where A is the area of the surface. Note that WSS_A will be a function of time. According to authors like Roach and Ferziger, in a Richardson extrapolation-like analysis, it is possible to use integral or derivatives of the priumitive variables to analyze mesh convergence. Ideally, one should analyze both primitive variables in specific locations and quadratures of these that are the variables that will be used in the study being carried-out. First, we will integrate the variables on the chosen surface and in the sequence, we must multiply the magWSS resultant field by the density $\\rho = 1056 kg/m^3$, because the loaded 'wallShearComponent' in OpenFOAM is calculated per specific mass unity. "
   ]
  },
  {
   "cell_type": "markdown",
   "metadata": {},
   "source": [
    "## **OSI and RRT**\n",
    "\n",
    "In this part of this notebook we will created a sequence of commands to calculate the *oscillatory shear index* (OSI) of a WSS field in an aneurysm surface, from CFD results and using ParaView's Temporal Statistics filter. The function also computes time-averaged data of the WSS, necessary in the OSI definition, and also the *relative residence time (RRT)*.\n",
    "\n",
    "The OSI is defined as:\n",
    "\n",
    "\\begin{equation}\n",
    "    OSI(\\vec{x})\n",
    "    =\n",
    "    \\frac{1}{2}\n",
    "    \\left(\n",
    "        1 \n",
    "        -\n",
    "        \\frac{\n",
    "            \\left \\| \n",
    "            \\displaystyle\\int_0^{T}\n",
    "            {\n",
    "                \\overrightarrow{WSS} (\\vec{x},t)\n",
    "                \\mathrm{d}t\n",
    "            }\n",
    "            \\right \\|\n",
    "        }{\n",
    "            \\displaystyle\\int_0^{T}\n",
    "            {\n",
    "                \\left \\| \\vec{WSS} (\\vec{x},t) \\right \\|\n",
    "                \\mathrm{d}t\n",
    "            }\n",
    "        }\n",
    "    \\right)\n",
    "\\end{equation}\n",
    "\n",
    "it measures how the WSS direction changes in time. The RRT is defined as:\n",
    "\n",
    "\\begin{equation}\n",
    "    RRT(\\vec{x})\n",
    "    =\n",
    "    \\frac{1}{\n",
    "            \\frac{1}{T}\n",
    "                \\left \\| \n",
    "                    \\displaystyle\\int_0^{T}\n",
    "                    {\n",
    "                        \\vec{WSS} (\\vec{x},t)\n",
    "                        \\mathrm{d}t\n",
    "                    }\n",
    "                \\right \\|\n",
    "      }\n",
    "     =\n",
    "     \\frac{1}{(1 - 2OSI)\\overline{WSS}}\n",
    "\\end{equation}\n"
   ]
  },
  {
   "cell_type": "markdown",
   "metadata": {},
   "source": [
    "## **Computing integrals over space (aneurysm surface) of time-averaged WSS**\n",
    "\n",
    "The following code computes the integrals over the aneurysm surface of the time-averaged WSS, already calculated in a single surface by, for example, using the OSI function, above. Therefore, the code only clips the aneurysm neck in the same points as used above to compute the time-dependent WSS surface integrals. \n",
    "\n",
    "The procedure then will provide a representative value of WSS used for comparison with other publications. With the time-averaged defined as:\n",
    "\n",
    "\\begin{equation}\n",
    "    \\overline{WSS}(\\vec{x})\n",
    "    =\n",
    "    \\frac{1}{T}\n",
    "    \\int_0^{T}\n",
    "    {\n",
    "        \\left \\| \\vec{WSS} (\\vec{x},t) \\right \\|\n",
    "        \\mathrm{d}t\n",
    "    }\n",
    "\\end{equation}\n",
    "\n",
    "which is called \"wallShearComponent_magnitude_average\". This is, therefore, a single spatial field defined on the aneurysm surface. Two quantities are extracted from it: \n",
    "\n",
    "    - the aneurysm surface-averaged: \n",
    "\\begin{equation}\n",
    "    WSS_{av}\n",
    "    =\n",
    "    \\frac{1}{A_a}\n",
    "    \\int_{S_a}{}\n",
    "        \\overline{WSS}(\\vec{x})\n",
    "    \\mathrm{d}S_a   \n",
    "\\end{equation}\n",
    "\n",
    "    - the maximum value of $\\overline{WSS}(\\vec{x})$:\n",
    "\\begin{equation}\n",
    "    WSS_{max} \n",
    "    =\n",
    "    \\max_{\\vec{x} \\in S_a} \\overline{WSS}(\\vec{x})\n",
    "\\end{equation}"
   ]
  },
  {
   "cell_type": "code",
   "execution_count": 130,
   "metadata": {},
   "outputs": [
    {
     "name": "stdout",
     "output_type": "stream",
     "text": [
      "Overwriting aneurysms.py\n"
     ]
    }
   ],
   "source": [
    "%%writefile aneurysms.py\n",
    "\n",
    "import paraview.simple as pv\n",
    "import numpy as np\n",
    "\n",
    "def area_averaged_wss(case):\n",
    "    \"\"\" Function that calculates the area-averaged WSS\n",
    "        for a surface where the wall shear stress field\n",
    "        is defined. The function takes its input an \n",
    "        OpenFOAM case reader with the surface and fields.\n",
    "        It automatically selects the wallShearComponent field\n",
    "        and the surface wall. It returns an array with time\n",
    "        in one column and the result in the other. \n",
    "    \"\"\"\n",
    "    # Update arrays to be used:\n",
    "    # - wallShearComponent\n",
    "    \n",
    "\n",
    "    case.CellArrays = ['wallShearComponent']\n",
    "\n",
    "    # And select the surface where integration will be carried out\n",
    "    case.MeshRegions = ['wall']\n",
    "\n",
    "    # Get time-steps values\n",
    "    timeSteps = np.array(case.TimestepValues)\n",
    "    # Update time-step\n",
    "    case.UpdatePipeline()\n",
    "\n",
    "    # Integrate WSS on the wall\n",
    "    computeWallArea = pv.IntegrateVariables()\n",
    "    computeWallArea.Input = case\n",
    "    computeWallArea.UpdatePipeline()\n",
    "    # Get area of surface, in m2\n",
    "    wallArea = computeWallArea.CellData.GetArray('Area').GetRange()[0]\n",
    "\n",
    "    areaAveragedWSSList = []\n",
    "    for timeStep in timeSteps:\n",
    "        # Calculate WSS magnitude\n",
    "        # Instantiate calculater filter\n",
    "        calcMagWSS = pv.Calculator()\n",
    "        calcMagWSS.Input = case\n",
    "        calcMagWSS.ResultArrayName = 'magWSS'\n",
    "        calcMagWSS.Function = '1056*mag(wallShearComponent)'\n",
    "        calcMagWSS.AttributeType = 'Cell Data'\n",
    "        calcMagWSS.UpdatePipeline(time=timeStep)\n",
    "\n",
    "        # Integrate WSS on the wall\n",
    "        integrateWSS = pv.IntegrateVariables()\n",
    "        integrateWSS.Input = calcMagWSS\n",
    "        integrateWSS.UpdatePipeline(time=timeStep)\n",
    "\n",
    "        # Instantiate calculater filter\n",
    "        areaAveragedWSS = pv.Calculator()\n",
    "        areaAveragedWSS.Input = integrateWSS\n",
    "        areaAveragedWSS.ResultArrayName = 'areaAveragedWSS'\n",
    "        areaAveragedWSS.Function = 'magWSS/'+str(wallArea)\n",
    "        areaAveragedWSS.AttributeType = 'Cell Data'\n",
    "        areaAveragedWSS.UpdatePipeline(time=timeStep)\n",
    "        areaAveragedWSSList.append([timeStep, \n",
    "                                    areaAveragedWSS.CellData.GetArray('areaAveragedWSS').GetRange()[0]])\n",
    "\n",
    "    return np.asarray(areaAveragedWSSList)\n",
    "\n",
    "\n",
    "def osi(ofCaseFile, \n",
    "        timeIndexRange, \n",
    "        outputFileName,\n",
    "        timeStep=0.01,\n",
    "        density=1056.0, # kg/m3\n",
    "        wssFieldName='wallShearComponent', \n",
    "        patchName='wall'):\n",
    "    \"\"\" \n",
    "        Function to calculate the oscillatory shear index and\n",
    "        other time integrals variables of WSS over a time inter-\n",
    "        val [Ti,Tf] indentified by time-step indices. The method\n",
    "        (based o VTK), ignores the time-step size and \n",
    "        consider uniform time stepping (so, if the time-step is \n",
    "        large, the resulting fields may be very different if a va-\n",
    "        riable time-step would be considered). The OSI field is \n",
    "        defined as:\n",
    "        \n",
    "            OSI = 0.5*( 1 - norm2(int WSS dt) / int norm2(WSS) dt)\n",
    "            \n",
    "        where \"int\" implies the integral over time between two\n",
    "        instants t1 and t2 (usually for a cardiac cycle, therefore \n",
    "        [t1, t2] = [Ti, Tf]) and norm2 is the L2 norm of an Eucli-\n",
    "        dean vector field; WSS is the wall shear stress defined on \n",
    "        the input surface. Since this function use OpenFOAM data, \n",
    "        please specify the density considered.\n",
    "        \n",
    "        Input args:\n",
    "        - OpenFOAM case file (str): name of OpenFOAM .foam case;\n",
    "        - wssFieldName (str, optional): string containing the name \n",
    "            of the wall shear stress field (default=\"wallShearComp-\n",
    "            onent\");\n",
    "        - patchName (str, optional): patch name where to calculate \n",
    "            the OSI (default=\"wall\");\n",
    "        - timeIndexRange (list): list of initial and final time-\n",
    "            steps indices limits of the integral [Ti, Tf];\n",
    "        - outputFileName (str): file name for the output file with \n",
    "            osi field (must be a .vtp file).\n",
    "        - blood density (float, optional): default 1056.0 kg/m3\n",
    "    \"\"\"\n",
    "    case = pv.OpenFOAMReader(FileName=ofCaseFile)\n",
    "\n",
    "    # First we define only the field that are going to be used: the WSS on the aneurysm wall\n",
    "    case.CellArrays = [wssFieldName]\n",
    "    case.MeshRegions = [patchName]\n",
    "    case.Createcelltopointfiltereddata = 0\n",
    "\n",
    "    # Multiplying WSS per density\n",
    "    densityTimesWSS = pv.Calculator()\n",
    "    densityTimesWSS.Input = case\n",
    "    densityTimesWSS.AttributeType = 'Cell Data'\n",
    "    densityTimesWSS.ResultArrayName = \"WSS\"\n",
    "    densityTimesWSS.Function = str(density)+\"*\"+wssFieldName\n",
    "    densityTimesWSS.UpdatePipeline()\n",
    "\n",
    "    # Calculating the magnitude of the wss vector\n",
    "    calcMagWSS = pv.Calculator()\n",
    "    calcMagWSS.Input = densityTimesWSS\n",
    "    calcMagWSS.AttributeType = 'Cell Data'\n",
    "    calcMagWSS.ResultArrayName = densityTimesWSS.ResultArrayName+\"_magnitude\"\n",
    "\n",
    "    ## Get WSS field name\n",
    "    wss = densityTimesWSS.ResultArrayName\n",
    "    calcMagWSS.Function = \"mag(\"+wss+\")\"\n",
    "    calcMagWSS.UpdatePipeline()\n",
    "\n",
    "    # Extract desired time range\n",
    "    timeInterval = pv.ExtractTimeSteps()\n",
    "    timeInterval.Input = calcMagWSS\n",
    "    timeInterval.SelectionMode = \"Select Time Range\"\n",
    "    timeInterval.TimeStepRange = timeIndexRange #[99, 199] # range in index\n",
    "    timeInterval.UpdatePipeline()\n",
    "\n",
    "    # Period given by time-steps\n",
    "    period = (timeInterval.TimeStepRange[1] - timeInterval.TimeStepRange[0])*timeStep\n",
    "\n",
    "    # Now compute the temporal statistics\n",
    "    # filter computes the average values of all fields\n",
    "    calcAvgWSS = pv.TemporalStatistics()\n",
    "\n",
    "    calcAvgWSS.Input = timeInterval\n",
    "    calcAvgWSS.ComputeAverage = 1\n",
    "    calcAvgWSS.ComputeMinimum = 0\n",
    "    calcAvgWSS.ComputeMaximum = 0\n",
    "    calcAvgWSS.ComputeStandardDeviation = 0\n",
    "    calcAvgWSS.UpdatePipeline()\n",
    "\n",
    "    # Calculates OSI\n",
    "    calcOSI = pv.Calculator()\n",
    "    calcOSI.Input = calcAvgWSS\n",
    "    calcOSI.ResultArrayName = 'OSI'\n",
    "    calcOSI.AttributeType = 'Cell Data'\n",
    "\n",
    "    # Getting fields:\n",
    "    # - Get the average of the vector WSS field\n",
    "    avgVecWSS = calcAvgWSS.CellData.GetArray(wss+\"_average\").GetName()\n",
    "    # - Get the average of the magnitude of the WSS field \n",
    "    avgMagWSS = calcAvgWSS.CellData.GetArray(calcMagWSS.ResultArrayName+\"_average\").GetName()\n",
    "\n",
    "    calcOSI.Function = \"0.5*( 1 - ( mag( \"+avgVecWSS+\" ) )/\"+avgMagWSS+\" )\"\n",
    "    calcOSI.UpdatePipeline()\n",
    "\n",
    "    # Compute Relative Residance Time\n",
    "    calcRRT = pv.Calculator()\n",
    "    calcRRT.Input = calcOSI\n",
    "    calcRRT.ResultArrayName = 'RRT'\n",
    "    calcRRT.AttributeType = 'Cell Data'\n",
    "    calcRRT.Function = str(period)+\"/mag(\"+avgVecWSS+\")\"\n",
    "    calcRRT.UpdatePipeline()\n",
    "\n",
    "    # Final processing of surface: merge blocks\n",
    "    # and get surface for triangulation\n",
    "    mergeBlocks = pv.MergeBlocks()\n",
    "    mergeBlocks.Input = calcRRT\n",
    "    mergeBlocks.UpdatePipeline()\n",
    "\n",
    "    extractSurface = pv.ExtractSurface()\n",
    "    extractSurface.Input = mergeBlocks\n",
    "    extractSurface.UpdatePipeline()\n",
    "\n",
    "    triangulate = pv.Triangulate()\n",
    "    triangulate.Input = extractSurface\n",
    "    triangulate.UpdatePipeline()\n",
    "\n",
    "    pv.SaveData(outputFileName,triangulate)\n",
    "\n",
    "    \n",
    "def wss_statistics(timeAveragedSurface, aneurysmNeckArrayName, neckIsoValue=0.5):\n",
    "    \"\"\"\n",
    "        Computes surface-averaged and maximum value \n",
    "        of time-averaged WSS for an aneurysm surface.\n",
    "        Input is a PolyData surface with the averaged\n",
    "        fields and the aneurysm neck contour field. \n",
    "        Return list with aneurysm area, WSSav and \n",
    "        WSSmax.\n",
    "    \"\"\"\n",
    "    clipAneurysmNeck = pv.Clip()\n",
    "    clipAneurysmNeck.Input = timeAveragedSurface\n",
    "    clipAneurysmNeck.ClipType = 'Scalar'\n",
    "    clipAneurysmNeck.Scalars  = [timeAveragedSurface.PointData.GetArray(aneurysmNeckArrayName).Name]\n",
    "    clipAneurysmNeck.Invert   = 1   # gets smaller portion\n",
    "    clipAneurysmNeck.Value    = neckIsoValue  # based on the definition of field ContourScalars\n",
    "    clipAneurysmNeck.UpdatePipeline()\n",
    "\n",
    "    # Finaly we integrate over Sa \n",
    "    integrateOverAneurysm = pv.IntegrateVariables()\n",
    "    integrateOverAneurysm.Input = clipAneurysmNeck\n",
    "    integrateOverAneurysm.UpdatePipeline()\n",
    "\n",
    "    aneurysmArea = integrateOverAneurysm.CellData.GetArray(\"Area\").GetRange()[0] # aneurysm area\n",
    "\n",
    "    WSSav = integrateOverAneurysm.CellData.GetArray(\"WSS_magnitude_average\").GetRange()[0]/aneurysmArea # averaged\n",
    "    WSSmax = clipAneurysmNeck.CellData.GetArray(\"WSS_magnitude_average\").GetRange()[1] # maximum value\n",
    "\n",
    "    return [aneurysmArea, WSSav, WSSmax]"
   ]
  },
  {
   "cell_type": "markdown",
   "metadata": {},
   "source": [
    "<hr>"
   ]
  },
  {
   "cell_type": "markdown",
   "metadata": {},
   "source": [
    "<hr>"
   ]
  },
  {
   "cell_type": "code",
   "execution_count": null,
   "metadata": {},
   "outputs": [],
   "source": [
    "pathToFoamCase = \"/home/iagolessa/foam/iagolessa-4.0/run/aneurysms/ruptured/fluidFlow/Newtonian/case1/mesh1500k/\" \n",
    "foamFileName = \"mesh1500k.foam\""
   ]
  },
  {
   "cell_type": "code",
   "execution_count": null,
   "metadata": {},
   "outputs": [],
   "source": [
    "data = pv.OpenFOAMReader(FileName=pathToFoamCase+foamFileName)"
   ]
  },
  {
   "cell_type": "code",
   "execution_count": null,
   "metadata": {},
   "outputs": [],
   "source": [
    "data.CellData.GetNumberOfArrays()"
   ]
  },
  {
   "cell_type": "code",
   "execution_count": null,
   "metadata": {},
   "outputs": [],
   "source": [
    "meshIntermediateWSS = area_averaged_wss(data)\n",
    "meshIntermediateWSS"
   ]
  },
  {
   "cell_type": "code",
   "execution_count": 81,
   "metadata": {},
   "outputs": [],
   "source": [
    "import matplotlib.pyplot as plt\n",
    "import seaborn as sb"
   ]
  },
  {
   "cell_type": "code",
   "execution_count": 82,
   "metadata": {},
   "outputs": [],
   "source": [
    "plt.style.use('classic')"
   ]
  },
  {
   "cell_type": "code",
   "execution_count": null,
   "metadata": {},
   "outputs": [],
   "source": [
    "#%matplotlib widget\n",
    "fig = plt.figure()\n",
    "\n",
    "plt.plot(meshIntermediateWSS[:,0], meshIntermediateWSS[:,1], 'b')\n",
    "\n",
    "plt.xlabel('Time')\n",
    "plt.ylabel('Area-averaged WSS (Pa)')\n",
    "\n",
    "plt.grid()\n",
    "plt.show()"
   ]
  },
  {
   "cell_type": "markdown",
   "metadata": {},
   "source": [
    "<hr>"
   ]
  },
  {
   "cell_type": "code",
   "execution_count": null,
   "metadata": {},
   "outputs": [],
   "source": [
    "# pathToFoamCase = \"/home/iago/foam/iago-4.0/run/aneurysms/unruptured/fluidFlow/Newtonian/case11/mesh600k/\" \n",
    "# foamFileName = \"mesh600k.foam\""
   ]
  },
  {
   "cell_type": "code",
   "execution_count": null,
   "metadata": {},
   "outputs": [],
   "source": [
    "# osi(pathToFoamCase+foamFileName,[99, 199],pathToFoamCase+\"OSI_new.vtp\")"
   ]
  },
  {
   "cell_type": "code",
   "execution_count": 63,
   "metadata": {},
   "outputs": [
    {
     "data": {
      "text/plain": [
       "['/home/iagolessa/foam/iagolessa-4.0/run/aneurysms/ruptured/fluidFlow/Newtonian/case1/mesh1500k',\n",
       " '/home/iagolessa/foam/iagolessa-4.0/run/aneurysms/ruptured/fluidFlow/Newtonian/case2/mesh1500k',\n",
       " '/home/iagolessa/foam/iagolessa-4.0/run/aneurysms/ruptured/fluidFlow/Newtonian/case19/mesh1500k',\n",
       " '/home/iagolessa/foam/iagolessa-4.0/run/aneurysms/ruptured/fluidFlow/Casson/case1/mesh1500k',\n",
       " '/home/iagolessa/foam/iagolessa-4.0/run/aneurysms/ruptured/fluidFlow/Casson/case2/mesh1500k',\n",
       " '/home/iagolessa/foam/iagolessa-4.0/run/aneurysms/ruptured/fluidFlow/Casson/case19/mesh1500k',\n",
       " '/home/iagolessa/foam/iagolessa-4.0/run/aneurysms/ruptured/fluidFlow/CarreauYasuda/case1/mesh1500k',\n",
       " '/home/iagolessa/foam/iagolessa-4.0/run/aneurysms/ruptured/fluidFlow/CarreauYasuda/case2/mesh1500k',\n",
       " '/home/iagolessa/foam/iagolessa-4.0/run/aneurysms/ruptured/fluidFlow/CarreauYasuda/case19/mesh1500k',\n",
       " '/home/iagolessa/foam/iagolessa-4.0/run/aneurysms/unruptured/fluidFlow/Newtonian/case11/mesh1500k',\n",
       " '/home/iagolessa/foam/iagolessa-4.0/run/aneurysms/unruptured/fluidFlow/Newtonian/case13/mesh1500k',\n",
       " '/home/iagolessa/foam/iagolessa-4.0/run/aneurysms/unruptured/fluidFlow/Newtonian/case17/mesh1100k',\n",
       " '/home/iagolessa/foam/iagolessa-4.0/run/aneurysms/unruptured/fluidFlow/Casson/case11/mesh1500k',\n",
       " '/home/iagolessa/foam/iagolessa-4.0/run/aneurysms/unruptured/fluidFlow/Casson/case13/mesh1500k',\n",
       " '/home/iagolessa/foam/iagolessa-4.0/run/aneurysms/unruptured/fluidFlow/Casson/case17/mesh1100k',\n",
       " '/home/iagolessa/foam/iagolessa-4.0/run/aneurysms/unruptured/fluidFlow/CarreauYasuda/case11/mesh1500k',\n",
       " '/home/iagolessa/foam/iagolessa-4.0/run/aneurysms/unruptured/fluidFlow/CarreauYasuda/case13/mesh1500k',\n",
       " '/home/iagolessa/foam/iagolessa-4.0/run/aneurysms/unruptured/fluidFlow/CarreauYasuda/case17/mesh1100k']"
      ]
     },
     "execution_count": 63,
     "metadata": {},
     "output_type": "execute_result"
    }
   ],
   "source": [
    "# Calculating time averaged data of a collection of OpenFOAM data\n",
    "\n",
    "rootPath = \"/home/iagolessa/foam/iagolessa-4.0/run/aneurysms/\"\n",
    "models   = [\"Newtonian\", \"Casson\", \"CarreauYasuda\"]\n",
    "rupturedCases   = [\"case1/mesh1500k\", \"case2/mesh1500k\", \"case19/mesh1500k\"]\n",
    "unrupturedCases = [\"case11/mesh1500k\", \"case13/mesh1500k\", \"case17/mesh1100k\"]\n",
    "\n",
    "rupturedCasesFiles   = [ rootPath+\"ruptured/fluidFlow/\"+model+\"/\"+case for model in models for case in rupturedCases ] \n",
    "unrupturedCasesFiles = [ rootPath+\"unruptured/fluidFlow/\"+model+\"/\"+case for model in models for case in unrupturedCases ] \n",
    "\n",
    "casePaths = rupturedCasesFiles+unrupturedCasesFiles\n",
    "\n",
    "# Update one of the folders\n",
    "casePaths"
   ]
  },
  {
   "cell_type": "code",
   "execution_count": 66,
   "metadata": {},
   "outputs": [
    {
     "data": {
      "text/plain": [
       "['/home/iagolessa/Documents/unesp/doctorate/data/aneurysms/results/ruptured/fluidFlow/Newtonian/case1/case1_timeAveragedWSSandOSI_Newtonian.vtp',\n",
       " '/home/iagolessa/Documents/unesp/doctorate/data/aneurysms/results/ruptured/fluidFlow/Newtonian/case2/case2_timeAveragedWSSandOSI_Newtonian.vtp',\n",
       " '/home/iagolessa/Documents/unesp/doctorate/data/aneurysms/results/ruptured/fluidFlow/Newtonian/case19/case19_timeAveragedWSSandOSI_Newtonian.vtp',\n",
       " '/home/iagolessa/Documents/unesp/doctorate/data/aneurysms/results/ruptured/fluidFlow/Casson/case1/case1_timeAveragedWSSandOSI_Casson.vtp',\n",
       " '/home/iagolessa/Documents/unesp/doctorate/data/aneurysms/results/ruptured/fluidFlow/Casson/case2/case2_timeAveragedWSSandOSI_Casson.vtp',\n",
       " '/home/iagolessa/Documents/unesp/doctorate/data/aneurysms/results/ruptured/fluidFlow/Casson/case19/case19_timeAveragedWSSandOSI_Casson.vtp',\n",
       " '/home/iagolessa/Documents/unesp/doctorate/data/aneurysms/results/ruptured/fluidFlow/CarreauYasuda/case1/case1_timeAveragedWSSandOSI_CarreauYasuda.vtp',\n",
       " '/home/iagolessa/Documents/unesp/doctorate/data/aneurysms/results/ruptured/fluidFlow/CarreauYasuda/case2/case2_timeAveragedWSSandOSI_CarreauYasuda.vtp',\n",
       " '/home/iagolessa/Documents/unesp/doctorate/data/aneurysms/results/ruptured/fluidFlow/CarreauYasuda/case19/case19_timeAveragedWSSandOSI_CarreauYasuda.vtp',\n",
       " '/home/iagolessa/Documents/unesp/doctorate/data/aneurysms/results/unruptured/fluidFlow/Newtonian/case11/case11_timeAveragedWSSandOSI_Newtonian.vtp',\n",
       " '/home/iagolessa/Documents/unesp/doctorate/data/aneurysms/results/unruptured/fluidFlow/Newtonian/case13/case13_timeAveragedWSSandOSI_Newtonian.vtp',\n",
       " '/home/iagolessa/Documents/unesp/doctorate/data/aneurysms/results/unruptured/fluidFlow/Newtonian/case17/case17_timeAveragedWSSandOSI_Newtonian.vtp',\n",
       " '/home/iagolessa/Documents/unesp/doctorate/data/aneurysms/results/unruptured/fluidFlow/Casson/case11/case11_timeAveragedWSSandOSI_Casson.vtp',\n",
       " '/home/iagolessa/Documents/unesp/doctorate/data/aneurysms/results/unruptured/fluidFlow/Casson/case13/case13_timeAveragedWSSandOSI_Casson.vtp',\n",
       " '/home/iagolessa/Documents/unesp/doctorate/data/aneurysms/results/unruptured/fluidFlow/Casson/case17/case17_timeAveragedWSSandOSI_Casson.vtp',\n",
       " '/home/iagolessa/Documents/unesp/doctorate/data/aneurysms/results/unruptured/fluidFlow/CarreauYasuda/case11/case11_timeAveragedWSSandOSI_CarreauYasuda.vtp',\n",
       " '/home/iagolessa/Documents/unesp/doctorate/data/aneurysms/results/unruptured/fluidFlow/CarreauYasuda/case13/case13_timeAveragedWSSandOSI_CarreauYasuda.vtp',\n",
       " '/home/iagolessa/Documents/unesp/doctorate/data/aneurysms/results/unruptured/fluidFlow/CarreauYasuda/case17/case17_timeAveragedWSSandOSI_CarreauYasuda.vtp']"
      ]
     },
     "execution_count": 66,
     "metadata": {},
     "output_type": "execute_result"
    }
   ],
   "source": [
    "# Where to store the processes data \n",
    "rootPath = \"/home/iagolessa/Documents/unesp/doctorate/data/aneurysms/results/\"\n",
    "rupturedCases2   = [\"case1\", \"case2\", \"case19\"]\n",
    "unrupturedCases2 = [\"case11\", \"case13\", \"case17\"]\n",
    "rupturedWrite    = [ rootPath+\"ruptured/fluidFlow/\"+model+\"/\"+case+\"/\"+case+\"_timeAveragedWSSandOSI_\"+model+\".vtp\" for model in models for case in rupturedCases2 ] \n",
    "unrupturedWrite  = [ rootPath+\"unruptured/fluidFlow/\"+model+\"/\"+case+\"/\"+case+\"_timeAveragedWSSandOSI_\"+model+\".vtp\" for model in models for case in unrupturedCases2 ] \n",
    "saveFiles = rupturedWrite+unrupturedWrite\n",
    "saveFiles"
   ]
  },
  {
   "cell_type": "code",
   "execution_count": 50,
   "metadata": {},
   "outputs": [],
   "source": [
    "# for inputFile,outputFile in zip(caseFiles,saveFiles):\n",
    "#     print(\"Processing case\",inputFile)\n",
    "#     osi(inputFile, [99,199], outputFile)\n",
    "#     print(\"Saving file\",outputFile)"
   ]
  },
  {
   "cell_type": "markdown",
   "metadata": {},
   "source": [
    "<hr>"
   ]
  },
  {
   "cell_type": "markdown",
   "metadata": {},
   "source": [
    "From the time averaged files created above, area-averaging them to get WSS statistics"
   ]
  },
  {
   "cell_type": "code",
   "execution_count": null,
   "metadata": {},
   "outputs": [],
   "source": [
    "# We can work directly from the OSI surface with ContourScalars\n",
    "# The time averaged values are defined per unit blood density\n",
    "\n",
    "timeAveragedSurface = pv.XMLPolyDataReader(FileName=\"/home/iagolessa/Documents/unesp/doctorate/data/aneurysms/results/test/case11_timeAveragedWSSandOSI_Newtonian.vtp\")\n",
    "timeAveragedSurface.CellArrayStatus, timeAveragedSurface.PointArrayStatus"
   ]
  },
  {
   "cell_type": "code",
   "execution_count": 67,
   "metadata": {},
   "outputs": [],
   "source": [
    "import os"
   ]
  },
  {
   "cell_type": "code",
   "execution_count": null,
   "metadata": {},
   "outputs": [],
   "source": [
    "fileList = glob.glob(\"/home/iagolessa/Documents/unesp/doctorate/data/aneurysms/results/test/*.vtp\")\n",
    "fileList"
   ]
  },
  {
   "cell_type": "code",
   "execution_count": 73,
   "metadata": {},
   "outputs": [
    {
     "data": {
      "text/plain": [
       "{'case1': {},\n",
       " 'case2': {},\n",
       " 'case4ruptured': {},\n",
       " 'case19': {},\n",
       " 'case4unruptured': {},\n",
       " 'case11': {},\n",
       " 'case13': {},\n",
       " 'case17': {}}"
      ]
     },
     "execution_count": 73,
     "metadata": {},
     "output_type": "execute_result"
    }
   ],
   "source": [
    "rupturedCases = [\"case1\", \"case2\", \"case4ruptured\", \"case19\"]\n",
    "unrupturedCases = [\"case4unruptured\", \"case11\", \"case13\", \"case17\"]\n",
    "cases = rupturedCases+unrupturedCases\n",
    "\n",
    "statistics = { key: {} for key in cases}\n",
    "statistics"
   ]
  },
  {
   "cell_type": "code",
   "execution_count": 74,
   "metadata": {},
   "outputs": [],
   "source": [
    "# Calculate statistics for all files above\n",
    "for file in saveFiles:\n",
    "    # Load surface\n",
    "    timeAveragedSurface = pv.XMLPolyDataReader(FileName=file)\n",
    "    # Get file case identifier\n",
    "    identifier = os.path.basename(file).strip(\".vtp\").split(\"_\")\n",
    "    # Compute array statistics\n",
    "    stat = wss_statistics(timeAveragedSurface, \"AneurysmNeckContour\")\n",
    "    \n",
    "    # Save data in dictionary\n",
    "    statistics[identifier[0]][identifier[2]] = {\"Area\" : stat[0],\n",
    "                                                \"WSSav\": stat[1],\n",
    "                                                \"WSSmax\": stat[2]}"
   ]
  },
  {
   "cell_type": "code",
   "execution_count": 75,
   "metadata": {},
   "outputs": [],
   "source": [
    "# Computing WSSav and WSSmax for case 4: two aneurysms, one ruptured and unruptured\n",
    "osiData = [\"/home/iagolessa/Documents/unesp/doctorate/data/aneurysms/results/test/case4_timeAveragedWSSandOSI_CarreauYasuda.vtp\",\n",
    "           \"/home/iagolessa/Documents/unesp/doctorate/data/aneurysms/results/test/case4_timeAveragedWSSandOSI_Casson.vtp\",\n",
    "           \"/home/iagolessa/Documents/unesp/doctorate/data/aneurysms/results/test/case4_timeAveragedWSSandOSI_Newtonian.vtp\"]\n",
    "# Calculate statistics for all files above\n",
    "for aneurysmState in (\"ruptured\",\"unruptured\"):    \n",
    "    for file in osiData:\n",
    "        # Load surface\n",
    "        timeAveragedSurface = pv.XMLPolyDataReader(FileName=file)\n",
    "        # Get file case identifier\n",
    "        identifier = os.path.basename(file).strip(\".vtp\").split(\"_\")\n",
    "        # Compute array statistics\n",
    "        stat = wss_statistics(timeAveragedSurface, aneurysmState+\"AneurysmNeckContour\")\n",
    "\n",
    "        # Save data in dictionary\n",
    "        statistics[identifier[0]+aneurysmState][identifier[2]] = {\"Area\" : stat[0],\n",
    "                                                                  \"WSSav\": stat[1],\n",
    "                                                                  \"WSSmax\": stat[2]}"
   ]
  },
  {
   "cell_type": "code",
   "execution_count": 76,
   "metadata": {},
   "outputs": [],
   "source": [
    "def prettyDict(d, indent=0):\n",
    "    for key, value in d.items():\n",
    "        print('\\t' * indent + str(key))\n",
    "        if isinstance(value, dict):\n",
    "            pretty(value, indent+1)\n",
    "        else:\n",
    "            print('\\t' * (indent+1) + str(value))"
   ]
  },
  {
   "cell_type": "code",
   "execution_count": 77,
   "metadata": {},
   "outputs": [
    {
     "name": "stdout",
     "output_type": "stream",
     "text": [
      "case1\n",
      "\tNewtonian\n",
      "\t\tArea\n",
      "\t\t\t0.00010151451255767403\n",
      "\t\tWSSav\n",
      "\t\t\t5.118493900544775\n",
      "\t\tWSSmax\n",
      "\t\t\t30.67953155275846\n",
      "\tCasson\n",
      "\t\tArea\n",
      "\t\t\t0.00010151451255767403\n",
      "\t\tWSSav\n",
      "\t\t\t5.274962115038898\n",
      "\t\tWSSmax\n",
      "\t\t\t34.954458961727454\n",
      "\tCarreauYasuda\n",
      "\t\tArea\n",
      "\t\t\t0.00010151451255767403\n",
      "\t\tWSSav\n",
      "\t\t\t5.073598001032694\n",
      "\t\tWSSmax\n",
      "\t\t\t32.113891955736115\n",
      "case2\n",
      "\tNewtonian\n",
      "\t\tArea\n",
      "\t\t\t0.0001831859638745846\n",
      "\t\tWSSav\n",
      "\t\t\t3.3436038120647\n",
      "\t\tWSSmax\n",
      "\t\t\t42.611818788368296\n",
      "\tCasson\n",
      "\t\tArea\n",
      "\t\t\t0.0001831859638745846\n",
      "\t\tWSSav\n",
      "\t\t\t3.3946184593265145\n",
      "\t\tWSSmax\n",
      "\t\t\t46.43173299297158\n",
      "\tCarreauYasuda\n",
      "\t\tArea\n",
      "\t\t\t0.0001831859638745846\n",
      "\t\tWSSav\n",
      "\t\t\t3.408467338085822\n",
      "\t\tWSSmax\n",
      "\t\t\t42.02878767239075\n",
      "case4ruptured\n",
      "\tCarreauYasuda\n",
      "\t\tArea\n",
      "\t\t\t0.00011551529168752638\n",
      "\t\tWSSav\n",
      "\t\t\t8.309586651550902\n",
      "\t\tWSSmax\n",
      "\t\t\t40.062276665346815\n",
      "\tCasson\n",
      "\t\tArea\n",
      "\t\t\t0.00011553205422033547\n",
      "\t\tWSSav\n",
      "\t\t\t8.726983900036284\n",
      "\t\tWSSmax\n",
      "\t\t\t42.59225919710281\n",
      "\tNewtonian\n",
      "\t\tArea\n",
      "\t\t\t0.00011553205422033547\n",
      "\t\tWSSav\n",
      "\t\t\t8.536038552786708\n",
      "\t\tWSSmax\n",
      "\t\t\t40.34154811871242\n",
      "case19\n",
      "\tNewtonian\n",
      "\t\tArea\n",
      "\t\t\t0.00016341621986468497\n",
      "\t\tWSSav\n",
      "\t\t\t15.71544960102936\n",
      "\t\tWSSmax\n",
      "\t\t\t141.97965859949463\n",
      "\tCasson\n",
      "\t\tArea\n",
      "\t\t\t0.00016341621986468497\n",
      "\t\tWSSav\n",
      "\t\t\t17.474675284331937\n",
      "\t\tWSSmax\n",
      "\t\t\t152.47970730074073\n",
      "\tCarreauYasuda\n",
      "\t\tArea\n",
      "\t\t\t0.00016341621986468497\n",
      "\t\tWSSav\n",
      "\t\t\t15.693644243842302\n",
      "\t\tWSSmax\n",
      "\t\t\t134.72731153437798\n",
      "case4unruptured\n",
      "\tCarreauYasuda\n",
      "\t\tArea\n",
      "\t\t\t7.441564267865896e-05\n",
      "\t\tWSSav\n",
      "\t\t\t7.212298842339288\n",
      "\t\tWSSmax\n",
      "\t\t\t21.67974212365253\n",
      "\tCasson\n",
      "\t\tArea\n",
      "\t\t\t7.442524957084929e-05\n",
      "\t\tWSSav\n",
      "\t\t\t7.785773846064056\n",
      "\t\tWSSmax\n",
      "\t\t\t23.734177233402836\n",
      "\tNewtonian\n",
      "\t\tArea\n",
      "\t\t\t7.442524957084929e-05\n",
      "\t\tWSSav\n",
      "\t\t\t7.272371596787297\n",
      "\t\tWSSmax\n",
      "\t\t\t22.183718206057737\n",
      "case11\n",
      "\tNewtonian\n",
      "\t\tArea\n",
      "\t\t\t0.0001889650510641538\n",
      "\t\tWSSav\n",
      "\t\t\t4.241729276728291\n",
      "\t\tWSSmax\n",
      "\t\t\t41.258117729737194\n",
      "\tCasson\n",
      "\t\tArea\n",
      "\t\t\t0.00018896505106415134\n",
      "\t\tWSSav\n",
      "\t\t\t4.471918690227898\n",
      "\t\tWSSmax\n",
      "\t\t\t44.86009361693177\n",
      "\tCarreauYasuda\n",
      "\t\tArea\n",
      "\t\t\t0.00018896505106415134\n",
      "\t\tWSSav\n",
      "\t\t\t4.282404841414577\n",
      "\t\tWSSmax\n",
      "\t\t\t41.48787243761516\n",
      "case13\n",
      "\tNewtonian\n",
      "\t\tArea\n",
      "\t\t\t9.796035828365333e-05\n",
      "\t\tWSSav\n",
      "\t\t\t5.937566178155404\n",
      "\t\tWSSmax\n",
      "\t\t\t36.517186134637925\n",
      "\tCasson\n",
      "\t\tArea\n",
      "\t\t\t9.795790045243593e-05\n",
      "\t\tWSSav\n",
      "\t\t\t6.7691239169846895\n",
      "\t\tWSSmax\n",
      "\t\t\t41.24818426051618\n",
      "\tCarreauYasuda\n",
      "\t\tArea\n",
      "\t\t\t9.795790045243593e-05\n",
      "\t\tWSSav\n",
      "\t\t\t6.518965856001932\n",
      "\t\tWSSmax\n",
      "\t\t\t38.10765819750742\n",
      "case17\n",
      "\tNewtonian\n",
      "\t\tArea\n",
      "\t\t\t6.763363451401172e-05\n",
      "\t\tWSSav\n",
      "\t\t\t6.248241658174535\n",
      "\t\tWSSmax\n",
      "\t\t\t20.129828158811033\n",
      "\tCasson\n",
      "\t\tArea\n",
      "\t\t\t6.763363451401172e-05\n",
      "\t\tWSSav\n",
      "\t\t\t6.357030230702801\n",
      "\t\tWSSmax\n",
      "\t\t\t21.172997590830615\n",
      "\tCarreauYasuda\n",
      "\t\tArea\n",
      "\t\t\t6.763363451401172e-05\n",
      "\t\tWSSav\n",
      "\t\t\t6.274207720121093\n",
      "\t\tWSSmax\n",
      "\t\t\t19.919017371473387\n"
     ]
    }
   ],
   "source": [
    "# Data for all aneurysms cases and models tested\n",
    "prettyDict(statistics)"
   ]
  },
  {
   "cell_type": "code",
   "execution_count": 129,
   "metadata": {},
   "outputs": [
    {
     "data": {
      "image/png": "[encoded data removed]",
      "text/plain": [
       "<Figure size 1200x800 with 2 Axes>"
      ]
     },
     "metadata": {},
     "output_type": "display_data"
    }
   ],
   "source": [
    "analyzedCases = rupturedCases+unrupturedCases \n",
    "bwidth=0.15\n",
    "\n",
    "# Instantiate subplots\n",
    "fig,(ax1,ax2) = plt.subplots(nrows=2, ncols=1, sharex=True, figsize=(15,10))\n",
    "\n",
    "X = np.arange(8)\n",
    "\n",
    "ax1.bar(X + 0.00, [statistics[case][\"Newtonian\"][\"WSSav\"] for case in analyzedCases], color = 'b', width=bwidth, label=\"Newtonian\")\n",
    "ax1.bar(X + 0.15, [statistics[case][\"Casson\"][\"WSSav\"] for case in analyzedCases], color = 'g', width=bwidth, label=\"Casson\")\n",
    "ax1.bar(X + 0.30, [statistics[case][\"CarreauYasuda\"][\"WSSav\"] for case in analyzedCases], color = 'r', width=bwidth, label=\"CarreauYasuda\")\n",
    "\n",
    "ax1.set_ylabel('WSSav (Pa)')\n",
    "ax1.legend()\n",
    "\n",
    "ax2.bar(X + 0.00, [statistics[case][\"Newtonian\"][\"WSSmax\"] for case in analyzedCases], color = 'b', width=bwidth, label=\"Newtonian\")\n",
    "ax2.bar(X + 0.15, [statistics[case][\"Casson\"][\"WSSmax\"] for case in analyzedCases], color = 'g', width=bwidth, label=\"Casson\")\n",
    "ax2.bar(X + 0.30, [statistics[case][\"CarreauYasuda\"][\"WSSmax\"] for case in analyzedCases], color = 'r', width=bwidth, label=\"CarreauYasuda\")\n",
    "\n",
    "ax2.set_ylabel('WSSmax (Pa)')\n",
    "ax2.legend()\n",
    "plt.xticks(X+0.20, analyzedCases)\n",
    "\n",
    "plt.show()"
   ]
  },
  {
   "cell_type": "markdown",
   "metadata": {},
   "source": [
    "<hr>"
   ]
  },
  {
   "cell_type": "markdown",
   "metadata": {},
   "source": [
    "<hr>"
   ]
  },
  {
   "cell_type": "markdown",
   "metadata": {},
   "source": [
    "# Post-process aneurysm surface integrals over time\n",
    "\n",
    "The procedure below calculates the integral over the aneurysm surface $S_a$ of the WSS magnitude, which is a time-dependent integral:\n",
    "\n",
    "\\begin{equation}\n",
    "    \\left \\langle \\vec{WSS} \\right \\rangle (t)\n",
    "    =\n",
    "    \\frac{1}{A_a}\n",
    "    \\int_{S_a}{}\n",
    "        \\left \\| \\vec{WSS} \\right \\|\n",
    "    \\mathrm{d}S_a   \n",
    "\\end{equation}\n",
    "\n",
    "which is a measure of the total traction due to the tangential component of viscous traction on the aneurysm surface $S_a$. \n",
    "\n",
    "The procedure loads an OpenFOAM case of the aneurysm simulation and another surface must be loaded where is stored the array to clip the aneurysm neck: this can be performed in VMTK on a surface where the time averaged field were computed (time-average of WSS magnitude, magnitude of time-averaged WSS vector and OSI). "
   ]
  },
  {
   "cell_type": "code",
   "execution_count": 5,
   "metadata": {},
   "outputs": [],
   "source": [
    "pathToFoamCase = \"/home/iagolessa/foam/iagolessa-4.0/run/aneurysms/unruptured/fluidFlow/Newtonian/case11/mesh600k/\" \n",
    "foamFileName = \"mesh600k.foam\"\n",
    "ofCaseFile=pathToFoamCase+foamFileName"
   ]
  },
  {
   "cell_type": "code",
   "execution_count": 11,
   "metadata": {},
   "outputs": [
    {
     "data": {
      "text/plain": [
       "(['OSI', 'RRT', 'WSS_average', 'WSS_magnitude_average', 'wallShearComponent_average'],\n",
       " ['AneurysmNeckContour'])"
      ]
     },
     "execution_count": 11,
     "metadata": {},
     "output_type": "execute_result"
    }
   ],
   "source": [
    "# Load surface with clip array and OSI data\n",
    "# The surface with clip array must be constructed using VMTK,\n",
    "# based on the surface with already \n",
    "\n",
    "aneurysmClipSurface = pv.XMLPolyDataReader(FileName=\"/home/iagolessa/Documents/unesp/doctorate/data/aneurysms/results/test/case11_timeAveragedWSSandOSI_Newtonian.vtp\")\n",
    "aneurysmClipSurface.CellArrayStatus, clipArraySurface.PointArrayStatus"
   ]
  },
  {
   "cell_type": "code",
   "execution_count": 24,
   "metadata": {},
   "outputs": [],
   "source": [
    "aneurysmNeckArrayName = 'AneurysmNeckContour'"
   ]
  },
  {
   "cell_type": "code",
   "execution_count": null,
   "metadata": {},
   "outputs": [],
   "source": [
    "def area_averaged_wss_aneurysm(ofCaseFile,aneurysmClipSurface,aneurysmNeckArrayName,density=1056.0):\n",
    "    \"\"\"\n",
    "        Function to compute surface integrals of \n",
    "        WSS over an aneurysm surface. It takes the \n",
    "        OpenFOAM case file and an extra surface where \n",
    "        it is stored a field with the aneurysm neck \n",
    "        line loaded as a ParaView PolyData surface.\n",
    "    \"\"\"\n",
    "    "
   ]
  },
  {
   "cell_type": "code",
   "execution_count": 37,
   "metadata": {},
   "outputs": [],
   "source": [
    "# Read OpenFOAM data\n",
    "ofData = pv.OpenFOAMReader(FileName=ofCaseFile)\n",
    "\n",
    "# Update arrays to be used:\n",
    "# - wallShearComponent\n",
    "# - pressure\n",
    "ofData.CellArrays = ['wallShearComponent']\n",
    "ofData.SkipZeroTime = 1\n",
    "# And select the surface where integration will be carried out\n",
    "ofData.MeshRegions = ['wall']\n",
    "\n",
    "# Get time-steps values\n",
    "timeSteps = np.array(ofData.TimestepValues)\n",
    "\n",
    "# Update time-step\n",
    "ofData.UpdatePipeline()\n",
    "\n",
    "# Merge blocks of input case\n",
    "# mergeBlocks = pv.MergeBlocks()\n",
    "# mergeBlocks.Input = ofData\n",
    "# mergeBlocks.MergePoints = 1\n",
    "# mergeBlocks.UpdatePipeline()\n",
    "# Resample data: copy array of Input data (surface with time-averaged data) \n",
    "# to Source data (the OpenFOAM simulated case)     "
   ]
  },
  {
   "cell_type": "code",
   "execution_count": 41,
   "metadata": {},
   "outputs": [],
   "source": [
    "areaAveragedWSSList = []\n",
    "\n",
    "# # Iterate over time-steps to compute time dependent variables\n",
    "# # only on the aneurysm surface: mag of WSS over time \n",
    "for timeStep in timeSteps[0:25]: # get last cycle only\n",
    "#         # Resample data: copy array of Input data (surface with time-averaged data) \n",
    "#         # to Source data (the OpenFOAM simulated case)\n",
    "    ofData.UpdatePipeline(time=timeStep)\n",
    "    \n",
    "    mergeBlocks = pv.MergeBlocks()\n",
    "    mergeBlocks.Input = ofData\n",
    "    mergeBlocks.MergePoints = 1\n",
    "    mergeBlocks.UpdatePipeline(time=timeStep)\n",
    "    \n",
    "    resampleDataset = pv.ResampleWithDataset()\n",
    "    resampleDataset.Input = aneurysmClipSurface\n",
    "    resampleDataset.Source = mergeBlocks\n",
    "    resampleDataset.CategoricalData = 0\n",
    "    resampleDataset.ComputeTolerance = 1\n",
    "    resampleDataset.PassCellArrays = 1\n",
    "    resampleDataset.PassPointArrays = 1\n",
    "    resampleDataset.UpdatePipeline(time=timeStep)\n",
    "\n",
    "    # Clipping aneurysm surface on its neck \n",
    "    clipAneurysmNeck = pv.Clip()\n",
    "    clipAneurysmNeck.Input = resampleDataset\n",
    "    clipAneurysmNeck.ClipType = 'Scalar'\n",
    "    clipAneurysmNeck.Scalars = [aneurysmNeckArrayName]\n",
    "    clipAneurysmNeck.Invert = 1   # gets smaller portion\n",
    "    clipAneurysmNeck.Value = 0.5  # based on the definition of field ContourScalars\n",
    "    clipAneurysmNeck.UpdatePipeline(time=timeStep)\n",
    "\n",
    "    density = 1056.\n",
    "    # Compute magnitude of WSS in each cell of the aneurysm surface\n",
    "    magWSS = pv.Calculator()\n",
    "    magWSS.Input = clipAneurysmNeck\n",
    "    magWSS.ResultArrayName = 'magWSS'\n",
    "    magWSS.Function = str(density)+'*mag('+clipAneurysmNeck.CellData.GetArray('wallShearComponent').Name+')'\n",
    "    magWSS.AttributeType = 'Cell Data'\n",
    "    magWSS.UpdatePipeline(time=timeStep)\n",
    "\n",
    "    # Integrate WSS on the wall\n",
    "    integrateWSS = pv.IntegrateVariables()\n",
    "    integrateWSS.Input = magWSS\n",
    "    integrateWSS.UpdatePipeline(time=timeStep)\n",
    "\n",
    "    # Get area of surface, in m2\n",
    "    aneurysmArea = integrateWSS.CellData.GetArray(\"Area\").GetRange()[0]\n",
    "\n",
    "    # Instantiate calculater filter\n",
    "    areaAveragedWSS = pv.Calculator()\n",
    "    areaAveragedWSS.Input = integrateWSS\n",
    "    areaAveragedWSS.ResultArrayName = 'areaAveragedWSS'\n",
    "    areaAveragedWSS.Function = integrateWSS.CellData.GetArray('magWSS').Name+'/'+str(aneurysmArea)\n",
    "    areaAveragedWSS.AttributeType = 'Cell Data'\n",
    "    areaAveragedWSS.UpdatePipeline(time=timeStep)\n",
    "\n",
    "    areaAveragedWSSList.append([timeStep, areaAveragedWSS.CellData.GetArray('areaAveragedWSS').GetRange()[0]])\n",
    "# del resampleDataset, clipAneurysmNeck, integrateWSS, magWSS, areaAveragedWSS\n",
    "\n",
    "# return np.asarray(areaAveragedWSSList)"
   ]
  },
  {
   "cell_type": "code",
   "execution_count": 43,
   "metadata": {},
   "outputs": [],
   "source": [
    "del resampleDataset,areaAveragedWSS,ofData"
   ]
  },
  {
   "cell_type": "code",
   "execution_count": 42,
   "metadata": {},
   "outputs": [
    {
     "data": {
      "text/plain": [
       "[[0.01, 3.961980378145478],\n",
       " [0.02, 4.36926237907882],\n",
       " [0.03, 4.715919649737067],\n",
       " [0.04, 5.201493650760484],\n",
       " [0.05, 5.694370589487438],\n",
       " [0.06, 6.212682693783065],\n",
       " [0.07, 6.996393009615028],\n",
       " [0.08, 8.476859231884907],\n",
       " [0.09, 9.695819243790678],\n",
       " [0.1, 11.034190764687338],\n",
       " [0.11, 12.030919549429388],\n",
       " [0.12, 12.543582251253058],\n",
       " [0.13, 12.85739474268449],\n",
       " [0.14, 12.56985872207902],\n",
       " [0.15, 12.181819138097302],\n",
       " [0.16, 11.664796983374027],\n",
       " [0.17, 11.186948311440148],\n",
       " [0.18, 10.617673202707584],\n",
       " [0.19, 9.986168154520481],\n",
       " [0.2, 9.346239460905316],\n",
       " [0.21, 8.830286939614219],\n",
       " [0.22, 8.589851018911126],\n",
       " [0.23, 8.44275871892645],\n",
       " [0.24, 8.403910572232595],\n",
       " [0.25, 8.538877461963823]]"
      ]
     },
     "execution_count": 42,
     "metadata": {},
     "output_type": "execute_result"
    }
   ],
   "source": [
    "areaAveragedWSSList"
   ]
  },
  {
   "cell_type": "markdown",
   "metadata": {},
   "source": [
    "Now, let's post process the OpenFOAM data to get the aneurysm-surface averaged WSS over time."
   ]
  },
  {
   "cell_type": "code",
   "execution_count": null,
   "metadata": {},
   "outputs": [],
   "source": [
    "nCases = 6\n",
    "nModels = 3\n",
    "WSSt = np.zeros(shape=(nCases,99,3))"
   ]
  },
  {
   "cell_type": "code",
   "execution_count": null,
   "metadata": {},
   "outputs": [],
   "source": [
    "# Calculate statistics for all files above\n",
    "for file,output in zip(caseFiles[0:1],saveFiles[0:1]):\n",
    "    print(file,output)\n",
    "    # Load surface\n",
    "    timeAveragedSurface = pv.XMLPolyDataReader(FileName=output)\n",
    "    # Get file case identifier\n",
    "    identifier = os.path.basename(output).strip(\".vtp\").split(\"_\")\n",
    "    \n",
    "    # Compute WSS in time\n",
    "    wssTime = area_averaged_wss_aneurysm(file, timeAveragedSurface, \"AneurysmNeckContour\")\n",
    "    \n",
    "    # Save data in dictionary\n",
    "    WSSt[0,:,0] = wssTime"
   ]
  },
  {
   "cell_type": "code",
   "execution_count": null,
   "metadata": {},
   "outputs": [],
   "source": [
    "WSSt"
   ]
  },
  {
   "cell_type": "code",
   "execution_count": null,
   "metadata": {},
   "outputs": [],
   "source": [
    "import matplotlib.pyplot as plt\n",
    "import seaborn as sb\n",
    "plt.style.use('classic')"
   ]
  },
  {
   "cell_type": "code",
   "execution_count": null,
   "metadata": {},
   "outputs": [],
   "source": [
    "#%matplotlib widget\n",
    "\n",
    "fig = plt.figure()\n",
    "\n",
    "plt.plot(array[:,0], array[:,1], 'b')\n",
    "\n",
    "plt.xlabel('Time')\n",
    "plt.ylabel('Area-averaged WSS (Pa)')\n",
    "\n",
    "plt.grid()\n",
    "plt.show()"
   ]
  },
  {
   "cell_type": "code",
   "execution_count": null,
   "metadata": {},
   "outputs": [],
   "source": []
  }
 ],
 "metadata": {
  "kernelspec": {
   "display_name": "Python [conda env:paraview]",
   "language": "python",
   "name": "conda-env-paraview-py"
  },
  "language_info": {
   "codemirror_mode": {
    "name": "ipython",
    "version": 3
   },
   "file_extension": ".py",
   "mimetype": "text/x-python",
   "name": "python",
   "nbconvert_exporter": "python",
   "pygments_lexer": "ipython3",
   "version": "3.6.6"
  }
 },
 "nbformat": 4,
 "nbformat_minor": 2
}
