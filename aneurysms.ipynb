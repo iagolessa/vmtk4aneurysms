{
 "cells": [
  {
   "cell_type": "code",
   "execution_count": 1,
   "metadata": {},
   "outputs": [],
   "source": [
    "import paraview.simple as pv\n",
    "import numpy as np"
   ]
  },
  {
   "cell_type": "markdown",
   "metadata": {},
   "source": [
    "Small script to calculate the area-averaged WSS for aneurysm case with different meshes for mesh convergence study.\n",
    "The area-averaged WSS is defined as:\n",
    "\n",
    "\\begin{equation}\n",
    "    WSS_A \n",
    "    =\n",
    "    \\frac{1}{A}\n",
    "    \\int_{S}{}\n",
    "        WSS \\mathrm{d}S   \n",
    "\\end{equation}\n",
    "\n",
    "where A is the area of the surface. Note that WSS_A will be a function of time. According to authors like Roach and Ferziger, in a Richardson extrapolation-like analysis, it is possible to use integral or derivatives of the priumitive variables to analyze mesh convergence. Ideally, one should analyze both primitive variables in specific locations and quadratures of these that are the variables that will be used in the study being carried-out. First, we will integrate the variables on the chosen surface and in the sequence, we must multiply the magWSS resultant field by the density $\\rho = 1056 kg/m^3$, because the loaded 'wallShearComponent' in OpenFOAM is calculated per specific mass unity. "
   ]
  },
  {
   "cell_type": "code",
   "execution_count": 4,
   "metadata": {},
   "outputs": [
    {
     "data": {
      "text/plain": [
       "(['internalMesh', 'wall', 'inlet1', 'inlet2', 'outlet1', 'outlet2', 'outlet3'],\n",
       " ['U', 'p', 'strainRate', 'wallShearComponent'])"
      ]
     },
     "execution_count": 4,
     "metadata": {},
     "output_type": "execute_result"
    }
   ],
   "source": [
    "# Inform the path to the .foam files\n",
    "# THis calculation considers three meshes used for the study\n",
    "# meshCoarse = pv.OpenFOAMReader(FileName='/home/iagolessa/foam/iagolessa-4.0/run/aneurysms/ruptured/fluidFlow/Newtonian/case1/mesh700k/mesh700k.foam')\n",
    "# meshIntermediate = pv.OpenFOAMReader(FileName='/home/iagolessa/foam/iagolessa-4.0/run/aneurysms/ruptured/fluidFlow/Newtonian/case1/mesh1500k/mesh1500k.foam')\n",
    "# meshFine = pv.OpenFOAMReader(FileName='/home/iagolessa/foam/iagolessa-4.0/run/aneurysms/ruptured/fluidFlow/Newtonian/case1/mesh3000k/mesh3000k.foam')\n",
    "\n",
    "pathToFoamCase = \"/home/iagolessa/foam/iagolessa-4.0/run/aneurysms/unruptured/fluidFlow/Newtonian/case17/mesh1100k/\" \n",
    "foamFileName = \"case17Newtonian.foam\"\n",
    "ofData = pv.OpenFOAMReader(FileName=pathToFoamCase+foamFileName)\n",
    "\n",
    "# meshCoarse.SkipZeroTime = 0\n",
    "# meshCoarse.Adddimensionalunitstoarraynames = 1\n",
    "ofData.MeshRegions.Available, ofData.CellArrays"
   ]
  },
  {
   "cell_type": "code",
   "execution_count": null,
   "metadata": {},
   "outputs": [],
   "source": [
    "def area_averaged_wss(case):\n",
    "    \"\"\" Function that calculates the area-averaged WSS\n",
    "        for a surface where the wall shear stress field\n",
    "        is defined. The function takes its input an \n",
    "        OpenFOAM case reader with the surface and fields.\n",
    "        It automatically selects the wallShearComponent field\n",
    "        and the surface wall.\n",
    "    \"\"\"\n",
    "    # Update arrays to be used:\n",
    "    # - wallShearComponent\n",
    "    case.CellArrays = ['wallShearComponent']\n",
    "    \n",
    "    # And select the surface where integration will be carried out\n",
    "    case.MeshRegions = ['wall']\n",
    "    \n",
    "    # Get time-steps values\n",
    "    timeSteps = np.array(case.TimestepValues)\n",
    "    # Update time-step\n",
    "    case.UpdatePipeline()\n",
    "\n",
    "    # Integrate WSS on the wall\n",
    "    integrateWSS = pv.IntegrateVariables()\n",
    "    integrateWSS.Input = case\n",
    "    integrateWSS.UpdatePipeline()\n",
    "\n",
    "    # Get area of surface, in m2\n",
    "    wallArea = integrateWSS.CellData.GetArray('Area').GetRange()[0]\n",
    "\n",
    "    # Instantiate calculater filter\n",
    "    calcWSS = pv.Calculator()\n",
    "\n",
    "    areaAveragedWSS = []\n",
    "    for timeStep in timeSteps:  \n",
    "        # Calculate WSS magnitude\n",
    "        calcWSS.Input = integrateWSS\n",
    "        calcWSS.ResultArrayName = 'areaAveragedWSS'\n",
    "        calcWSS.Function = '(1/'+str(wallArea)+')*1056*mag('+integrateWSS.CellData.GetArray('wallShearComponent').Name+')'\n",
    "        calcWSS.AttributeType = 'Cell Data'\n",
    "        calcWSS.UpdatePipeline(time=timeStep)\n",
    "        areaAveragedWSS.append([timeStep, \n",
    "                                calcWSS.CellData.GetArray('areaAveragedWSS').GetRange()[0]])\n",
    "    \n",
    "    return np.asarray(areaAveragedWSS)"
   ]
  },
  {
   "cell_type": "markdown",
   "metadata": {},
   "source": [
    "<hr>\n",
    "In this part of this notebook we will created a sequence of commands to calculate the *oscillatory shear index* (OSI) of a WSS field in an aneurysm surface, from CFD results and using ParaView's Temporal Statistics filter.\n",
    "\n",
    "The OSI is defined as:"
   ]
  },
  {
   "cell_type": "code",
   "execution_count": 17,
   "metadata": {},
   "outputs": [],
   "source": [
    "def osi(ofCaseFile, \n",
    "        timeIndexRange, \n",
    "        outputFileName, \n",
    "        wssFieldName='wallShearComponent', \n",
    "        patchName='wall'):\n",
    "    \"\"\" Function to calculate the oscillatory shear index\n",
    "        for a time interval [0,T] indentified by time step indices.\n",
    "        The method (based o VTK), ignores the time-step size\n",
    "        and consider uniform time stepping (so, if the time-step\n",
    "        is large, the resulting field may be large). The OSI \n",
    "        field is defined as:\n",
    "        \n",
    "            OSI = 0.5*( 1 - norm2(int WSS dt) / int norm2(WSS) dt )\n",
    "            \n",
    "        where int implies the integral over time between instants\n",
    "        t1 and t2 (usually for a cardiac cycle, therefore \n",
    "        [t1, t2] = [0, T]) and norm2 is the L2 norm an Euclidean\n",
    "        vector field; WSS is the wall shear stress defined on the\n",
    "        input surface.\n",
    "        \n",
    "        \n",
    "        Input args:\n",
    "        - OpenFOAM case file (str): name of OpenFOAM .foam case;\n",
    "        - wssFieldName (str): string containing the name of the\n",
    "            wall shear stress field (default=\"wallShearComponent\");\n",
    "        - patchName (str): patch name where to calculate OSI\n",
    "            (default=\"wall\");\n",
    "        - timeIndexRange (list): list of initial and final time-\n",
    "            steps indices limits of the integral [0, T];\n",
    "        - outputFileName (str): file name for the output file with \n",
    "            osi field (must be a .vtp file).\n",
    "    \"\"\"\n",
    "    case = pv.OpenFOAMReader(FileName=ofCaseFile)\n",
    "    \n",
    "    # First we define only the field that are going to be used: the WSS on the aneurysm wall\n",
    "    case.CellArrays = [wssFieldName]\n",
    "    case.MeshRegions = [patchName]\n",
    "    case.Createcelltopointfiltereddata = 0\n",
    "    \n",
    "    # Calculating the magnitude of the wss vector\n",
    "    calcMagWSS = pv.Calculator()\n",
    "\n",
    "    calcMagWSS.Input = case\n",
    "    calcMagWSS.AttributeType = 'Cell Data'\n",
    "    calcMagWSS.ResultArrayName = wssFieldName+\"_magnitude\"\n",
    "    \n",
    "    ## Get WSS field name\n",
    "    wss = case.CellData.GetArray(wssFieldName).GetName()\n",
    "    calcMagWSS.Function = \"mag(\"+wss+\")\"\n",
    "    calcMagWSS.UpdatePipeline()\n",
    "\n",
    "    # Extract desired time range\n",
    "    timeInterval = pv.ExtractTimeSteps()\n",
    "    timeInterval.Input = calcMagWSS\n",
    "    timeInterval.SelectionMode = \"Select Time Range\"\n",
    "    timeInterval.TimeStepRange = timeIndexRange #[99, 199] # range in index\n",
    "    timeInterval.UpdatePipeline()\n",
    "    \n",
    "    # Now compute the temporal statistics\n",
    "    calcAvgWSS = pv.TemporalStatistics()\n",
    "\n",
    "    calcAvgWSS.Input = timeInterval\n",
    "    calcAvgWSS.ComputeAverage = 1\n",
    "    calcAvgWSS.ComputeMinimum = 0\n",
    "    calcAvgWSS.ComputeMaximum = 0\n",
    "    calcAvgWSS.ComputeStandardDeviation = 0\n",
    "    calcAvgWSS.UpdatePipeline()\n",
    "\n",
    "    calcOSI = pv.Calculator()\n",
    "    calcOSI.Input = calcAvgWSS\n",
    "    calcOSI.ResultArrayName = 'OSI'\n",
    "    calcOSI.AttributeType = 'Cell Data'\n",
    "\n",
    "    # Getting fields:\n",
    "    # - Get the average of the vector WSS field\n",
    "    avgVecWSS = calcAvgWSS.CellData.GetArray(wssFieldName+\"_average\").GetName()\n",
    "    # - Get the average of the magnitude of the WSS field \n",
    "    avgMagWSS = calcAvgWSS.CellData.GetArray(calcMagWSS.ResultArrayName+\"_average\").GetName()\n",
    "\n",
    "    # Compute OSI\n",
    "    calcOSI.Function = \"0.5*( 1 - ( mag( \"+avgVecWSS+\" ) )/\"+avgMagWSS+\" )\"\n",
    "    calcOSI.UpdatePipeline()\n",
    "\n",
    "    mergeBlocks = pv.MergeBlocks()\n",
    "    mergeBlocks.Input = calcOSI\n",
    "    mergeBlocks.UpdatePipeline()\n",
    "\n",
    "    extractSurface = pv.ExtractSurface()\n",
    "    extractSurface.Input = mergeBlocks\n",
    "    extractSurface.UpdatePipeline()\n",
    "    \n",
    "    triangulate = pv.Triangulate()\n",
    "    triangulate.Input = extractSurface\n",
    "    triangulate.UpdatePipeline()\n",
    "    \n",
    "    pv.SaveData(outputFileName,triangulate)"
   ]
  },
  {
   "cell_type": "code",
   "execution_count": null,
   "metadata": {},
   "outputs": [],
   "source": [
    "meshIntermediateWSS = area_averaged_wss(meshIntermediate)\n",
    "meshFineWSS = area_averaged_wss(meshFine)\n",
    "\n",
    "import matplotlib.pyplot as plt\n",
    "import seaborn as sb\n",
    "\n",
    "plt.style.use('classic')\n",
    "\n",
    "%matplotlib widget\n",
    "\n",
    "fig = plt.figure()\n",
    "\n",
    "plt.plot(meshIntermediateWSS[:,0], meshIntermediateWSS[:,1], 'b')\n",
    "plt.plot(meshFineWSS[:,0], meshFineWSS[:,1], 'r')\n",
    "\n",
    "plt.xlabel('Time')\n",
    "plt.ylabel('Area-averaged WSS (Pa)')\n",
    "\n",
    "plt.grid()\n",
    "plt.show()"
   ]
  },
  {
   "cell_type": "code",
   "execution_count": 10,
   "metadata": {},
   "outputs": [
    {
     "data": {
      "text/plain": [
       "(['internalMesh', 'wall', 'inlet1', 'inlet2', 'outlet1', 'outlet2', 'outlet3'],\n",
       " ['U', 'nu', 'p', 'strainRate', 'wallShearComponent'])"
      ]
     },
     "execution_count": 10,
     "metadata": {},
     "output_type": "execute_result"
    }
   ],
   "source": [
    "pathToFoamCase = \"/home/iagolessa/foam/iagolessa-4.0/run/aneurysms/unruptured/fluidFlow/Casson/case17/\" \n",
    "foamFileName = \"case17Casson.foam\"\n",
    "\n",
    "case = pv.OpenFOAMReader(FileName=pathToFoamCase+foamFileName)\n",
    "\n",
    "wssFieldName = 'wallShearComponent'\n",
    "patchName='wall'\n",
    "timeIndexRange = [0, 199]\n",
    "outputFileName = pathToFoamCase+\"OSI.vtp\"\n",
    "\n",
    "# meshCoarse.SkipZeroTime = 0\n",
    "# meshCoarse.Adddimensionalunitstoarraynames = 1\n",
    "case.MeshRegions.Available, case.CellArrays"
   ]
  },
  {
   "cell_type": "code",
   "execution_count": 19,
   "metadata": {},
   "outputs": [],
   "source": [
    "osi(pathToFoamCase+foamFileName,[0, 199],pathToFoamCase+\"OSI.vtp\")"
   ]
  },
  {
   "cell_type": "code",
   "execution_count": null,
   "metadata": {},
   "outputs": [],
   "source": [
    "pathToFoamCase = \"/home/iagolessa/foam/iagolessa-4.0/run/aneurysms/unruptured/fluidFlow/Casson/case17/\" \n",
    "outputFileName = pathToFoamCase+\"OSI.vtp\"\n",
    "\n",
    "triangulate = vmtkscripts.vmtkSurfaceTriangle()\n",
    "triangulate.SurfaceInputFileName = outputFileName\n",
    "triangulate.IORead()\n",
    "triangulate.Execute()\n",
    "# triangulate.PrintOutputMembers()\n",
    "\n",
    "aneurysmNeck = vmtkscripts.vmtkSurfaceRegionDrawing()\n",
    "aneurysmNeck.Surface = triangulate.Surfac\n",
    "aneurysmNeck.Execute()\n",
    "\n",
    "arraySmoother = vmtkscripts.vmtkSurfaceArraySmoothing()\n",
    "arraySmoother.Surface = aneurysmNeck.Surface\n",
    "arraySmoother.Iterations = 15\n",
    "arraySmoother.SurfaceArrayName = aneurysmNeck.ContourScalarsArrayName\n",
    "arraySmoother.Execute()\n",
    "arraySmoother.SurfaceOutputFileName = pathToFoamCase+'OSI_updated.vtp'\n",
    "arraySmoother.IOWrite()"
   ]
  },
  {
   "cell_type": "code",
   "execution_count": null,
   "metadata": {},
   "outputs": [],
   "source": []
  }
 ],
 "metadata": {
  "kernelspec": {
   "display_name": "Python [conda env:paraview]",
   "language": "python",
   "name": "conda-env-paraview-py"
  },
  "language_info": {
   "codemirror_mode": {
    "name": "ipython",
    "version": 3
   },
   "file_extension": ".py",
   "mimetype": "text/x-python",
   "name": "python",
   "nbconvert_exporter": "python",
   "pygments_lexer": "ipython3",
   "version": "3.6.6"
  }
 },
 "nbformat": 4,
 "nbformat_minor": 2
}
