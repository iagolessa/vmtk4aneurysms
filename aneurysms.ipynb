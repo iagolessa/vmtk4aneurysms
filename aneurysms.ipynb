{
 "cells": [
  {
   "cell_type": "code",
   "execution_count": 1,
   "metadata": {},
   "outputs": [],
   "source": [
    "import paraview.simple as pv\n",
    "import numpy as np"
   ]
  },
  {
   "cell_type": "markdown",
   "metadata": {},
   "source": [
    "Small script to calculate the area-averaged WSS for aneurysm case with different meshes for mesh convergence study.\n",
    "The area-averaged WSS is defined as:\n",
    "\n",
    "\\begin{equation}\n",
    "    WSS_A \n",
    "    =\n",
    "    \\frac{1}{A}\n",
    "    \\int_{S}{}\n",
    "        \\left\\| \\vec{WSS} (\\vec{x},t) \\right\\| \n",
    "        \\mathrm{d}S   \n",
    "\\end{equation}\n",
    "\n",
    "where A is the area of the surface. Note that WSS_A will be a function of time. According to authors like Roach and Ferziger, in a Richardson extrapolation-like analysis, it is possible to use integral or derivatives of the priumitive variables to analyze mesh convergence. Ideally, one should analyze both primitive variables in specific locations and quadratures of these that are the variables that will be used in the study being carried-out. First, we will integrate the variables on the chosen surface and in the sequence, we must multiply the magWSS resultant field by the density $\\rho = 1056 kg/m^3$, because the loaded 'wallShearComponent' in OpenFOAM is calculated per specific mass unity. "
   ]
  },
  {
   "cell_type": "code",
   "execution_count": 63,
   "metadata": {},
   "outputs": [],
   "source": [
    "def area_averaged_wss(case):\n",
    "    \"\"\" Function that calculates the area-averaged WSS\n",
    "        for a surface where the wall shear stress field\n",
    "        is defined. The function takes its input an \n",
    "        OpenFOAM case reader with the surface and fields.\n",
    "        It automatically selects the wallShearComponent field\n",
    "        and the surface wall. It returns an array with time\n",
    "        in one column and the result in the other. \n",
    "    \"\"\"\n",
    "    # Update arrays to be used:\n",
    "    # - wallShearComponent\n",
    "    \n",
    "\n",
    "    case.CellArrays = ['wallShearComponent']\n",
    "\n",
    "    # And select the surface where integration will be carried out\n",
    "    case.MeshRegions = ['wall']\n",
    "\n",
    "    # Get time-steps values\n",
    "    timeSteps = np.array(case.TimestepValues)\n",
    "    # Update time-step\n",
    "    case.UpdatePipeline()\n",
    "\n",
    "    # Integrate WSS on the wall\n",
    "    computeWallArea = pv.IntegrateVariables()\n",
    "    computeWallArea.Input = case\n",
    "    computeWallArea.UpdatePipeline()\n",
    "    # Get area of surface, in m2\n",
    "    wallArea = computeWallArea.CellData.GetArray('Area').GetRange()[0]\n",
    "\n",
    "    areaAveragedWSSList = []\n",
    "    for timeStep in timeSteps:\n",
    "        # Calculate WSS magnitude\n",
    "        # Instantiate calculater filter\n",
    "        calcMagWSS = pv.Calculator()\n",
    "        calcMagWSS.Input = case\n",
    "        calcMagWSS.ResultArrayName = 'magWSS'\n",
    "        calcMagWSS.Function = '1056*mag(wallShearComponent)'\n",
    "        calcMagWSS.AttributeType = 'Cell Data'\n",
    "        calcMagWSS.UpdatePipeline(time=timeStep)\n",
    "\n",
    "        # Integrate WSS on the wall\n",
    "        integrateWSS = pv.IntegrateVariables()\n",
    "        integrateWSS.Input = calcMagWSS\n",
    "        integrateWSS.UpdatePipeline(time=timeStep)\n",
    "\n",
    "        # Instantiate calculater filter\n",
    "        areaAveragedWSS = pv.Calculator()\n",
    "        areaAveragedWSS.Input = integrateWSS\n",
    "        areaAveragedWSS.ResultArrayName = 'areaAveragedWSS'\n",
    "        areaAveragedWSS.Function = 'magWSS/'+str(wallArea)\n",
    "        areaAveragedWSS.AttributeType = 'Cell Data'\n",
    "        areaAveragedWSS.UpdatePipeline(time=timeStep)\n",
    "        areaAveragedWSSList.append([timeStep, \n",
    "                                    areaAveragedWSS.CellData.GetArray('areaAveragedWSS').GetRange()[0]])\n",
    "\n",
    "    return np.asarray(areaAveragedWSSList)"
   ]
  },
  {
   "cell_type": "code",
   "execution_count": 59,
   "metadata": {},
   "outputs": [],
   "source": [
    "pathToFoamCase = \"/home/iago/foam/iago-4.0/run/aneurysms/unruptured/fluidFlow/Newtonian/case11/mesh600k/\" \n",
    "foamFileName = \"mesh600k.foam\""
   ]
  },
  {
   "cell_type": "code",
   "execution_count": 66,
   "metadata": {},
   "outputs": [],
   "source": [
    "data = pv.OpenFOAMReader(FileName=pathToFoamCase+foamFileName)"
   ]
  },
  {
   "cell_type": "code",
   "execution_count": 67,
   "metadata": {},
   "outputs": [
    {
     "data": {
      "text/plain": [
       "5"
      ]
     },
     "execution_count": 67,
     "metadata": {},
     "output_type": "execute_result"
    }
   ],
   "source": [
    "data.CellData.GetNumberOfArrays()"
   ]
  },
  {
   "cell_type": "code",
   "execution_count": 68,
   "metadata": {},
   "outputs": [
    {
     "ename": "AttributeError",
     "evalue": "'NoneType' object has no attribute 'GetRange'",
     "output_type": "error",
     "traceback": [
      "\u001b[0;31m---------------------------------------------------------------------------\u001b[0m",
      "\u001b[0;31mAttributeError\u001b[0m                            Traceback (most recent call last)",
      "\u001b[0;32m<ipython-input-68-7d5f7035a4b7>\u001b[0m in \u001b[0;36m<module>\u001b[0;34m\u001b[0m\n\u001b[0;32m----> 1\u001b[0;31m \u001b[0mmeshIntermediateWSS\u001b[0m \u001b[0;34m=\u001b[0m \u001b[0marea_averaged_wss\u001b[0m\u001b[0;34m(\u001b[0m\u001b[0mdata\u001b[0m\u001b[0;34m)\u001b[0m\u001b[0;34m\u001b[0m\u001b[0;34m\u001b[0m\u001b[0m\n\u001b[0m",
      "\u001b[0;32m<ipython-input-63-d6bae99359e0>\u001b[0m in \u001b[0;36marea_averaged_wss\u001b[0;34m(case)\u001b[0m\n\u001b[1;32m     53\u001b[0m         \u001b[0mareaAveragedWSS\u001b[0m\u001b[0;34m.\u001b[0m\u001b[0mUpdatePipeline\u001b[0m\u001b[0;34m(\u001b[0m\u001b[0mtime\u001b[0m\u001b[0;34m=\u001b[0m\u001b[0mtimeStep\u001b[0m\u001b[0;34m)\u001b[0m\u001b[0;34m\u001b[0m\u001b[0;34m\u001b[0m\u001b[0m\n\u001b[1;32m     54\u001b[0m         areaAveragedWSSList.append([timeStep, \n\u001b[0;32m---> 55\u001b[0;31m                                     areaAveragedWSS.CellData.GetArray('areaAveragedWSS').GetRange()[0]])\n\u001b[0m\u001b[1;32m     56\u001b[0m \u001b[0;34m\u001b[0m\u001b[0m\n\u001b[1;32m     57\u001b[0m     \u001b[0;32mreturn\u001b[0m \u001b[0mnp\u001b[0m\u001b[0;34m.\u001b[0m\u001b[0masarray\u001b[0m\u001b[0;34m(\u001b[0m\u001b[0mareaAveragedWSSList\u001b[0m\u001b[0;34m)\u001b[0m\u001b[0;34m\u001b[0m\u001b[0;34m\u001b[0m\u001b[0m\n",
      "\u001b[0;31mAttributeError\u001b[0m: 'NoneType' object has no attribute 'GetRange'"
     ]
    }
   ],
   "source": [
    "meshIntermediateWSS = area_averaged_wss(data)"
   ]
  },
  {
   "cell_type": "code",
   "execution_count": 57,
   "metadata": {},
   "outputs": [
    {
     "data": {
      "text/plain": [
       "array([[ 0.1       , 11.96694554]])"
      ]
     },
     "execution_count": 57,
     "metadata": {},
     "output_type": "execute_result"
    }
   ],
   "source": [
    "meshIntermediateWSS"
   ]
  },
  {
   "cell_type": "code",
   "execution_count": 56,
   "metadata": {},
   "outputs": [
    {
     "ename": "ModuleNotFoundError",
     "evalue": "No module named 'matplotlib'",
     "output_type": "error",
     "traceback": [
      "\u001b[0;31m---------------------------------------------------------------------------\u001b[0m",
      "\u001b[0;31mModuleNotFoundError\u001b[0m                       Traceback (most recent call last)",
      "\u001b[0;32m<ipython-input-56-49b4a92f9f7c>\u001b[0m in \u001b[0;36m<module>\u001b[0;34m\u001b[0m\n\u001b[0;32m----> 1\u001b[0;31m \u001b[0;32mimport\u001b[0m \u001b[0mmatplotlib\u001b[0m\u001b[0;34m.\u001b[0m\u001b[0mpyplot\u001b[0m \u001b[0;32mas\u001b[0m \u001b[0mplt\u001b[0m\u001b[0;34m\u001b[0m\u001b[0;34m\u001b[0m\u001b[0m\n\u001b[0m\u001b[1;32m      2\u001b[0m \u001b[0;32mimport\u001b[0m \u001b[0mseaborn\u001b[0m \u001b[0;32mas\u001b[0m \u001b[0msb\u001b[0m\u001b[0;34m\u001b[0m\u001b[0;34m\u001b[0m\u001b[0m\n",
      "\u001b[0;31mModuleNotFoundError\u001b[0m: No module named 'matplotlib'"
     ]
    }
   ],
   "source": [
    "import matplotlib.pyplot as plt\n",
    "import seaborn as sb"
   ]
  },
  {
   "cell_type": "code",
   "execution_count": null,
   "metadata": {},
   "outputs": [],
   "source": [
    "plt.style.use('classic')"
   ]
  },
  {
   "cell_type": "code",
   "execution_count": null,
   "metadata": {},
   "outputs": [],
   "source": [
    "#%matplotlib widget\n",
    "fig = plt.figure()\n",
    "\n",
    "plt.plot(meshIntermediateWSS[:,0], meshIntermediateWSS[:,1], 'b')\n",
    "\n",
    "plt.xlabel('Time')\n",
    "plt.ylabel('Area-averaged WSS (Pa)')\n",
    "\n",
    "plt.grid()\n",
    "plt.show()"
   ]
  },
  {
   "cell_type": "markdown",
   "metadata": {},
   "source": [
    "In this part of this notebook we will created a sequence of commands to calculate the *oscillatory shear index* (OSI) of a WSS field in an aneurysm surface, from CFD results and using ParaView's Temporal Statistics filter. The function also computes time-averaged data of the WSS, necessary in the OSI definition, and also the *relative residence time (RRT)*.\n",
    "\n",
    "The OSI is defined as:\n",
    "\n",
    "\\begin{equation}\n",
    "    OSI(\\vec{x})\n",
    "    =\n",
    "    \\frac{1}{2}\n",
    "    \\left(\n",
    "        1 \n",
    "        -\n",
    "        \\frac{\n",
    "            \\left \\| \n",
    "            \\displaystyle\\int_0^{T}\n",
    "            {\n",
    "                \\overrightarrow{WSS} (\\vec{x},t)\n",
    "                \\mathrm{d}t\n",
    "            }\n",
    "            \\right \\|\n",
    "        }{\n",
    "            \\displaystyle\\int_0^{T}\n",
    "            {\n",
    "                \\left \\| \\vec{WSS} (\\vec{x},t) \\right \\|\n",
    "                \\mathrm{d}t\n",
    "            }\n",
    "        }\n",
    "    \\right)\n",
    "\\end{equation}\n",
    "\n",
    "it measures how the WSS direction changes in time. The RRT is defined as:\n",
    "\n",
    "\\begin{equation}\n",
    "    RRT(\\vec{x})\n",
    "    =\n",
    "    \\frac{1}{\n",
    "            \\frac{1}{T}\n",
    "                \\left \\| \n",
    "                    \\displaystyle\\int_0^{T}\n",
    "                    {\n",
    "                        \\vec{WSS} (\\vec{x},t)\n",
    "                        \\mathrm{d}t\n",
    "                    }\n",
    "                \\right \\|\n",
    "      }\n",
    "     =\n",
    "     \\frac{1}{(1 - 2OSI)\\overline{WSS}}\n",
    "\\end{equation}\n"
   ]
  },
  {
   "cell_type": "code",
   "execution_count": 69,
   "metadata": {},
   "outputs": [],
   "source": [
    "def osi(ofCaseFile, \n",
    "        timeIndexRange, \n",
    "        outputFileName,\n",
    "        timeStep=0.01,\n",
    "        density=1056.0, # kg/m3\n",
    "        wssFieldName='wallShearComponent', \n",
    "        patchName='wall'):\n",
    "    \"\"\" \n",
    "        Function to calculate the oscillatory shear index and\n",
    "        other time integrals variables of WSS over a time inter-\n",
    "        val [Ti,Tf] indentified by time-step indices. The method\n",
    "        (based o VTK), ignores the time-step size and \n",
    "        consider uniform time stepping (so, if the time-step is \n",
    "        large, the resulting fields may be very different if a va-\n",
    "        riable time-step would be considered). The OSI field is \n",
    "        defined as:\n",
    "        \n",
    "            OSI = 0.5*( 1 - norm2(int WSS dt) / int norm2(WSS) dt)\n",
    "            \n",
    "        where \"int\" implies the integral over time between two\n",
    "        instants t1 and t2 (usually for a cardiac cycle, therefore \n",
    "        [t1, t2] = [Ti, Tf]) and norm2 is the L2 norm of an Eucli-\n",
    "        dean vector field; WSS is the wall shear stress defined on \n",
    "        the input surface. Since this function use OpenFOAM data, \n",
    "        please specify the density considered.\n",
    "        \n",
    "        Input args:\n",
    "        - OpenFOAM case file (str): name of OpenFOAM .foam case;\n",
    "        - wssFieldName (str, optional): string containing the name \n",
    "            of the wall shear stress field (default=\"wallShearComp-\n",
    "            onent\");\n",
    "        - patchName (str, optional): patch name where to calculate \n",
    "            the OSI (default=\"wall\");\n",
    "        - timeIndexRange (list): list of initial and final time-\n",
    "            steps indices limits of the integral [Ti, Tf];\n",
    "        - outputFileName (str): file name for the output file with \n",
    "            osi field (must be a .vtp file).\n",
    "        - blood density (float, optional): default 1056.0 kg/m3\n",
    "    \"\"\"\n",
    "    case = pv.OpenFOAMReader(FileName=ofCaseFile)\n",
    "\n",
    "    # First we define only the field that are going to be used: the WSS on the aneurysm wall\n",
    "    case.CellArrays = [wssFieldName]\n",
    "    case.MeshRegions = [patchName]\n",
    "    case.Createcelltopointfiltereddata = 0\n",
    "\n",
    "    # Multiplying WSS per density\n",
    "    densityTimesWSS = pv.Calculator()\n",
    "    densityTimesWSS.Input = case\n",
    "    densityTimesWSS.AttributeType = 'Cell Data'\n",
    "    densityTimesWSS.ResultArrayName = \"WSS\"\n",
    "    densityTimesWSS.Function = str(density)+\"*\"+wssFieldName\n",
    "    densityTimesWSS.UpdatePipeline()\n",
    "\n",
    "    # Calculating the magnitude of the wss vector\n",
    "    calcMagWSS = pv.Calculator()\n",
    "    calcMagWSS.Input = densityTimesWSS\n",
    "    calcMagWSS.AttributeType = 'Cell Data'\n",
    "    calcMagWSS.ResultArrayName = densityTimesWSS.ResultArrayName+\"_magnitude\"\n",
    "\n",
    "    ## Get WSS field name\n",
    "    wss = densityTimesWSS.ResultArrayName\n",
    "    calcMagWSS.Function = \"mag(\"+wss+\")\"\n",
    "    calcMagWSS.UpdatePipeline()\n",
    "\n",
    "    # Extract desired time range\n",
    "    timeInterval = pv.ExtractTimeSteps()\n",
    "    timeInterval.Input = calcMagWSS\n",
    "    timeInterval.SelectionMode = \"Select Time Range\"\n",
    "    timeInterval.TimeStepRange = timeIndexRange #[99, 199] # range in index\n",
    "    timeInterval.UpdatePipeline()\n",
    "\n",
    "    # Period given by time-steps\n",
    "    period = (timeInterval.TimeStepRange[1] - timeInterval.TimeStepRange[0])*timeStep\n",
    "\n",
    "    # Now compute the temporal statistics\n",
    "    # filter computes the average values of all fields\n",
    "    calcAvgWSS = pv.TemporalStatistics()\n",
    "\n",
    "    calcAvgWSS.Input = timeInterval\n",
    "    calcAvgWSS.ComputeAverage = 1\n",
    "    calcAvgWSS.ComputeMinimum = 0\n",
    "    calcAvgWSS.ComputeMaximum = 0\n",
    "    calcAvgWSS.ComputeStandardDeviation = 0\n",
    "    calcAvgWSS.UpdatePipeline()\n",
    "\n",
    "    # Calculates OSI\n",
    "    calcOSI = pv.Calculator()\n",
    "    calcOSI.Input = calcAvgWSS\n",
    "    calcOSI.ResultArrayName = 'OSI'\n",
    "    calcOSI.AttributeType = 'Cell Data'\n",
    "\n",
    "    # Getting fields:\n",
    "    # - Get the average of the vector WSS field\n",
    "    avgVecWSS = calcAvgWSS.CellData.GetArray(wss+\"_average\").GetName()\n",
    "    # - Get the average of the magnitude of the WSS field \n",
    "    avgMagWSS = calcAvgWSS.CellData.GetArray(calcMagWSS.ResultArrayName+\"_average\").GetName()\n",
    "\n",
    "    calcOSI.Function = \"0.5*( 1 - ( mag( \"+avgVecWSS+\" ) )/\"+avgMagWSS+\" )\"\n",
    "    calcOSI.UpdatePipeline()\n",
    "\n",
    "    # Compute Relative Residance Time\n",
    "    calcRRT = pv.Calculator()\n",
    "    calcRRT.Input = calcOSI\n",
    "    calcRRT.ResultArrayName = 'RRT'\n",
    "    calcRRT.AttributeType = 'Cell Data'\n",
    "    calcRRT.Function = str(period)+\"/mag(\"+avgVecWSS+\")\"\n",
    "    calcRRT.UpdatePipeline()\n",
    "\n",
    "    # Final processing of surface: merge blocks\n",
    "    # and get surface for triangulation\n",
    "    mergeBlocks = pv.MergeBlocks()\n",
    "    mergeBlocks.Input = calcRRT\n",
    "    mergeBlocks.UpdatePipeline()\n",
    "\n",
    "    extractSurface = pv.ExtractSurface()\n",
    "    extractSurface.Input = mergeBlocks\n",
    "    extractSurface.UpdatePipeline()\n",
    "\n",
    "    triangulate = pv.Triangulate()\n",
    "    triangulate.Input = extractSurface\n",
    "    triangulate.UpdatePipeline()\n",
    "\n",
    "    pv.SaveData(outputFileName,triangulate)"
   ]
  },
  {
   "cell_type": "code",
   "execution_count": 70,
   "metadata": {},
   "outputs": [],
   "source": [
    "pathToFoamCase = \"/home/iago/foam/iago-4.0/run/aneurysms/unruptured/fluidFlow/Newtonian/case11/mesh600k/\" \n",
    "foamFileName = \"mesh600k.foam\""
   ]
  },
  {
   "cell_type": "code",
   "execution_count": 71,
   "metadata": {},
   "outputs": [],
   "source": [
    "osi(pathToFoamCase+foamFileName,[0, 50],pathToFoamCase+\"OSI_new.vtp\")"
   ]
  },
  {
   "cell_type": "markdown",
   "metadata": {},
   "source": [
    "# Computing integrals over space (aneurysm surface) of time-averaged WSS\n",
    "\n",
    "The following code computes the integrals over the aneurysm surface of the time-averaged WSS, already calculated in a single surface by, for example, using the OSI function, above. Therefore, the code only clips the aneurysm neck in the same points as used above to compute the time-dependent WSS surface integrals. \n",
    "\n",
    "The procedure then will provide a representative value of WSS used for comparison with other publications. With the time-averaged defined as:\n",
    "\n",
    "\\begin{equation}\n",
    "    \\overline{WSS}(\\vec{x})\n",
    "    =\n",
    "    \\frac{1}{T}\n",
    "    \\int_0^{T}\n",
    "    {\n",
    "        \\left \\| \\vec{WSS} (\\vec{x},t) \\right \\|\n",
    "        \\mathrm{d}t\n",
    "    }\n",
    "\\end{equation}\n",
    "\n",
    "which is called \"wallShearComponent_magnitude_average\". This is, therefore, a single spatial field defined on the aneurysm surface. Two quantities are extracted from it: \n",
    "\n",
    "    - the aneurysm surface-averaged: \n",
    "\\begin{equation}\n",
    "    WSS_{av}\n",
    "    =\n",
    "    \\frac{1}{A_a}\n",
    "    \\int_{S_a}{}\n",
    "        \\overline{WSS}(\\vec{x})\n",
    "    \\mathrm{d}S_a   \n",
    "\\end{equation}\n",
    "\n",
    "    - the maximum value of $\\overline{WSS}(\\vec{x})$:\n",
    "\\begin{equation}\n",
    "    WSS_{max} \n",
    "    =\n",
    "    \\max_{\\vec{x} \\in S_a} \\overline{WSS}(\\vec{x})\n",
    "\\end{equation}"
   ]
  },
  {
   "cell_type": "code",
   "execution_count": 7,
   "metadata": {},
   "outputs": [],
   "source": [
    "# We can work directly from the OSI surface with ContourScalars\n",
    "# The time averaged values are defined per unit blood density\n",
    "timeAveragedSurface = pv.XMLPolyDataReader(FileName=pathToFoamCase+\"OSI_withAneurysm.vtp\")"
   ]
  },
  {
   "cell_type": "code",
   "execution_count": 10,
   "metadata": {},
   "outputs": [
    {
     "data": {
      "text/plain": [
       "(['OSI', 'RRT', 'WSS_average', 'WSS_magnitude_average', 'wallShearComponent_average'],\n",
       " ['AneurysmNeckContour'])"
      ]
     },
     "execution_count": 10,
     "metadata": {},
     "output_type": "execute_result"
    }
   ],
   "source": [
    "timeAveragedSurface.CellArrayStatus, timeAveragedSurface.PointArrayStatus"
   ]
  },
  {
   "cell_type": "code",
   "execution_count": null,
   "metadata": {},
   "outputs": [],
   "source": [
    "def wss(timeAveragedSurface, )"
   ]
  },
  {
   "cell_type": "code",
   "execution_count": 12,
   "metadata": {},
   "outputs": [],
   "source": [
    "clipAneurysmNeck = pv.Clip()\n",
    "clipAneurysmNeck.Input = timeAveragedSurface\n",
    "clipAneurysmNeck.ClipType = 'Scalar'\n",
    "clipAneurysmNeck.Scalars = [timeAveragedSurface.PointData.GetArray('AneurysmNeckContour').Name]\n",
    "clipAneurysmNeck.Invert = 1   # gets smaller portion\n",
    "clipAneurysmNeck.Value = 0.5  # based on the definition of field ContourScalars\n",
    "clipAneurysmNeck.UpdatePipeline()"
   ]
  },
  {
   "cell_type": "code",
   "execution_count": 13,
   "metadata": {},
   "outputs": [],
   "source": [
    "# Finaly we integrate over Sa \n",
    "integrateOverAneurysm = pv.IntegrateVariables()\n",
    "integrateOverAneurysm.Input = clipAneurysmNeck\n",
    "integrateOverAneurysm.UpdatePipeline()"
   ]
  },
  {
   "cell_type": "code",
   "execution_count": 16,
   "metadata": {},
   "outputs": [
    {
     "data": {
      "text/plain": [
       "(0.00018896121169792123, 270.9739053106728, 2678.042248705813)"
      ]
     },
     "execution_count": 16,
     "metadata": {},
     "output_type": "execute_result"
    }
   ],
   "source": [
    "aneurysmArea = integrateOverAneurysm.CellData.GetArray(\"Area\").GetRange()[0] # aneurysm area\n",
    "WSSav = integrateOverAneurysm.CellData.GetArray(\"WSS_magnitude_average\").GetRange()[0]/aneurysmArea # averaged\n",
    "WSSmax = clipAneurysmNeck.CellData.GetArray(\"WSS_magnitude_average\").GetRange()[1] # maximum value\n",
    "\n",
    "aneurysmArea, WSSav, WSSmax"
   ]
  },
  {
   "cell_type": "markdown",
   "metadata": {},
   "source": [
    "# Post-process aneurysm surface integrals over time\n",
    "\n",
    "The procedure below calculates the integral over the aneurysm surface $S_a$ of the WSS magnitude, which is a time-dependent integral:\n",
    "\n",
    "\\begin{equation}\n",
    "    \\left \\langle \\vec{WSS} \\right \\rangle (t)\n",
    "    =\n",
    "    \\frac{1}{A_a}\n",
    "    \\int_{S_a}{}\n",
    "        \\left \\| \\vec{WSS} \\right \\|\n",
    "    \\mathrm{d}S_a   \n",
    "\\end{equation}\n",
    "\n",
    "which is a measure of the total traction due to the tangential component of viscous traction on the aneurysm surface $S_a$. \n",
    "\n",
    "The procedure loads an OpenFOAM case of the aneurysm simulation and another surface must be loaded where is stored the array to clip the aneurysm neck: this can be performed in VMTK on a surface where the time averaged field were computed (time-average of WSS magnitude, magnitude of time-averaged WSS vector and OSI). "
   ]
  },
  {
   "cell_type": "code",
   "execution_count": null,
   "metadata": {},
   "outputs": [],
   "source": [
    "def area_averaged_wss_aneurysm(ofCaseFile,aneurysmClipSurface,aneurysmNeckArrayName,density=1056.0):\n",
    "    \"\"\"\n",
    "        Function to compute surface integrals of \n",
    "        WSS over an aneurysm surface. It takes the \n",
    "        OpenFOAM case file and an extra surface where \n",
    "        it is stored a field with the aneurysm neck \n",
    "        line loaded as a ParaView PolyData surface.\n",
    "    \"\"\"\n",
    "    # Read OpenFOAM data\n",
    "    ofData = pv.OpenFOAMReader(FileName=ofCaseFile)\n",
    "\n",
    "    # Update arrays to be used:\n",
    "    # - wallShearComponent\n",
    "    # - pressure\n",
    "    ofData.CellArrays = ['wallShearComponent']\n",
    "\n",
    "    # And select the surface where integration will be carried out\n",
    "    ofData.MeshRegions = ['wall']\n",
    "\n",
    "    # Get time-steps values\n",
    "    timeSteps = np.array(ofData.TimestepValues)\n",
    "\n",
    "    # Update time-step\n",
    "    ofData.UpdatePipeline()\n",
    "\n",
    "    # Merge blocks of input case\n",
    "    mergeBlocks = pv.MergeBlocks()\n",
    "    mergeBlocks.Input = ofData\n",
    "    mergeBlocks.UpdatePipeline()\n",
    "        \n",
    "    areaAveragedWSSList = []\n",
    "    # Iterate over time-steps to compute time dependent variables\n",
    "    # only on the aneurysm surface: mag of WSS over time \n",
    "    for timeStep in timeSteps[-100:-1]:\n",
    "        # Resample data: copy array of Input data (surface with time-averaged data) \n",
    "        # to Source data (the OpenFOAM simulated case)\n",
    "        resampleDataset = pv.ResampleWithDataset()\n",
    "        resampleDataset.Input = aneurysmClipSurface\n",
    "        resampleDataset.Source = mergeBlocks\n",
    "        resampleDataset.PassCellArrays = 1\n",
    "        resampleDataset.PassPointArrays = 1\n",
    "        resampleDataset.UpdatePipeline(time=timeStep)\n",
    "\n",
    "        # Clipping aneurysm surface on its neck \n",
    "        clipAneurysmNeck = pv.Clip()\n",
    "        clipAneurysmNeck.Input = resampleDataset\n",
    "        clipAneurysmNeck.ClipType = 'Scalar'\n",
    "        clipAneurysmNeck.Scalars = [aneurysmNeckArrayName]\n",
    "        clipAneurysmNeck.Invert = 1   # gets smaller portion\n",
    "        clipAneurysmNeck.Value = 0.5  # based on the definition of field ContourScalars\n",
    "        clipAneurysmNeck.UpdatePipeline(time=timeStep)\n",
    "\n",
    "        # Compute magnitude of WSS in each cell of the aneurysm surface\n",
    "        magWSS = pv.Calculator()\n",
    "        magWSS.Input = clipAneurysmNeck\n",
    "        magWSS.ResultArrayName = 'magWSS'\n",
    "        magWSS.Function = str(density)+'*mag('+clipAneurysmNeck.CellData.GetArray('wallShearComponent').Name+')'\n",
    "        magWSS.AttributeType = 'Cell Data'\n",
    "        magWSS.UpdatePipeline(time=timeStep)\n",
    "\n",
    "        # Integrate WSS on the wall\n",
    "        integrateWSS = pv.IntegrateVariables()\n",
    "        integrateWSS.Input = magWSS\n",
    "        integrateWSS.UpdatePipeline(time=timeStep)\n",
    "\n",
    "        # Get area of surface, in m2\n",
    "        aneurysmArea = integrateWSS.CellData.GetArray(\"Area\").GetRange()[0]\n",
    "        aneurysmArea\n",
    "\n",
    "        # Instantiate calculater filter\n",
    "        areaAveragedWSS = pv.Calculator()\n",
    "        areaAveragedWSS.Input = integrateWSS\n",
    "        areaAveragedWSS.ResultArrayName = 'areaAveragedWSS'\n",
    "        areaAveragedWSS.Function = integrateWSS.CellData.GetArray('magWSS').Name+'/'+str(aneurysmArea)\n",
    "        areaAveragedWSS.AttributeType = 'Cell Data'\n",
    "        areaAveragedWSS.UpdatePipeline(time=timeStep)\n",
    "\n",
    "        areaAveragedWSSList.append([timeStep, areaAveragedWSS.CellData.GetArray('areaAveragedWSS').GetRange()[0]])\n",
    "\n",
    "    return np.asarray(areaAveragedWSSList)"
   ]
  },
  {
   "cell_type": "code",
   "execution_count": null,
   "metadata": {},
   "outputs": [],
   "source": [
    "pathToFoamCase = \"/home/iagolessa/foam/iagolessa-4.0/run/aneurysms/ruptured/fluidFlow/Casson/case2/mesh1500k/\" \n",
    "foamFileName = \"rupturedCase2Casson.foam\""
   ]
  },
  {
   "cell_type": "code",
   "execution_count": null,
   "metadata": {},
   "outputs": [],
   "source": [
    "# Load surface with clip array and OSI data\n",
    "# The surface with clip array must be constructed using VMTK,\n",
    "# based on the surface with already \n",
    "\n",
    "clipArraySurface = pv.XMLPolyDataReader(FileName=pathToFoamCase+\"OSI.vtp\")\n",
    "clipArraySurface.CellArrayStatus, clipArraySurface.PointArrayStatus"
   ]
  },
  {
   "cell_type": "code",
   "execution_count": null,
   "metadata": {},
   "outputs": [],
   "source": [
    "type(clipArraySurface)"
   ]
  },
  {
   "cell_type": "code",
   "execution_count": null,
   "metadata": {},
   "outputs": [],
   "source": [
    "aneurysmNeckArrayName = clipArraySurface.PointData.GetArray(0).Name\n",
    "aneurysmNeckArrayName"
   ]
  },
  {
   "cell_type": "code",
   "execution_count": null,
   "metadata": {},
   "outputs": [],
   "source": [
    "array = area_averaged_wss_aneurysm(pathToFoamCase+foamFileName, clipArraySurface, aneurysmNeckArrayName)"
   ]
  },
  {
   "cell_type": "code",
   "execution_count": null,
   "metadata": {},
   "outputs": [],
   "source": [
    "rootPath = \"/home/iagolessa/foam/iagolessa-4.0/run/aneurysms/\"\n",
    "models = [\"Newtonian\", \"Casson\", \"CarreauYasuda\"]\n",
    "rupturedCases = [\"case1\", \"case2\", \"case4\", \"case19\"]\n",
    "rupturedCasesFiles = [ rootPath+\"ruptured/fluidFlow/\"+model+\"/\"+case for model in models for case in rupturedCases ] \n",
    "rupturedCasesFiles"
   ]
  },
  {
   "cell_type": "code",
   "execution_count": null,
   "metadata": {},
   "outputs": [],
   "source": [
    "a = np.array([5, 6, 7, 8])\n",
    "df = pd.DataFrame({\"a\": [a]})\n",
    "df"
   ]
  },
  {
   "cell_type": "code",
   "execution_count": null,
   "metadata": {},
   "outputs": [],
   "source": [
    "timeSteps = np.array(ofData.TimestepValues)\n",
    "timeSteps[-100:-1]"
   ]
  },
  {
   "cell_type": "code",
   "execution_count": null,
   "metadata": {},
   "outputs": [],
   "source": [
    "array = np.zeros(shape=(4,3))\n",
    "df = pd.DataFrame(array)\n",
    "df.columns = [\"Newt\", \"Casson\", \"CY\"]\n",
    "df.rename(index={0:\"case1\", 1:\"case2\", 2:\"case4\", 3:\"case19\"}, inplace=True)"
   ]
  },
  {
   "cell_type": "code",
   "execution_count": null,
   "metadata": {},
   "outputs": [],
   "source": [
    "import matplotlib.pyplot as plt\n",
    "import seaborn as sb\n",
    "plt.style.use('classic')"
   ]
  },
  {
   "cell_type": "code",
   "execution_count": null,
   "metadata": {},
   "outputs": [],
   "source": [
    "%matplotlib widget\n",
    "\n",
    "fig = plt.figure()\n",
    "\n",
    "plt.plot(array[:,0], array[:,1], 'b')\n",
    "\n",
    "plt.xlabel('Time')\n",
    "plt.ylabel('Area-averaged WSS (Pa)')\n",
    "\n",
    "plt.grid()\n",
    "plt.show()"
   ]
  }
 ],
 "metadata": {
  "kernelspec": {
   "display_name": "Python [conda env:paraview]",
   "language": "python",
   "name": "conda-env-paraview-py"
  },
  "language_info": {
   "codemirror_mode": {
    "name": "ipython",
    "version": 3
   },
   "file_extension": ".py",
   "mimetype": "text/x-python",
   "name": "python",
   "nbconvert_exporter": "python",
   "pygments_lexer": "ipython3",
   "version": "3.6.7"
  }
 },
 "nbformat": 4,
 "nbformat_minor": 2
}
